{
 "cells": [
  {
   "attachments": {},
   "cell_type": "markdown",
   "id": "f53edb22-76d7-4ef1-84f3-f942f75f4984",
   "metadata": {},
   "source": [
    "# Markdown: Basics\n",
    "## Introduction\n",
    "Markdown is a text-to-HTML conversion tool for web writers. Markdown allows you to write using an easy-to-read, easy-to-write plain text format, then convert it to structurally valid XHTML (or HTML).\n",
    "\n",
    "### Headings\n",
    "Use the number sign (h1 #) (h2 ##) (h3 ###)\n",
    "\n",
    "### Line Break\n",
    "< br > or hit space space enter\n",
    "<br>this<br>is  \n",
    "line  \n",
    "break  \n",
    "\n",
    "### Emphasis\n",
    "single/double asterisk or underscore  \n",
    "Bold text: __string__ or **string**  \n",
    "Italic text: _string_ or *string*\n",
    "\n",
    "### Blockquotes\n",
    "Blockquotes can hold the large chunk of text and are generally indented. \n",
    "> This is good.\n",
    "\n",
    "### Code Blok\n",
    "The block of code is in between three back-ticks.\n",
    "````\n",
    "def is_positive(n: int):\n",
    "    return n > 0\n",
    "\n",
    "````\n",
    "\n",
    "### Unordered List\n",
    "- One.\n",
    "- Two.\n",
    "- Three.\n",
    "\n",
    "### Ordered List\n",
    "1. One\n",
    "2. Two\n",
    "3. Three\n",
    "    \n",
    "### Horizontal lines\n",
    "On a new line, enter three asterisks\n",
    "***\n",
    "\n",
    "### Links\n",
    "This is an [example link](http://example.com/).\n"
   ]
  },
  {
   "cell_type": "code",
   "execution_count": null,
   "id": "c1c4bac3-e817-441c-9871-4c99c0128ff4",
   "metadata": {},
   "outputs": [],
   "source": []
  }
 ],
 "metadata": {
  "kernelspec": {
   "display_name": "Python 3 (ipykernel)",
   "language": "python",
   "name": "python3"
  },
  "language_info": {
   "codemirror_mode": {
    "name": "ipython",
    "version": 3
   },
   "file_extension": ".py",
   "mimetype": "text/x-python",
   "name": "python",
   "nbconvert_exporter": "python",
   "pygments_lexer": "ipython3",
   "version": "3.10.8"
  }
 },
 "nbformat": 4,
 "nbformat_minor": 5
}
