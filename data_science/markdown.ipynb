{
 "cells": [
  {
   "attachments": {},
   "cell_type": "markdown",
   "id": "f53edb22-76d7-4ef1-84f3-f942f75f4984",
   "metadata": {},
   "source": [
    "# Markdown: Basics\n",
    "## Introduction\n",
    "Markdown is a text-to-HTML conversion tool for web writers. Markdown allows you to write using an easy-to-read, easy-to-write plain text format, then convert it to structurally valid XHTML (or HTML).\n",
    "\n",
    "### Headings\n",
    "Use the number sign (h1 #) (h2 ##) (h3 ###)\n",
    "\n",
    "### Line Break\n",
    "< br > or hit space space enter\n",
    "<br>this<br>is  \n",
    "line  \n",
    "break  \n",
    "\n",
    "### Emphasis\n",
    "single/double asterisk or underscore  \n",
    "Bold text: __string__ or **string**  \n",
    "Italic text: _string_ or *string*\n",
    "\n",
    "### Blockquotes\n",
    "Blockquotes can hold the large chunk of text and are generally indented. \n",
    "> This is good.\n",
    "\n",
    "### Code Blok\n",
    "The block of code is in between three back-ticks.\n",
    "````\n",
    "def is_positive(n: int):\n",
    "    return n > 0\n",
    "\n",
    "````\n",
    "\n",
    "### Unordered List\n",
    "- One.\n",
    "- Two.\n",
    "- Three.\n",
    "\n",
    "### Ordered List\n",
    "1. One\n",
    "2. Two\n",
    "3. Three\n",
    "    \n",
    "### Horizontal lines\n",
    "On a new line, enter three asterisks\n",
    "***\n",
    "\n",
    "### Links\n",
    "This is an [example link](http://example.com/).\n"
   ]
  },
  {
   "attachments": {},
   "cell_type": "markdown",
   "id": "c1c4bac3-e817-441c-9871-4c99c0128ff4",
   "metadata": {},
   "source": [
    "<link rel=\"stylesheet\" href=\"https://cdn.jsdelivr.net/npm/bootstrap@4.0.0/dist/css/bootstrap.min.css\" integrity=\"sha384-Gn5384xqQ1aoWXA+058RXPxPg6fy4IWvTNh0E263XmFcJlSAwiGgFAW/dAiS6JXm\" crossorigin=\"anonymous\">\n",
    "\n",
    "<span class=\"badge text-bg-primary rounded-pill\">Primary</span>\n",
    "<span class=\"badge bg-primary-subtle border border-primary-subtle text-primary-emphasis rounded-pill\">Primary</span>"
   ]
  },
  {
   "attachments": {},
   "cell_type": "markdown",
   "id": "f3cb7732",
   "metadata": {},
   "source": [
    "<div class=\"h-100 p-5 bg-body-tertiary border rounded-3\">\n",
    "          <h2>Add borders</h2>\n",
    "          <p>Or, keep it light and add a border for some added definition to the boundaries of your content. Be sure to look under the hood at the source HTML here as we've adjusted the alignment and sizing of both column's content for equal-height.</p>\n",
    "          <button class=\"btn btn-outline-secondary\" type=\"button\">Example button</button>\n",
    "        </div>"
   ]
  }
 ],
 "metadata": {
  "kernelspec": {
   "display_name": "Python 3 (ipykernel)",
   "language": "python",
   "name": "python3"
  },
  "language_info": {
   "codemirror_mode": {
    "name": "ipython",
    "version": 3
   },
   "file_extension": ".py",
   "mimetype": "text/x-python",
   "name": "python",
   "nbconvert_exporter": "python",
   "pygments_lexer": "ipython3",
   "version": "3.10.8"
  }
 },
 "nbformat": 4,
 "nbformat_minor": 5
}
