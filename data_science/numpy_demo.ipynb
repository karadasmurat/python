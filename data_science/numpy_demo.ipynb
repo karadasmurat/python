{
 "cells": [
  {
   "attachments": {},
   "cell_type": "markdown",
   "metadata": {},
   "source": [
    "# What is NumPy?\n",
    "NumPy is the fundamental package for scientific computing in Python. \n",
    "\n",
    "It is a Python library that provides a multidimensional array object, various derived objects (such as masked arrays and matrices), and an assortment of routines for fast operations on arrays, including mathematical, logical, shape manipulation, sorting, selecting, I/O, discrete Fourier transforms, basic linear algebra, basic statistical operations, random simulation and much more.\n",
    "\n",
    "### The NumPy ndarray: A Multidimensional Array Object\n",
    "At the core of the NumPy package, is the `ndarray` object. This encapsulates n-dimensional arrays of homogeneous data types, with many operations being performed in compiled code for performance.\n",
    "\n",
    "Arrays enable you to perform mathematical operations on whole blocks of data using similar syntax to the equivalent operations between scalar elements.\n",
    "Yani, tekil sayilar uzerinde islem yapar gibi bir syntax ile sayi dizileri uzerinde islem yapabiliyoruz.\n",
    "\n",
    "An ndarray is a generic multidimensional container for \"homogeneous\" data; that is, all of the elements must be the same type. \n",
    "Every array has a shape, a tuple indicating the size of each dimension, and a dtype, an object describing the data type of the array\n",
    "\n",
    "- NumPy arrays have a **fixed size at creation**, unlike Python lists (which can grow dynamically). Changing the size of an ndarray will create a new array and delete the original.\n",
    "- NumPy arrays facilitate advanced mathematical and other types of operations on large numbers of data. Typically, such operations are executed more efficiently and with less code than is possible using Python’s built-in sequences.\n",
    "- A growing plethora of scientific and mathematical Python-based packages are using NumPy arrays; though these typically support Python-sequence input, they convert such input to NumPy arrays prior to processing, and they often output NumPy arrays.\n",
    "\n",
    "\n",
    "## Why is NumPy Fast?\n",
    "**Vectorization** describes the absence of any explicit looping, indexing, etc., in the code - these things are taking place, of course, just “behind the scenes” in optimized, pre-compiled C code.\n",
    "\n",
    "- vectorized code is more concise and easier to read\n",
    "- the code more closely resembles standard mathematical notation.\n",
    "\n",
    "Lets see some examples on how this works:\n",
    "\n",
    "### Arithmetic with NumPy Arrays\n",
    "Arrays are important because they enable you to express batch operations on data without writing any for loops. \n",
    "NumPy users call this \"vectorization\". Any arithmetic operations between equal-size arrays applies the operation element-wise.\n",
    "\n",
    "Consider the case of multiplying each element in a 1-D sequence with the corresponding element in another sequence of the same length:\n",
    "\n",
    "````\n",
    "   a = [1, 3, 5]\n",
    "   b = [2, 4, 6]\n",
    "   c = []\n",
    "   for i in range(len(a)):\n",
    "      c.append(a[i] * b[i])   # we append (unlike C arrays that use a fast index lookup)\n",
    "\n",
    "   print(c)\n",
    "\n",
    "````\n",
    "\n",
    "This produces the correct answer, but if a and b each contain millions of numbers, we will pay the price for the inefficiencies of looping in Python. We could accomplish the same task much more quickly in C by writing:\n",
    "\n",
    "```\n",
    "   int a[] = {1, 2, 3, 4, 5};\n",
    "   int b[] = {10, 20, 30, 40, 50};\n",
    "   int n = sizeof(a) / sizeof(a[0]);\n",
    "   int result[n];\n",
    "\n",
    "   for(int i=0; i<n; i++) {\n",
    "      result[i] = arr1[i] * arr2[i];\n",
    "   }\n",
    "```\n",
    "\n",
    "In NumPy,\n",
    "```\n",
    "   c = a * b\n",
    "```\n",
    "does what the earlier examples do, at near-C speeds, but with the code simplicity we expect from something based on Python."
   ]
  },
  {
   "cell_type": "code",
   "execution_count": 33,
   "metadata": {},
   "outputs": [
    {
     "name": "stdout",
     "output_type": "stream",
     "text": [
      "[2, 12, 30]\n"
     ]
    }
   ],
   "source": [
    "a = [1, 3, 5]\n",
    "b = [2, 4, 6]\n",
    "c = []\n",
    "for i in range(len(a)):\n",
    "    c.append(a[i] * b[i])   # we append (unlike C arrays, where we can assign using a fast insertion using an index)\n",
    "\n",
    "print(c)"
   ]
  },
  {
   "attachments": {},
   "cell_type": "markdown",
   "metadata": {},
   "source": [
    "NumPy-based algorithms are generally 10 to 100 times faster (or more) than their pure Python counterparts and use significantly less memory.\n",
    "To give you an idea of the performance difference, consider a NumPy array of one million integers, and the equivalent Python list, and multiply each sequence by 2:"
   ]
  },
  {
   "cell_type": "code",
   "execution_count": 34,
   "metadata": {},
   "outputs": [
    {
     "name": "stdout",
     "output_type": "stream",
     "text": [
      "19 times faster.\n"
     ]
    }
   ],
   "source": [
    "import numpy as np\n",
    "import time\n",
    "\n",
    "np_arr = np.arange(1_000_000)\n",
    "my_list = list(range(1_000_000))\n",
    "\n",
    "# Measure the starting time\n",
    "start_cpu = time.process_time()\n",
    "start_real = time.time()\n",
    "\n",
    "for _ in range(10):\n",
    "    my_arr2 = np_arr * 2\n",
    "\n",
    "end_cpu = time.process_time()\n",
    "end_real = time.time()\n",
    "\n",
    "elapsed_cpu = end_cpu - start_cpu\n",
    "elapsed_real_np = end_real - start_real\n",
    "\n",
    "# print(\"Numpy array time: \")\n",
    "# print(f\"Elapsed CPU time: {elapsed_cpu} seconds\")\n",
    "# print(f\"Elapsed real time: {elapsed_real_np} seconds\")\n",
    "\n",
    "# Measure the starting time\n",
    "start_cpu = time.process_time()\n",
    "start_real = time.time()\n",
    "\n",
    "for _ in range(10):\n",
    "    my_list2 = [x * 2 for x in my_list]\n",
    "\n",
    "end_cpu = time.process_time()\n",
    "end_real = time.time()\n",
    "\n",
    "elapsed_cpu = end_cpu - start_cpu\n",
    "elapsed_real = end_real - start_real\n",
    "\n",
    "# print(\"Python list time: \")\n",
    "# print(f\"Elapsed CPU time: {elapsed_cpu} seconds\")\n",
    "# print(f\"Elapsed real time: {elapsed_real} seconds\")\n",
    "\n",
    "print(f\"{round(elapsed_real / elapsed_real_np)}\", \"times faster.\")\n"
   ]
  },
  {
   "attachments": {},
   "cell_type": "markdown",
   "metadata": {},
   "source": [
    "## Creating ndarrays\n",
    "1. `np.array()`: \n",
    "<br>The easiest way to create an array is to use the array() function. This accepts any sequence-like object(including other arrays) and produces a new NumPy array containing the passed data. You can create an ndarray from a regular Python list or tuple using the np.array() function. <br><br>A frequent error consists in calling array with multiple arguments, rather than providing a single sequence as an argument:\n",
    "```\n",
    "    a = np.array(1, 2, 3, 4)    # TypeError: array() takes from 1 to 2 positional arguments\n",
    "```\n",
    "2. `np.zeros()` `np.ones()` and `empty()`: \n",
    "<br>Often, the elements of an array are originally unknown, but its size is known. Hence, NumPy offers several functions to create arrays with initial placeholder content. These minimize the necessity of growing arrays, an expensive operation.<br><br> The function `zeros()` creates an array full of zeros, the function `ones()` creates an array full of ones, and the function `empty()` creates an array whose initial content is random and depends on the state of the memory."
   ]
  },
  {
   "cell_type": "code",
   "execution_count": 67,
   "metadata": {},
   "outputs": [
    {
     "name": "stdout",
     "output_type": "stream",
     "text": [
      "numbers=[1, 2, 3, 4, 5]\n",
      "np_numbers=array([1, 2, 3, 4, 5])\n",
      "scores_empty=array([[55.92639956, 66.10605961, 74.1785897 ],\n",
      "       [59.17517896, 75.96718052, 68.6305342 ]])\n",
      "scores_0=array([0., 0., 0., 0., 0., 0., 0., 0., 0., 0.])\n",
      "scores_1=array([[[1, 1, 1, 1],\n",
      "        [1, 1, 1, 1],\n",
      "        [1, 1, 1, 1]],\n",
      "\n",
      "       [[1, 1, 1, 1],\n",
      "        [1, 1, 1, 1],\n",
      "        [1, 1, 1, 1]]], dtype=int8)\n"
     ]
    }
   ],
   "source": [
    "numbers = [1, 2, 3, 4, 5]\n",
    "np_numbers = np.array(numbers)\n",
    "# a = np.array(1, 2, 3, 4)    # TypeError: array() takes from 1 to 2 positional arguments\n",
    "\n",
    "print(f\"{numbers=}\")        # [1, 2, 3, 4, 5]\n",
    "print(f\"{np_numbers=}\")     # array([1, 2, 3, 4, 5])\n",
    "\n",
    "# 2. zeros() and ones() create arrays of 0s or 1s, respectively, with a given length or shape.\n",
    "scores_empty = np.empty(shape=(2, 3))\n",
    "\"\"\"\n",
    "array([[55.92639956, 66.10605961, 74.1785897 ],\n",
    "       [59.17517896, 75.96718052, 68.6305342 ]])\n",
    "\"\"\"\n",
    "\n",
    "scores_0 = np.zeros(shape=10)       # given length as 1D shape - array([0., 0., 0., 0., 0., 0., 0., 0., 0., 0.])\n",
    "\n",
    "\n",
    "scores_1 = np.ones(shape=(2, 3, 4), dtype=np.int8)   # given shape -\n",
    "'''\n",
    "array([[[1, 1, 1, 1],\n",
    "        [1, 1, 1, 1],\n",
    "        [1, 1, 1, 1]],\n",
    "\n",
    "       [[1, 1, 1, 1],\n",
    "        [1, 1, 1, 1],\n",
    "        [1, 1, 1, 1]]], dtype=int8)\n",
    "'''\n",
    "\n",
    "\n",
    "print(f\"{scores_empty=}\")\n",
    "print(f\"{scores_0=}\")\n",
    "print(f\"{scores_1=}\")\n",
    "\n",
    "\n"
   ]
  },
  {
   "attachments": {},
   "cell_type": "markdown",
   "metadata": {},
   "source": [
    "\n",
    "3. `np.full()` \n",
    "<br>Produces an array of the given shape and dtype with all values set to the indicated “fill value”"
   ]
  },
  {
   "cell_type": "code",
   "execution_count": 68,
   "metadata": {},
   "outputs": [
    {
     "name": "stdout",
     "output_type": "stream",
     "text": [
      "scores3=array([[9, 9, 9, 9],\n",
      "       [9, 9, 9, 9]])\n"
     ]
    },
    {
     "data": {
      "text/plain": [
       "'\\narray([[-1, -1, -1, -1],\\n       [-1, -1, -1, -1]])\\n'"
      ]
     },
     "execution_count": 68,
     "metadata": {},
     "output_type": "execute_result"
    }
   ],
   "source": [
    "scores3 = np.full(shape=(2, 4), fill_value=9)\n",
    "print(f\"{scores3=}\")\n",
    "\"\"\"\n",
    "array([[9, 9, 9, 9],\n",
    "       [9, 9, 9, 9]])\n",
    "\"\"\"\n",
    "\n",
    "\n"
   ]
  },
  {
   "attachments": {},
   "cell_type": "markdown",
   "metadata": {},
   "source": [
    "4. `arange()` \n",
    "<br>Array-valued version of the built-in Python range function:\n"
   ]
  },
  {
   "cell_type": "code",
   "execution_count": 69,
   "metadata": {},
   "outputs": [
    {
     "name": "stdout",
     "output_type": "stream",
     "text": [
      "g7=array([0, 1, 2, 3, 4, 5, 6])\n"
     ]
    }
   ],
   "source": [
    "# 4. arange() is an array-valued version of the built-in Python range function:\n",
    "g7 = np.arange(7)   # array([0, 1, 2, 3, 4, 5, 6])\n",
    "print(f\"{g7=}\")\n"
   ]
  },
  {
   "attachments": {},
   "cell_type": "markdown",
   "metadata": {},
   "source": [
    "\n",
    "5. Returning a sample from the \"normal\" distribution.\n",
    "- `np.random.randn()`\n",
    "<br>Return a sample from the \"standard normal\" distribution. (mean 0 and standard deviation 1)\n",
    "- `np.random.normal()`\n",
    "<br>Generate random numbers from any normal distribution with a specified mean and standard deviation."
   ]
  },
  {
   "cell_type": "code",
   "execution_count": 39,
   "metadata": {},
   "outputs": [
    {
     "name": "stdout",
     "output_type": "stream",
     "text": [
      "Random numbers generated using np.random.randn: [ 0.26776564  0.52120951  0.99939551  0.12674425 -0.36850836]\n",
      "Random numbers generated using np.random.normal, center:70, spread:10: [[55.92639956 66.10605961 74.1785897 ]\n",
      " [59.17517896 75.96718052 68.6305342 ]]\n"
     ]
    },
    {
     "data": {
      "text/plain": [
       "'\\narray([ [86.11293119 64.7618898  72.96080438]\\n        [75.90800491 65.75190401 69.85628739] ])\\n'"
      ]
     },
     "execution_count": 39,
     "metadata": {},
     "output_type": "execute_result"
    }
   ],
   "source": [
    "# 5. Generate a 3x4 array of random numbers from a standard normal distribution (mean 0 and standard deviation 1)\n",
    "sample_stdnormal = np.random.randn(5)  # array([-0.20175391, -0.87452102,  1.21002324,  0.45234304, -1.2349739])\n",
    "print(\"Random numbers generated using np.random.randn:\", sample_stdnormal)\n",
    "\n",
    "mu, sigma = 70, 10  # mean and standard deviation\n",
    "sample_normal = np.random.normal(loc=mu, scale=sigma, size=(2, 3))\n",
    "print(f\"Random numbers generated using np.random.normal, center:{mu}, spread:{sigma}:\", sample_normal)\n",
    "\"\"\"\n",
    "array([ [86.11293119 64.7618898  72.96080438]\n",
    "        [75.90800491 65.75190401 69.85628739] ])\n",
    "\"\"\"\n"
   ]
  },
  {
   "attachments": {},
   "cell_type": "markdown",
   "metadata": {},
   "source": [
    "### The Basics\n",
    "NumPy’s main object is the homogeneous multidimensional array. \n",
    "<br><br>It is a table of elements (usually numbers), all of the same type, indexed by a tuple of non-negative integers. In NumPy dimensions are called axes.\n",
    "\n",
    "#### Important attributes of an ndarray\n",
    "```\n",
    "ndarray.dtype\n",
    "```\n",
    "an object describing the type of the elements in the array. One can create or specify dtype’s using standard Python types. Additionally NumPy provides types of its own. numpy.int32, numpy.int16, and numpy.float64 are some examples.\n",
    "\n",
    "```\n",
    "\n",
    "ndarray.ndim\n",
    "```\n",
    "the number of axes (dimensions) of the array.\n",
    "\n",
    "```\n",
    "\n",
    "ndarray.shape\n",
    "```\n",
    "the dimensions of the array. This is a tuple of integers indicating the size of the array in each dimension. \n",
    "<br>For a matrix with r rows and c columns, shape will be (r, c). The length of the shape tuple is therefore the number of axes, ndim.\n",
    "\n",
    "```\n",
    "\n",
    "ndarray.size\n",
    "```\n",
    "the total number of elements of the array. This is equal to the **product of the elements of shape**.\n",
    "\n",
    "\n",
    "```\n",
    "\n",
    "ndarray.itemsize\n",
    "```\n",
    "the size in bytes of each element of the array. \n",
    "<br>For example, an array of elements of type float64 has itemsize 8 (=64/8) \n",
    "<br>It is equivalent to `ndarray.dtype.itemsize`"
   ]
  },
  {
   "cell_type": "code",
   "execution_count": 54,
   "metadata": {},
   "outputs": [
    {
     "name": "stdout",
     "output_type": "stream",
     "text": [
      "a=array([[ 0,  1,  2,  3,  4],\n",
      "       [ 5,  6,  7,  8,  9],\n",
      "       [10, 11, 12, 13, 14]])\n",
      "type(a)=<class 'numpy.ndarray'>\n",
      "a.shape=(3, 5)\n",
      "a.ndim=2\n",
      "a.dtype=dtype('int64')\n",
      "a.itemsize=8\n",
      "a.size=15\n"
     ]
    }
   ],
   "source": [
    "import numpy as np\n",
    "\n",
    "a = np.arange(15).reshape(3, 5)\n",
    "\n",
    "print(f\"{a=}\")\n",
    "print(f\"{type(a)=}\")    # <class 'numpy.ndarray'>\n",
    "print(f\"{a.shape=}\")    # (3, 5)\n",
    "print(f\"{a.ndim=}\")     # 2\n",
    "print(f\"{a.dtype=}\")    # dtype('int64')\n",
    "print(f\"{a.itemsize=}\") # 8\n",
    "print(f\"{a.size=}\")     # 15    (number of elements in the array)\n"
   ]
  },
  {
   "attachments": {},
   "cell_type": "markdown",
   "metadata": {},
   "source": [
    "## Arithmetic with NumPy Arrays\n",
    "Arrays are important because they enable you to express batch operations on data without writing any for loops.\n",
    "NumPy users call this \"vectorization\". \n",
    "<br><br>Any arithmetic operations between equal-size arrays applies the operation element-wise.\n",
    "Arithmetic operations with scalars propagate the scalar argument to each element in the array:"
   ]
  },
  {
   "cell_type": "code",
   "execution_count": 78,
   "metadata": {},
   "outputs": [
    {
     "name": "stdout",
     "output_type": "stream",
     "text": [
      "[[5. 5. 5.]\n",
      " [5. 5. 5.]] float64\n",
      "[[0 1 2]\n",
      " [3 4 5]] int64\n",
      "[[ 5.  6.  7.]\n",
      " [ 8.  9. 10.]] float64\n"
     ]
    },
    {
     "data": {
      "text/plain": [
       "'\\n[[ 5.  6.  7.]\\n [ 8.  9. 10.]] float64\\n'"
      ]
     },
     "execution_count": 78,
     "metadata": {},
     "output_type": "execute_result"
    }
   ],
   "source": [
    "a = np.ones((2,3))\n",
    "a *= 5\n",
    "print(a, a.dtype)  # float64\n",
    "\"\"\"\n",
    "[[5. 5. 5.]\n",
    " [5. 5. 5.]] float64\n",
    "\"\"\"\n",
    "\n",
    "b = np.arange(6).reshape((2, 3))\n",
    "print(b, b.dtype)  # int64\n",
    "\"\"\"\n",
    "[[0 1 2]\n",
    " [3 4 5]] int64\n",
    "\"\"\"\n",
    "\n",
    "result = a + b # Note implicit type conversion \n",
    "print(result, result.dtype)\n",
    "\n",
    "\"\"\"\n",
    "[[ 5.  6.  7.]\n",
    " [ 8.  9. 10.]] float64\n",
    "\"\"\"\n"
   ]
  },
  {
   "attachments": {},
   "cell_type": "markdown",
   "metadata": {},
   "source": [
    "#### Example: Calculate BMI of a group of people\n",
    "Assume we have heights in cm and weights in kg. Calculate their BMIs.\n",
    "\n",
    "The body mass index (BMI) is a measure that uses your height and weight to work out if your weight is healthy. \n",
    "The BMI calculation divides an adult's weight in kilograms by their height in metres squared. For example, A BMI of 25 means 25kg/m2."
   ]
  },
  {
   "cell_type": "code",
   "execution_count": 44,
   "metadata": {},
   "outputs": [
    {
     "name": "stdout",
     "output_type": "stream",
     "text": [
      "BMIs: [30.86419753 19.46998378 20.40816327 20.40816327 22.06880942]\n"
     ]
    }
   ],
   "source": [
    "heights_cm = [180, 215, 210, 210, 188]\n",
    "weights_kg = [100, 90, 90, 90, 78]\n",
    "\n",
    "# Create an ndarray from python list and divide ndarray by a scalar\n",
    "np_heights_m = np.array(heights_cm) / 100\n",
    "np_weights = np.array(weights_kg)\n",
    "\n",
    "# Calculate bmi\n",
    "# mathematical operations on whole blocks of data using similar syntax to the equivalent operations between scalar elements:\n",
    "bmi = np_weights / (np_heights_m ** 2)\n",
    "print(\"BMIs:\", bmi)\n"
   ]
  },
  {
   "attachments": {},
   "cell_type": "markdown",
   "metadata": {},
   "source": [
    "### Filtering Arrays\n",
    "In NumPy, you filter an array using a boolean index list. \n",
    "<br>A boolean index list is a list of booleans corresponding to indexes in the array.\n",
    "\n",
    "```\n",
    "    filtered_std = students[[True, False, False, True]]\n",
    "```\n",
    "\n",
    "#### Creating the Filter Array\n",
    "Using scalar values, a comparison returns a value (True or False)\n",
    "<br>Using ndarrays, it returns a list of boolean values!\n",
    "\n",
    "````\n",
    "    grades = np.array([70, 56, 43, 95])\n",
    "    failed = grades[grades < 60]\n",
    "```\n"
   ]
  },
  {
   "cell_type": "code",
   "execution_count": 149,
   "metadata": {},
   "outputs": [
    {
     "name": "stdout",
     "output_type": "stream",
     "text": [
      "['Harry' 'Draco']\n",
      "failed= array([56, 43])\n",
      "[19.46998378 20.40816327 20.40816327]\n"
     ]
    }
   ],
   "source": [
    "# Example 1 - Manual boolean index list\n",
    "students = np.array([\"Harry\", \"Ron\", \"Hermione\", \"Draco\"])\n",
    "bil_filter = [True, False, False, True]\n",
    "filtered_std = students[bil_filter]    # ['Harry' 'Draco']\n",
    "print(filtered_std)\n",
    "\n",
    "# Example 2 - Create filter from the array itself:\n",
    "grades = np.array([70, 56, 43, 95])\n",
    "\n",
    "# in scalar values, a comparison returns a value (True or False)\n",
    "# in ndarrays, it returns a list of boolean values!\n",
    "bil_filter = grades < 60\n",
    "failed = grades[bil_filter]\n",
    "# or simply we write:\n",
    "failed = grades[grades < 60]\n",
    "print(f\"{failed= }\")    # array([56, 43])\n",
    "\n",
    "# Create a boolean numpy array: the element should be True if the corresponding BMI is below 21.\n",
    "# bmi < 21    # [False  True  True  True False]\n",
    "print(bmi[bmi < 21])    \n"
   ]
  },
  {
   "attachments": {},
   "cell_type": "markdown",
   "metadata": {},
   "source": [
    "## Random Sampling (numpy.random)\n",
    "- Generate Random Number: `np.random.rand()`, `np.random.randint()`\n",
    "- Generate Random Array: add size arguments to above functions."
   ]
  },
  {
   "cell_type": "code",
   "execution_count": 143,
   "metadata": {},
   "outputs": [
    {
     "name": "stdout",
     "output_type": "stream",
     "text": [
      "np.random.rand()=0.10896681558377519\n",
      "np.random.randint(low=0, high=11)=5\n",
      "np.random.rand(3, 5)= array([[0.21923359, 0.98309702, 0.21138138, 0.46382997, 0.21292258],\n",
      "       [0.64907256, 0.99062101, 0.97918949, 0.45042682, 0.6898179 ],\n",
      "       [0.59600844, 0.79305191, 0.42727444, 0.0335427 , 0.04755666]])\n",
      "np.random.randint(100, size=5)= array([95, 96, 18, 91, 36])\n",
      "np.random.randint(100, size=(3, 5))= array([[37, 73, 74, 28, 31],\n",
      "       [30,  4, 73, 64, 10],\n",
      "       [28, 52, 79, 20, 86]])\n"
     ]
    },
    {
     "data": {
      "text/plain": [
       "' \\narray([[73, 75, 15, 87,  0],\\n       [27, 99, 62,  2, 68],\\n       [20,  7, 57, 47, 24]])\\n'"
      ]
     },
     "execution_count": 143,
     "metadata": {},
     "output_type": "execute_result"
    }
   ],
   "source": [
    "import random\n",
    "\n",
    "# Generate a random number from 0 to 1:\n",
    "print(f\"{np.random.rand()=}\")\n",
    "\n",
    "# Generate a random number form 0 to 10\n",
    "print(f\"{np.random.randint(low=0, high=11)=}\")   # from low (inclusive) to high (exclusive).\n",
    "\n",
    "\n",
    "# Generate a 2-D array with 3 rows, each row containing 5 random integers from 0 to 1:\n",
    "print(f\"{np.random.rand(3, 5)= }\")  # (d0, d1, ..., dn)\n",
    "\"\"\"\n",
    "array([[0.79770957, 0.25666303, 0.75178902, 0.53975694, 0.00344041],\n",
    "       [0.31638409, 0.44651645, 0.81296002, 0.02374936, 0.19201632],\n",
    "       [0.91262206, 0.15413818, 0.79251226, 0.16634575, 0.13350289]])\n",
    "\"\"\"\n",
    "\n",
    "# Generate an array containing 5 random integers from 0 to 100:\n",
    "print(f\"{np.random.randint(100, size=5)= }\")    # array([30, 80, 65, 15, 22])\n",
    "\n",
    "# Generate a 2-D array with 3 rows, each row containing 5 random integers from 0 to 100:\n",
    "print(f\"{np.random.randint(100, size=(3, 5))= }\")\n",
    "\"\"\" \n",
    "array([[73, 75, 15, 87,  0],\n",
    "       [27, 99, 62,  2, 68],\n",
    "       [20,  7, 57, 47, 24]])\n",
    "\"\"\"\n"
   ]
  }
 ],
 "metadata": {
  "kernelspec": {
   "display_name": "venv",
   "language": "python",
   "name": "python3"
  },
  "language_info": {
   "codemirror_mode": {
    "name": "ipython",
    "version": 3
   },
   "file_extension": ".py",
   "mimetype": "text/x-python",
   "name": "python",
   "nbconvert_exporter": "python",
   "pygments_lexer": "ipython3",
   "version": "3.10.8"
  },
  "orig_nbformat": 4
 },
 "nbformat": 4,
 "nbformat_minor": 2
}
