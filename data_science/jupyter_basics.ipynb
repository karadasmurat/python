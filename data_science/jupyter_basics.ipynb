{
 "cells": [
  {
   "attachments": {},
   "cell_type": "markdown",
   "metadata": {},
   "source": [
    "# JupyterLab \n",
    "is the latest web-based interactive development environment for notebooks, code, and data.\n",
    "\n",
    "**The Jupyter Notebook** is the original web application for creating and sharing computational documents.\n",
    "\n",
    "## Try\n",
    "Try Jupyter (https://try.jupyter.org) is a site for trying out the Jupyter Notebook, equipped with kernels for several different languages (Julia, R, C++, Scheme, Ruby) without installing anything.\n",
    "\n",
    "## Installation\n",
    "\n",
    "Install JupyterLab with pip:\n",
    "\n",
    "```$ pip install jupyterlab```\n",
    "\n",
    "## Run\n",
    "Once installed, launch JupyterLab with:\n",
    "\n",
    "```$ jupyter-lab```\n",
    "\n",
    "Run from a folder to browse files directly, i.e,\n",
    "\n",
    "```\n",
    "$ cd ~/dev/python/data_science\n",
    "$ jupyter-lab\n",
    "```\n",
    "\n",
    "## .ipynb file\n",
    ".ipynb is the standard file format for storing Jupyter Notebooks\n",
    "\n",
    "## Jupyter Notebooks in VS Code\n",
    "You can create a Jupyter Notebook by by creating a new .ipynb file in your workspace. \n",
    "Another way is to run the \n",
    "\n",
    "<code>Create: New Jupyter Notebook</code>\n",
    "\n",
    "command from the Command Palette (⇧⌘P)"
   ]
  },
  {
   "cell_type": "code",
   "execution_count": 3,
   "metadata": {},
   "outputs": [
    {
     "name": "stdout",
     "output_type": "stream",
     "text": [
      "hello, there!\n"
     ]
    }
   ],
   "source": [
    "print(\"hello, there!\")"
   ]
  },
  {
   "cell_type": "code",
   "execution_count": null,
   "metadata": {},
   "outputs": [],
   "source": []
  }
 ],
 "metadata": {
  "kernelspec": {
   "display_name": "Python 3 (ipykernel)",
   "language": "python",
   "name": "python3"
  },
  "language_info": {
   "codemirror_mode": {
    "name": "ipython",
    "version": 3
   },
   "file_extension": ".py",
   "mimetype": "text/x-python",
   "name": "python",
   "nbconvert_exporter": "python",
   "pygments_lexer": "ipython3",
   "version": "3.10.8"
  }
 },
 "nbformat": 4,
 "nbformat_minor": 4
}
