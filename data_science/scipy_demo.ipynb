{
 "cells": [
  {
   "cell_type": "code",
   "execution_count": 3,
   "metadata": {},
   "outputs": [
    {
     "name": "stdout",
     "output_type": "stream",
     "text": [
      "Fail to reject the null hypothesis. No significant differences exist between the sample mean and the population mean.\n"
     ]
    }
   ],
   "source": [
    "import scipy.stats as stats\n",
    "\n",
    "sample = [2, 3, 4, 5, 6, 7, 8, 9, 10]\n",
    "population_mean = 5\n",
    "\n",
    "# one sample t-test: ttest_1samp()\n",
    "# arguments: the sample and the population mean, and \n",
    "# returns: t-statistic and the p-value.\n",
    "t_statistic, p_value = stats.ttest_1samp(sample, population_mean)\n",
    "\n",
    "# If the p-value is less than a specified level of significance (usually 0.05), then the null hypothesis is rejected\n",
    "# else, we fail to reject the null hypothesis\n",
    "\n",
    "if p_value < 0.05:\n",
    "    print(\"Reject the null hypothesis. Significant differences exist between the sample mean and the population mean.\")\n",
    "else:\n",
    "    print(\"Fail to reject the null hypothesis. No significant differences exist between the sample mean and the population mean.\")"
   ]
  }
 ],
 "metadata": {
  "kernelspec": {
   "display_name": "mkenv3.10",
   "language": "python",
   "name": "python3"
  },
  "language_info": {
   "codemirror_mode": {
    "name": "ipython",
    "version": 3
   },
   "file_extension": ".py",
   "mimetype": "text/x-python",
   "name": "python",
   "nbconvert_exporter": "python",
   "pygments_lexer": "ipython3",
   "version": "3.10.8"
  }
 },
 "nbformat": 4,
 "nbformat_minor": 2
}
