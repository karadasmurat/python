{
 "cells": [
  {
   "cell_type": "markdown",
   "id": "2b5ef242",
   "metadata": {
    "tags": []
   },
   "source": [
    "# "
   ]
  },
  {
   "cell_type": "markdown",
   "id": "d2e9433e-9d00-44bd-88a7-d3af68b57600",
   "metadata": {},
   "source": [
    "# Introduction\n",
    "pandas is a Python package providing fast, flexible, and expressive data structures designed to make working with “relational” or “labeled” data both easy and intuitive."
   ]
  },
  {
   "cell_type": "code",
   "execution_count": null,
   "id": "01d2c657-83f9-4d0b-9db3-d9db569784ce",
   "metadata": {},
   "outputs": [],
   "source": []
  },
  {
   "cell_type": "code",
   "execution_count": 14,
   "id": "564e2c76",
   "metadata": {},
   "outputs": [],
   "source": [
    "import pandas as pd"
   ]
  },
  {
   "cell_type": "code",
   "execution_count": 15,
   "id": "31ec1997",
   "metadata": {},
   "outputs": [],
   "source": [
    "df = pd.read_csv(\"data/users.csv\")"
   ]
  },
  {
   "cell_type": "code",
   "execution_count": 16,
   "id": "2aa7c2e5",
   "metadata": {},
   "outputs": [
    {
     "data": {
      "text/html": [
       "<div>\n",
       "<style scoped>\n",
       "    .dataframe tbody tr th:only-of-type {\n",
       "        vertical-align: middle;\n",
       "    }\n",
       "\n",
       "    .dataframe tbody tr th {\n",
       "        vertical-align: top;\n",
       "    }\n",
       "\n",
       "    .dataframe thead th {\n",
       "        text-align: right;\n",
       "    }\n",
       "</style>\n",
       "<table border=\"1\" class=\"dataframe\">\n",
       "  <thead>\n",
       "    <tr style=\"text-align: right;\">\n",
       "      <th></th>\n",
       "      <th>Username</th>\n",
       "      <th>Email</th>\n",
       "      <th>Id</th>\n",
       "      <th>First name</th>\n",
       "      <th>Last name</th>\n",
       "      <th>Active</th>\n",
       "    </tr>\n",
       "  </thead>\n",
       "  <tbody>\n",
       "    <tr>\n",
       "      <th>0</th>\n",
       "      <td>blu3FisH</td>\n",
       "      <td>rachel@example.com</td>\n",
       "      <td>9012</td>\n",
       "      <td>Rachel</td>\n",
       "      <td>Booker</td>\n",
       "      <td>Yes</td>\n",
       "    </tr>\n",
       "    <tr>\n",
       "      <th>1</th>\n",
       "      <td>GreenFr0g</td>\n",
       "      <td>laura@yourcompany.com</td>\n",
       "      <td>2070</td>\n",
       "      <td>Laura</td>\n",
       "      <td>Grey</td>\n",
       "      <td>Yes</td>\n",
       "    </tr>\n",
       "    <tr>\n",
       "      <th>2</th>\n",
       "      <td>blackd0g</td>\n",
       "      <td>craig@yourcompany.com</td>\n",
       "      <td>4081</td>\n",
       "      <td>Craig</td>\n",
       "      <td>Johnson</td>\n",
       "      <td>No</td>\n",
       "    </tr>\n",
       "    <tr>\n",
       "      <th>3</th>\n",
       "      <td>jenkins46</td>\n",
       "      <td>mary@example.com</td>\n",
       "      <td>9346</td>\n",
       "      <td>Mary</td>\n",
       "      <td>Jenkins</td>\n",
       "      <td>Yes</td>\n",
       "    </tr>\n",
       "    <tr>\n",
       "      <th>4</th>\n",
       "      <td>smith79</td>\n",
       "      <td>jamie@example.com</td>\n",
       "      <td>5079</td>\n",
       "      <td>Jamie</td>\n",
       "      <td>Smith</td>\n",
       "      <td>Yes</td>\n",
       "    </tr>\n",
       "    <tr>\n",
       "      <th>5</th>\n",
       "      <td>john00</td>\n",
       "      <td>js@co.com</td>\n",
       "      <td>303</td>\n",
       "      <td>John</td>\n",
       "      <td>Smith</td>\n",
       "      <td>No</td>\n",
       "    </tr>\n",
       "    <tr>\n",
       "      <th>6</th>\n",
       "      <td>BlackTurkey</td>\n",
       "      <td>jhalprin@example.com</td>\n",
       "      <td>304</td>\n",
       "      <td>Jim</td>\n",
       "      <td>Halprin</td>\n",
       "      <td>Yes</td>\n",
       "    </tr>\n",
       "    <tr>\n",
       "      <th>7</th>\n",
       "      <td>BlueHawk</td>\n",
       "      <td>tjones@example.com</td>\n",
       "      <td>305</td>\n",
       "      <td>Teresa</td>\n",
       "      <td>Jones</td>\n",
       "      <td>Yes</td>\n",
       "    </tr>\n",
       "    <tr>\n",
       "      <th>8</th>\n",
       "      <td>GreenTree</td>\n",
       "      <td>tomjones@example.com</td>\n",
       "      <td>306</td>\n",
       "      <td>Tommy</td>\n",
       "      <td>Jones</td>\n",
       "      <td>Yes</td>\n",
       "    </tr>\n",
       "    <tr>\n",
       "      <th>9</th>\n",
       "      <td>OrangeFish</td>\n",
       "      <td>greggjones@example.com</td>\n",
       "      <td>307</td>\n",
       "      <td>Gregg</td>\n",
       "      <td>Jones</td>\n",
       "      <td>Yes</td>\n",
       "    </tr>\n",
       "    <tr>\n",
       "      <th>10</th>\n",
       "      <td>RedBoat</td>\n",
       "      <td>dthompson@example.com</td>\n",
       "      <td>308</td>\n",
       "      <td>Daniel</td>\n",
       "      <td>Thompson</td>\n",
       "      <td>Yes</td>\n",
       "    </tr>\n",
       "  </tbody>\n",
       "</table>\n",
       "</div>"
      ],
      "text/plain": [
       "       Username                   Email    Id First name Last name Active\n",
       "0      blu3FisH      rachel@example.com  9012     Rachel    Booker    Yes\n",
       "1     GreenFr0g   laura@yourcompany.com  2070      Laura      Grey    Yes\n",
       "2      blackd0g   craig@yourcompany.com  4081      Craig   Johnson     No\n",
       "3     jenkins46        mary@example.com  9346       Mary   Jenkins    Yes\n",
       "4       smith79       jamie@example.com  5079      Jamie     Smith    Yes\n",
       "5        john00               js@co.com   303       John     Smith     No\n",
       "6   BlackTurkey    jhalprin@example.com   304        Jim   Halprin    Yes\n",
       "7      BlueHawk      tjones@example.com   305     Teresa     Jones    Yes\n",
       "8     GreenTree    tomjones@example.com   306      Tommy     Jones    Yes\n",
       "9    OrangeFish  greggjones@example.com   307      Gregg     Jones    Yes\n",
       "10      RedBoat   dthompson@example.com   308     Daniel  Thompson    Yes"
      ]
     },
     "execution_count": 16,
     "metadata": {},
     "output_type": "execute_result"
    }
   ],
   "source": [
    "df"
   ]
  },
  {
   "cell_type": "code",
   "execution_count": 17,
   "id": "4e78e593",
   "metadata": {
    "tags": []
   },
   "outputs": [
    {
     "name": "stdout",
     "output_type": "stream",
     "text": [
      "<class 'pandas.core.frame.DataFrame'>\n",
      "RangeIndex: 11 entries, 0 to 10\n",
      "Data columns (total 6 columns):\n",
      " #   Column      Non-Null Count  Dtype \n",
      "---  ------      --------------  ----- \n",
      " 0   Username    11 non-null     object\n",
      " 1   Email       11 non-null     object\n",
      " 2   Id          11 non-null     int64 \n",
      " 3   First name  11 non-null     object\n",
      " 4   Last name   11 non-null     object\n",
      " 5   Active      11 non-null     object\n",
      "dtypes: int64(1), object(5)\n",
      "memory usage: 656.0+ bytes\n"
     ]
    }
   ],
   "source": [
    "df.info()"
   ]
  },
  {
   "cell_type": "code",
   "execution_count": 18,
   "id": "9258fe23",
   "metadata": {},
   "outputs": [
    {
     "data": {
      "text/plain": [
       "(11, 6)"
      ]
     },
     "execution_count": 18,
     "metadata": {},
     "output_type": "execute_result"
    }
   ],
   "source": [
    "df.shape"
   ]
  },
  {
   "cell_type": "code",
   "execution_count": 19,
   "id": "9ac32192-d22e-43a5-ae49-460cd7d9506f",
   "metadata": {},
   "outputs": [
    {
     "data": {
      "text/plain": [
       "Index(['Username', 'Email', 'Id', 'First name', 'Last name', 'Active'], dtype='object')"
      ]
     },
     "execution_count": 19,
     "metadata": {},
     "output_type": "execute_result"
    }
   ],
   "source": [
    "df.columns"
   ]
  },
  {
   "cell_type": "markdown",
   "id": "3298cce4-a15b-4819-bfe0-0ac99bb8551b",
   "metadata": {},
   "source": [
    "## Series  \n",
    "One-dimensional ndarray with axis labels  \n",
    "(Like a column in the table)"
   ]
  },
  {
   "cell_type": "code",
   "execution_count": 21,
   "id": "c5c8fb0f-b0ca-4a1a-b925-443f1e79d664",
   "metadata": {},
   "outputs": [
    {
     "data": {
      "text/plain": [
       "pandas.core.series.Series"
      ]
     },
     "execution_count": 21,
     "metadata": {},
     "output_type": "execute_result"
    }
   ],
   "source": [
    "type(df['Username'])"
   ]
  },
  {
   "cell_type": "markdown",
   "id": "a298ad83-8f3b-4d84-ba98-da29cc7e6323",
   "metadata": {},
   "source": [
    "### Select Column(s)"
   ]
  },
  {
   "cell_type": "code",
   "execution_count": 22,
   "id": "cbd602a6-80f8-404f-b78f-7a211c9901dc",
   "metadata": {},
   "outputs": [
    {
     "data": {
      "text/plain": [
       "0        blu3FisH\n",
       "1       GreenFr0g\n",
       "2        blackd0g\n",
       "3       jenkins46\n",
       "4         smith79\n",
       "5          john00\n",
       "6     BlackTurkey\n",
       "7        BlueHawk\n",
       "8       GreenTree\n",
       "9      OrangeFish\n",
       "10        RedBoat\n",
       "Name: Username, dtype: object"
      ]
     },
     "execution_count": 22,
     "metadata": {},
     "output_type": "execute_result"
    }
   ],
   "source": [
    "df['Username']"
   ]
  },
  {
   "cell_type": "markdown",
   "id": "d989920e-6383-4c2d-aa54-c0ebadf27eea",
   "metadata": {},
   "source": [
    "### Select Multiple Columns\n",
    "pass a list as an argument to df index [ [] ]"
   ]
  },
  {
   "cell_type": "code",
   "execution_count": 23,
   "id": "c47d9bef-30fe-4d37-a5bb-9b68955226a5",
   "metadata": {},
   "outputs": [
    {
     "data": {
      "text/html": [
       "<div>\n",
       "<style scoped>\n",
       "    .dataframe tbody tr th:only-of-type {\n",
       "        vertical-align: middle;\n",
       "    }\n",
       "\n",
       "    .dataframe tbody tr th {\n",
       "        vertical-align: top;\n",
       "    }\n",
       "\n",
       "    .dataframe thead th {\n",
       "        text-align: right;\n",
       "    }\n",
       "</style>\n",
       "<table border=\"1\" class=\"dataframe\">\n",
       "  <thead>\n",
       "    <tr style=\"text-align: right;\">\n",
       "      <th></th>\n",
       "      <th>Email</th>\n",
       "      <th>Active</th>\n",
       "    </tr>\n",
       "  </thead>\n",
       "  <tbody>\n",
       "    <tr>\n",
       "      <th>0</th>\n",
       "      <td>rachel@example.com</td>\n",
       "      <td>Yes</td>\n",
       "    </tr>\n",
       "    <tr>\n",
       "      <th>1</th>\n",
       "      <td>laura@yourcompany.com</td>\n",
       "      <td>Yes</td>\n",
       "    </tr>\n",
       "    <tr>\n",
       "      <th>2</th>\n",
       "      <td>craig@yourcompany.com</td>\n",
       "      <td>No</td>\n",
       "    </tr>\n",
       "    <tr>\n",
       "      <th>3</th>\n",
       "      <td>mary@example.com</td>\n",
       "      <td>Yes</td>\n",
       "    </tr>\n",
       "    <tr>\n",
       "      <th>4</th>\n",
       "      <td>jamie@example.com</td>\n",
       "      <td>Yes</td>\n",
       "    </tr>\n",
       "    <tr>\n",
       "      <th>5</th>\n",
       "      <td>js@co.com</td>\n",
       "      <td>No</td>\n",
       "    </tr>\n",
       "    <tr>\n",
       "      <th>6</th>\n",
       "      <td>jhalprin@example.com</td>\n",
       "      <td>Yes</td>\n",
       "    </tr>\n",
       "    <tr>\n",
       "      <th>7</th>\n",
       "      <td>tjones@example.com</td>\n",
       "      <td>Yes</td>\n",
       "    </tr>\n",
       "    <tr>\n",
       "      <th>8</th>\n",
       "      <td>tomjones@example.com</td>\n",
       "      <td>Yes</td>\n",
       "    </tr>\n",
       "    <tr>\n",
       "      <th>9</th>\n",
       "      <td>greggjones@example.com</td>\n",
       "      <td>Yes</td>\n",
       "    </tr>\n",
       "    <tr>\n",
       "      <th>10</th>\n",
       "      <td>dthompson@example.com</td>\n",
       "      <td>Yes</td>\n",
       "    </tr>\n",
       "  </tbody>\n",
       "</table>\n",
       "</div>"
      ],
      "text/plain": [
       "                     Email Active\n",
       "0       rachel@example.com    Yes\n",
       "1    laura@yourcompany.com    Yes\n",
       "2    craig@yourcompany.com     No\n",
       "3         mary@example.com    Yes\n",
       "4        jamie@example.com    Yes\n",
       "5                js@co.com     No\n",
       "6     jhalprin@example.com    Yes\n",
       "7       tjones@example.com    Yes\n",
       "8     tomjones@example.com    Yes\n",
       "9   greggjones@example.com    Yes\n",
       "10   dthompson@example.com    Yes"
      ]
     },
     "execution_count": 23,
     "metadata": {},
     "output_type": "execute_result"
    }
   ],
   "source": [
    "df[['Email', 'Active']]"
   ]
  },
  {
   "cell_type": "markdown",
   "id": "62156c23-5546-4aec-9131-044eaca3dce6",
   "metadata": {},
   "source": [
    "### Select Row(s)\n",
    "i.e, Select first user\n"
   ]
  },
  {
   "cell_type": "code",
   "execution_count": null,
   "id": "6405619e-ea9d-4a4e-802d-ebde82402f41",
   "metadata": {},
   "outputs": [
    {
     "data": {
      "text/plain": [
       "Username                blu3FisH\n",
       "Email         rachel@example.com\n",
       "Id                          9012\n",
       "First name                Rachel\n",
       "Last name                 Booker\n",
       "Active                       Yes\n",
       "Name: 0, dtype: object"
      ]
     },
     "execution_count": 24,
     "metadata": {},
     "output_type": "execute_result"
    }
   ],
   "source": [
    "df.loc[0]"
   ]
  },
  {
   "cell_type": "markdown",
   "id": "4e94cd6e-9dab-42a0-8ce6-7cb87916dbb6",
   "metadata": {},
   "source": [
    "### Select Row(s) and Column(s)\n",
    "i.e, What is the email of the first user?"
   ]
  },
  {
   "cell_type": "code",
   "execution_count": 25,
   "id": "f6c33385-6e0b-4792-810d-8c18076872f7",
   "metadata": {},
   "outputs": [
    {
     "data": {
      "text/html": [
       "<div>\n",
       "<style scoped>\n",
       "    .dataframe tbody tr th:only-of-type {\n",
       "        vertical-align: middle;\n",
       "    }\n",
       "\n",
       "    .dataframe tbody tr th {\n",
       "        vertical-align: top;\n",
       "    }\n",
       "\n",
       "    .dataframe thead th {\n",
       "        text-align: right;\n",
       "    }\n",
       "</style>\n",
       "<table border=\"1\" class=\"dataframe\">\n",
       "  <thead>\n",
       "    <tr style=\"text-align: right;\">\n",
       "      <th></th>\n",
       "      <th>Email</th>\n",
       "    </tr>\n",
       "  </thead>\n",
       "  <tbody>\n",
       "    <tr>\n",
       "      <th>0</th>\n",
       "      <td>rachel@example.com</td>\n",
       "    </tr>\n",
       "  </tbody>\n",
       "</table>\n",
       "</div>"
      ],
      "text/plain": [
       "                Email\n",
       "0  rachel@example.com"
      ]
     },
     "execution_count": 25,
     "metadata": {},
     "output_type": "execute_result"
    }
   ],
   "source": [
    "df.loc[[0], ['Email']]"
   ]
  },
  {
   "cell_type": "markdown",
   "id": "a1660839-0d80-473e-a792-5fd798a1eaee",
   "metadata": {},
   "source": [
    "### Slicing\n",
    "Note that when slicing, no braces inside .loc[:,:]"
   ]
  },
  {
   "cell_type": "code",
   "execution_count": 27,
   "id": "294f72c6-994f-4deb-9613-8abdb57634fd",
   "metadata": {},
   "outputs": [
    {
     "data": {
      "text/plain": [
       "0         rachel@example.com\n",
       "1      laura@yourcompany.com\n",
       "2      craig@yourcompany.com\n",
       "3           mary@example.com\n",
       "4          jamie@example.com\n",
       "5                  js@co.com\n",
       "6       jhalprin@example.com\n",
       "7         tjones@example.com\n",
       "8       tomjones@example.com\n",
       "9     greggjones@example.com\n",
       "10     dthompson@example.com\n",
       "Name: Email, dtype: object"
      ]
     },
     "execution_count": 27,
     "metadata": {},
     "output_type": "execute_result"
    }
   ],
   "source": [
    "df.loc[:, 'Email']"
   ]
  },
  {
   "cell_type": "code",
   "execution_count": 29,
   "id": "23820e0c-5968-43f2-931b-39a467b56802",
   "metadata": {},
   "outputs": [
    {
     "data": {
      "text/html": [
       "<div>\n",
       "<style scoped>\n",
       "    .dataframe tbody tr th:only-of-type {\n",
       "        vertical-align: middle;\n",
       "    }\n",
       "\n",
       "    .dataframe tbody tr th {\n",
       "        vertical-align: top;\n",
       "    }\n",
       "\n",
       "    .dataframe thead th {\n",
       "        text-align: right;\n",
       "    }\n",
       "</style>\n",
       "<table border=\"1\" class=\"dataframe\">\n",
       "  <thead>\n",
       "    <tr style=\"text-align: right;\">\n",
       "      <th></th>\n",
       "      <th>Id</th>\n",
       "      <th>Last name</th>\n",
       "    </tr>\n",
       "  </thead>\n",
       "  <tbody>\n",
       "    <tr>\n",
       "      <th>0</th>\n",
       "      <td>9012</td>\n",
       "      <td>Booker</td>\n",
       "    </tr>\n",
       "    <tr>\n",
       "      <th>1</th>\n",
       "      <td>2070</td>\n",
       "      <td>Grey</td>\n",
       "    </tr>\n",
       "    <tr>\n",
       "      <th>2</th>\n",
       "      <td>4081</td>\n",
       "      <td>Johnson</td>\n",
       "    </tr>\n",
       "    <tr>\n",
       "      <th>3</th>\n",
       "      <td>9346</td>\n",
       "      <td>Jenkins</td>\n",
       "    </tr>\n",
       "    <tr>\n",
       "      <th>4</th>\n",
       "      <td>5079</td>\n",
       "      <td>Smith</td>\n",
       "    </tr>\n",
       "    <tr>\n",
       "      <th>5</th>\n",
       "      <td>303</td>\n",
       "      <td>Smith</td>\n",
       "    </tr>\n",
       "    <tr>\n",
       "      <th>6</th>\n",
       "      <td>304</td>\n",
       "      <td>Halprin</td>\n",
       "    </tr>\n",
       "    <tr>\n",
       "      <th>7</th>\n",
       "      <td>305</td>\n",
       "      <td>Jones</td>\n",
       "    </tr>\n",
       "    <tr>\n",
       "      <th>8</th>\n",
       "      <td>306</td>\n",
       "      <td>Jones</td>\n",
       "    </tr>\n",
       "    <tr>\n",
       "      <th>9</th>\n",
       "      <td>307</td>\n",
       "      <td>Jones</td>\n",
       "    </tr>\n",
       "    <tr>\n",
       "      <th>10</th>\n",
       "      <td>308</td>\n",
       "      <td>Thompson</td>\n",
       "    </tr>\n",
       "  </tbody>\n",
       "</table>\n",
       "</div>"
      ],
      "text/plain": [
       "      Id Last name\n",
       "0   9012    Booker\n",
       "1   2070      Grey\n",
       "2   4081   Johnson\n",
       "3   9346   Jenkins\n",
       "4   5079     Smith\n",
       "5    303     Smith\n",
       "6    304   Halprin\n",
       "7    305     Jones\n",
       "8    306     Jones\n",
       "9    307     Jones\n",
       "10   308  Thompson"
      ]
     },
     "execution_count": 29,
     "metadata": {},
     "output_type": "execute_result"
    }
   ],
   "source": [
    "df.loc[:, ['Id','Last name']]"
   ]
  },
  {
   "cell_type": "code",
   "execution_count": 26,
   "id": "8bc3a2a9-d297-40f8-aaaa-c499b42e851c",
   "metadata": {},
   "outputs": [
    {
     "data": {
      "text/html": [
       "<div>\n",
       "<style scoped>\n",
       "    .dataframe tbody tr th:only-of-type {\n",
       "        vertical-align: middle;\n",
       "    }\n",
       "\n",
       "    .dataframe tbody tr th {\n",
       "        vertical-align: top;\n",
       "    }\n",
       "\n",
       "    .dataframe thead th {\n",
       "        text-align: right;\n",
       "    }\n",
       "</style>\n",
       "<table border=\"1\" class=\"dataframe\">\n",
       "  <thead>\n",
       "    <tr style=\"text-align: right;\">\n",
       "      <th></th>\n",
       "      <th>First name</th>\n",
       "      <th>Last name</th>\n",
       "      <th>Active</th>\n",
       "    </tr>\n",
       "  </thead>\n",
       "  <tbody>\n",
       "    <tr>\n",
       "      <th>0</th>\n",
       "      <td>Rachel</td>\n",
       "      <td>Booker</td>\n",
       "      <td>Yes</td>\n",
       "    </tr>\n",
       "    <tr>\n",
       "      <th>1</th>\n",
       "      <td>Laura</td>\n",
       "      <td>Grey</td>\n",
       "      <td>Yes</td>\n",
       "    </tr>\n",
       "    <tr>\n",
       "      <th>2</th>\n",
       "      <td>Craig</td>\n",
       "      <td>Johnson</td>\n",
       "      <td>No</td>\n",
       "    </tr>\n",
       "    <tr>\n",
       "      <th>3</th>\n",
       "      <td>Mary</td>\n",
       "      <td>Jenkins</td>\n",
       "      <td>Yes</td>\n",
       "    </tr>\n",
       "    <tr>\n",
       "      <th>4</th>\n",
       "      <td>Jamie</td>\n",
       "      <td>Smith</td>\n",
       "      <td>Yes</td>\n",
       "    </tr>\n",
       "    <tr>\n",
       "      <th>5</th>\n",
       "      <td>John</td>\n",
       "      <td>Smith</td>\n",
       "      <td>No</td>\n",
       "    </tr>\n",
       "    <tr>\n",
       "      <th>6</th>\n",
       "      <td>Jim</td>\n",
       "      <td>Halprin</td>\n",
       "      <td>Yes</td>\n",
       "    </tr>\n",
       "    <tr>\n",
       "      <th>7</th>\n",
       "      <td>Teresa</td>\n",
       "      <td>Jones</td>\n",
       "      <td>Yes</td>\n",
       "    </tr>\n",
       "    <tr>\n",
       "      <th>8</th>\n",
       "      <td>Tommy</td>\n",
       "      <td>Jones</td>\n",
       "      <td>Yes</td>\n",
       "    </tr>\n",
       "    <tr>\n",
       "      <th>9</th>\n",
       "      <td>Gregg</td>\n",
       "      <td>Jones</td>\n",
       "      <td>Yes</td>\n",
       "    </tr>\n",
       "    <tr>\n",
       "      <th>10</th>\n",
       "      <td>Daniel</td>\n",
       "      <td>Thompson</td>\n",
       "      <td>Yes</td>\n",
       "    </tr>\n",
       "  </tbody>\n",
       "</table>\n",
       "</div>"
      ],
      "text/plain": [
       "   First name Last name Active\n",
       "0      Rachel    Booker    Yes\n",
       "1       Laura      Grey    Yes\n",
       "2       Craig   Johnson     No\n",
       "3        Mary   Jenkins    Yes\n",
       "4       Jamie     Smith    Yes\n",
       "5        John     Smith     No\n",
       "6         Jim   Halprin    Yes\n",
       "7      Teresa     Jones    Yes\n",
       "8       Tommy     Jones    Yes\n",
       "9       Gregg     Jones    Yes\n",
       "10     Daniel  Thompson    Yes"
      ]
     },
     "execution_count": 26,
     "metadata": {},
     "output_type": "execute_result"
    }
   ],
   "source": [
    "df.loc[:, 'First name':'Active']"
   ]
  },
  {
   "cell_type": "code",
   "execution_count": null,
   "id": "83d10ac5-4b05-4cee-9987-723d07c7f8c1",
   "metadata": {},
   "outputs": [],
   "source": []
  }
 ],
 "metadata": {
  "kernelspec": {
   "display_name": "Python 3 (ipykernel)",
   "language": "python",
   "name": "python3"
  },
  "language_info": {
   "codemirror_mode": {
    "name": "ipython",
    "version": 3
   },
   "file_extension": ".py",
   "mimetype": "text/x-python",
   "name": "python",
   "nbconvert_exporter": "python",
   "pygments_lexer": "ipython3",
   "version": "3.10.8"
  }
 },
 "nbformat": 4,
 "nbformat_minor": 5
}
