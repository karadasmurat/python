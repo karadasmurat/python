{
 "cells": [
  {
   "attachments": {},
   "cell_type": "markdown",
   "id": "d2e9433e-9d00-44bd-88a7-d3af68b57600",
   "metadata": {},
   "source": [
    "# pandas\n",
    "pandas is a fast, powerful, flexible and easy to use open source **data analysis and manipulation tool**, built on top of the Python programming language.\n",
    "\n",
    "pandas makes working with “relational” or “labeled” data both easy and intuitive.\n",
    "\n",
    "pandas blends the high-performance, array-computing ideas of NumPy with the flexible data manipulation capabilities of spreadsheets and relational databases (such as\n",
    "SQL). \n",
    "\n",
    "### What Is Data Science?\n",
    "There’s a joke that says a data scientist is someone who knows more\n",
    "statistics than a computer scientist and more computer science than a\n",
    "statistician\n",
    "\n",
    "### NumPy\n",
    "NumPy, short for Numerical Python, has long been a cornerstone of numerical computing in Python. \n",
    "It provides the data structures, algorithms, and library glue needed for most scientific applications involving numerical data in Python. \n",
    "NumPy contains, among other things:\n",
    "- A fast and efficient multidimensional array object `ndarray` (The \"nd\" in ndarray stands for \"n-dimensional\")\n",
    "- Functions for performing element-wise computations with arrays or mathematical operations between arrays\n",
    "- Tools for reading and writing array-based datasets to disk\n",
    "- Linear algebra operations, Fourier transform, and random number generation\n",
    "- A mature C API to enable Python extensions and native C or C++ code to access NumPy’s data structures and computational facilities\n",
    "\n",
    "One of the reasons NumPy is so important for numerical computations in Python is because it is designed for **efficiency on large arrays of data**. There are a number of reasons for this:\n",
    "- NumPy internally stores data in a contiguous block of memory, independent of other built-in Python objects. NumPy’s library of algorithms written in the C lan‐\n",
    "guage can operate on this memory without any type checking or other overhead. NumPy arrays also use much less memory than built-in Python sequences.\n",
    "- NumPy operations perform complex computations on entire arrays without the need for Python for loops.\n",
    "\n",
    "\n",
    "## Install\n",
    "pandas can be installed via pip from PyPI.\n",
    "\n",
    "`pip install pandas`"
   ]
  },
  {
   "attachments": {},
   "cell_type": "markdown",
   "id": "31b9efe6",
   "metadata": {},
   "source": [
    "### Import Conventions\n",
    "The Python community has adopted a number of naming conventions for commonly used modules:"
   ]
  },
  {
   "cell_type": "code",
   "execution_count": 78,
   "id": "564e2c76",
   "metadata": {},
   "outputs": [],
   "source": [
    "import pandas as pd"
   ]
  },
  {
   "attachments": {},
   "cell_type": "markdown",
   "id": "88c6facd",
   "metadata": {},
   "source": [
    "### DataFrame\n",
    "When working with tabular data, such as data stored in spreadsheets or databases, pandas is the right tool for you. pandas will help you to explore, clean, and process your data. \n",
    "\n",
    "In pandas, a data table is called a **DataFrame**.\n",
    "\n",
    "We can simply think of a DataFrame by a list of rows, where is row is a list:\n",
    "```\n",
    "[\n",
    "    [90, 'Turkey', 'Ankara'], \n",
    "    [44, 'United Kingdom', 'London'], \n",
    "    [1, 'United States', 'Washington'], \n",
    "    [81, 'Japan', 'Tokyo'], \n",
    "    [86, 'China', 'Beijing']\n",
    "]\n",
    "````\n",
    "\n",
    "Another model is a dictionary, where keys are the \"column names\" and values are the lists:\n",
    "```\n",
    "(singular)  person = {\n",
    "                    \"name\"      : \"value\",\n",
    "                    \"lastname\"  : \"value\"\n",
    "            }\n",
    "\n",
    "(plural)    people = {\n",
    "                    \"name\"      : [\"value1\", \"value2\"],\n",
    "                    \"lastname\"  : [\"value1\", \"value2\"]\n",
    "            }\n",
    "```\n",
    "\n"
   ]
  },
  {
   "cell_type": "code",
   "execution_count": 79,
   "id": "613eb64d",
   "metadata": {},
   "outputs": [
    {
     "name": "stdout",
     "output_type": "stream",
     "text": [
      "    code            name     capital\n",
      "TR    90          Turkey      Ankara\n",
      "UK    44  United Kingdom      London\n",
      "US     1   United States  Washington\n",
      "JP    81           Japan       Tokyo\n",
      "CN    86           China     Beijing\n"
     ]
    }
   ],
   "source": [
    "# Manually build DataFrame\n",
    "# Option 1 -\n",
    "# data, as a list of lists - each item in the list is a list representing a ROW\n",
    "country_codes = pd.DataFrame(\n",
    "    [[90, 'Turkey', 'Ankara'], [44, 'United Kingdom', 'London'], [1, 'United States', 'Washington'], [81, 'Japan', 'Tokyo'], [86, 'China', 'Beijing']],\n",
    "    index=['TR', 'UK', 'US', 'JP', 'CN'],\n",
    "    columns=['code', 'name', 'capital']\n",
    ")\n",
    "'''\n",
    "    code            name     capital\n",
    "TR    90          Turkey      Ankara\n",
    "UK    44  United Kingdom      London\n",
    "US     1   United States  Washington\n",
    "JP    81           Japan       Tokyo\n",
    "CN    86           China     Beijing\n",
    "'''\n",
    "print(country_codes)"
   ]
  },
  {
   "attachments": {},
   "cell_type": "markdown",
   "id": "fc499d04",
   "metadata": {},
   "source": [
    "### Option 2 - Create a DataFrame from a Python dict\n",
    "\n",
    "from python dictionary:\n",
    "```\n",
    "{\n",
    "    'LastName':['Booker', 'Grey', 'Johnson', 'Jenkins', 'Smith'],\n",
    "    'Email': ['bo@example.com', 'gr@example.com', 'jo@example.com', 'je@example.com', 'sm@example.com'],\n",
    "    'Username': ['booker12', 'grey07', 'johnson81', 'jenkins46', 'smith79']\n",
    "}\n",
    "```\n",
    "\n",
    "to pandas DataFrame:\n",
    "```\n",
    "  LastName           Email   Username\n",
    "0   Booker  bo@example.com   booker12\n",
    "1     Grey  gr@example.com     grey07\n",
    "2  Johnson  jo@example.com  johnson81\n",
    "3  Jenkins  je@example.com  jenkins46\n",
    "4    Smith  sm@example.com    smith79\n",
    "```"
   ]
  },
  {
   "cell_type": "code",
   "execution_count": 80,
   "id": "2e910dac",
   "metadata": {},
   "outputs": [
    {
     "name": "stdout",
     "output_type": "stream",
     "text": [
      "  LastName           Email   Username\n",
      "0   Booker  bo@example.com   booker12\n",
      "1     Grey  gr@example.com     grey07\n",
      "2  Johnson  jo@example.com  johnson81\n",
      "3  Jenkins  je@example.com  jenkins46\n",
      "4    Smith  sm@example.com    smith79\n"
     ]
    }
   ],
   "source": [
    "# Option 2 - Create a DataFrame from a Python dict\n",
    "# A seperate list representing each COLUMN\n",
    "# person = {\n",
    "#     \"name\"      : \"value\",\n",
    "#     \"lastname\"  : \"value\"\n",
    "#     }\n",
    "# people = {\n",
    "#     \"name\"      : [\"value1\",\"value2\"],\n",
    "#     \"lastname\"  : [\"value1\",\"value2\"]\n",
    "#     }\n",
    "lastnames = ['Booker', 'Grey', 'Johnson', 'Jenkins', 'Smith']\n",
    "emails = ['bo@example.com', 'gr@example.com', 'jo@example.com', 'je@example.com', 'sm@example.com']\n",
    "usernames = ['booker12', 'grey07', 'johnson81', 'jenkins46', 'smith79']\n",
    "\n",
    "# A dictionary where keys are the \"column names\" and values are the lists:\n",
    "users_dict = {'LastName': lastnames, 'Email': emails, 'Username': usernames}\n",
    "\n",
    "# Create a DataFrame from a Python dict:\n",
    "# df = pd.DataFrame({'col1':[], 'col2':[]})\n",
    "df_users = pd.DataFrame(users_dict)\n",
    "\n",
    "print(df_users)\n"
   ]
  },
  {
   "attachments": {},
   "cell_type": "markdown",
   "id": "f5e8c3e4",
   "metadata": {},
   "source": [
    "## Which file formats?\n",
    "pandas supports the integration with many file formats or data sources out of the box (csv, excel, sql, json, parquet,…). Importing data from each of these data sources is provided by function with the prefix `read_*`. Similarly, the `to_*` methods are used to store data."
   ]
  },
  {
   "cell_type": "code",
   "execution_count": 81,
   "id": "31ec1997",
   "metadata": {},
   "outputs": [
    {
     "name": "stdout",
     "output_type": "stream",
     "text": [
      "       Username                   Email    Id First name Last name Active\n",
      "0      blu3FisH      rachel@example.com  9012     Rachel    Booker    Yes\n",
      "1     GreenFr0g   laura@yourcompany.com  2070      Laura      Grey    Yes\n",
      "2      blackd0g   craig@yourcompany.com  4081      Craig   Johnson     No\n",
      "3     jenkins46        mary@example.com  9346       Mary   Jenkins    Yes\n",
      "4       smith79       jamie@example.com  5079      Jamie     Smith    Yes\n",
      "5        john00               js@co.com   303       John     Smith     No\n",
      "6   BlackTurkey    jhalprin@example.com   304        Jim   Halprin    Yes\n",
      "7      BlueHawk      tjones@example.com   305     Teresa     Jones    Yes\n",
      "8     GreenTree    tomjones@example.com   306      Tommy     Jones    Yes\n",
      "9    OrangeFish  greggjones@example.com   307      Gregg     Jones    Yes\n",
      "10      RedBoat   dthompson@example.com   308     Daniel  Thompson    Yes\n"
     ]
    }
   ],
   "source": [
    "df = pd.read_csv(\"data/users.csv\")\n",
    "print(df)"
   ]
  },
  {
   "cell_type": "code",
   "execution_count": 82,
   "id": "2aa7c2e5",
   "metadata": {},
   "outputs": [],
   "source": [
    "brics = pd.read_csv(\"data/brics.csv\", index_col=0)\n"
   ]
  },
  {
   "attachments": {},
   "cell_type": "markdown",
   "id": "a3489f13",
   "metadata": {},
   "source": [
    "### Head and tail\n",
    "To view a small sample of a Series or DataFrame object, use the head() and tail() methods. The default number of elements to display is five, but you may pass a custom number."
   ]
  },
  {
   "cell_type": "code",
   "execution_count": 83,
   "id": "0e390ad6",
   "metadata": {},
   "outputs": [
    {
     "data": {
      "text/html": [
       "<div>\n",
       "<style scoped>\n",
       "    .dataframe tbody tr th:only-of-type {\n",
       "        vertical-align: middle;\n",
       "    }\n",
       "\n",
       "    .dataframe tbody tr th {\n",
       "        vertical-align: top;\n",
       "    }\n",
       "\n",
       "    .dataframe thead th {\n",
       "        text-align: right;\n",
       "    }\n",
       "</style>\n",
       "<table border=\"1\" class=\"dataframe\">\n",
       "  <thead>\n",
       "    <tr style=\"text-align: right;\">\n",
       "      <th></th>\n",
       "      <th>Username</th>\n",
       "      <th>Email</th>\n",
       "      <th>Id</th>\n",
       "      <th>First name</th>\n",
       "      <th>Last name</th>\n",
       "      <th>Active</th>\n",
       "    </tr>\n",
       "  </thead>\n",
       "  <tbody>\n",
       "    <tr>\n",
       "      <th>0</th>\n",
       "      <td>blu3FisH</td>\n",
       "      <td>rachel@example.com</td>\n",
       "      <td>9012</td>\n",
       "      <td>Rachel</td>\n",
       "      <td>Booker</td>\n",
       "      <td>Yes</td>\n",
       "    </tr>\n",
       "    <tr>\n",
       "      <th>1</th>\n",
       "      <td>GreenFr0g</td>\n",
       "      <td>laura@yourcompany.com</td>\n",
       "      <td>2070</td>\n",
       "      <td>Laura</td>\n",
       "      <td>Grey</td>\n",
       "      <td>Yes</td>\n",
       "    </tr>\n",
       "    <tr>\n",
       "      <th>2</th>\n",
       "      <td>blackd0g</td>\n",
       "      <td>craig@yourcompany.com</td>\n",
       "      <td>4081</td>\n",
       "      <td>Craig</td>\n",
       "      <td>Johnson</td>\n",
       "      <td>No</td>\n",
       "    </tr>\n",
       "    <tr>\n",
       "      <th>3</th>\n",
       "      <td>jenkins46</td>\n",
       "      <td>mary@example.com</td>\n",
       "      <td>9346</td>\n",
       "      <td>Mary</td>\n",
       "      <td>Jenkins</td>\n",
       "      <td>Yes</td>\n",
       "    </tr>\n",
       "    <tr>\n",
       "      <th>4</th>\n",
       "      <td>smith79</td>\n",
       "      <td>jamie@example.com</td>\n",
       "      <td>5079</td>\n",
       "      <td>Jamie</td>\n",
       "      <td>Smith</td>\n",
       "      <td>Yes</td>\n",
       "    </tr>\n",
       "  </tbody>\n",
       "</table>\n",
       "</div>"
      ],
      "text/plain": [
       "    Username                  Email    Id First name Last name Active\n",
       "0   blu3FisH     rachel@example.com  9012     Rachel    Booker    Yes\n",
       "1  GreenFr0g  laura@yourcompany.com  2070      Laura      Grey    Yes\n",
       "2   blackd0g  craig@yourcompany.com  4081      Craig   Johnson     No\n",
       "3  jenkins46       mary@example.com  9346       Mary   Jenkins    Yes\n",
       "4    smith79      jamie@example.com  5079      Jamie     Smith    Yes"
      ]
     },
     "execution_count": 83,
     "metadata": {},
     "output_type": "execute_result"
    }
   ],
   "source": [
    "df.head()"
   ]
  },
  {
   "cell_type": "code",
   "execution_count": 84,
   "id": "cd32bb53",
   "metadata": {},
   "outputs": [
    {
     "data": {
      "text/html": [
       "<div>\n",
       "<style scoped>\n",
       "    .dataframe tbody tr th:only-of-type {\n",
       "        vertical-align: middle;\n",
       "    }\n",
       "\n",
       "    .dataframe tbody tr th {\n",
       "        vertical-align: top;\n",
       "    }\n",
       "\n",
       "    .dataframe thead th {\n",
       "        text-align: right;\n",
       "    }\n",
       "</style>\n",
       "<table border=\"1\" class=\"dataframe\">\n",
       "  <thead>\n",
       "    <tr style=\"text-align: right;\">\n",
       "      <th></th>\n",
       "      <th>Username</th>\n",
       "      <th>Email</th>\n",
       "      <th>Id</th>\n",
       "      <th>First name</th>\n",
       "      <th>Last name</th>\n",
       "      <th>Active</th>\n",
       "    </tr>\n",
       "  </thead>\n",
       "  <tbody>\n",
       "    <tr>\n",
       "      <th>8</th>\n",
       "      <td>GreenTree</td>\n",
       "      <td>tomjones@example.com</td>\n",
       "      <td>306</td>\n",
       "      <td>Tommy</td>\n",
       "      <td>Jones</td>\n",
       "      <td>Yes</td>\n",
       "    </tr>\n",
       "    <tr>\n",
       "      <th>9</th>\n",
       "      <td>OrangeFish</td>\n",
       "      <td>greggjones@example.com</td>\n",
       "      <td>307</td>\n",
       "      <td>Gregg</td>\n",
       "      <td>Jones</td>\n",
       "      <td>Yes</td>\n",
       "    </tr>\n",
       "    <tr>\n",
       "      <th>10</th>\n",
       "      <td>RedBoat</td>\n",
       "      <td>dthompson@example.com</td>\n",
       "      <td>308</td>\n",
       "      <td>Daniel</td>\n",
       "      <td>Thompson</td>\n",
       "      <td>Yes</td>\n",
       "    </tr>\n",
       "  </tbody>\n",
       "</table>\n",
       "</div>"
      ],
      "text/plain": [
       "      Username                   Email   Id First name Last name Active\n",
       "8    GreenTree    tomjones@example.com  306      Tommy     Jones    Yes\n",
       "9   OrangeFish  greggjones@example.com  307      Gregg     Jones    Yes\n",
       "10     RedBoat   dthompson@example.com  308     Daniel  Thompson    Yes"
      ]
     },
     "execution_count": 84,
     "metadata": {},
     "output_type": "execute_result"
    }
   ],
   "source": [
    "df.tail(3)"
   ]
  },
  {
   "attachments": {},
   "cell_type": "markdown",
   "id": "d7b738ad",
   "metadata": {},
   "source": [
    "### Attributes and underlying data\n",
    "\n"
   ]
  },
  {
   "cell_type": "code",
   "execution_count": 85,
   "id": "db90d1d7",
   "metadata": {},
   "outputs": [
    {
     "data": {
      "text/html": [
       "<div>\n",
       "<style scoped>\n",
       "    .dataframe tbody tr th:only-of-type {\n",
       "        vertical-align: middle;\n",
       "    }\n",
       "\n",
       "    .dataframe tbody tr th {\n",
       "        vertical-align: top;\n",
       "    }\n",
       "\n",
       "    .dataframe thead th {\n",
       "        text-align: right;\n",
       "    }\n",
       "</style>\n",
       "<table border=\"1\" class=\"dataframe\">\n",
       "  <thead>\n",
       "    <tr style=\"text-align: right;\">\n",
       "      <th></th>\n",
       "      <th>area</th>\n",
       "      <th>population</th>\n",
       "    </tr>\n",
       "  </thead>\n",
       "  <tbody>\n",
       "    <tr>\n",
       "      <th>count</th>\n",
       "      <td>5.000000</td>\n",
       "      <td>5.000000</td>\n",
       "    </tr>\n",
       "    <tr>\n",
       "      <th>mean</th>\n",
       "      <td>7.944000</td>\n",
       "      <td>601.176000</td>\n",
       "    </tr>\n",
       "    <tr>\n",
       "      <th>std</th>\n",
       "      <td>6.200557</td>\n",
       "      <td>645.261454</td>\n",
       "    </tr>\n",
       "    <tr>\n",
       "      <th>min</th>\n",
       "      <td>1.221000</td>\n",
       "      <td>52.980000</td>\n",
       "    </tr>\n",
       "    <tr>\n",
       "      <th>25%</th>\n",
       "      <td>3.286000</td>\n",
       "      <td>143.500000</td>\n",
       "    </tr>\n",
       "    <tr>\n",
       "      <th>50%</th>\n",
       "      <td>8.516000</td>\n",
       "      <td>200.400000</td>\n",
       "    </tr>\n",
       "    <tr>\n",
       "      <th>75%</th>\n",
       "      <td>9.597000</td>\n",
       "      <td>1252.000000</td>\n",
       "    </tr>\n",
       "    <tr>\n",
       "      <th>max</th>\n",
       "      <td>17.100000</td>\n",
       "      <td>1357.000000</td>\n",
       "    </tr>\n",
       "  </tbody>\n",
       "</table>\n",
       "</div>"
      ],
      "text/plain": [
       "            area   population\n",
       "count   5.000000     5.000000\n",
       "mean    7.944000   601.176000\n",
       "std     6.200557   645.261454\n",
       "min     1.221000    52.980000\n",
       "25%     3.286000   143.500000\n",
       "50%     8.516000   200.400000\n",
       "75%     9.597000  1252.000000\n",
       "max    17.100000  1357.000000"
      ]
     },
     "execution_count": 85,
     "metadata": {},
     "output_type": "execute_result"
    }
   ],
   "source": [
    "brics.describe()"
   ]
  },
  {
   "cell_type": "code",
   "execution_count": 86,
   "id": "4e78e593",
   "metadata": {
    "tags": []
   },
   "outputs": [
    {
     "name": "stdout",
     "output_type": "stream",
     "text": [
      "<class 'pandas.core.frame.DataFrame'>\n",
      "Index: 5 entries, BR to SA\n",
      "Data columns (total 4 columns):\n",
      " #   Column      Non-Null Count  Dtype  \n",
      "---  ------      --------------  -----  \n",
      " 0   country     5 non-null      object \n",
      " 1   capital     5 non-null      object \n",
      " 2   area        5 non-null      float64\n",
      " 3   population  5 non-null      float64\n",
      "dtypes: float64(2), object(2)\n",
      "memory usage: 200.0+ bytes\n"
     ]
    }
   ],
   "source": [
    "brics.info()"
   ]
  },
  {
   "attachments": {},
   "cell_type": "markdown",
   "id": "0a353a85",
   "metadata": {},
   "source": [
    "`shape`: gives the axis dimensions of the object, consistent with ndarray\n",
    "(entries, columns)"
   ]
  },
  {
   "cell_type": "code",
   "execution_count": 87,
   "id": "9258fe23",
   "metadata": {},
   "outputs": [
    {
     "data": {
      "text/plain": [
       "(5, 4)"
      ]
     },
     "execution_count": 87,
     "metadata": {},
     "output_type": "execute_result"
    }
   ],
   "source": [
    "brics.shape"
   ]
  },
  {
   "cell_type": "code",
   "execution_count": 88,
   "id": "9ac32192-d22e-43a5-ae49-460cd7d9506f",
   "metadata": {},
   "outputs": [
    {
     "data": {
      "text/plain": [
       "Index(['country', 'capital', 'area', 'population'], dtype='object')"
      ]
     },
     "execution_count": 88,
     "metadata": {},
     "output_type": "execute_result"
    }
   ],
   "source": [
    "brics.columns"
   ]
  },
  {
   "attachments": {},
   "cell_type": "markdown",
   "id": "f8cbfdad",
   "metadata": {},
   "source": [
    "## Summary statistics\n",
    "Basic statistics (mean, median, min, max, counts…) are easily calculable.\n",
    "\n",
    "describe() shows a quick statistic summary of your data"
   ]
  },
  {
   "cell_type": "code",
   "execution_count": 134,
   "id": "cf48ecf8",
   "metadata": {},
   "outputs": [
    {
     "data": {
      "text/html": [
       "<div>\n",
       "<style scoped>\n",
       "    .dataframe tbody tr th:only-of-type {\n",
       "        vertical-align: middle;\n",
       "    }\n",
       "\n",
       "    .dataframe tbody tr th {\n",
       "        vertical-align: top;\n",
       "    }\n",
       "\n",
       "    .dataframe thead th {\n",
       "        text-align: right;\n",
       "    }\n",
       "</style>\n",
       "<table border=\"1\" class=\"dataframe\">\n",
       "  <thead>\n",
       "    <tr style=\"text-align: right;\">\n",
       "      <th></th>\n",
       "      <th>2000</th>\n",
       "      <th>2001</th>\n",
       "      <th>2002</th>\n",
       "      <th>2003</th>\n",
       "      <th>2004</th>\n",
       "      <th>2005</th>\n",
       "      <th>2006</th>\n",
       "      <th>2007</th>\n",
       "      <th>2008</th>\n",
       "      <th>2009</th>\n",
       "      <th>...</th>\n",
       "      <th>2012</th>\n",
       "      <th>2013</th>\n",
       "      <th>2014</th>\n",
       "      <th>2015</th>\n",
       "      <th>2016</th>\n",
       "      <th>2017</th>\n",
       "      <th>2018</th>\n",
       "      <th>2019</th>\n",
       "      <th>2020</th>\n",
       "      <th>2021</th>\n",
       "    </tr>\n",
       "  </thead>\n",
       "  <tbody>\n",
       "    <tr>\n",
       "      <th>count</th>\n",
       "      <td>8.200000e+01</td>\n",
       "      <td>8.200000e+01</td>\n",
       "      <td>8.200000e+01</td>\n",
       "      <td>8.200000e+01</td>\n",
       "      <td>8.200000e+01</td>\n",
       "      <td>8.200000e+01</td>\n",
       "      <td>8.200000e+01</td>\n",
       "      <td>8.200000e+01</td>\n",
       "      <td>8.200000e+01</td>\n",
       "      <td>8.200000e+01</td>\n",
       "      <td>...</td>\n",
       "      <td>8.200000e+01</td>\n",
       "      <td>8.200000e+01</td>\n",
       "      <td>8.200000e+01</td>\n",
       "      <td>8.200000e+01</td>\n",
       "      <td>8.200000e+01</td>\n",
       "      <td>8.200000e+01</td>\n",
       "      <td>8.200000e+01</td>\n",
       "      <td>8.200000e+01</td>\n",
       "      <td>8.200000e+01</td>\n",
       "      <td>8.200000e+01</td>\n",
       "    </tr>\n",
       "    <tr>\n",
       "      <th>mean</th>\n",
       "      <td>1.578768e+06</td>\n",
       "      <td>1.600077e+06</td>\n",
       "      <td>1.619557e+06</td>\n",
       "      <td>1.638713e+06</td>\n",
       "      <td>1.658786e+06</td>\n",
       "      <td>1.679525e+06</td>\n",
       "      <td>1.700731e+06</td>\n",
       "      <td>1.721616e+06</td>\n",
       "      <td>1.744320e+06</td>\n",
       "      <td>1.769788e+06</td>\n",
       "      <td>...</td>\n",
       "      <td>1.844570e+06</td>\n",
       "      <td>1.869948e+06</td>\n",
       "      <td>1.895022e+06</td>\n",
       "      <td>1.920513e+06</td>\n",
       "      <td>1.946704e+06</td>\n",
       "      <td>1.970988e+06</td>\n",
       "      <td>2.000095e+06</td>\n",
       "      <td>2.028171e+06</td>\n",
       "      <td>2.039375e+06</td>\n",
       "      <td>2.065373e+06</td>\n",
       "    </tr>\n",
       "    <tr>\n",
       "      <th>std</th>\n",
       "      <td>7.182483e+06</td>\n",
       "      <td>7.280900e+06</td>\n",
       "      <td>7.371050e+06</td>\n",
       "      <td>7.459777e+06</td>\n",
       "      <td>7.552731e+06</td>\n",
       "      <td>7.648774e+06</td>\n",
       "      <td>7.746996e+06</td>\n",
       "      <td>7.843821e+06</td>\n",
       "      <td>7.946958e+06</td>\n",
       "      <td>8.064122e+06</td>\n",
       "      <td>...</td>\n",
       "      <td>8.413460e+06</td>\n",
       "      <td>8.531728e+06</td>\n",
       "      <td>8.647138e+06</td>\n",
       "      <td>8.765726e+06</td>\n",
       "      <td>8.884413e+06</td>\n",
       "      <td>8.996369e+06</td>\n",
       "      <td>9.125385e+06</td>\n",
       "      <td>9.258787e+06</td>\n",
       "      <td>9.307607e+06</td>\n",
       "      <td>9.429832e+06</td>\n",
       "    </tr>\n",
       "    <tr>\n",
       "      <th>min</th>\n",
       "      <td>7.522100e+04</td>\n",
       "      <td>7.551700e+04</td>\n",
       "      <td>7.570900e+04</td>\n",
       "      <td>7.586800e+04</td>\n",
       "      <td>7.605000e+04</td>\n",
       "      <td>7.624600e+04</td>\n",
       "      <td>7.644400e+04</td>\n",
       "      <td>7.660900e+04</td>\n",
       "      <td>7.567500e+04</td>\n",
       "      <td>7.471000e+04</td>\n",
       "      <td>...</td>\n",
       "      <td>7.579700e+04</td>\n",
       "      <td>7.562000e+04</td>\n",
       "      <td>8.060700e+04</td>\n",
       "      <td>7.855000e+04</td>\n",
       "      <td>8.219300e+04</td>\n",
       "      <td>8.041700e+04</td>\n",
       "      <td>8.227400e+04</td>\n",
       "      <td>8.466000e+04</td>\n",
       "      <td>8.191000e+04</td>\n",
       "      <td>8.364500e+04</td>\n",
       "    </tr>\n",
       "    <tr>\n",
       "      <th>25%</th>\n",
       "      <td>2.719395e+05</td>\n",
       "      <td>2.745638e+05</td>\n",
       "      <td>2.768472e+05</td>\n",
       "      <td>2.780260e+05</td>\n",
       "      <td>2.792188e+05</td>\n",
       "      <td>2.797688e+05</td>\n",
       "      <td>2.800030e+05</td>\n",
       "      <td>2.801020e+05</td>\n",
       "      <td>2.799185e+05</td>\n",
       "      <td>2.816318e+05</td>\n",
       "      <td>...</td>\n",
       "      <td>2.821075e+05</td>\n",
       "      <td>2.839870e+05</td>\n",
       "      <td>2.851542e+05</td>\n",
       "      <td>2.878490e+05</td>\n",
       "      <td>2.900632e+05</td>\n",
       "      <td>2.888318e+05</td>\n",
       "      <td>2.912432e+05</td>\n",
       "      <td>2.898100e+05</td>\n",
       "      <td>2.899328e+05</td>\n",
       "      <td>2.952515e+05</td>\n",
       "    </tr>\n",
       "    <tr>\n",
       "      <th>50%</th>\n",
       "      <td>4.834845e+05</td>\n",
       "      <td>4.875495e+05</td>\n",
       "      <td>4.902015e+05</td>\n",
       "      <td>4.922440e+05</td>\n",
       "      <td>4.903035e+05</td>\n",
       "      <td>4.883865e+05</td>\n",
       "      <td>4.864035e+05</td>\n",
       "      <td>4.841275e+05</td>\n",
       "      <td>4.849110e+05</td>\n",
       "      <td>4.926815e+05</td>\n",
       "      <td>...</td>\n",
       "      <td>5.118330e+05</td>\n",
       "      <td>5.172040e+05</td>\n",
       "      <td>5.195050e+05</td>\n",
       "      <td>5.192605e+05</td>\n",
       "      <td>5.250190e+05</td>\n",
       "      <td>5.294195e+05</td>\n",
       "      <td>5.380700e+05</td>\n",
       "      <td>5.374790e+05</td>\n",
       "      <td>5.396550e+05</td>\n",
       "      <td>5.498005e+05</td>\n",
       "    </tr>\n",
       "    <tr>\n",
       "      <th>75%</th>\n",
       "      <td>8.642182e+05</td>\n",
       "      <td>8.751728e+05</td>\n",
       "      <td>8.851078e+05</td>\n",
       "      <td>8.948490e+05</td>\n",
       "      <td>9.050718e+05</td>\n",
       "      <td>9.156418e+05</td>\n",
       "      <td>9.264468e+05</td>\n",
       "      <td>9.370595e+05</td>\n",
       "      <td>9.535840e+05</td>\n",
       "      <td>9.659568e+05</td>\n",
       "      <td>...</td>\n",
       "      <td>9.925450e+05</td>\n",
       "      <td>1.006584e+06</td>\n",
       "      <td>1.026159e+06</td>\n",
       "      <td>1.038490e+06</td>\n",
       "      <td>1.052617e+06</td>\n",
       "      <td>1.065313e+06</td>\n",
       "      <td>1.080791e+06</td>\n",
       "      <td>1.097082e+06</td>\n",
       "      <td>1.109579e+06</td>\n",
       "      <td>1.128873e+06</td>\n",
       "    </tr>\n",
       "    <tr>\n",
       "      <th>max</th>\n",
       "      <td>6.472950e+07</td>\n",
       "      <td>6.560316e+07</td>\n",
       "      <td>6.640185e+07</td>\n",
       "      <td>6.718725e+07</td>\n",
       "      <td>6.801022e+07</td>\n",
       "      <td>6.886054e+07</td>\n",
       "      <td>6.972997e+07</td>\n",
       "      <td>7.058626e+07</td>\n",
       "      <td>7.151710e+07</td>\n",
       "      <td>7.256131e+07</td>\n",
       "      <td>...</td>\n",
       "      <td>7.562738e+07</td>\n",
       "      <td>7.666786e+07</td>\n",
       "      <td>7.769590e+07</td>\n",
       "      <td>7.874105e+07</td>\n",
       "      <td>7.981487e+07</td>\n",
       "      <td>8.081052e+07</td>\n",
       "      <td>8.200388e+07</td>\n",
       "      <td>8.315500e+07</td>\n",
       "      <td>8.361436e+07</td>\n",
       "      <td>8.468027e+07</td>\n",
       "    </tr>\n",
       "  </tbody>\n",
       "</table>\n",
       "<p>8 rows × 22 columns</p>\n",
       "</div>"
      ],
      "text/plain": [
       "               2000          2001          2002          2003          2004  \\\n",
       "count  8.200000e+01  8.200000e+01  8.200000e+01  8.200000e+01  8.200000e+01   \n",
       "mean   1.578768e+06  1.600077e+06  1.619557e+06  1.638713e+06  1.658786e+06   \n",
       "std    7.182483e+06  7.280900e+06  7.371050e+06  7.459777e+06  7.552731e+06   \n",
       "min    7.522100e+04  7.551700e+04  7.570900e+04  7.586800e+04  7.605000e+04   \n",
       "25%    2.719395e+05  2.745638e+05  2.768472e+05  2.780260e+05  2.792188e+05   \n",
       "50%    4.834845e+05  4.875495e+05  4.902015e+05  4.922440e+05  4.903035e+05   \n",
       "75%    8.642182e+05  8.751728e+05  8.851078e+05  8.948490e+05  9.050718e+05   \n",
       "max    6.472950e+07  6.560316e+07  6.640185e+07  6.718725e+07  6.801022e+07   \n",
       "\n",
       "               2005          2006          2007          2008          2009  \\\n",
       "count  8.200000e+01  8.200000e+01  8.200000e+01  8.200000e+01  8.200000e+01   \n",
       "mean   1.679525e+06  1.700731e+06  1.721616e+06  1.744320e+06  1.769788e+06   \n",
       "std    7.648774e+06  7.746996e+06  7.843821e+06  7.946958e+06  8.064122e+06   \n",
       "min    7.624600e+04  7.644400e+04  7.660900e+04  7.567500e+04  7.471000e+04   \n",
       "25%    2.797688e+05  2.800030e+05  2.801020e+05  2.799185e+05  2.816318e+05   \n",
       "50%    4.883865e+05  4.864035e+05  4.841275e+05  4.849110e+05  4.926815e+05   \n",
       "75%    9.156418e+05  9.264468e+05  9.370595e+05  9.535840e+05  9.659568e+05   \n",
       "max    6.886054e+07  6.972997e+07  7.058626e+07  7.151710e+07  7.256131e+07   \n",
       "\n",
       "       ...          2012          2013          2014          2015  \\\n",
       "count  ...  8.200000e+01  8.200000e+01  8.200000e+01  8.200000e+01   \n",
       "mean   ...  1.844570e+06  1.869948e+06  1.895022e+06  1.920513e+06   \n",
       "std    ...  8.413460e+06  8.531728e+06  8.647138e+06  8.765726e+06   \n",
       "min    ...  7.579700e+04  7.562000e+04  8.060700e+04  7.855000e+04   \n",
       "25%    ...  2.821075e+05  2.839870e+05  2.851542e+05  2.878490e+05   \n",
       "50%    ...  5.118330e+05  5.172040e+05  5.195050e+05  5.192605e+05   \n",
       "75%    ...  9.925450e+05  1.006584e+06  1.026159e+06  1.038490e+06   \n",
       "max    ...  7.562738e+07  7.666786e+07  7.769590e+07  7.874105e+07   \n",
       "\n",
       "               2016          2017          2018          2019          2020  \\\n",
       "count  8.200000e+01  8.200000e+01  8.200000e+01  8.200000e+01  8.200000e+01   \n",
       "mean   1.946704e+06  1.970988e+06  2.000095e+06  2.028171e+06  2.039375e+06   \n",
       "std    8.884413e+06  8.996369e+06  9.125385e+06  9.258787e+06  9.307607e+06   \n",
       "min    8.219300e+04  8.041700e+04  8.227400e+04  8.466000e+04  8.191000e+04   \n",
       "25%    2.900632e+05  2.888318e+05  2.912432e+05  2.898100e+05  2.899328e+05   \n",
       "50%    5.250190e+05  5.294195e+05  5.380700e+05  5.374790e+05  5.396550e+05   \n",
       "75%    1.052617e+06  1.065313e+06  1.080791e+06  1.097082e+06  1.109579e+06   \n",
       "max    7.981487e+07  8.081052e+07  8.200388e+07  8.315500e+07  8.361436e+07   \n",
       "\n",
       "               2021  \n",
       "count  8.200000e+01  \n",
       "mean   2.065373e+06  \n",
       "std    9.429832e+06  \n",
       "min    8.364500e+04  \n",
       "25%    2.952515e+05  \n",
       "50%    5.498005e+05  \n",
       "75%    1.128873e+06  \n",
       "max    8.468027e+07  \n",
       "\n",
       "[8 rows x 22 columns]"
      ]
     },
     "execution_count": 134,
     "metadata": {},
     "output_type": "execute_result"
    }
   ],
   "source": [
    "city_pop = pd.read_csv(\"data/population_tr.csv\", sep=';')\n",
    "city_pop.describe()"
   ]
  },
  {
   "attachments": {},
   "cell_type": "markdown",
   "id": "3298cce4-a15b-4819-bfe0-0ac99bb8551b",
   "metadata": {},
   "source": [
    "## Series  \n",
    "A Series is a one-dimensional sequence of labeled data.\n",
    "One-dimensional ndarray with axis labels  \n",
    "(Like a column in the table)\n",
    "\n",
    "Note that the visual display of a Series is just **plain text**, as opposed to the nicely styled table for DataFrames. You will also see the data type or dtype of the Series."
   ]
  },
  {
   "attachments": {},
   "cell_type": "markdown",
   "id": "76a889ae",
   "metadata": {},
   "source": [
    "### Selecting data with just the indexing operator\n",
    "\n",
    "- Selecting a single column as a Series \n",
    "<br>To select a single column of data, simply put the name of the column in-between the brackets.\n",
    "```\n",
    "brics['capital']\n",
    "brics.capital:\n",
    "```\n",
    "\n",
    "- Selecting multiple columns as a DataFrame: `brics[['country', 'capital']]`\n",
    "<br>Pass a list as an argument to df index: [ [] ]"
   ]
  },
  {
   "cell_type": "code",
   "execution_count": 118,
   "id": "cbd602a6-80f8-404f-b78f-7a211c9901dc",
   "metadata": {},
   "outputs": [
    {
     "data": {
      "text/plain": [
       "code\n",
       "BR     Brasilia\n",
       "RU       Moscow\n",
       "IN    New Delhi\n",
       "CH      Beijing\n",
       "SA     Pretoria\n",
       "Name: capital, dtype: object"
      ]
     },
     "execution_count": 118,
     "metadata": {},
     "output_type": "execute_result"
    }
   ],
   "source": [
    "brics['capital']    # Series"
   ]
  },
  {
   "cell_type": "code",
   "execution_count": 121,
   "id": "c5c8fb0f-b0ca-4a1a-b925-443f1e79d664",
   "metadata": {},
   "outputs": [
    {
     "data": {
      "text/plain": [
       "pandas.core.series.Series"
      ]
     },
     "execution_count": 121,
     "metadata": {},
     "output_type": "execute_result"
    }
   ],
   "source": [
    "type(brics['capital'])  # pandas.core.series.Series\n"
   ]
  },
  {
   "cell_type": "code",
   "execution_count": 123,
   "id": "c47d9bef-30fe-4d37-a5bb-9b68955226a5",
   "metadata": {},
   "outputs": [
    {
     "data": {
      "text/html": [
       "<div>\n",
       "<style scoped>\n",
       "    .dataframe tbody tr th:only-of-type {\n",
       "        vertical-align: middle;\n",
       "    }\n",
       "\n",
       "    .dataframe tbody tr th {\n",
       "        vertical-align: top;\n",
       "    }\n",
       "\n",
       "    .dataframe thead th {\n",
       "        text-align: right;\n",
       "    }\n",
       "</style>\n",
       "<table border=\"1\" class=\"dataframe\">\n",
       "  <thead>\n",
       "    <tr style=\"text-align: right;\">\n",
       "      <th></th>\n",
       "      <th>country</th>\n",
       "      <th>capital</th>\n",
       "    </tr>\n",
       "    <tr>\n",
       "      <th>code</th>\n",
       "      <th></th>\n",
       "      <th></th>\n",
       "    </tr>\n",
       "  </thead>\n",
       "  <tbody>\n",
       "    <tr>\n",
       "      <th>BR</th>\n",
       "      <td>Brazil</td>\n",
       "      <td>Brasilia</td>\n",
       "    </tr>\n",
       "    <tr>\n",
       "      <th>RU</th>\n",
       "      <td>Russia</td>\n",
       "      <td>Moscow</td>\n",
       "    </tr>\n",
       "    <tr>\n",
       "      <th>IN</th>\n",
       "      <td>India</td>\n",
       "      <td>New Delhi</td>\n",
       "    </tr>\n",
       "    <tr>\n",
       "      <th>CH</th>\n",
       "      <td>China</td>\n",
       "      <td>Beijing</td>\n",
       "    </tr>\n",
       "    <tr>\n",
       "      <th>SA</th>\n",
       "      <td>South Africa</td>\n",
       "      <td>Pretoria</td>\n",
       "    </tr>\n",
       "  </tbody>\n",
       "</table>\n",
       "</div>"
      ],
      "text/plain": [
       "           country    capital\n",
       "code                         \n",
       "BR          Brazil   Brasilia\n",
       "RU          Russia     Moscow\n",
       "IN           India  New Delhi\n",
       "CH           China    Beijing\n",
       "SA    South Africa   Pretoria"
      ]
     },
     "execution_count": 123,
     "metadata": {},
     "output_type": "execute_result"
    }
   ],
   "source": [
    "brics[['country', 'capital']]"
   ]
  },
  {
   "cell_type": "code",
   "execution_count": 125,
   "id": "4b1c143d",
   "metadata": {},
   "outputs": [
    {
     "data": {
      "text/plain": [
       "pandas.core.frame.DataFrame"
      ]
     },
     "execution_count": 125,
     "metadata": {},
     "output_type": "execute_result"
    }
   ],
   "source": [
    "type(brics[['country', 'capital']])  # pandas.core.frame.DataFrame\n"
   ]
  },
  {
   "attachments": {},
   "cell_type": "markdown",
   "id": "62156c23-5546-4aec-9131-044eaca3dce6",
   "metadata": {},
   "source": [
    "### Select Row(s)\n",
    "The `.loc` indexer can select subsets of rows or columns. \n",
    "Most importantly, it only selects data by the **LABEL** of the rows and columns.\n",
    "\n",
    "- Select a single row as a Series with .loc       : `.loc['RU']`\n",
    "- Select multiple rows as a DataFrame with .loc   : `.loc[['IN', 'RU']]`\n",
    "- Use slice notation to select a range of rows: `.loc['IN':'SA']`\n",
    "- elect a single row and a single column. This returns a scalar value: `brics.loc['RU', 'capitol']`\n",
    "- Select 2 rows and 2 columns: `brics.loc[['IN', 'RU'],['country', 'capital']]`\n",
    "- Select all of the rows and 2 columns: `brics.loc[:, ['country', 'capital']]`\n",
    "- Select a column (all of the rows): `brics.loc[:, ['capital']]`"
   ]
  },
  {
   "cell_type": "code",
   "execution_count": 96,
   "id": "6405619e-ea9d-4a4e-802d-ebde82402f41",
   "metadata": {},
   "outputs": [
    {
     "data": {
      "text/plain": [
       "country       Russia\n",
       "capital       Moscow\n",
       "area            17.1\n",
       "population     143.5\n",
       "Name: RU, dtype: object"
      ]
     },
     "execution_count": 96,
     "metadata": {},
     "output_type": "execute_result"
    }
   ],
   "source": [
    "brics.loc['RU']"
   ]
  },
  {
   "cell_type": "code",
   "execution_count": 99,
   "id": "c4691f74",
   "metadata": {},
   "outputs": [
    {
     "data": {
      "text/html": [
       "<div>\n",
       "<style scoped>\n",
       "    .dataframe tbody tr th:only-of-type {\n",
       "        vertical-align: middle;\n",
       "    }\n",
       "\n",
       "    .dataframe tbody tr th {\n",
       "        vertical-align: top;\n",
       "    }\n",
       "\n",
       "    .dataframe thead th {\n",
       "        text-align: right;\n",
       "    }\n",
       "</style>\n",
       "<table border=\"1\" class=\"dataframe\">\n",
       "  <thead>\n",
       "    <tr style=\"text-align: right;\">\n",
       "      <th></th>\n",
       "      <th>country</th>\n",
       "      <th>capital</th>\n",
       "      <th>area</th>\n",
       "      <th>population</th>\n",
       "    </tr>\n",
       "    <tr>\n",
       "      <th>code</th>\n",
       "      <th></th>\n",
       "      <th></th>\n",
       "      <th></th>\n",
       "      <th></th>\n",
       "    </tr>\n",
       "  </thead>\n",
       "  <tbody>\n",
       "    <tr>\n",
       "      <th>RU</th>\n",
       "      <td>Russia</td>\n",
       "      <td>Moscow</td>\n",
       "      <td>17.100</td>\n",
       "      <td>143.5</td>\n",
       "    </tr>\n",
       "    <tr>\n",
       "      <th>IN</th>\n",
       "      <td>India</td>\n",
       "      <td>New Delhi</td>\n",
       "      <td>3.286</td>\n",
       "      <td>1252.0</td>\n",
       "    </tr>\n",
       "  </tbody>\n",
       "</table>\n",
       "</div>"
      ],
      "text/plain": [
       "     country    capital    area  population\n",
       "code                                       \n",
       "RU    Russia     Moscow  17.100       143.5\n",
       "IN     India  New Delhi   3.286      1252.0"
      ]
     },
     "execution_count": 99,
     "metadata": {},
     "output_type": "execute_result"
    }
   ],
   "source": [
    "brics.loc[['RU', 'IN']]\n"
   ]
  },
  {
   "cell_type": "code",
   "execution_count": 117,
   "id": "7fcda7ce",
   "metadata": {},
   "outputs": [
    {
     "data": {
      "text/html": [
       "<div>\n",
       "<style scoped>\n",
       "    .dataframe tbody tr th:only-of-type {\n",
       "        vertical-align: middle;\n",
       "    }\n",
       "\n",
       "    .dataframe tbody tr th {\n",
       "        vertical-align: top;\n",
       "    }\n",
       "\n",
       "    .dataframe thead th {\n",
       "        text-align: right;\n",
       "    }\n",
       "</style>\n",
       "<table border=\"1\" class=\"dataframe\">\n",
       "  <thead>\n",
       "    <tr style=\"text-align: right;\">\n",
       "      <th></th>\n",
       "      <th>country</th>\n",
       "      <th>capital</th>\n",
       "      <th>area</th>\n",
       "      <th>population</th>\n",
       "    </tr>\n",
       "    <tr>\n",
       "      <th>code</th>\n",
       "      <th></th>\n",
       "      <th></th>\n",
       "      <th></th>\n",
       "      <th></th>\n",
       "    </tr>\n",
       "  </thead>\n",
       "  <tbody>\n",
       "    <tr>\n",
       "      <th>IN</th>\n",
       "      <td>India</td>\n",
       "      <td>New Delhi</td>\n",
       "      <td>3.286</td>\n",
       "      <td>1252.00</td>\n",
       "    </tr>\n",
       "    <tr>\n",
       "      <th>CH</th>\n",
       "      <td>China</td>\n",
       "      <td>Beijing</td>\n",
       "      <td>9.597</td>\n",
       "      <td>1357.00</td>\n",
       "    </tr>\n",
       "    <tr>\n",
       "      <th>SA</th>\n",
       "      <td>South Africa</td>\n",
       "      <td>Pretoria</td>\n",
       "      <td>1.221</td>\n",
       "      <td>52.98</td>\n",
       "    </tr>\n",
       "  </tbody>\n",
       "</table>\n",
       "</div>"
      ],
      "text/plain": [
       "           country    capital   area  population\n",
       "code                                            \n",
       "IN           India  New Delhi  3.286     1252.00\n",
       "CH           China    Beijing  9.597     1357.00\n",
       "SA    South Africa   Pretoria  1.221       52.98"
      ]
     },
     "execution_count": 117,
     "metadata": {},
     "output_type": "execute_result"
    }
   ],
   "source": [
    "brics.loc['IN':'SA']    # Note that .loc includes the last value with slice notation!"
   ]
  },
  {
   "cell_type": "code",
   "execution_count": 101,
   "id": "77fe88a2",
   "metadata": {},
   "outputs": [
    {
     "data": {
      "text/plain": [
       "'Moscow'"
      ]
     },
     "execution_count": 101,
     "metadata": {},
     "output_type": "execute_result"
    }
   ],
   "source": [
    "brics.loc['RU', 'capital']"
   ]
  },
  {
   "cell_type": "code",
   "execution_count": 100,
   "id": "2360f928",
   "metadata": {},
   "outputs": [
    {
     "data": {
      "text/html": [
       "<div>\n",
       "<style scoped>\n",
       "    .dataframe tbody tr th:only-of-type {\n",
       "        vertical-align: middle;\n",
       "    }\n",
       "\n",
       "    .dataframe tbody tr th {\n",
       "        vertical-align: top;\n",
       "    }\n",
       "\n",
       "    .dataframe thead th {\n",
       "        text-align: right;\n",
       "    }\n",
       "</style>\n",
       "<table border=\"1\" class=\"dataframe\">\n",
       "  <thead>\n",
       "    <tr style=\"text-align: right;\">\n",
       "      <th></th>\n",
       "      <th>country</th>\n",
       "      <th>capital</th>\n",
       "    </tr>\n",
       "    <tr>\n",
       "      <th>code</th>\n",
       "      <th></th>\n",
       "      <th></th>\n",
       "    </tr>\n",
       "  </thead>\n",
       "  <tbody>\n",
       "    <tr>\n",
       "      <th>IN</th>\n",
       "      <td>India</td>\n",
       "      <td>New Delhi</td>\n",
       "    </tr>\n",
       "    <tr>\n",
       "      <th>RU</th>\n",
       "      <td>Russia</td>\n",
       "      <td>Moscow</td>\n",
       "    </tr>\n",
       "  </tbody>\n",
       "</table>\n",
       "</div>"
      ],
      "text/plain": [
       "     country    capital\n",
       "code                   \n",
       "IN     India  New Delhi\n",
       "RU    Russia     Moscow"
      ]
     },
     "execution_count": 100,
     "metadata": {},
     "output_type": "execute_result"
    }
   ],
   "source": [
    "brics.loc[['IN', 'RU'],['country', 'capital']]"
   ]
  },
  {
   "cell_type": "code",
   "execution_count": 103,
   "id": "5fa8f0d8",
   "metadata": {},
   "outputs": [
    {
     "data": {
      "text/html": [
       "<div>\n",
       "<style scoped>\n",
       "    .dataframe tbody tr th:only-of-type {\n",
       "        vertical-align: middle;\n",
       "    }\n",
       "\n",
       "    .dataframe tbody tr th {\n",
       "        vertical-align: top;\n",
       "    }\n",
       "\n",
       "    .dataframe thead th {\n",
       "        text-align: right;\n",
       "    }\n",
       "</style>\n",
       "<table border=\"1\" class=\"dataframe\">\n",
       "  <thead>\n",
       "    <tr style=\"text-align: right;\">\n",
       "      <th></th>\n",
       "      <th>country</th>\n",
       "      <th>capital</th>\n",
       "    </tr>\n",
       "    <tr>\n",
       "      <th>code</th>\n",
       "      <th></th>\n",
       "      <th></th>\n",
       "    </tr>\n",
       "  </thead>\n",
       "  <tbody>\n",
       "    <tr>\n",
       "      <th>BR</th>\n",
       "      <td>Brazil</td>\n",
       "      <td>Brasilia</td>\n",
       "    </tr>\n",
       "    <tr>\n",
       "      <th>RU</th>\n",
       "      <td>Russia</td>\n",
       "      <td>Moscow</td>\n",
       "    </tr>\n",
       "    <tr>\n",
       "      <th>IN</th>\n",
       "      <td>India</td>\n",
       "      <td>New Delhi</td>\n",
       "    </tr>\n",
       "    <tr>\n",
       "      <th>CH</th>\n",
       "      <td>China</td>\n",
       "      <td>Beijing</td>\n",
       "    </tr>\n",
       "    <tr>\n",
       "      <th>SA</th>\n",
       "      <td>South Africa</td>\n",
       "      <td>Pretoria</td>\n",
       "    </tr>\n",
       "  </tbody>\n",
       "</table>\n",
       "</div>"
      ],
      "text/plain": [
       "           country    capital\n",
       "code                         \n",
       "BR          Brazil   Brasilia\n",
       "RU          Russia     Moscow\n",
       "IN           India  New Delhi\n",
       "CH           China    Beijing\n",
       "SA    South Africa   Pretoria"
      ]
     },
     "execution_count": 103,
     "metadata": {},
     "output_type": "execute_result"
    }
   ],
   "source": [
    "brics.loc[:, ['country', 'capital']]"
   ]
  },
  {
   "cell_type": "code",
   "execution_count": 107,
   "id": "f6c1d1fd",
   "metadata": {},
   "outputs": [
    {
     "data": {
      "text/plain": [
       "code\n",
       "BR     Brasilia\n",
       "RU       Moscow\n",
       "IN    New Delhi\n",
       "CH      Beijing\n",
       "SA     Pretoria\n",
       "Name: capital, dtype: object"
      ]
     },
     "execution_count": 107,
     "metadata": {},
     "output_type": "execute_result"
    }
   ],
   "source": [
    "brics.loc[:, 'capital'] # Series\n"
   ]
  },
  {
   "cell_type": "code",
   "execution_count": 108,
   "id": "792178f0",
   "metadata": {},
   "outputs": [
    {
     "data": {
      "text/html": [
       "<div>\n",
       "<style scoped>\n",
       "    .dataframe tbody tr th:only-of-type {\n",
       "        vertical-align: middle;\n",
       "    }\n",
       "\n",
       "    .dataframe tbody tr th {\n",
       "        vertical-align: top;\n",
       "    }\n",
       "\n",
       "    .dataframe thead th {\n",
       "        text-align: right;\n",
       "    }\n",
       "</style>\n",
       "<table border=\"1\" class=\"dataframe\">\n",
       "  <thead>\n",
       "    <tr style=\"text-align: right;\">\n",
       "      <th></th>\n",
       "      <th>capital</th>\n",
       "    </tr>\n",
       "    <tr>\n",
       "      <th>code</th>\n",
       "      <th></th>\n",
       "    </tr>\n",
       "  </thead>\n",
       "  <tbody>\n",
       "    <tr>\n",
       "      <th>BR</th>\n",
       "      <td>Brasilia</td>\n",
       "    </tr>\n",
       "    <tr>\n",
       "      <th>RU</th>\n",
       "      <td>Moscow</td>\n",
       "    </tr>\n",
       "    <tr>\n",
       "      <th>IN</th>\n",
       "      <td>New Delhi</td>\n",
       "    </tr>\n",
       "    <tr>\n",
       "      <th>CH</th>\n",
       "      <td>Beijing</td>\n",
       "    </tr>\n",
       "    <tr>\n",
       "      <th>SA</th>\n",
       "      <td>Pretoria</td>\n",
       "    </tr>\n",
       "  </tbody>\n",
       "</table>\n",
       "</div>"
      ],
      "text/plain": [
       "        capital\n",
       "code           \n",
       "BR     Brasilia\n",
       "RU       Moscow\n",
       "IN    New Delhi\n",
       "CH      Beijing\n",
       "SA     Pretoria"
      ]
     },
     "execution_count": 108,
     "metadata": {},
     "output_type": "execute_result"
    }
   ],
   "source": [
    "brics.loc[:, ['capital']]   # DataFrame\n"
   ]
  },
  {
   "cell_type": "markdown",
   "id": "a1660839-0d80-473e-a792-5fd798a1eaee",
   "metadata": {},
   "source": [
    "### Slicing\n",
    "Note that when slicing, no braces inside .loc[:,:]"
   ]
  },
  {
   "cell_type": "code",
   "execution_count": null,
   "id": "294f72c6-994f-4deb-9613-8abdb57634fd",
   "metadata": {},
   "outputs": [
    {
     "data": {
      "text/plain": [
       "0         rachel@example.com\n",
       "1      laura@yourcompany.com\n",
       "2      craig@yourcompany.com\n",
       "3           mary@example.com\n",
       "4          jamie@example.com\n",
       "5                  js@co.com\n",
       "6       jhalprin@example.com\n",
       "7         tjones@example.com\n",
       "8       tomjones@example.com\n",
       "9     greggjones@example.com\n",
       "10     dthompson@example.com\n",
       "Name: Email, dtype: object"
      ]
     },
     "execution_count": 62,
     "metadata": {},
     "output_type": "execute_result"
    }
   ],
   "source": [
    "df.loc[:, 'Email']"
   ]
  },
  {
   "cell_type": "code",
   "execution_count": null,
   "id": "23820e0c-5968-43f2-931b-39a467b56802",
   "metadata": {},
   "outputs": [
    {
     "data": {
      "text/html": [
       "<div>\n",
       "<style scoped>\n",
       "    .dataframe tbody tr th:only-of-type {\n",
       "        vertical-align: middle;\n",
       "    }\n",
       "\n",
       "    .dataframe tbody tr th {\n",
       "        vertical-align: top;\n",
       "    }\n",
       "\n",
       "    .dataframe thead th {\n",
       "        text-align: right;\n",
       "    }\n",
       "</style>\n",
       "<table border=\"1\" class=\"dataframe\">\n",
       "  <thead>\n",
       "    <tr style=\"text-align: right;\">\n",
       "      <th></th>\n",
       "      <th>Id</th>\n",
       "      <th>Last name</th>\n",
       "    </tr>\n",
       "  </thead>\n",
       "  <tbody>\n",
       "    <tr>\n",
       "      <th>0</th>\n",
       "      <td>9012</td>\n",
       "      <td>Booker</td>\n",
       "    </tr>\n",
       "    <tr>\n",
       "      <th>1</th>\n",
       "      <td>2070</td>\n",
       "      <td>Grey</td>\n",
       "    </tr>\n",
       "    <tr>\n",
       "      <th>2</th>\n",
       "      <td>4081</td>\n",
       "      <td>Johnson</td>\n",
       "    </tr>\n",
       "    <tr>\n",
       "      <th>3</th>\n",
       "      <td>9346</td>\n",
       "      <td>Jenkins</td>\n",
       "    </tr>\n",
       "    <tr>\n",
       "      <th>4</th>\n",
       "      <td>5079</td>\n",
       "      <td>Smith</td>\n",
       "    </tr>\n",
       "    <tr>\n",
       "      <th>5</th>\n",
       "      <td>303</td>\n",
       "      <td>Smith</td>\n",
       "    </tr>\n",
       "    <tr>\n",
       "      <th>6</th>\n",
       "      <td>304</td>\n",
       "      <td>Halprin</td>\n",
       "    </tr>\n",
       "    <tr>\n",
       "      <th>7</th>\n",
       "      <td>305</td>\n",
       "      <td>Jones</td>\n",
       "    </tr>\n",
       "    <tr>\n",
       "      <th>8</th>\n",
       "      <td>306</td>\n",
       "      <td>Jones</td>\n",
       "    </tr>\n",
       "    <tr>\n",
       "      <th>9</th>\n",
       "      <td>307</td>\n",
       "      <td>Jones</td>\n",
       "    </tr>\n",
       "    <tr>\n",
       "      <th>10</th>\n",
       "      <td>308</td>\n",
       "      <td>Thompson</td>\n",
       "    </tr>\n",
       "  </tbody>\n",
       "</table>\n",
       "</div>"
      ],
      "text/plain": [
       "      Id Last name\n",
       "0   9012    Booker\n",
       "1   2070      Grey\n",
       "2   4081   Johnson\n",
       "3   9346   Jenkins\n",
       "4   5079     Smith\n",
       "5    303     Smith\n",
       "6    304   Halprin\n",
       "7    305     Jones\n",
       "8    306     Jones\n",
       "9    307     Jones\n",
       "10   308  Thompson"
      ]
     },
     "execution_count": 63,
     "metadata": {},
     "output_type": "execute_result"
    }
   ],
   "source": [
    "df.loc[:, ['Id','Last name']]"
   ]
  },
  {
   "cell_type": "code",
   "execution_count": null,
   "id": "8bc3a2a9-d297-40f8-aaaa-c499b42e851c",
   "metadata": {},
   "outputs": [
    {
     "data": {
      "text/html": [
       "<div>\n",
       "<style scoped>\n",
       "    .dataframe tbody tr th:only-of-type {\n",
       "        vertical-align: middle;\n",
       "    }\n",
       "\n",
       "    .dataframe tbody tr th {\n",
       "        vertical-align: top;\n",
       "    }\n",
       "\n",
       "    .dataframe thead th {\n",
       "        text-align: right;\n",
       "    }\n",
       "</style>\n",
       "<table border=\"1\" class=\"dataframe\">\n",
       "  <thead>\n",
       "    <tr style=\"text-align: right;\">\n",
       "      <th></th>\n",
       "      <th>First name</th>\n",
       "      <th>Last name</th>\n",
       "      <th>Active</th>\n",
       "    </tr>\n",
       "  </thead>\n",
       "  <tbody>\n",
       "    <tr>\n",
       "      <th>0</th>\n",
       "      <td>Rachel</td>\n",
       "      <td>Booker</td>\n",
       "      <td>Yes</td>\n",
       "    </tr>\n",
       "    <tr>\n",
       "      <th>1</th>\n",
       "      <td>Laura</td>\n",
       "      <td>Grey</td>\n",
       "      <td>Yes</td>\n",
       "    </tr>\n",
       "    <tr>\n",
       "      <th>2</th>\n",
       "      <td>Craig</td>\n",
       "      <td>Johnson</td>\n",
       "      <td>No</td>\n",
       "    </tr>\n",
       "    <tr>\n",
       "      <th>3</th>\n",
       "      <td>Mary</td>\n",
       "      <td>Jenkins</td>\n",
       "      <td>Yes</td>\n",
       "    </tr>\n",
       "    <tr>\n",
       "      <th>4</th>\n",
       "      <td>Jamie</td>\n",
       "      <td>Smith</td>\n",
       "      <td>Yes</td>\n",
       "    </tr>\n",
       "    <tr>\n",
       "      <th>5</th>\n",
       "      <td>John</td>\n",
       "      <td>Smith</td>\n",
       "      <td>No</td>\n",
       "    </tr>\n",
       "    <tr>\n",
       "      <th>6</th>\n",
       "      <td>Jim</td>\n",
       "      <td>Halprin</td>\n",
       "      <td>Yes</td>\n",
       "    </tr>\n",
       "    <tr>\n",
       "      <th>7</th>\n",
       "      <td>Teresa</td>\n",
       "      <td>Jones</td>\n",
       "      <td>Yes</td>\n",
       "    </tr>\n",
       "    <tr>\n",
       "      <th>8</th>\n",
       "      <td>Tommy</td>\n",
       "      <td>Jones</td>\n",
       "      <td>Yes</td>\n",
       "    </tr>\n",
       "    <tr>\n",
       "      <th>9</th>\n",
       "      <td>Gregg</td>\n",
       "      <td>Jones</td>\n",
       "      <td>Yes</td>\n",
       "    </tr>\n",
       "    <tr>\n",
       "      <th>10</th>\n",
       "      <td>Daniel</td>\n",
       "      <td>Thompson</td>\n",
       "      <td>Yes</td>\n",
       "    </tr>\n",
       "  </tbody>\n",
       "</table>\n",
       "</div>"
      ],
      "text/plain": [
       "   First name Last name Active\n",
       "0      Rachel    Booker    Yes\n",
       "1       Laura      Grey    Yes\n",
       "2       Craig   Johnson     No\n",
       "3        Mary   Jenkins    Yes\n",
       "4       Jamie     Smith    Yes\n",
       "5        John     Smith     No\n",
       "6         Jim   Halprin    Yes\n",
       "7      Teresa     Jones    Yes\n",
       "8       Tommy     Jones    Yes\n",
       "9       Gregg     Jones    Yes\n",
       "10     Daniel  Thompson    Yes"
      ]
     },
     "execution_count": 64,
     "metadata": {},
     "output_type": "execute_result"
    }
   ],
   "source": [
    "df.loc[:, 'First name':'Active']"
   ]
  },
  {
   "attachments": {},
   "cell_type": "markdown",
   "id": "49b8426e",
   "metadata": {},
   "source": [
    "### Selecting subsets with .iloc\n",
    "The .iloc indexer is very similar to .loc but only uses integer locations to make its selections.\n",
    "\n",
    "pandas provides a suite of methods in order to get purely integer based indexing. (0-based)\n",
    "```\n",
    "df.iloc[0]\n",
    "```\n",
    "- Selecting a single row with .iloc: `.iloc[0]` \n",
    "- Selecting multiple rows with .iloc: `.iloc[[0, 2, 4]]`\n",
    "- Use slice notation to select a range of rows: `.iloc[3:5]`\n",
    "- Selecting 2 rows and 2 columns: `.iloc[[0,4], [0, 2]]`"
   ]
  },
  {
   "cell_type": "code",
   "execution_count": 110,
   "id": "5b274a47",
   "metadata": {},
   "outputs": [
    {
     "data": {
      "text/plain": [
       "country         Brazil\n",
       "capital       Brasilia\n",
       "area             8.516\n",
       "population       200.4\n",
       "Name: BR, dtype: object"
      ]
     },
     "execution_count": 110,
     "metadata": {},
     "output_type": "execute_result"
    }
   ],
   "source": [
    "brics.iloc[0]   # Series"
   ]
  },
  {
   "cell_type": "code",
   "execution_count": 111,
   "id": "15473025",
   "metadata": {},
   "outputs": [
    {
     "data": {
      "text/html": [
       "<div>\n",
       "<style scoped>\n",
       "    .dataframe tbody tr th:only-of-type {\n",
       "        vertical-align: middle;\n",
       "    }\n",
       "\n",
       "    .dataframe tbody tr th {\n",
       "        vertical-align: top;\n",
       "    }\n",
       "\n",
       "    .dataframe thead th {\n",
       "        text-align: right;\n",
       "    }\n",
       "</style>\n",
       "<table border=\"1\" class=\"dataframe\">\n",
       "  <thead>\n",
       "    <tr style=\"text-align: right;\">\n",
       "      <th></th>\n",
       "      <th>country</th>\n",
       "      <th>capital</th>\n",
       "      <th>area</th>\n",
       "      <th>population</th>\n",
       "    </tr>\n",
       "    <tr>\n",
       "      <th>code</th>\n",
       "      <th></th>\n",
       "      <th></th>\n",
       "      <th></th>\n",
       "      <th></th>\n",
       "    </tr>\n",
       "  </thead>\n",
       "  <tbody>\n",
       "    <tr>\n",
       "      <th>BR</th>\n",
       "      <td>Brazil</td>\n",
       "      <td>Brasilia</td>\n",
       "      <td>8.516</td>\n",
       "      <td>200.40</td>\n",
       "    </tr>\n",
       "    <tr>\n",
       "      <th>IN</th>\n",
       "      <td>India</td>\n",
       "      <td>New Delhi</td>\n",
       "      <td>3.286</td>\n",
       "      <td>1252.00</td>\n",
       "    </tr>\n",
       "    <tr>\n",
       "      <th>SA</th>\n",
       "      <td>South Africa</td>\n",
       "      <td>Pretoria</td>\n",
       "      <td>1.221</td>\n",
       "      <td>52.98</td>\n",
       "    </tr>\n",
       "  </tbody>\n",
       "</table>\n",
       "</div>"
      ],
      "text/plain": [
       "           country    capital   area  population\n",
       "code                                            \n",
       "BR          Brazil   Brasilia  8.516      200.40\n",
       "IN           India  New Delhi  3.286     1252.00\n",
       "SA    South Africa   Pretoria  1.221       52.98"
      ]
     },
     "execution_count": 111,
     "metadata": {},
     "output_type": "execute_result"
    }
   ],
   "source": [
    "brics.iloc[[0, 2, 4]]   # remember, don't do df.iloc[5, 2, 4]\n"
   ]
  },
  {
   "cell_type": "code",
   "execution_count": 113,
   "id": "9408fdb3",
   "metadata": {},
   "outputs": [
    {
     "data": {
      "text/html": [
       "<div>\n",
       "<style scoped>\n",
       "    .dataframe tbody tr th:only-of-type {\n",
       "        vertical-align: middle;\n",
       "    }\n",
       "\n",
       "    .dataframe tbody tr th {\n",
       "        vertical-align: top;\n",
       "    }\n",
       "\n",
       "    .dataframe thead th {\n",
       "        text-align: right;\n",
       "    }\n",
       "</style>\n",
       "<table border=\"1\" class=\"dataframe\">\n",
       "  <thead>\n",
       "    <tr style=\"text-align: right;\">\n",
       "      <th></th>\n",
       "      <th>country</th>\n",
       "      <th>capital</th>\n",
       "      <th>area</th>\n",
       "      <th>population</th>\n",
       "    </tr>\n",
       "    <tr>\n",
       "      <th>code</th>\n",
       "      <th></th>\n",
       "      <th></th>\n",
       "      <th></th>\n",
       "      <th></th>\n",
       "    </tr>\n",
       "  </thead>\n",
       "  <tbody>\n",
       "    <tr>\n",
       "      <th>IN</th>\n",
       "      <td>India</td>\n",
       "      <td>New Delhi</td>\n",
       "      <td>3.286</td>\n",
       "      <td>1252.0</td>\n",
       "    </tr>\n",
       "    <tr>\n",
       "      <th>CH</th>\n",
       "      <td>China</td>\n",
       "      <td>Beijing</td>\n",
       "      <td>9.597</td>\n",
       "      <td>1357.0</td>\n",
       "    </tr>\n",
       "  </tbody>\n",
       "</table>\n",
       "</div>"
      ],
      "text/plain": [
       "     country    capital   area  population\n",
       "code                                      \n",
       "IN     India  New Delhi  3.286      1252.0\n",
       "CH     China    Beijing  9.597      1357.0"
      ]
     },
     "execution_count": 113,
     "metadata": {},
     "output_type": "execute_result"
    }
   ],
   "source": [
    "brics.iloc[2:4]\n"
   ]
  },
  {
   "cell_type": "code",
   "execution_count": 114,
   "id": "d41d89d0",
   "metadata": {},
   "outputs": [
    {
     "data": {
      "text/html": [
       "<div>\n",
       "<style scoped>\n",
       "    .dataframe tbody tr th:only-of-type {\n",
       "        vertical-align: middle;\n",
       "    }\n",
       "\n",
       "    .dataframe tbody tr th {\n",
       "        vertical-align: top;\n",
       "    }\n",
       "\n",
       "    .dataframe thead th {\n",
       "        text-align: right;\n",
       "    }\n",
       "</style>\n",
       "<table border=\"1\" class=\"dataframe\">\n",
       "  <thead>\n",
       "    <tr style=\"text-align: right;\">\n",
       "      <th></th>\n",
       "      <th>country</th>\n",
       "      <th>area</th>\n",
       "    </tr>\n",
       "    <tr>\n",
       "      <th>code</th>\n",
       "      <th></th>\n",
       "      <th></th>\n",
       "    </tr>\n",
       "  </thead>\n",
       "  <tbody>\n",
       "    <tr>\n",
       "      <th>BR</th>\n",
       "      <td>Brazil</td>\n",
       "      <td>8.516</td>\n",
       "    </tr>\n",
       "    <tr>\n",
       "      <th>SA</th>\n",
       "      <td>South Africa</td>\n",
       "      <td>1.221</td>\n",
       "    </tr>\n",
       "  </tbody>\n",
       "</table>\n",
       "</div>"
      ],
      "text/plain": [
       "           country   area\n",
       "code                     \n",
       "BR          Brazil  8.516\n",
       "SA    South Africa  1.221"
      ]
     },
     "execution_count": 114,
     "metadata": {},
     "output_type": "execute_result"
    }
   ],
   "source": [
    "brics.iloc[[0, 4], [0, 2]]"
   ]
  },
  {
   "attachments": {},
   "cell_type": "markdown",
   "id": "4d3548c9",
   "metadata": {},
   "source": [
    "Filtering"
   ]
  },
  {
   "cell_type": "code",
   "execution_count": 92,
   "id": "1d8beff1",
   "metadata": {},
   "outputs": [
    {
     "data": {
      "text/plain": [
       "0      True\n",
       "1      True\n",
       "2     False\n",
       "3      True\n",
       "4      True\n",
       "5     False\n",
       "6      True\n",
       "7      True\n",
       "8      True\n",
       "9      True\n",
       "10     True\n",
       "Name: Active, dtype: bool"
      ]
     },
     "execution_count": 92,
     "metadata": {},
     "output_type": "execute_result"
    }
   ],
   "source": [
    "df['Active'] == \"Yes\"\n",
    "# df.Active == \"Yes\"\n"
   ]
  }
 ],
 "metadata": {
  "kernelspec": {
   "display_name": "Python 3 (ipykernel)",
   "language": "python",
   "name": "python3"
  },
  "language_info": {
   "codemirror_mode": {
    "name": "ipython",
    "version": 3
   },
   "file_extension": ".py",
   "mimetype": "text/x-python",
   "name": "python",
   "nbconvert_exporter": "python",
   "pygments_lexer": "ipython3",
   "version": "3.10.8"
  }
 },
 "nbformat": 4,
 "nbformat_minor": 5
}
