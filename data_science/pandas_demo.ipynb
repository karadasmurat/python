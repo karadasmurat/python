{
 "cells": [
  {
   "attachments": {},
   "cell_type": "markdown",
   "id": "d2e9433e-9d00-44bd-88a7-d3af68b57600",
   "metadata": {},
   "source": [
    "# pandas\n",
    "pandas is a fast, powerful, flexible and easy to use open source **data analysis and manipulation tool**, built on top of the Python programming language.\n",
    "\n",
    "pandas makes working with “relational” or “labeled” data both easy and intuitive.\n",
    "\n",
    "pandas blends the high-performance, array-computing ideas of NumPy with the flexible data manipulation capabilities of spreadsheets and relational databases (such as\n",
    "SQL). \n",
    "\n",
    "### What Is Data Science?\n",
    "There’s a joke that says a data scientist is someone who knows more\n",
    "statistics than a computer scientist and more computer science than a\n",
    "statistician\n",
    "\n",
    "### NumPy\n",
    "NumPy, short for Numerical Python, has long been a cornerstone of numerical computing in Python. \n",
    "It provides the data structures, algorithms, and library glue needed for most scientific applications involving numerical data in Python. \n",
    "NumPy contains, among other things:\n",
    "- A fast and efficient multidimensional array object `ndarray` (The \"nd\" in ndarray stands for \"n-dimensional\")\n",
    "- Functions for performing element-wise computations with arrays or mathematical operations between arrays\n",
    "- Tools for reading and writing array-based datasets to disk\n",
    "- Linear algebra operations, Fourier transform, and random number generation\n",
    "- A mature C API to enable Python extensions and native C or C++ code to access NumPy’s data structures and computational facilities\n",
    "\n",
    "One of the reasons NumPy is so important for numerical computations in Python is because it is designed for **efficiency on large arrays of data**. There are a number of reasons for this:\n",
    "- NumPy internally stores data in a contiguous block of memory, independent of other built-in Python objects. NumPy’s library of algorithms written in the C lan‐\n",
    "guage can operate on this memory without any type checking or other overhead. NumPy arrays also use much less memory than built-in Python sequences.\n",
    "- NumPy operations perform complex computations on entire arrays without the need for Python for loops.\n",
    "\n",
    "While pandas adopts many coding idioms from NumPy, the biggest difference is that pandas is designed for working with tabular or **heterogeneous data**. \n",
    "\n",
    "\n",
    "## Install\n",
    "pandas can be installed via pip from PyPI.\n",
    "\n",
    "`pip install pandas`"
   ]
  },
  {
   "attachments": {},
   "cell_type": "markdown",
   "id": "31b9efe6",
   "metadata": {},
   "source": [
    "### Import Conventions\n",
    "The Python community has adopted a number of naming conventions for commonly used modules:"
   ]
  },
  {
   "cell_type": "code",
   "execution_count": 166,
   "id": "564e2c76",
   "metadata": {},
   "outputs": [],
   "source": [
    "import pandas as pd"
   ]
  },
  {
   "attachments": {},
   "cell_type": "markdown",
   "id": "6eec2053",
   "metadata": {},
   "source": [
    "# pandas Datastructures\n",
    "\n",
    "## Index\n",
    "pandas’s Index objects are responsible for holding the axis labels and other metadata (like the axis name or names). \n",
    "Index objects are immutable and thus can’t be modified by the user.\n",
    "DataFrame is a tabular, column-oriented <font color=\"Coral\">data structure with both row (index) and column labels</font>\n",
    "\n",
    "## A.Series\n",
    "A Series is a one-dimensional array-like object containing a sequence of values (of similar types to NumPy types) and an associated array of data labels, called its index.\n",
    "(Like a column in the table)\n",
    "\n",
    "Note that the visual display of a Series is just **plain text**, as opposed to the nicely styled table for DataFrames. You will also see the data type or dtype of the Series.\n",
    "\n",
    "### Creating Series\n",
    "\n",
    "1. Series can be instantiated from a list:\n",
    "```python\n",
    "    calling_codes = [90, 44, 1, 81, 86]\n",
    "    pd.Series(calling_codes)\n",
    "\n",
    "```\n",
    "- Since we did not specify an index for the data, a default one consisting of the integers 0 through N-1:\n",
    "```\n",
    "    0    90\n",
    "    1    44\n",
    "    2     1\n",
    "    3    81\n",
    "    4    86\n",
    "    dtype: int64\n",
    "```\n",
    "- We can specify index in the constructor:\n",
    "```python\n",
    "    calling_codes = [90, 44, 1, 81, 86]\n",
    "    labels = ['TR', 'UK', 'US', 'JP', 'CN']\n",
    "    pd.Series(calling_codes, index=labels)\n",
    "\n",
    "```\n",
    "```\n",
    "    TR    90\n",
    "    UK    44\n",
    "    US     1\n",
    "    JP    81\n",
    "    CN    86\n",
    "    dtype: int64\n",
    "```\n",
    "\n",
    "- The passed index is a list of axis labels.\n",
    "\n",
    "2. Series can be instantiated from dicts:\n",
    "```python\n",
    "    calling_codes = {'TR': 90, 'UK': 44, 'US': 1, 'JP': 81, 'CN': 86}\n",
    "    pd.Series(calling_codes)\n",
    "```\n",
    "- Note that the dictionary already is the combination of labels and calling_codes lists above.\n",
    "```\n",
    "    TR    90\n",
    "    UK    44\n",
    "    US     1\n",
    "    JP    81\n",
    "    CN    86\n",
    "    dtype: int64\n",
    "```\n",
    "\n",
    "\n",
    "\n"
   ]
  },
  {
   "cell_type": "code",
   "execution_count": 167,
   "id": "2bb7e8b7",
   "metadata": {},
   "outputs": [
    {
     "data": {
      "text/plain": [
       "0    90\n",
       "1    44\n",
       "2     1\n",
       "3    81\n",
       "4    86\n",
       "dtype: int64"
      ]
     },
     "execution_count": 167,
     "metadata": {},
     "output_type": "execute_result"
    }
   ],
   "source": [
    "# Series can be instantiated from a list:\n",
    "# Since we did not specify an index for the data, a default one consisting of the integers 0 through N-1 \n",
    "\n",
    "calling_codes = [90, 44, 1, 81, 86]\n",
    "pd.Series(calling_codes)"
   ]
  },
  {
   "cell_type": "code",
   "execution_count": 168,
   "id": "dc28511e",
   "metadata": {},
   "outputs": [
    {
     "data": {
      "text/plain": [
       "TR    90\n",
       "UK    44\n",
       "US     1\n",
       "JP    81\n",
       "CN    86\n",
       "dtype: int64"
      ]
     },
     "execution_count": 168,
     "metadata": {},
     "output_type": "execute_result"
    }
   ],
   "source": [
    "# Series can be instantiated from a list:\n",
    "# We can specify an index:\n",
    "\n",
    "calling_codes = [90, 44, 1, 81, 86]\n",
    "labels = ['TR', 'UK', 'US', 'JP', 'CN']\n",
    "pd.Series(calling_codes, index=labels)"
   ]
  },
  {
   "cell_type": "code",
   "execution_count": 169,
   "id": "10479d7d",
   "metadata": {},
   "outputs": [
    {
     "data": {
      "text/plain": [
       "TR    90\n",
       "UK    44\n",
       "US     1\n",
       "JP    81\n",
       "CN    86\n",
       "dtype: int64"
      ]
     },
     "execution_count": 169,
     "metadata": {},
     "output_type": "execute_result"
    }
   ],
   "source": [
    "# Series can be instantiated from dicts:\n",
    "\n",
    "calling_codes = {'TR': 90, 'UK': 44, 'US': 1, 'JP': 81, 'CN': 86}\n",
    "pd.Series(calling_codes)"
   ]
  },
  {
   "attachments": {},
   "cell_type": "markdown",
   "id": "88c6facd",
   "metadata": {},
   "source": [
    "## B. DataFrame\n",
    "When working with tabular data, such as data stored in spreadsheets or databases, pandas is the right tool for you. pandas will help you to explore, clean, and process your data. \n",
    "\n",
    "In pandas, a data table is called a **DataFrame**.\n",
    "\n",
    "Lets say we have country data like this:\n",
    "```\n",
    "  ISO2  code            name     capital\n",
    "  --------------------------------------\n",
    "    TR    90          Turkey      Ankara\n",
    "    UK    44  United Kingdom      London\n",
    "    US     1   United States  Washington\n",
    "    JP    81           Japan       Tokyo\n",
    "    CN    86           China     Beijing\n",
    "```\n",
    "\n",
    "\n",
    "### Creating DataFrame\n",
    "\n",
    "1 . Using 2D List:\n",
    "  - regular 2d lists can be visualized as a matrix - a list of rows, where is row is a list.\n",
    "  - note that data itself has no information about axis labels.\n",
    "```python\n",
    "[\n",
    "    [90, 'Turkey', 'Ankara'], \n",
    "    [44, 'United Kingdom', 'London'], \n",
    "    [1, 'United States', 'Washington'], \n",
    "    [81, 'Japan', 'Tokyo'], \n",
    "    [86, 'China', 'Beijing']\n",
    "]\n",
    "```\n",
    "2. Using List of dictionaries [{}, {}, {}]\n",
    "  - a single row in a table is like a JSON representation of an object - a dictionary.\n",
    "  - in each dictionary, have information about column names, which are the <font color=\"Coral\">keys</font>.\n",
    "  \n",
    "  ```python\n",
    "        country = {\n",
    "          \"ISO2\"    : \"TR\",\n",
    "          \"call\"    : 90,\n",
    "          \"name\"    : \"Turkey\",\n",
    "          \"capital\" : \"Ankara\"\n",
    "        }\n",
    "  ```\n",
    "  \n",
    "  3. Create DataFrame from a dictionary, Column Index\n",
    "   - For the plural form, think about the same JSON, but this time, the value is not a scalar - its a list.\n",
    "   ```python\n",
    "        countries = {\n",
    "          \"ISO2\"    : [\"TR\", \"UK\", \"US\", \"JP\", \"CN\"]\n",
    "          \"call\"    : [90, 44, 1, 81, 86]\n",
    "          \"name\"    : [\"Turkey\", \"United Kingdom\", \"United States\", \"Japan\", \"China\"]\n",
    "          \"capital\" : [\"Ankara\", \"London\", \"Washington DC\", \"Tokyo\", \"Beijing\"]\n",
    "        }\n",
    "  ```\n",
    "\n",
    "  - version 2: Instead of list as a value, we can use a dict with index values (PK):\n",
    "  ```python\n",
    "        countries = {\n",
    "          'call'    : {'TR': 90, 'UK': 44, 'US': 1, 'JP': 81, 'CN': 86},\n",
    "          'name'    : {'TR': 'Turkey', 'UK': 'United Kingdom', 'US': 'United States','JP': 'Japan', 'CN': 'China'},\n",
    "          'capital' : {'TR': 'Ankara', 'UK': 'London', 'US': 'Washington DC','JP': 'Tokyo', 'CN': 'Beijing'}\n",
    "        }\n",
    "  ```\n",
    "\n",
    " 4. Create DataFrame from a dictionary, Row Index\n",
    "   - We can think of a row as a heterogenous data structure, with a combination of columns identifed by an index (PK, row label)\n",
    "   ```python\n",
    "        {\n",
    "          'TR': {'call': 90, 'name': 'Turkey','capital': 'Ankara'},\n",
    "          'UK': {'call': 44, 'name': 'United Kingdom','capital': 'London'},\n",
    "          'US': {'call': 1, 'name': 'United States','capital': 'Washington DC'},\n",
    "          'JP': {'call': 81, 'name': 'Japan','capital': 'Tokyo'},\n",
    "          'CN': {'call': 999, 'name': 'China','capital': 'Beijing'}\n",
    "        }\n",
    "   ```\n",
    "\n",
    "\n"
   ]
  },
  {
   "cell_type": "code",
   "execution_count": 170,
   "id": "613eb64d",
   "metadata": {},
   "outputs": [
    {
     "name": "stdout",
     "output_type": "stream",
     "text": [
      "    0               1           2\n",
      "0  90          Turkey      Ankara\n",
      "1  44  United Kingdom      London\n",
      "2   1   United States  Washington\n",
      "3  81           Japan       Tokyo\n",
      "4  86           China     Beijing\n"
     ]
    }
   ],
   "source": [
    "# Create DataFrame from 2D List:\n",
    "\n",
    "\"\"\" \n",
    "    0               1           2\n",
    "0  90          Turkey      Ankara\n",
    "1  44  United Kingdom      London\n",
    "2   1   United States  Washington\n",
    "3  81           Japan       Tokyo\n",
    "4  86           China     Beijing\n",
    "\"\"\"\n",
    "\n",
    "countries = [[90, 'Turkey', 'Ankara'], [44, 'United Kingdom', 'London'], [1, 'United States', 'Washington'], [81, 'Japan', 'Tokyo'], [86, 'China', 'Beijing']]\n",
    "df = pd.DataFrame(countries)\n",
    "\n",
    "# print df\n",
    "print(df)"
   ]
  },
  {
   "cell_type": "code",
   "execution_count": 171,
   "id": "270cdf88",
   "metadata": {},
   "outputs": [
    {
     "name": "stdout",
     "output_type": "stream",
     "text": [
      "    call            name     capital\n",
      "TR    90          Turkey      Ankara\n",
      "UK    44  United Kingdom      London\n",
      "US     1   United States  Washington\n",
      "JP    81           Japan       Tokyo\n",
      "CN    86           China     Beijing\n"
     ]
    }
   ],
   "source": [
    "# Note that previous the previous df had default integer labels for columns \n",
    "# If you specify a sequence of columns, the DataFrame’s columns will be arranged in that order (columns=)\n",
    "# Often it will be desirable to create a Series with an index identifying each data point with a label (index=)\n",
    "country_codes = pd.DataFrame(\n",
    "    countries,\n",
    "    index=['TR', 'UK', 'US', 'JP', 'CN'],\n",
    "    columns=['call', 'name', 'capital']\n",
    ")\n",
    "\n",
    "# print df\n",
    "print(country_codes)"
   ]
  },
  {
   "cell_type": "code",
   "execution_count": 172,
   "id": "9b856377",
   "metadata": {},
   "outputs": [
    {
     "name": "stdout",
     "output_type": "stream",
     "text": [
      "  ISO2  call            name        capital\n",
      "0   TR    90          Turkey         Ankara\n",
      "1   UK    44  United Kingdom         London\n",
      "2   US     1   United States  Washington DC\n",
      "3   JP    81           Japan          Tokyo\n",
      "4   CN    86           China        Beijing\n"
     ]
    }
   ],
   "source": [
    "# Create DataFrame from a List of dictionaries:\n",
    "# Note that in each dictionary, have information about column names, which are the 'keys'.\n",
    "country1 = { \"ISO2\": \"TR\", \"call\": 90, \"name\": \"Turkey\", \"capital\": \"Ankara\"}\n",
    "country2 = { \"ISO2\": \"UK\", \"call\": 44, \"name\": \"United Kingdom\", \"capital\": \"London\"}\n",
    "country3 = { \"ISO2\": \"US\", \"call\": 1, \"name\": \"United States\", \"capital\": \"Washington DC\"}\n",
    "country4 = { \"ISO2\": \"JP\", \"call\": 81, \"name\": \"Japan\", \"capital\": \"Tokyo\"}\n",
    "country5 = { \"ISO2\": \"CN\", \"call\": 86, \"name\": \"China\", \"capital\": \"Beijing\"}\n",
    "\n",
    "countries = [country1, country2, country3, country4, country5]\n",
    "df = pd.DataFrame(countries)\n",
    "\n",
    "# print df\n",
    "print(df)\n"
   ]
  },
  {
   "cell_type": "code",
   "execution_count": 173,
   "id": "1b029cf0",
   "metadata": {},
   "outputs": [
    {
     "name": "stdout",
     "output_type": "stream",
     "text": [
      "  ISO2  call            name        capital\n",
      "0   TR    90          Turkey         Ankara\n",
      "1   UK    44  United Kingdom         London\n",
      "2   US     1   United States  Washington DC\n",
      "3   JP    81           Japan          Tokyo\n",
      "4   CN    86           China        Beijing\n"
     ]
    }
   ],
   "source": [
    "# Create DataFrame from a dictionary, Column Index\n",
    "# For the plural form, think about the same JSON, but this time, the value is not a scalar - its a list.\n",
    "# Note that this dictionary has information about columns, but no information about index (no row labels): default integer index from 0 to n-1\n",
    "# Note that PK column (ISO2) is just a regular column, not specified to be an index.\n",
    "countries = {\n",
    "     \"ISO2\"    : [\"TR\", \"UK\", \"US\", \"JP\", \"CN\"],\n",
    "     \"call\"   : [90, 44, 1, 81, 86],\n",
    "     \"name\"    : [\"Turkey\", \"United Kingdom\", \"United States\", \"Japan\", \"China\"],\n",
    "     \"capital\" : [\"Ankara\", \"London\", \"Washington DC\", \"Tokyo\", \"Beijing\"]\n",
    "}\n",
    "\n",
    "df = pd.DataFrame(countries)\n",
    "\n",
    "# print df\n",
    "print(df)"
   ]
  },
  {
   "cell_type": "code",
   "execution_count": 174,
   "id": "5e059b93",
   "metadata": {},
   "outputs": [
    {
     "name": "stdout",
     "output_type": "stream",
     "text": [
      "    call            name        capital\n",
      "TR    90          Turkey         Ankara\n",
      "UK    44  United Kingdom         London\n",
      "US     1   United States  Washington DC\n",
      "JP    81           Japan          Tokyo\n",
      "CN    86           China        Beijing\n"
     ]
    }
   ],
   "source": [
    "# Create DataFrame from a dictionary, Column Index (orient=\"columns\")\n",
    "# We can think of a row as a heterogenous data structure, with a combination of columns identifed by an index (PK, row label)\n",
    "# Note that we have both columns and index - columns are keys, and index values are the inner keys. (row labels).\n",
    "\n",
    "countries = {\n",
    "    'call': {'TR': 90, 'UK': 44, 'US': 1, 'JP': 81, 'CN': 86},\n",
    "    'name': {'TR': 'Turkey', 'UK': 'United Kingdom', 'US': 'United States','JP': 'Japan', 'CN': 'China'},\n",
    "    'capital': {'TR': 'Ankara', 'UK': 'London', 'US': 'Washington DC','JP': 'Tokyo', 'CN': 'Beijing'},\n",
    "}\n",
    "\n",
    "# note .from_dict() constructor\n",
    "df = pd.DataFrame.from_dict(countries, orient=\"columns\")\n",
    "\n",
    "# print df\n",
    "print(df)"
   ]
  },
  {
   "cell_type": "code",
   "execution_count": 175,
   "id": "746e3db2",
   "metadata": {},
   "outputs": [
    {
     "name": "stdout",
     "output_type": "stream",
     "text": [
      "    call            name        capital\n",
      "TR    90          Turkey         Ankara\n",
      "UK    44  United Kingdom         London\n",
      "US     1   United States  Washington DC\n",
      "JP    81           Japan          Tokyo\n",
      "CN   999           China        Beijing\n"
     ]
    }
   ],
   "source": [
    "# Create DataFrame from a dictionary, Row Index (orient=\"index\")\n",
    "# We can think of a row as a heterogenous data structure, with a combination of columns identifed by an index (PK, row label)\n",
    "# Note that we have both columns and index - index are keys, and column values are the inner keys.\n",
    "\n",
    "countries = {\n",
    "    'TR': {'call': 90, 'name': 'Turkey','capital': 'Ankara'},\n",
    "    'UK': {'call': 44, 'name': 'United Kingdom','capital': 'London'},\n",
    "    'US': {'call': 1, 'name': 'United States','capital': 'Washington DC'},\n",
    "    'JP': {'call': 81, 'name': 'Japan','capital': 'Tokyo'},\n",
    "    'CN': {'call': 999, 'name': 'China','capital': 'Beijing'}\n",
    "}\n",
    "\n",
    "# note .from_dict() constructor\n",
    "df = pd.DataFrame.from_dict(countries, orient=\"index\")\n",
    "\n",
    "# print df\n",
    "print(df)"
   ]
  },
  {
   "cell_type": "code",
   "execution_count": 176,
   "id": "2e910dac",
   "metadata": {},
   "outputs": [
    {
     "name": "stdout",
     "output_type": "stream",
     "text": [
      "  LastName           Email   Username\n",
      "0   Booker  bo@example.com   booker12\n",
      "1     Grey  gr@example.com     grey07\n",
      "2  Johnson  jo@example.com  johnson81\n",
      "3  Jenkins  je@example.com  jenkins46\n",
      "4    Smith  sm@example.com    smith79\n"
     ]
    }
   ],
   "source": [
    "# Example: Create DataFrame from a dictionary (plural form)\n",
    "\n",
    "lastnames = ['Booker', 'Grey', 'Johnson', 'Jenkins', 'Smith']\n",
    "emails = ['bo@example.com', 'gr@example.com', 'jo@example.com', 'je@example.com', 'sm@example.com']\n",
    "usernames = ['booker12', 'grey07', 'johnson81', 'jenkins46', 'smith79']\n",
    "\n",
    "# A dictionary where keys are the \"column names\" and values are the lists:\n",
    "users_dict = {'LastName': lastnames, 'Email': emails, 'Username': usernames}\n",
    "\n",
    "# Create a DataFrame from a Python dict:\n",
    "df_users = pd.DataFrame(users_dict)\n",
    "\n",
    "print(df_users)\n"
   ]
  },
  {
   "cell_type": "code",
   "execution_count": 177,
   "id": "4c13eebd",
   "metadata": {},
   "outputs": [
    {
     "name": "stdout",
     "output_type": "stream",
     "text": [
      "       Name  Math  Sci  Hist  Econ\n",
      "0       Ron    65   65    65    65\n",
      "1     Harry    60   60    60    60\n",
      "2  Hermione    69   69    69    69\n"
     ]
    }
   ],
   "source": [
    "# Example: Create DataFrame from a dictionary (plural form)\n",
    "\n",
    "scores_gryffindor = {\n",
    "    'Name': ['Ron', 'Harry', 'Hermione'],\n",
    "    'Math': [65, 60, 69],\n",
    "    'Sci': [65, 60, 69],\n",
    "    'Hist': [65, 60, 69],\n",
    "    'Econ': [65, 60, 69]\n",
    "}\n",
    "\n",
    "df_scores_gryffindor = pd.DataFrame(scores_gryffindor)\n",
    "print(df_scores_gryffindor)\n"
   ]
  },
  {
   "cell_type": "code",
   "execution_count": 178,
   "id": "8d2bb091",
   "metadata": {},
   "outputs": [
    {
     "name": "stdout",
     "output_type": "stream",
     "text": [
      "          Math  Sci  Hist  Econ\n",
      "Harry       60   70    80    90\n",
      "Ron         65   75    85    95\n",
      "Hermione    69   79    89    99\n"
     ]
    }
   ],
   "source": [
    "# Example: Create DataFrame from a dictionary, Row Index (orient=\"index\")\n",
    "\n",
    "scores_gryffindor_rowindexaskey = {\n",
    "    'Harry': {\n",
    "        'Math': 60,\n",
    "        'Sci': 70,\n",
    "        'Hist': 80,\n",
    "        'Econ': 90\n",
    "    },\n",
    "    'Ron': {\n",
    "        'Math': 65,\n",
    "        'Sci': 75,\n",
    "        'Hist': 85,\n",
    "        'Econ': 95\n",
    "    },\n",
    "    'Hermione': {\n",
    "        'Math': 69,\n",
    "        'Sci': 79,\n",
    "        'Hist': 89,\n",
    "        'Econ': 99\n",
    "    }\n",
    "}\n",
    "\n",
    "df = pd.DataFrame.from_dict(scores_gryffindor_rowindexaskey, orient='index')\n",
    "print(df)\n"
   ]
  },
  {
   "attachments": {},
   "cell_type": "markdown",
   "id": "f5e8c3e4",
   "metadata": {},
   "source": [
    "## Importing Data\n",
    "pandas features a number of functions for reading tabular data as a DataFrame object.  (csv, excel, sql, json, parquet,…). How to work with these data sources is provided by function with the prefix:\n",
    "- import data: `read_*`\n",
    "- store data : `to_*` \n",
    "\n",
    "```python\n",
    "    df = pd.read_csv(\"data/users.csv\")\n",
    "```\n",
    "\n",
    "- We can specify the column which contains row labels (index):\n",
    "```python\n",
    "    df = pd.read_csv(\"data/brics.csv\", index_col=0)\n",
    "```\n",
    "\n",
    "\n",
    "### Working with missing data \n",
    "Handling missing values is an important and frequently nuanced part of the file parsing process. Missing data is usually either not present (empty string) or marked by some sentinel value. By default, pandas uses a set of commonly occurring sentinels,\n",
    "such as NA and NULL\n",
    "\n",
    "The `pd.isnull()` and `pd.notnull()` functions in pandas should be used to detect missing data.\n",
    "Series also has these as instance methods, ie. seriesname.isnull()\n"
   ]
  },
  {
   "cell_type": "code",
   "execution_count": 179,
   "id": "31ec1997",
   "metadata": {},
   "outputs": [
    {
     "name": "stdout",
     "output_type": "stream",
     "text": [
      "       Username                   Email    Id First name Last name Active\n",
      "0      blu3FisH      rachel@example.com  9012     Rachel    Booker    Yes\n",
      "1     GreenFr0g   laura@yourcompany.com  2070      Laura      Grey    Yes\n",
      "2      blackd0g   craig@yourcompany.com  4081      Craig   Johnson     No\n",
      "3     jenkins46        mary@example.com  9346       Mary   Jenkins    Yes\n",
      "4       smith79       jamie@example.com  5079      Jamie     Smith    Yes\n",
      "5        john00               js@co.com   303       John     Smith     No\n",
      "6   BlackTurkey    jhalprin@example.com   304        Jim   Halprin    Yes\n",
      "7      BlueHawk      tjones@example.com   305     Teresa     Jones    Yes\n",
      "8     GreenTree    tomjones@example.com   306      Tommy     Jones    Yes\n",
      "9    OrangeFish  greggjones@example.com   307      Gregg     Jones    Yes\n",
      "10      RedBoat   dthompson@example.com   308     Daniel  Thompson    Yes\n"
     ]
    }
   ],
   "source": [
    "df = pd.read_csv(\"data/users.csv\")\n",
    "print(df)"
   ]
  },
  {
   "cell_type": "code",
   "execution_count": 180,
   "id": "2aa7c2e5",
   "metadata": {},
   "outputs": [
    {
     "name": "stdout",
     "output_type": "stream",
     "text": [
      "           country    capitol    area  population\n",
      "code                                             \n",
      "BR          Brazil   Brasilia   8.516      200.40\n",
      "RU          Russia     Moscow  17.100      143.50\n",
      "IN           India  New Delhi   3.286     1252.00\n",
      "CH           China    Beijing   9.597     1357.00\n",
      "SA    South Africa   Pretoria   1.221       52.98\n"
     ]
    }
   ],
   "source": [
    "# We can specify the column which contains row labels (index):\n",
    "brics = pd.read_csv(\"data/brics.csv\", index_col=0)\n",
    "print(brics)"
   ]
  },
  {
   "cell_type": "code",
   "execution_count": 181,
   "id": "80c0a14c",
   "metadata": {},
   "outputs": [
    {
     "data": {
      "text/html": [
       "<div>\n",
       "<style scoped>\n",
       "    .dataframe tbody tr th:only-of-type {\n",
       "        vertical-align: middle;\n",
       "    }\n",
       "\n",
       "    .dataframe tbody tr th {\n",
       "        vertical-align: top;\n",
       "    }\n",
       "\n",
       "    .dataframe thead th {\n",
       "        text-align: right;\n",
       "    }\n",
       "</style>\n",
       "<table border=\"1\" class=\"dataframe\">\n",
       "  <thead>\n",
       "    <tr style=\"text-align: right;\">\n",
       "      <th></th>\n",
       "      <th>Desc</th>\n",
       "      <th>Lastname</th>\n",
       "      <th>Quiz</th>\n",
       "      <th>Midterm</th>\n",
       "      <th>Final</th>\n",
       "      <th>Grade</th>\n",
       "    </tr>\n",
       "  </thead>\n",
       "  <tbody>\n",
       "    <tr>\n",
       "      <th>0</th>\n",
       "      <td>Empty string</td>\n",
       "      <td>NaN</td>\n",
       "      <td>70</td>\n",
       "      <td>70</td>\n",
       "      <td>70</td>\n",
       "      <td>B</td>\n",
       "    </tr>\n",
       "    <tr>\n",
       "      <th>1</th>\n",
       "      <td>Missing</td>\n",
       "      <td>NaN</td>\n",
       "      <td>77</td>\n",
       "      <td>77</td>\n",
       "      <td>77</td>\n",
       "      <td>B</td>\n",
       "    </tr>\n",
       "    <tr>\n",
       "      <th>2</th>\n",
       "      <td>Sentinel NA</td>\n",
       "      <td>NaN</td>\n",
       "      <td>77</td>\n",
       "      <td>77</td>\n",
       "      <td>77</td>\n",
       "      <td>B</td>\n",
       "    </tr>\n",
       "  </tbody>\n",
       "</table>\n",
       "</div>"
      ],
      "text/plain": [
       "           Desc Lastname Quiz  Midterm  Final Grade\n",
       "0  Empty string      NaN   70       70     70     B\n",
       "1       Missing      NaN   77       77     77     B\n",
       "2   Sentinel NA      NaN   77       77     77     B"
      ]
     },
     "execution_count": 181,
     "metadata": {},
     "output_type": "execute_result"
    }
   ],
   "source": [
    "# Missing values\n",
    "# str: missing(NaN), space(empty), \"\" (NaN)\n",
    "# numerics: missing(NaN), space(empty), negative\n",
    "df = pd.read_csv(\"data/missing_values.csv\")\n",
    "# print(brics)\n",
    "\n",
    "# boolean array representing isnull of a column:\n",
    "# null_lastnames = pd.isnull(brics['Lastname']) # built-in function\n",
    "null_lastnames = df['Lastname'].isnull()    # object method\n",
    "\n",
    "df[null_lastnames]   # filter by column indexing"
   ]
  },
  {
   "attachments": {},
   "cell_type": "markdown",
   "id": "a3489f13",
   "metadata": {},
   "source": [
    "### head(), tail() and info()\n",
    "To view a small sample of a Series or DataFrame object, use the head() and tail() methods. The default number of elements to display is five, but you may pass a custom number."
   ]
  },
  {
   "cell_type": "code",
   "execution_count": 182,
   "id": "0e390ad6",
   "metadata": {},
   "outputs": [
    {
     "data": {
      "text/html": [
       "<div>\n",
       "<style scoped>\n",
       "    .dataframe tbody tr th:only-of-type {\n",
       "        vertical-align: middle;\n",
       "    }\n",
       "\n",
       "    .dataframe tbody tr th {\n",
       "        vertical-align: top;\n",
       "    }\n",
       "\n",
       "    .dataframe thead th {\n",
       "        text-align: right;\n",
       "    }\n",
       "</style>\n",
       "<table border=\"1\" class=\"dataframe\">\n",
       "  <thead>\n",
       "    <tr style=\"text-align: right;\">\n",
       "      <th></th>\n",
       "      <th>Desc</th>\n",
       "      <th>Lastname</th>\n",
       "      <th>Quiz</th>\n",
       "      <th>Midterm</th>\n",
       "      <th>Final</th>\n",
       "      <th>Grade</th>\n",
       "    </tr>\n",
       "  </thead>\n",
       "  <tbody>\n",
       "    <tr>\n",
       "      <th>0</th>\n",
       "      <td>Empty string</td>\n",
       "      <td>NaN</td>\n",
       "      <td>70</td>\n",
       "      <td>70</td>\n",
       "      <td>70</td>\n",
       "      <td>B</td>\n",
       "    </tr>\n",
       "    <tr>\n",
       "      <th>1</th>\n",
       "      <td>Missing</td>\n",
       "      <td>NaN</td>\n",
       "      <td>77</td>\n",
       "      <td>77</td>\n",
       "      <td>77</td>\n",
       "      <td>B</td>\n",
       "    </tr>\n",
       "    <tr>\n",
       "      <th>2</th>\n",
       "      <td>Sentinel NA</td>\n",
       "      <td>NaN</td>\n",
       "      <td>77</td>\n",
       "      <td>77</td>\n",
       "      <td>77</td>\n",
       "      <td>B</td>\n",
       "    </tr>\n",
       "    <tr>\n",
       "      <th>3</th>\n",
       "      <td>space char</td>\n",
       "      <td></td>\n",
       "      <td>88</td>\n",
       "      <td>88</td>\n",
       "      <td>88</td>\n",
       "      <td>A</td>\n",
       "    </tr>\n",
       "    <tr>\n",
       "      <th>4</th>\n",
       "      <td>Missing</td>\n",
       "      <td>Alfalfa</td>\n",
       "      <td>NaN</td>\n",
       "      <td>80</td>\n",
       "      <td>90</td>\n",
       "      <td>A</td>\n",
       "    </tr>\n",
       "  </tbody>\n",
       "</table>\n",
       "</div>"
      ],
      "text/plain": [
       "           Desc Lastname Quiz  Midterm  Final Grade\n",
       "0  Empty string      NaN   70       70     70     B\n",
       "1       Missing      NaN   77       77     77     B\n",
       "2   Sentinel NA      NaN   77       77     77     B\n",
       "3    space char            88       88     88     A\n",
       "4       Missing  Alfalfa  NaN       80     90     A"
      ]
     },
     "execution_count": 182,
     "metadata": {},
     "output_type": "execute_result"
    }
   ],
   "source": [
    "df.head()"
   ]
  },
  {
   "cell_type": "code",
   "execution_count": 183,
   "id": "cd32bb53",
   "metadata": {},
   "outputs": [
    {
     "data": {
      "text/html": [
       "<div>\n",
       "<style scoped>\n",
       "    .dataframe tbody tr th:only-of-type {\n",
       "        vertical-align: middle;\n",
       "    }\n",
       "\n",
       "    .dataframe tbody tr th {\n",
       "        vertical-align: top;\n",
       "    }\n",
       "\n",
       "    .dataframe thead th {\n",
       "        text-align: right;\n",
       "    }\n",
       "</style>\n",
       "<table border=\"1\" class=\"dataframe\">\n",
       "  <thead>\n",
       "    <tr style=\"text-align: right;\">\n",
       "      <th></th>\n",
       "      <th>Desc</th>\n",
       "      <th>Lastname</th>\n",
       "      <th>Quiz</th>\n",
       "      <th>Midterm</th>\n",
       "      <th>Final</th>\n",
       "      <th>Grade</th>\n",
       "    </tr>\n",
       "  </thead>\n",
       "  <tbody>\n",
       "    <tr>\n",
       "      <th>7</th>\n",
       "      <td>zero</td>\n",
       "      <td>Mike</td>\n",
       "      <td>0</td>\n",
       "      <td>50</td>\n",
       "      <td>50</td>\n",
       "      <td>D</td>\n",
       "    </tr>\n",
       "    <tr>\n",
       "      <th>8</th>\n",
       "      <td>negative</td>\n",
       "      <td>Alfred</td>\n",
       "      <td>-60</td>\n",
       "      <td>60</td>\n",
       "      <td>80</td>\n",
       "      <td>60</td>\n",
       "    </tr>\n",
       "    <tr>\n",
       "      <th>9</th>\n",
       "      <td>sentinel NaN</td>\n",
       "      <td>John</td>\n",
       "      <td>NaN</td>\n",
       "      <td>50</td>\n",
       "      <td>50</td>\n",
       "      <td>NaN</td>\n",
       "    </tr>\n",
       "  </tbody>\n",
       "</table>\n",
       "</div>"
      ],
      "text/plain": [
       "           Desc Lastname Quiz  Midterm  Final Grade\n",
       "7          zero     Mike    0       50     50     D\n",
       "8      negative   Alfred  -60       60     80    60\n",
       "9  sentinel NaN     John  NaN       50     50   NaN"
      ]
     },
     "execution_count": 183,
     "metadata": {},
     "output_type": "execute_result"
    }
   ],
   "source": [
    "df.tail(3)"
   ]
  },
  {
   "cell_type": "code",
   "execution_count": 184,
   "id": "4e78e593",
   "metadata": {
    "tags": []
   },
   "outputs": [
    {
     "name": "stdout",
     "output_type": "stream",
     "text": [
      "<class 'pandas.core.frame.DataFrame'>\n",
      "Index: 5 entries, BR to SA\n",
      "Data columns (total 4 columns):\n",
      " #   Column      Non-Null Count  Dtype  \n",
      "---  ------      --------------  -----  \n",
      " 0   country     5 non-null      object \n",
      " 1   capitol     5 non-null      object \n",
      " 2   area        5 non-null      float64\n",
      " 3   population  5 non-null      float64\n",
      "dtypes: float64(2), object(2)\n",
      "memory usage: 200.0+ bytes\n"
     ]
    }
   ],
   "source": [
    "brics.info()"
   ]
  },
  {
   "attachments": {},
   "cell_type": "markdown",
   "id": "d7b738ad",
   "metadata": {},
   "source": [
    "### Attributes and underlying data\n",
    "\n"
   ]
  },
  {
   "attachments": {},
   "cell_type": "markdown",
   "id": "0a353a85",
   "metadata": {},
   "source": [
    "`shape`: gives the axis dimensions of the object, consistent with ndarray\n",
    "(entries, columns)"
   ]
  },
  {
   "cell_type": "code",
   "execution_count": 185,
   "id": "9258fe23",
   "metadata": {},
   "outputs": [
    {
     "data": {
      "text/plain": [
       "(5, 4)"
      ]
     },
     "execution_count": 185,
     "metadata": {},
     "output_type": "execute_result"
    }
   ],
   "source": [
    "brics.shape"
   ]
  },
  {
   "cell_type": "code",
   "execution_count": 186,
   "id": "9ac32192-d22e-43a5-ae49-460cd7d9506f",
   "metadata": {},
   "outputs": [
    {
     "data": {
      "text/plain": [
       "Index(['country', 'capitol', 'area', 'population'], dtype='object')"
      ]
     },
     "execution_count": 186,
     "metadata": {},
     "output_type": "execute_result"
    }
   ],
   "source": [
    "brics.columns"
   ]
  },
  {
   "attachments": {},
   "cell_type": "markdown",
   "id": "f8cbfdad",
   "metadata": {},
   "source": [
    "## Summary statistics\n",
    "Basic statistics (mean, median, min, max, counts…) are easily calculable.\n",
    "\n",
    "describe() shows a quick statistic summary of your data"
   ]
  },
  {
   "cell_type": "code",
   "execution_count": 187,
   "id": "cf48ecf8",
   "metadata": {},
   "outputs": [
    {
     "data": {
      "text/html": [
       "<div>\n",
       "<style scoped>\n",
       "    .dataframe tbody tr th:only-of-type {\n",
       "        vertical-align: middle;\n",
       "    }\n",
       "\n",
       "    .dataframe tbody tr th {\n",
       "        vertical-align: top;\n",
       "    }\n",
       "\n",
       "    .dataframe thead th {\n",
       "        text-align: right;\n",
       "    }\n",
       "</style>\n",
       "<table border=\"1\" class=\"dataframe\">\n",
       "  <thead>\n",
       "    <tr style=\"text-align: right;\">\n",
       "      <th></th>\n",
       "      <th>2000</th>\n",
       "      <th>2001</th>\n",
       "      <th>2002</th>\n",
       "      <th>2003</th>\n",
       "      <th>2004</th>\n",
       "      <th>2005</th>\n",
       "      <th>2006</th>\n",
       "      <th>2007</th>\n",
       "      <th>2008</th>\n",
       "      <th>2009</th>\n",
       "      <th>...</th>\n",
       "      <th>2012</th>\n",
       "      <th>2013</th>\n",
       "      <th>2014</th>\n",
       "      <th>2015</th>\n",
       "      <th>2016</th>\n",
       "      <th>2017</th>\n",
       "      <th>2018</th>\n",
       "      <th>2019</th>\n",
       "      <th>2020</th>\n",
       "      <th>2021</th>\n",
       "    </tr>\n",
       "  </thead>\n",
       "  <tbody>\n",
       "    <tr>\n",
       "      <th>count</th>\n",
       "      <td>8.200000e+01</td>\n",
       "      <td>8.200000e+01</td>\n",
       "      <td>8.200000e+01</td>\n",
       "      <td>8.200000e+01</td>\n",
       "      <td>8.200000e+01</td>\n",
       "      <td>8.200000e+01</td>\n",
       "      <td>8.200000e+01</td>\n",
       "      <td>8.200000e+01</td>\n",
       "      <td>8.200000e+01</td>\n",
       "      <td>8.200000e+01</td>\n",
       "      <td>...</td>\n",
       "      <td>8.200000e+01</td>\n",
       "      <td>8.200000e+01</td>\n",
       "      <td>8.200000e+01</td>\n",
       "      <td>8.200000e+01</td>\n",
       "      <td>8.200000e+01</td>\n",
       "      <td>8.200000e+01</td>\n",
       "      <td>8.200000e+01</td>\n",
       "      <td>8.200000e+01</td>\n",
       "      <td>8.200000e+01</td>\n",
       "      <td>8.200000e+01</td>\n",
       "    </tr>\n",
       "    <tr>\n",
       "      <th>mean</th>\n",
       "      <td>1.578768e+06</td>\n",
       "      <td>1.600077e+06</td>\n",
       "      <td>1.619557e+06</td>\n",
       "      <td>1.638713e+06</td>\n",
       "      <td>1.658786e+06</td>\n",
       "      <td>1.679525e+06</td>\n",
       "      <td>1.700731e+06</td>\n",
       "      <td>1.721616e+06</td>\n",
       "      <td>1.744320e+06</td>\n",
       "      <td>1.769788e+06</td>\n",
       "      <td>...</td>\n",
       "      <td>1.844570e+06</td>\n",
       "      <td>1.869948e+06</td>\n",
       "      <td>1.895022e+06</td>\n",
       "      <td>1.920513e+06</td>\n",
       "      <td>1.946704e+06</td>\n",
       "      <td>1.970988e+06</td>\n",
       "      <td>2.000095e+06</td>\n",
       "      <td>2.028171e+06</td>\n",
       "      <td>2.039375e+06</td>\n",
       "      <td>2.065373e+06</td>\n",
       "    </tr>\n",
       "    <tr>\n",
       "      <th>std</th>\n",
       "      <td>7.182483e+06</td>\n",
       "      <td>7.280900e+06</td>\n",
       "      <td>7.371050e+06</td>\n",
       "      <td>7.459777e+06</td>\n",
       "      <td>7.552731e+06</td>\n",
       "      <td>7.648774e+06</td>\n",
       "      <td>7.746996e+06</td>\n",
       "      <td>7.843821e+06</td>\n",
       "      <td>7.946958e+06</td>\n",
       "      <td>8.064122e+06</td>\n",
       "      <td>...</td>\n",
       "      <td>8.413460e+06</td>\n",
       "      <td>8.531728e+06</td>\n",
       "      <td>8.647138e+06</td>\n",
       "      <td>8.765726e+06</td>\n",
       "      <td>8.884413e+06</td>\n",
       "      <td>8.996369e+06</td>\n",
       "      <td>9.125385e+06</td>\n",
       "      <td>9.258787e+06</td>\n",
       "      <td>9.307607e+06</td>\n",
       "      <td>9.429832e+06</td>\n",
       "    </tr>\n",
       "    <tr>\n",
       "      <th>min</th>\n",
       "      <td>7.522100e+04</td>\n",
       "      <td>7.551700e+04</td>\n",
       "      <td>7.570900e+04</td>\n",
       "      <td>7.586800e+04</td>\n",
       "      <td>7.605000e+04</td>\n",
       "      <td>7.624600e+04</td>\n",
       "      <td>7.644400e+04</td>\n",
       "      <td>7.660900e+04</td>\n",
       "      <td>7.567500e+04</td>\n",
       "      <td>7.471000e+04</td>\n",
       "      <td>...</td>\n",
       "      <td>7.579700e+04</td>\n",
       "      <td>7.562000e+04</td>\n",
       "      <td>8.060700e+04</td>\n",
       "      <td>7.855000e+04</td>\n",
       "      <td>8.219300e+04</td>\n",
       "      <td>8.041700e+04</td>\n",
       "      <td>8.227400e+04</td>\n",
       "      <td>8.466000e+04</td>\n",
       "      <td>8.191000e+04</td>\n",
       "      <td>8.364500e+04</td>\n",
       "    </tr>\n",
       "    <tr>\n",
       "      <th>25%</th>\n",
       "      <td>2.719395e+05</td>\n",
       "      <td>2.745638e+05</td>\n",
       "      <td>2.768472e+05</td>\n",
       "      <td>2.780260e+05</td>\n",
       "      <td>2.792188e+05</td>\n",
       "      <td>2.797688e+05</td>\n",
       "      <td>2.800030e+05</td>\n",
       "      <td>2.801020e+05</td>\n",
       "      <td>2.799185e+05</td>\n",
       "      <td>2.816318e+05</td>\n",
       "      <td>...</td>\n",
       "      <td>2.821075e+05</td>\n",
       "      <td>2.839870e+05</td>\n",
       "      <td>2.851542e+05</td>\n",
       "      <td>2.878490e+05</td>\n",
       "      <td>2.900632e+05</td>\n",
       "      <td>2.888318e+05</td>\n",
       "      <td>2.912432e+05</td>\n",
       "      <td>2.898100e+05</td>\n",
       "      <td>2.899328e+05</td>\n",
       "      <td>2.952515e+05</td>\n",
       "    </tr>\n",
       "    <tr>\n",
       "      <th>50%</th>\n",
       "      <td>4.834845e+05</td>\n",
       "      <td>4.875495e+05</td>\n",
       "      <td>4.902015e+05</td>\n",
       "      <td>4.922440e+05</td>\n",
       "      <td>4.903035e+05</td>\n",
       "      <td>4.883865e+05</td>\n",
       "      <td>4.864035e+05</td>\n",
       "      <td>4.841275e+05</td>\n",
       "      <td>4.849110e+05</td>\n",
       "      <td>4.926815e+05</td>\n",
       "      <td>...</td>\n",
       "      <td>5.118330e+05</td>\n",
       "      <td>5.172040e+05</td>\n",
       "      <td>5.195050e+05</td>\n",
       "      <td>5.192605e+05</td>\n",
       "      <td>5.250190e+05</td>\n",
       "      <td>5.294195e+05</td>\n",
       "      <td>5.380700e+05</td>\n",
       "      <td>5.374790e+05</td>\n",
       "      <td>5.396550e+05</td>\n",
       "      <td>5.498005e+05</td>\n",
       "    </tr>\n",
       "    <tr>\n",
       "      <th>75%</th>\n",
       "      <td>8.642182e+05</td>\n",
       "      <td>8.751728e+05</td>\n",
       "      <td>8.851078e+05</td>\n",
       "      <td>8.948490e+05</td>\n",
       "      <td>9.050718e+05</td>\n",
       "      <td>9.156418e+05</td>\n",
       "      <td>9.264468e+05</td>\n",
       "      <td>9.370595e+05</td>\n",
       "      <td>9.535840e+05</td>\n",
       "      <td>9.659568e+05</td>\n",
       "      <td>...</td>\n",
       "      <td>9.925450e+05</td>\n",
       "      <td>1.006584e+06</td>\n",
       "      <td>1.026159e+06</td>\n",
       "      <td>1.038490e+06</td>\n",
       "      <td>1.052617e+06</td>\n",
       "      <td>1.065313e+06</td>\n",
       "      <td>1.080791e+06</td>\n",
       "      <td>1.097082e+06</td>\n",
       "      <td>1.109579e+06</td>\n",
       "      <td>1.128873e+06</td>\n",
       "    </tr>\n",
       "    <tr>\n",
       "      <th>max</th>\n",
       "      <td>6.472950e+07</td>\n",
       "      <td>6.560316e+07</td>\n",
       "      <td>6.640185e+07</td>\n",
       "      <td>6.718725e+07</td>\n",
       "      <td>6.801022e+07</td>\n",
       "      <td>6.886054e+07</td>\n",
       "      <td>6.972997e+07</td>\n",
       "      <td>7.058626e+07</td>\n",
       "      <td>7.151710e+07</td>\n",
       "      <td>7.256131e+07</td>\n",
       "      <td>...</td>\n",
       "      <td>7.562738e+07</td>\n",
       "      <td>7.666786e+07</td>\n",
       "      <td>7.769590e+07</td>\n",
       "      <td>7.874105e+07</td>\n",
       "      <td>7.981487e+07</td>\n",
       "      <td>8.081052e+07</td>\n",
       "      <td>8.200388e+07</td>\n",
       "      <td>8.315500e+07</td>\n",
       "      <td>8.361436e+07</td>\n",
       "      <td>8.468027e+07</td>\n",
       "    </tr>\n",
       "  </tbody>\n",
       "</table>\n",
       "<p>8 rows × 22 columns</p>\n",
       "</div>"
      ],
      "text/plain": [
       "               2000          2001          2002          2003          2004   \n",
       "count  8.200000e+01  8.200000e+01  8.200000e+01  8.200000e+01  8.200000e+01  \\\n",
       "mean   1.578768e+06  1.600077e+06  1.619557e+06  1.638713e+06  1.658786e+06   \n",
       "std    7.182483e+06  7.280900e+06  7.371050e+06  7.459777e+06  7.552731e+06   \n",
       "min    7.522100e+04  7.551700e+04  7.570900e+04  7.586800e+04  7.605000e+04   \n",
       "25%    2.719395e+05  2.745638e+05  2.768472e+05  2.780260e+05  2.792188e+05   \n",
       "50%    4.834845e+05  4.875495e+05  4.902015e+05  4.922440e+05  4.903035e+05   \n",
       "75%    8.642182e+05  8.751728e+05  8.851078e+05  8.948490e+05  9.050718e+05   \n",
       "max    6.472950e+07  6.560316e+07  6.640185e+07  6.718725e+07  6.801022e+07   \n",
       "\n",
       "               2005          2006          2007          2008          2009   \n",
       "count  8.200000e+01  8.200000e+01  8.200000e+01  8.200000e+01  8.200000e+01  \\\n",
       "mean   1.679525e+06  1.700731e+06  1.721616e+06  1.744320e+06  1.769788e+06   \n",
       "std    7.648774e+06  7.746996e+06  7.843821e+06  7.946958e+06  8.064122e+06   \n",
       "min    7.624600e+04  7.644400e+04  7.660900e+04  7.567500e+04  7.471000e+04   \n",
       "25%    2.797688e+05  2.800030e+05  2.801020e+05  2.799185e+05  2.816318e+05   \n",
       "50%    4.883865e+05  4.864035e+05  4.841275e+05  4.849110e+05  4.926815e+05   \n",
       "75%    9.156418e+05  9.264468e+05  9.370595e+05  9.535840e+05  9.659568e+05   \n",
       "max    6.886054e+07  6.972997e+07  7.058626e+07  7.151710e+07  7.256131e+07   \n",
       "\n",
       "       ...          2012          2013          2014          2015   \n",
       "count  ...  8.200000e+01  8.200000e+01  8.200000e+01  8.200000e+01  \\\n",
       "mean   ...  1.844570e+06  1.869948e+06  1.895022e+06  1.920513e+06   \n",
       "std    ...  8.413460e+06  8.531728e+06  8.647138e+06  8.765726e+06   \n",
       "min    ...  7.579700e+04  7.562000e+04  8.060700e+04  7.855000e+04   \n",
       "25%    ...  2.821075e+05  2.839870e+05  2.851542e+05  2.878490e+05   \n",
       "50%    ...  5.118330e+05  5.172040e+05  5.195050e+05  5.192605e+05   \n",
       "75%    ...  9.925450e+05  1.006584e+06  1.026159e+06  1.038490e+06   \n",
       "max    ...  7.562738e+07  7.666786e+07  7.769590e+07  7.874105e+07   \n",
       "\n",
       "               2016          2017          2018          2019          2020   \n",
       "count  8.200000e+01  8.200000e+01  8.200000e+01  8.200000e+01  8.200000e+01  \\\n",
       "mean   1.946704e+06  1.970988e+06  2.000095e+06  2.028171e+06  2.039375e+06   \n",
       "std    8.884413e+06  8.996369e+06  9.125385e+06  9.258787e+06  9.307607e+06   \n",
       "min    8.219300e+04  8.041700e+04  8.227400e+04  8.466000e+04  8.191000e+04   \n",
       "25%    2.900632e+05  2.888318e+05  2.912432e+05  2.898100e+05  2.899328e+05   \n",
       "50%    5.250190e+05  5.294195e+05  5.380700e+05  5.374790e+05  5.396550e+05   \n",
       "75%    1.052617e+06  1.065313e+06  1.080791e+06  1.097082e+06  1.109579e+06   \n",
       "max    7.981487e+07  8.081052e+07  8.200388e+07  8.315500e+07  8.361436e+07   \n",
       "\n",
       "               2021  \n",
       "count  8.200000e+01  \n",
       "mean   2.065373e+06  \n",
       "std    9.429832e+06  \n",
       "min    8.364500e+04  \n",
       "25%    2.952515e+05  \n",
       "50%    5.498005e+05  \n",
       "75%    1.128873e+06  \n",
       "max    8.468027e+07  \n",
       "\n",
       "[8 rows x 22 columns]"
      ]
     },
     "execution_count": 187,
     "metadata": {},
     "output_type": "execute_result"
    }
   ],
   "source": [
    "city_pop = pd.read_csv(\"data/population_tr.csv\", sep=';')\n",
    "city_pop.describe()"
   ]
  },
  {
   "cell_type": "code",
   "execution_count": 188,
   "id": "feddbc07",
   "metadata": {},
   "outputs": [],
   "source": [
    "series1 = pd.Series([4, 7, -5, 3])\n"
   ]
  },
  {
   "attachments": {},
   "cell_type": "markdown",
   "id": "76a889ae",
   "metadata": {},
   "source": [
    "### Selecting Columns\n",
    "The Python and NumPy indexing operators [] and attribute operator . provide quick and easy access to pandas data structures across a wide range of use cases.\n",
    "\n",
    "A column in a DataFrame can be retrieved as a Series either by dict-like notation or by attribute:\n",
    "\n",
    "- Selecting a single column as a Series \n",
    "<br>To select a single column of data, simply put the name of the column in-between the brackets.\n",
    "```\n",
    "brics['capital']\n",
    "brics.capital:\n",
    "```"
   ]
  },
  {
   "cell_type": "code",
   "execution_count": 190,
   "id": "cbd602a6-80f8-404f-b78f-7a211c9901dc",
   "metadata": {},
   "outputs": [
    {
     "data": {
      "text/plain": [
       "code\n",
       "BR     Brasilia\n",
       "RU       Moscow\n",
       "IN    New Delhi\n",
       "CH      Beijing\n",
       "SA     Pretoria\n",
       "Name: capitol, dtype: object"
      ]
     },
     "execution_count": 190,
     "metadata": {},
     "output_type": "execute_result"
    }
   ],
   "source": [
    "brics['capitol']    # Series"
   ]
  },
  {
   "attachments": {},
   "cell_type": "markdown",
   "id": "fda04f45",
   "metadata": {},
   "source": [
    "You can get the array representation and index object of the Series via its `values` and `index` attributes, respectively:"
   ]
  },
  {
   "cell_type": "code",
   "execution_count": 191,
   "id": "c5c8fb0f-b0ca-4a1a-b925-443f1e79d664",
   "metadata": {},
   "outputs": [
    {
     "data": {
      "text/plain": [
       "pandas.core.series.Series"
      ]
     },
     "execution_count": 191,
     "metadata": {},
     "output_type": "execute_result"
    }
   ],
   "source": [
    "type(brics['capitol'])  # pandas.core.series.Series\n"
   ]
  },
  {
   "cell_type": "code",
   "execution_count": 192,
   "id": "5bd86800",
   "metadata": {},
   "outputs": [
    {
     "data": {
      "text/plain": [
       "Index(['BR', 'RU', 'IN', 'CH', 'SA'], dtype='object', name='code')"
      ]
     },
     "execution_count": 192,
     "metadata": {},
     "output_type": "execute_result"
    }
   ],
   "source": [
    "brics['capitol'].index      # Index(['BR', 'RU', 'IN', 'CH', 'SA'], dtype='object', name='code')\n"
   ]
  },
  {
   "cell_type": "code",
   "execution_count": null,
   "id": "c8f611a7",
   "metadata": {},
   "outputs": [
    {
     "data": {
      "text/plain": [
       "array(['Brazil', 'Russia', 'India', 'China', 'South Africa'], dtype=object)"
      ]
     },
     "execution_count": 21,
     "metadata": {},
     "output_type": "execute_result"
    }
   ],
   "source": [
    "brics['country'].values     # array(['Brazil', 'Russia', 'India', 'China', 'South Africa'], dtype=object)"
   ]
  },
  {
   "attachments": {},
   "cell_type": "markdown",
   "id": "2a05e093",
   "metadata": {},
   "source": [
    "Selecting multiple columns as a DataFrame: `brics[['country', 'capital']]`\n",
    "<br>Pass a list as an argument to df index: [ [] ]"
   ]
  },
  {
   "cell_type": "code",
   "execution_count": 194,
   "id": "c47d9bef-30fe-4d37-a5bb-9b68955226a5",
   "metadata": {},
   "outputs": [
    {
     "data": {
      "text/html": [
       "<div>\n",
       "<style scoped>\n",
       "    .dataframe tbody tr th:only-of-type {\n",
       "        vertical-align: middle;\n",
       "    }\n",
       "\n",
       "    .dataframe tbody tr th {\n",
       "        vertical-align: top;\n",
       "    }\n",
       "\n",
       "    .dataframe thead th {\n",
       "        text-align: right;\n",
       "    }\n",
       "</style>\n",
       "<table border=\"1\" class=\"dataframe\">\n",
       "  <thead>\n",
       "    <tr style=\"text-align: right;\">\n",
       "      <th></th>\n",
       "      <th>country</th>\n",
       "      <th>capitol</th>\n",
       "    </tr>\n",
       "    <tr>\n",
       "      <th>code</th>\n",
       "      <th></th>\n",
       "      <th></th>\n",
       "    </tr>\n",
       "  </thead>\n",
       "  <tbody>\n",
       "    <tr>\n",
       "      <th>BR</th>\n",
       "      <td>Brazil</td>\n",
       "      <td>Brasilia</td>\n",
       "    </tr>\n",
       "    <tr>\n",
       "      <th>RU</th>\n",
       "      <td>Russia</td>\n",
       "      <td>Moscow</td>\n",
       "    </tr>\n",
       "    <tr>\n",
       "      <th>IN</th>\n",
       "      <td>India</td>\n",
       "      <td>New Delhi</td>\n",
       "    </tr>\n",
       "    <tr>\n",
       "      <th>CH</th>\n",
       "      <td>China</td>\n",
       "      <td>Beijing</td>\n",
       "    </tr>\n",
       "    <tr>\n",
       "      <th>SA</th>\n",
       "      <td>South Africa</td>\n",
       "      <td>Pretoria</td>\n",
       "    </tr>\n",
       "  </tbody>\n",
       "</table>\n",
       "</div>"
      ],
      "text/plain": [
       "           country    capitol\n",
       "code                         \n",
       "BR          Brazil   Brasilia\n",
       "RU          Russia     Moscow\n",
       "IN           India  New Delhi\n",
       "CH           China    Beijing\n",
       "SA    South Africa   Pretoria"
      ]
     },
     "execution_count": 194,
     "metadata": {},
     "output_type": "execute_result"
    }
   ],
   "source": [
    "brics[['country', 'capitol']]"
   ]
  },
  {
   "cell_type": "code",
   "execution_count": 195,
   "id": "4b1c143d",
   "metadata": {},
   "outputs": [
    {
     "data": {
      "text/plain": [
       "pandas.core.frame.DataFrame"
      ]
     },
     "execution_count": 195,
     "metadata": {},
     "output_type": "execute_result"
    }
   ],
   "source": [
    "type(brics[['country', 'capitol']])  # pandas.core.frame.DataFrame\n"
   ]
  },
  {
   "attachments": {},
   "cell_type": "markdown",
   "id": "62156c23-5546-4aec-9131-044eaca3dce6",
   "metadata": {},
   "source": [
    "<link href=\"https://cdn.jsdelivr.net/npm/bootstrap@5.2.3/dist/css/bootstrap.min.css\" rel=\"stylesheet\" integrity=\"sha384-rbsA2VBKQhggwzxH7pPCaAqO46MgnOM80zW1RWuH61DGLwZJEdK2Kadq2F9CUG65\" crossorigin=\"anonymous\">\n",
    "\n",
    "<style>\n",
    "    code{\n",
    "      color: red;\n",
    "    }\n",
    "    \n",
    "    .mark{\n",
    "        color: #e83e8c;\n",
    "        font-weight: 400;\n",
    "        font-size: 87.5%;\n",
    "        line-height: 1.65;\n",
    "        word-wrap: break-word;\n",
    "        box-sizing: border-box;\n",
    "        font-family: \"SFMono-Regular\",Menlo,Consolas,Monaco,Liberation Mono,Lucida Console,monospace;\n",
    "\n",
    "        padding: 0.1rem 0.25rem;\n",
    "        background-color: #e1e1e1;\n",
    "        border: 1px solid #f5f5f5;\n",
    "        border-radius: 0.25rem;\n",
    "    }\n",
    "</style>\n",
    "\n",
    "### Selecting Row(s)\n",
    "The `.loc` indexer can select subsets of rows or columns. \n",
    "Most importantly, it only selects data by the **LABEL** of the rows and columns.\n",
    "\n",
    "```python\n",
    "    df.loc[row(s), column(s)]\n",
    "```\n",
    "\n",
    "The primary function of indexing with `[]` (a.k.a. `__getitem__` for those familiar with implementing class behavior in Python) is selecting out lower-dimensional slices. The following table shows return type values when indexing pandas objects with []:\n",
    "\n",
    "<table class=\"table\">\n",
    "  <thead>\n",
    "    <tr>\n",
    "      <th scope=\"col\">Object Type</th>\n",
    "      <th scope=\"col\">Selection</th>\n",
    "      <th scope=\"col\">Return Type</th>\n",
    "    </tr>\n",
    "  </thead>\n",
    "  <tbody>\n",
    "    <tr>\n",
    "      <!--<th scope=\"row\">Series</th>-->\n",
    "      <td>Series</td>\n",
    "      <td><span class=\"mark\">series[label]</span></td>\n",
    "      <td>scalar value</td>\n",
    "    </tr>\n",
    "    <tr>\n",
    "      <!--<th scope=\"row\">Series</th>-->\n",
    "      <td>DataFrame</td>\n",
    "      <td><span class=\"mark\">frame[colname]</span></td>\n",
    "      <td><span class=\"mark\">Series</span> corresponding to colname</td>\n",
    "    </tr>\n",
    "  </tbody>\n",
    "</table>\n",
    "\n",
    "Allowed inputs are:\n",
    "1. A single label              : 'TR'\n",
    "2. A list or array of labels   : ['TR', 'UK']\n",
    "3. A slice object with labels  : 'TR' : 'UK'\n",
    "4. A boolean array             : [True, False]\n",
    "\n",
    "#### Slicing\n",
    "- Slicing with labels behaves differently than normal Python slicing in that the end‐point is inclusive.\n",
    "- Note that when slicing, no braces inside .loc[:,:]\n",
    "\n",
    "#### .loc[] Indexer Syntax:\n",
    "<table>\n",
    "  <thead>\n",
    "    <tr>\n",
    "      <th scope=\"col\">Selection</th>\n",
    "      <th scope=\"col\">Syntax</th>\n",
    "      <th scope=\"col\">Return</th>\n",
    "    </tr>\n",
    "  </thead>\n",
    "    <tbody>\n",
    "    <tr>\n",
    "      <!--<th scope=\"row\">Series</th>-->\n",
    "      <td>Select a single row</td>\n",
    "      <td><span class=\"mark\">.loc['RU']<span></td>\n",
    "      <td>`Series`</td>\n",
    "    </tr>\n",
    "    <tr>\n",
    "      <td>Select multiple rows</td>\n",
    "      <td><span class=\"mark\">.loc[['IN', 'RU']]<span></td>\n",
    "      <td><code>DataFrame</code></td>\n",
    "    </tr>\n",
    "    <tr>\n",
    "      <td>Select a range of rows</td>\n",
    "      <td><span class=\"mark\">.loc['IN':'SA']<span></td>\n",
    "      <td><code>DataFrame</code></td>\n",
    "    </tr>\n",
    "    <tr>\n",
    "      <td>Select a cell (row and column)</td>\n",
    "      <td><span class=\"mark\">.loc['RU', 'capitol']<span></td>\n",
    "      <td>Scalar value</td>\n",
    "    </tr>\n",
    "    <tr>\n",
    "      <td>Select 2 rows and 2 columns</td>\n",
    "      <td><span class=\"mark\">.loc[['IN', 'RU'],['country', 'capital']]<span></td>\n",
    "      <td><code>DataFrame</code></td>\n",
    "    </tr>\n",
    "    <tr>\n",
    "      <td>Select a column (all of the rows)</td>\n",
    "      <td><span class=\"mark\">.loc[:, ['capital']]<span></td>\n",
    "      <td><code>DataFrame</code></td>\n",
    "    </tr>\n",
    "    <tr>\n",
    "      <td>Select 2 columns (all of the rows)</td>\n",
    "      <td><span class=\"mark\">.loc[:, ['country', 'capital']]<span></td>\n",
    "      <td><code>DataFrame</code></td>\n",
    "    </tr>\n",
    "\n",
    "  </tbody>\n",
    "</table>"
   ]
  },
  {
   "cell_type": "code",
   "execution_count": 196,
   "id": "6405619e-ea9d-4a4e-802d-ebde82402f41",
   "metadata": {},
   "outputs": [
    {
     "data": {
      "text/plain": [
       "country       Russia\n",
       "capitol       Moscow\n",
       "area            17.1\n",
       "population     143.5\n",
       "Name: RU, dtype: object"
      ]
     },
     "execution_count": 196,
     "metadata": {},
     "output_type": "execute_result"
    }
   ],
   "source": [
    "brics.loc['RU']"
   ]
  },
  {
   "cell_type": "code",
   "execution_count": 197,
   "id": "c4691f74",
   "metadata": {},
   "outputs": [
    {
     "data": {
      "text/html": [
       "<div>\n",
       "<style scoped>\n",
       "    .dataframe tbody tr th:only-of-type {\n",
       "        vertical-align: middle;\n",
       "    }\n",
       "\n",
       "    .dataframe tbody tr th {\n",
       "        vertical-align: top;\n",
       "    }\n",
       "\n",
       "    .dataframe thead th {\n",
       "        text-align: right;\n",
       "    }\n",
       "</style>\n",
       "<table border=\"1\" class=\"dataframe\">\n",
       "  <thead>\n",
       "    <tr style=\"text-align: right;\">\n",
       "      <th></th>\n",
       "      <th>country</th>\n",
       "      <th>capitol</th>\n",
       "      <th>area</th>\n",
       "      <th>population</th>\n",
       "    </tr>\n",
       "    <tr>\n",
       "      <th>code</th>\n",
       "      <th></th>\n",
       "      <th></th>\n",
       "      <th></th>\n",
       "      <th></th>\n",
       "    </tr>\n",
       "  </thead>\n",
       "  <tbody>\n",
       "    <tr>\n",
       "      <th>RU</th>\n",
       "      <td>Russia</td>\n",
       "      <td>Moscow</td>\n",
       "      <td>17.100</td>\n",
       "      <td>143.5</td>\n",
       "    </tr>\n",
       "    <tr>\n",
       "      <th>IN</th>\n",
       "      <td>India</td>\n",
       "      <td>New Delhi</td>\n",
       "      <td>3.286</td>\n",
       "      <td>1252.0</td>\n",
       "    </tr>\n",
       "  </tbody>\n",
       "</table>\n",
       "</div>"
      ],
      "text/plain": [
       "     country    capitol    area  population\n",
       "code                                       \n",
       "RU    Russia     Moscow  17.100       143.5\n",
       "IN     India  New Delhi   3.286      1252.0"
      ]
     },
     "execution_count": 197,
     "metadata": {},
     "output_type": "execute_result"
    }
   ],
   "source": [
    "brics.loc[['RU', 'IN']]\n"
   ]
  },
  {
   "cell_type": "code",
   "execution_count": null,
   "id": "7fcda7ce",
   "metadata": {},
   "outputs": [
    {
     "data": {
      "text/html": [
       "<div>\n",
       "<style scoped>\n",
       "    .dataframe tbody tr th:only-of-type {\n",
       "        vertical-align: middle;\n",
       "    }\n",
       "\n",
       "    .dataframe tbody tr th {\n",
       "        vertical-align: top;\n",
       "    }\n",
       "\n",
       "    .dataframe thead th {\n",
       "        text-align: right;\n",
       "    }\n",
       "</style>\n",
       "<table border=\"1\" class=\"dataframe\">\n",
       "  <thead>\n",
       "    <tr style=\"text-align: right;\">\n",
       "      <th></th>\n",
       "      <th>country</th>\n",
       "      <th>capital</th>\n",
       "      <th>area</th>\n",
       "      <th>population</th>\n",
       "    </tr>\n",
       "    <tr>\n",
       "      <th>code</th>\n",
       "      <th></th>\n",
       "      <th></th>\n",
       "      <th></th>\n",
       "      <th></th>\n",
       "    </tr>\n",
       "  </thead>\n",
       "  <tbody>\n",
       "    <tr>\n",
       "      <th>IN</th>\n",
       "      <td>India</td>\n",
       "      <td>New Delhi</td>\n",
       "      <td>3.286</td>\n",
       "      <td>1252.00</td>\n",
       "    </tr>\n",
       "    <tr>\n",
       "      <th>CH</th>\n",
       "      <td>China</td>\n",
       "      <td>Beijing</td>\n",
       "      <td>9.597</td>\n",
       "      <td>1357.00</td>\n",
       "    </tr>\n",
       "    <tr>\n",
       "      <th>SA</th>\n",
       "      <td>South Africa</td>\n",
       "      <td>Pretoria</td>\n",
       "      <td>1.221</td>\n",
       "      <td>52.98</td>\n",
       "    </tr>\n",
       "  </tbody>\n",
       "</table>\n",
       "</div>"
      ],
      "text/plain": [
       "           country    capital   area  population\n",
       "code                                            \n",
       "IN           India  New Delhi  3.286     1252.00\n",
       "CH           China    Beijing  9.597     1357.00\n",
       "SA    South Africa   Pretoria  1.221       52.98"
      ]
     },
     "execution_count": 26,
     "metadata": {},
     "output_type": "execute_result"
    }
   ],
   "source": [
    "brics.loc['IN':'SA']    # Note that .loc includes the last value with slice notation!"
   ]
  },
  {
   "cell_type": "code",
   "execution_count": 199,
   "id": "77fe88a2",
   "metadata": {},
   "outputs": [
    {
     "data": {
      "text/plain": [
       "'Moscow'"
      ]
     },
     "execution_count": 199,
     "metadata": {},
     "output_type": "execute_result"
    }
   ],
   "source": [
    "brics.loc['RU', 'capitol']"
   ]
  },
  {
   "cell_type": "code",
   "execution_count": 200,
   "id": "2360f928",
   "metadata": {},
   "outputs": [
    {
     "data": {
      "text/html": [
       "<div>\n",
       "<style scoped>\n",
       "    .dataframe tbody tr th:only-of-type {\n",
       "        vertical-align: middle;\n",
       "    }\n",
       "\n",
       "    .dataframe tbody tr th {\n",
       "        vertical-align: top;\n",
       "    }\n",
       "\n",
       "    .dataframe thead th {\n",
       "        text-align: right;\n",
       "    }\n",
       "</style>\n",
       "<table border=\"1\" class=\"dataframe\">\n",
       "  <thead>\n",
       "    <tr style=\"text-align: right;\">\n",
       "      <th></th>\n",
       "      <th>country</th>\n",
       "      <th>capitol</th>\n",
       "    </tr>\n",
       "    <tr>\n",
       "      <th>code</th>\n",
       "      <th></th>\n",
       "      <th></th>\n",
       "    </tr>\n",
       "  </thead>\n",
       "  <tbody>\n",
       "    <tr>\n",
       "      <th>IN</th>\n",
       "      <td>India</td>\n",
       "      <td>New Delhi</td>\n",
       "    </tr>\n",
       "    <tr>\n",
       "      <th>RU</th>\n",
       "      <td>Russia</td>\n",
       "      <td>Moscow</td>\n",
       "    </tr>\n",
       "  </tbody>\n",
       "</table>\n",
       "</div>"
      ],
      "text/plain": [
       "     country    capitol\n",
       "code                   \n",
       "IN     India  New Delhi\n",
       "RU    Russia     Moscow"
      ]
     },
     "execution_count": 200,
     "metadata": {},
     "output_type": "execute_result"
    }
   ],
   "source": [
    "brics.loc[['IN', 'RU'],['country', 'capitol']]"
   ]
  },
  {
   "cell_type": "code",
   "execution_count": 201,
   "id": "5fa8f0d8",
   "metadata": {},
   "outputs": [
    {
     "data": {
      "text/html": [
       "<div>\n",
       "<style scoped>\n",
       "    .dataframe tbody tr th:only-of-type {\n",
       "        vertical-align: middle;\n",
       "    }\n",
       "\n",
       "    .dataframe tbody tr th {\n",
       "        vertical-align: top;\n",
       "    }\n",
       "\n",
       "    .dataframe thead th {\n",
       "        text-align: right;\n",
       "    }\n",
       "</style>\n",
       "<table border=\"1\" class=\"dataframe\">\n",
       "  <thead>\n",
       "    <tr style=\"text-align: right;\">\n",
       "      <th></th>\n",
       "      <th>country</th>\n",
       "      <th>capitol</th>\n",
       "    </tr>\n",
       "    <tr>\n",
       "      <th>code</th>\n",
       "      <th></th>\n",
       "      <th></th>\n",
       "    </tr>\n",
       "  </thead>\n",
       "  <tbody>\n",
       "    <tr>\n",
       "      <th>BR</th>\n",
       "      <td>Brazil</td>\n",
       "      <td>Brasilia</td>\n",
       "    </tr>\n",
       "    <tr>\n",
       "      <th>RU</th>\n",
       "      <td>Russia</td>\n",
       "      <td>Moscow</td>\n",
       "    </tr>\n",
       "    <tr>\n",
       "      <th>IN</th>\n",
       "      <td>India</td>\n",
       "      <td>New Delhi</td>\n",
       "    </tr>\n",
       "    <tr>\n",
       "      <th>CH</th>\n",
       "      <td>China</td>\n",
       "      <td>Beijing</td>\n",
       "    </tr>\n",
       "    <tr>\n",
       "      <th>SA</th>\n",
       "      <td>South Africa</td>\n",
       "      <td>Pretoria</td>\n",
       "    </tr>\n",
       "  </tbody>\n",
       "</table>\n",
       "</div>"
      ],
      "text/plain": [
       "           country    capitol\n",
       "code                         \n",
       "BR          Brazil   Brasilia\n",
       "RU          Russia     Moscow\n",
       "IN           India  New Delhi\n",
       "CH           China    Beijing\n",
       "SA    South Africa   Pretoria"
      ]
     },
     "execution_count": 201,
     "metadata": {},
     "output_type": "execute_result"
    }
   ],
   "source": [
    "# Select (all rows of) 2 columns\n",
    "brics.loc[:, ['country', 'capitol']]"
   ]
  },
  {
   "cell_type": "code",
   "execution_count": null,
   "id": "f6c1d1fd",
   "metadata": {},
   "outputs": [
    {
     "data": {
      "text/plain": [
       "code\n",
       "BR     Brasilia\n",
       "RU       Moscow\n",
       "IN    New Delhi\n",
       "CH      Beijing\n",
       "SA     Pretoria\n",
       "Name: capital, dtype: object"
      ]
     },
     "execution_count": 30,
     "metadata": {},
     "output_type": "execute_result"
    }
   ],
   "source": [
    "brics.loc[:, 'capital'] # Series\n"
   ]
  },
  {
   "cell_type": "code",
   "execution_count": 208,
   "id": "792178f0",
   "metadata": {},
   "outputs": [
    {
     "data": {
      "text/html": [
       "<div>\n",
       "<style scoped>\n",
       "    .dataframe tbody tr th:only-of-type {\n",
       "        vertical-align: middle;\n",
       "    }\n",
       "\n",
       "    .dataframe tbody tr th {\n",
       "        vertical-align: top;\n",
       "    }\n",
       "\n",
       "    .dataframe thead th {\n",
       "        text-align: right;\n",
       "    }\n",
       "</style>\n",
       "<table border=\"1\" class=\"dataframe\">\n",
       "  <thead>\n",
       "    <tr style=\"text-align: right;\">\n",
       "      <th></th>\n",
       "      <th>capitol</th>\n",
       "    </tr>\n",
       "    <tr>\n",
       "      <th>code</th>\n",
       "      <th></th>\n",
       "    </tr>\n",
       "  </thead>\n",
       "  <tbody>\n",
       "    <tr>\n",
       "      <th>BR</th>\n",
       "      <td>Brasilia</td>\n",
       "    </tr>\n",
       "    <tr>\n",
       "      <th>RU</th>\n",
       "      <td>Moscow</td>\n",
       "    </tr>\n",
       "    <tr>\n",
       "      <th>IN</th>\n",
       "      <td>New Delhi</td>\n",
       "    </tr>\n",
       "    <tr>\n",
       "      <th>CH</th>\n",
       "      <td>Beijing</td>\n",
       "    </tr>\n",
       "    <tr>\n",
       "      <th>SA</th>\n",
       "      <td>Pretoria</td>\n",
       "    </tr>\n",
       "  </tbody>\n",
       "</table>\n",
       "</div>"
      ],
      "text/plain": [
       "        capitol\n",
       "code           \n",
       "BR     Brasilia\n",
       "RU       Moscow\n",
       "IN    New Delhi\n",
       "CH      Beijing\n",
       "SA     Pretoria"
      ]
     },
     "execution_count": 208,
     "metadata": {},
     "output_type": "execute_result"
    }
   ],
   "source": [
    "brics.loc[:, ['capitol']]\n",
    "# type(brics.loc[:, ['capitol']])   # DataFrame\n"
   ]
  },
  {
   "cell_type": "code",
   "execution_count": 216,
   "id": "8bc3a2a9-d297-40f8-aaaa-c499b42e851c",
   "metadata": {},
   "outputs": [
    {
     "data": {
      "text/html": [
       "<div>\n",
       "<style scoped>\n",
       "    .dataframe tbody tr th:only-of-type {\n",
       "        vertical-align: middle;\n",
       "    }\n",
       "\n",
       "    .dataframe tbody tr th {\n",
       "        vertical-align: top;\n",
       "    }\n",
       "\n",
       "    .dataframe thead th {\n",
       "        text-align: right;\n",
       "    }\n",
       "</style>\n",
       "<table border=\"1\" class=\"dataframe\">\n",
       "  <thead>\n",
       "    <tr style=\"text-align: right;\">\n",
       "      <th></th>\n",
       "      <th>capitol</th>\n",
       "      <th>area</th>\n",
       "      <th>population</th>\n",
       "    </tr>\n",
       "    <tr>\n",
       "      <th>code</th>\n",
       "      <th></th>\n",
       "      <th></th>\n",
       "      <th></th>\n",
       "    </tr>\n",
       "  </thead>\n",
       "  <tbody>\n",
       "    <tr>\n",
       "      <th>BR</th>\n",
       "      <td>Brasilia</td>\n",
       "      <td>8.516</td>\n",
       "      <td>200.40</td>\n",
       "    </tr>\n",
       "    <tr>\n",
       "      <th>RU</th>\n",
       "      <td>Moscow</td>\n",
       "      <td>17.100</td>\n",
       "      <td>143.50</td>\n",
       "    </tr>\n",
       "    <tr>\n",
       "      <th>IN</th>\n",
       "      <td>New Delhi</td>\n",
       "      <td>3.286</td>\n",
       "      <td>1252.00</td>\n",
       "    </tr>\n",
       "    <tr>\n",
       "      <th>CH</th>\n",
       "      <td>Beijing</td>\n",
       "      <td>9.597</td>\n",
       "      <td>1357.00</td>\n",
       "    </tr>\n",
       "    <tr>\n",
       "      <th>SA</th>\n",
       "      <td>Pretoria</td>\n",
       "      <td>1.221</td>\n",
       "      <td>52.98</td>\n",
       "    </tr>\n",
       "  </tbody>\n",
       "</table>\n",
       "</div>"
      ],
      "text/plain": [
       "        capitol    area  population\n",
       "code                               \n",
       "BR     Brasilia   8.516      200.40\n",
       "RU       Moscow  17.100      143.50\n",
       "IN    New Delhi   3.286     1252.00\n",
       "CH      Beijing   9.597     1357.00\n",
       "SA     Pretoria   1.221       52.98"
      ]
     },
     "execution_count": 216,
     "metadata": {},
     "output_type": "execute_result"
    }
   ],
   "source": [
    "brics.loc[:, 'capitol':'population']"
   ]
  },
  {
   "attachments": {},
   "cell_type": "markdown",
   "id": "49b8426e",
   "metadata": {},
   "source": [
    "### Selecting subsets with .iloc\n",
    "The .iloc indexer is very similar to .loc but only uses integer locations to make its selections.\n",
    "\n",
    "pandas provides a suite of methods in order to get purely integer based indexing. (0-based)\n",
    "```\n",
    "df.iloc[0]\n",
    "```\n",
    "- Selecting a single row with .iloc: `.iloc[0]` \n",
    "- Selecting multiple rows with .iloc: `.iloc[[0, 2, 4]]`\n",
    "- Use slice notation to select a range of rows: `.iloc[3:5]`\n",
    "- Selecting 2 rows and 2 columns: `.iloc[[0,4], [0, 2]]`"
   ]
  },
  {
   "cell_type": "code",
   "execution_count": null,
   "id": "5b274a47",
   "metadata": {},
   "outputs": [
    {
     "data": {
      "text/plain": [
       "country         Brazil\n",
       "capital       Brasilia\n",
       "area             8.516\n",
       "population       200.4\n",
       "Name: BR, dtype: object"
      ]
     },
     "execution_count": 35,
     "metadata": {},
     "output_type": "execute_result"
    }
   ],
   "source": [
    "brics.iloc[0]   # Series"
   ]
  },
  {
   "cell_type": "code",
   "execution_count": null,
   "id": "15473025",
   "metadata": {},
   "outputs": [
    {
     "data": {
      "text/html": [
       "<div>\n",
       "<style scoped>\n",
       "    .dataframe tbody tr th:only-of-type {\n",
       "        vertical-align: middle;\n",
       "    }\n",
       "\n",
       "    .dataframe tbody tr th {\n",
       "        vertical-align: top;\n",
       "    }\n",
       "\n",
       "    .dataframe thead th {\n",
       "        text-align: right;\n",
       "    }\n",
       "</style>\n",
       "<table border=\"1\" class=\"dataframe\">\n",
       "  <thead>\n",
       "    <tr style=\"text-align: right;\">\n",
       "      <th></th>\n",
       "      <th>country</th>\n",
       "      <th>capital</th>\n",
       "      <th>area</th>\n",
       "      <th>population</th>\n",
       "    </tr>\n",
       "    <tr>\n",
       "      <th>code</th>\n",
       "      <th></th>\n",
       "      <th></th>\n",
       "      <th></th>\n",
       "      <th></th>\n",
       "    </tr>\n",
       "  </thead>\n",
       "  <tbody>\n",
       "    <tr>\n",
       "      <th>BR</th>\n",
       "      <td>Brazil</td>\n",
       "      <td>Brasilia</td>\n",
       "      <td>8.516</td>\n",
       "      <td>200.40</td>\n",
       "    </tr>\n",
       "    <tr>\n",
       "      <th>IN</th>\n",
       "      <td>India</td>\n",
       "      <td>New Delhi</td>\n",
       "      <td>3.286</td>\n",
       "      <td>1252.00</td>\n",
       "    </tr>\n",
       "    <tr>\n",
       "      <th>SA</th>\n",
       "      <td>South Africa</td>\n",
       "      <td>Pretoria</td>\n",
       "      <td>1.221</td>\n",
       "      <td>52.98</td>\n",
       "    </tr>\n",
       "  </tbody>\n",
       "</table>\n",
       "</div>"
      ],
      "text/plain": [
       "           country    capital   area  population\n",
       "code                                            \n",
       "BR          Brazil   Brasilia  8.516      200.40\n",
       "IN           India  New Delhi  3.286     1252.00\n",
       "SA    South Africa   Pretoria  1.221       52.98"
      ]
     },
     "execution_count": 36,
     "metadata": {},
     "output_type": "execute_result"
    }
   ],
   "source": [
    "brics.iloc[[0, 2, 4]]   # remember, don't do df.iloc[5, 2, 4]\n"
   ]
  },
  {
   "cell_type": "code",
   "execution_count": null,
   "id": "9408fdb3",
   "metadata": {},
   "outputs": [
    {
     "data": {
      "text/html": [
       "<div>\n",
       "<style scoped>\n",
       "    .dataframe tbody tr th:only-of-type {\n",
       "        vertical-align: middle;\n",
       "    }\n",
       "\n",
       "    .dataframe tbody tr th {\n",
       "        vertical-align: top;\n",
       "    }\n",
       "\n",
       "    .dataframe thead th {\n",
       "        text-align: right;\n",
       "    }\n",
       "</style>\n",
       "<table border=\"1\" class=\"dataframe\">\n",
       "  <thead>\n",
       "    <tr style=\"text-align: right;\">\n",
       "      <th></th>\n",
       "      <th>country</th>\n",
       "      <th>capital</th>\n",
       "      <th>area</th>\n",
       "      <th>population</th>\n",
       "    </tr>\n",
       "    <tr>\n",
       "      <th>code</th>\n",
       "      <th></th>\n",
       "      <th></th>\n",
       "      <th></th>\n",
       "      <th></th>\n",
       "    </tr>\n",
       "  </thead>\n",
       "  <tbody>\n",
       "    <tr>\n",
       "      <th>IN</th>\n",
       "      <td>India</td>\n",
       "      <td>New Delhi</td>\n",
       "      <td>3.286</td>\n",
       "      <td>1252.0</td>\n",
       "    </tr>\n",
       "    <tr>\n",
       "      <th>CH</th>\n",
       "      <td>China</td>\n",
       "      <td>Beijing</td>\n",
       "      <td>9.597</td>\n",
       "      <td>1357.0</td>\n",
       "    </tr>\n",
       "  </tbody>\n",
       "</table>\n",
       "</div>"
      ],
      "text/plain": [
       "     country    capital   area  population\n",
       "code                                      \n",
       "IN     India  New Delhi  3.286      1252.0\n",
       "CH     China    Beijing  9.597      1357.0"
      ]
     },
     "execution_count": 37,
     "metadata": {},
     "output_type": "execute_result"
    }
   ],
   "source": [
    "brics.iloc[2:4]\n"
   ]
  },
  {
   "cell_type": "code",
   "execution_count": null,
   "id": "d41d89d0",
   "metadata": {},
   "outputs": [
    {
     "data": {
      "text/html": [
       "<div>\n",
       "<style scoped>\n",
       "    .dataframe tbody tr th:only-of-type {\n",
       "        vertical-align: middle;\n",
       "    }\n",
       "\n",
       "    .dataframe tbody tr th {\n",
       "        vertical-align: top;\n",
       "    }\n",
       "\n",
       "    .dataframe thead th {\n",
       "        text-align: right;\n",
       "    }\n",
       "</style>\n",
       "<table border=\"1\" class=\"dataframe\">\n",
       "  <thead>\n",
       "    <tr style=\"text-align: right;\">\n",
       "      <th></th>\n",
       "      <th>country</th>\n",
       "      <th>area</th>\n",
       "    </tr>\n",
       "    <tr>\n",
       "      <th>code</th>\n",
       "      <th></th>\n",
       "      <th></th>\n",
       "    </tr>\n",
       "  </thead>\n",
       "  <tbody>\n",
       "    <tr>\n",
       "      <th>BR</th>\n",
       "      <td>Brazil</td>\n",
       "      <td>8.516</td>\n",
       "    </tr>\n",
       "    <tr>\n",
       "      <th>SA</th>\n",
       "      <td>South Africa</td>\n",
       "      <td>1.221</td>\n",
       "    </tr>\n",
       "  </tbody>\n",
       "</table>\n",
       "</div>"
      ],
      "text/plain": [
       "           country   area\n",
       "code                     \n",
       "BR          Brazil  8.516\n",
       "SA    South Africa  1.221"
      ]
     },
     "execution_count": 38,
     "metadata": {},
     "output_type": "execute_result"
    }
   ],
   "source": [
    "brics.iloc[[0, 4], [0, 2]]"
   ]
  },
  {
   "attachments": {},
   "cell_type": "markdown",
   "id": "4d3548c9",
   "metadata": {},
   "source": [
    "## Boolean indexing\n",
    "Another common operation is the use of boolean vectors to filter the data. \n",
    "- Using a boolean vector to index a Series works exactly as in a NumPy ndarray.\n",
    "- The operators are: | for or, & for and, and ~ for not.\n",
    "\n",
    "```python\n",
    "    # column:\n",
    "    calling_codes = {'TR':90, 'UK':44, 'US':1, 'JP':81, 'CN':86}\n",
    "\n",
    "    # Create Series from dictionary:\n",
    "    s = pd.Series(calling_codes)\n",
    "\n",
    "```\n",
    "- Note that when we write a condition on a scalar, it returns boolean value.\n",
    "We can write the condition on a Series also, then it returns a boolean vector!\n",
    "```python\n",
    "    filter1 = s > 80    # Series[bool]\n",
    "```\n",
    "- On a DataFrame object, to write a condition on a series, first we get the column by index operator []:\n",
    "```python\n",
    "    filter2 = df['column'] > 1    # Series[bool]\n",
    "```\n",
    "\n",
    "Using a boolean vector as a filter works as a mask:\n",
    "```python\n",
    "    s[s>80]\n",
    "```\n",
    "\n",
    "<pre>\n",
    "    TR    90            TR     True                     TR    90\n",
    "    UK    44            UK    False                     JP    81\n",
    "    US     1     x      US    False                 =   CN    86\n",
    "    JP    81            JP     True                     dtype: int64\n",
    "    CN    86            CN     True\n",
    "    dtype: int64        dtype: bool\n",
    "</pre>\n",
    "\n",
    "Using a boolean vector to index a Dataframe: \n",
    "```python\n",
    "    df[df['column'] > 1000]`\n",
    "```\n",
    "\n",
    "<pre>\n",
    "                        BR    False                         country    capitol   area  population\n",
    "                        RU    False                     code                                      \n",
    "       df        x      IN     True                 =   IN     India  New Delhi  3.286      1252.0\n",
    "                        CN     True                     CH     China    Beijing  9.597      1357.0\n",
    "                        SA    False\n",
    "    dtype: int64        Name: population, dtype: bool\n",
    "</pre>"
   ]
  },
  {
   "cell_type": "code",
   "execution_count": 248,
   "id": "95c97f07",
   "metadata": {},
   "outputs": [
    {
     "name": "stdout",
     "output_type": "stream",
     "text": [
      "TR     True\n",
      "UK    False\n",
      "US    False\n",
      "JP     True\n",
      "CN     True\n",
      "dtype: bool\n",
      "TR    90\n",
      "JP    81\n",
      "CN    86\n",
      "dtype: int64\n"
     ]
    }
   ],
   "source": [
    "# boolean vector to index a Series:\n",
    "\n",
    "# row:\n",
    "country = {'ISO':'TR', 'call':90, 'capitol':'Ankara', 'name':'Turkey'}\n",
    "# column:\n",
    "call_dict = {'TR':90, 'UK':44, 'US':1, 'JP':81, 'CN':86}\n",
    "\n",
    "# Create Series from dictionary:\n",
    "calling_codes = pd.Series(calling_codes)\n",
    "\n",
    "# print(calling_codes)\n",
    "\n",
    "# Note that when we write a condition on a scalar, it returns boolean value.\n",
    "# We can write the condition on a Series also, then it returns a boolean vector!\n",
    "filter1 = calling_codes > 80    # Series[bool]\n",
    "\n",
    "print(filter1)\n",
    "\n",
    "\"\"\" \n",
    "TR     True\n",
    "UK    False\n",
    "US    False\n",
    "JP     True\n",
    "CN     True\n",
    "dtype: bool\n",
    "\"\"\"\n",
    "\n",
    "# Using a boolean vector to index a Series:\n",
    "df_filtered = calling_codes[calling_codes > 80]\n",
    "\n",
    "print(df_filtered)\n",
    "\"\"\" \n",
    "TR    90\n",
    "JP    81\n",
    "CN    86\n",
    "dtype: int64\n",
    "\"\"\"\n",
    "\n",
    "x = 0   # to stop last \"\"\" \"\"\" from printing"
   ]
  },
  {
   "cell_type": "code",
   "execution_count": 221,
   "id": "1d8beff1",
   "metadata": {},
   "outputs": [
    {
     "name": "stdout",
     "output_type": "stream",
     "text": [
      "     country    capitol   area  population\n",
      "code                                      \n",
      "IN     India  New Delhi  3.286      1252.0\n",
      "CH     China    Beijing  9.597      1357.0\n",
      "code\n",
      "IN    India\n",
      "CH    China\n",
      "Name: country, dtype: object\n"
     ]
    }
   ],
   "source": [
    "filter = brics['population'] >= 1000.0\n",
    "\n",
    "high_pop = brics[filter]\n",
    "high_pop_country = brics.loc[filter, 'country']\n",
    "\n",
    "print(high_pop)\n",
    "print(high_pop_country)\n"
   ]
  }
 ],
 "metadata": {
  "kernelspec": {
   "display_name": "Python 3 (ipykernel)",
   "language": "python",
   "name": "python3"
  },
  "language_info": {
   "codemirror_mode": {
    "name": "ipython",
    "version": 3
   },
   "file_extension": ".py",
   "mimetype": "text/x-python",
   "name": "python",
   "nbconvert_exporter": "python",
   "pygments_lexer": "ipython3",
   "version": "3.10.8"
  }
 },
 "nbformat": 4,
 "nbformat_minor": 5
}
