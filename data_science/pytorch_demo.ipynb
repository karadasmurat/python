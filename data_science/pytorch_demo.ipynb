{
 "cells": [
  {
   "cell_type": "code",
   "execution_count": 74,
   "metadata": {},
   "outputs": [
    {
     "data": {
      "text/plain": [
       "'2.4.1'"
      ]
     },
     "execution_count": 74,
     "metadata": {},
     "output_type": "execute_result"
    }
   ],
   "source": [
    "import numpy as np\n",
    "import torch\n",
    "\n",
    "torch.__version__"
   ]
  },
  {
   "cell_type": "code",
   "execution_count": 7,
   "metadata": {},
   "outputs": [
    {
     "name": "stdout",
     "output_type": "stream",
     "text": [
      "tensor([1, 2, 3])\n",
      "tensor([[1, 2],\n",
      "        [3, 4]])\n"
     ]
    }
   ],
   "source": [
    "# Tensors can be created directly from data. \n",
    "\n",
    "# Create a 1-dimensional tensor\n",
    "tensor1d = torch.tensor([1, 2, 3])\n",
    "\n",
    "# Create a 2-dimensional tensor\n",
    "tensor2d = torch.tensor([[1, 2], [3, 4]])\n",
    "\n",
    "\n",
    "print(tensor1d)\n",
    "print(tensor2d)"
   ]
  },
  {
   "cell_type": "code",
   "execution_count": 10,
   "metadata": {},
   "outputs": [
    {
     "name": "stdout",
     "output_type": "stream",
     "text": [
      "torch.Size([2, 3])\n",
      "tensor([[1, 2, 3],\n",
      "        [4, 5, 6]])\n"
     ]
    }
   ],
   "source": [
    "data = [[1, 2, 3], [4, 5, 6]]\n",
    "np_array = np.array(data)\n",
    "\n",
    "# Tensors can be created from NumPy arrays\n",
    "x_np = torch.from_numpy(np_array)\n",
    "\n",
    "print(x_np.shape)\n",
    "print(x_np)"
   ]
  },
  {
   "cell_type": "code",
   "execution_count": 44,
   "metadata": {},
   "outputs": [
    {
     "name": "stdout",
     "output_type": "stream",
     "text": [
      "torch.Size([3, 1])\n"
     ]
    }
   ],
   "source": [
    "tensor = torch.tensor([[0.2],[0.3], [0.4]])\n",
    "print(tensor.shape)"
   ]
  },
  {
   "cell_type": "code",
   "execution_count": 53,
   "metadata": {},
   "outputs": [
    {
     "data": {
      "text/plain": [
       "tensor([[1., 1., 1., 1.],\n",
       "        [1., 1., 1., 1.]], dtype=torch.float64)"
      ]
     },
     "execution_count": 53,
     "metadata": {},
     "output_type": "execute_result"
    }
   ],
   "source": [
    "tensor = torch.ones([2, 4], dtype=torch.float64)\n",
    "\n",
    "tensor"
   ]
  },
  {
   "cell_type": "code",
   "execution_count": 8,
   "metadata": {},
   "outputs": [
    {
     "name": "stdout",
     "output_type": "stream",
     "text": [
      "torch.Size([2, 3, 4])\n",
      "tensor([[[ 0.9161,  0.5751, -1.7719,  0.7283],\n",
      "         [-1.1367,  0.3688,  1.6488,  0.6709],\n",
      "         [ 1.1779, -1.3423,  0.1739,  1.5059]],\n",
      "\n",
      "        [[ 0.8036,  0.1165, -0.0971, -0.2565],\n",
      "         [ 1.2921, -2.8459, -0.2031, -0.7070],\n",
      "         [ 0.8128, -0.4673, -0.3811,  0.0535]]])\n"
     ]
    }
   ],
   "source": [
    "# creates a 3D tensor with the shape of 2 matrices of 3x4 (3 rows and 4 columns)\n",
    "tensor = torch.randn(2, 3, 4)\n",
    "print(tensor.shape)  # torch.Size([2, 3, 4])\n",
    "print(tensor)"
   ]
  },
  {
   "cell_type": "code",
   "execution_count": 15,
   "metadata": {},
   "outputs": [
    {
     "name": "stdout",
     "output_type": "stream",
     "text": [
      "tensor([0., 0., 0., 0.])\n",
      "tensor([[1., 1., 1.],\n",
      "        [1., 1., 1.]])\n"
     ]
    }
   ],
   "source": [
    "# 1D tensor filled with zeros\n",
    "zeros_tensor = torch.zeros(4)   # tensor([0., 0., 0., 0.])\n",
    "\n",
    "# 2D (2x3) tensor filled with ones\n",
    "ones_tensor = torch.ones(2, 3)  \n",
    "\n",
    "print(zeros_tensor)\n",
    "print(ones_tensor)"
   ]
  },
  {
   "cell_type": "code",
   "execution_count": 16,
   "metadata": {},
   "outputs": [
    {
     "data": {
      "text/plain": [
       "tensor([0, 2, 4, 6, 8])"
      ]
     },
     "execution_count": 16,
     "metadata": {},
     "output_type": "execute_result"
    }
   ],
   "source": [
    "# Tensor with values from 0 to 10, stepping by 2\n",
    "arange_tensor = torch.arange(0, 10, 2)\n",
    "\n",
    "arange_tensor"
   ]
  },
  {
   "cell_type": "code",
   "execution_count": 17,
   "metadata": {},
   "outputs": [
    {
     "data": {
      "text/plain": [
       "tensor([[1., 0., 0.],\n",
       "        [0., 1., 0.],\n",
       "        [0., 0., 1.]])"
      ]
     },
     "execution_count": 17,
     "metadata": {},
     "output_type": "execute_result"
    }
   ],
   "source": [
    "identity_matrix = torch.eye(3)  # 3x3 identity matrix\n",
    "\n",
    "identity_matrix"
   ]
  },
  {
   "cell_type": "code",
   "execution_count": 11,
   "metadata": {},
   "outputs": [
    {
     "name": "stdout",
     "output_type": "stream",
     "text": [
      "Shape: torch.Size([3, 4])\n",
      "Datatype: torch.float32\n",
      "Device tensor is stored on: cpu\n"
     ]
    }
   ],
   "source": [
    "tensor = torch.rand(3, 4)\n",
    "\n",
    "print(f\"Shape: {tensor.shape}\")\n",
    "print(f\"Datatype: {tensor.dtype}\")\n",
    "print(f\"Device tensor is stored on: {tensor.device}\")"
   ]
  },
  {
   "cell_type": "markdown",
   "metadata": {},
   "source": [
    "## GPU\n",
    "* Apple uses a custom-designed GPU architecture.\n",
    "* Metal Performance Shaders (MPS) is a framework developed by Apple that provides access to the GPU on macOS devices.\n",
    "* Using MPS means that increased performance can be achieved, by running work on the metal GPU(s). "
   ]
  },
  {
   "cell_type": "code",
   "execution_count": 77,
   "metadata": {},
   "outputs": [
    {
     "name": "stdout",
     "output_type": "stream",
     "text": [
      "tensor([1, 2, 3], device='mps:0')\n"
     ]
    }
   ],
   "source": [
    "# MPS provides GPU acceleration\n",
    "# Check if the MPS backend is available on your system, and set the device\n",
    "if torch.backends.mps.is_available():\n",
    "    device = torch.device(\"mps\")\n",
    "else:\n",
    "    device = torch.device(\"cpu\")\n",
    "\n",
    "# Move tensors to the device:\n",
    "tensor = torch.tensor([1, 2, 3])\n",
    "tensor = tensor.to(device)\n",
    "\n",
    "print(tensor)"
   ]
  },
  {
   "cell_type": "code",
   "execution_count": 30,
   "metadata": {},
   "outputs": [
    {
     "data": {
      "text/plain": [
       "tensor([0.0000, 0.1000, 0.2000, 0.3000])"
      ]
     },
     "execution_count": 30,
     "metadata": {},
     "output_type": "execute_result"
    }
   ],
   "source": [
    "tensor = torch.tensor(\n",
    "    [[0.0, 0.1, 0.2, 0.3], [1.0, 1.1, 1.2, 1.3], [2.0, 2.1, 2.2, 2.3]])\n",
    "\n",
    "# Access the element at the first row, second column\n",
    "element = tensor[0, 1]  # tensor(0.1000)\n",
    "\n",
    "# v1 First row\n",
    "r0_v1 = tensor[0]  # tensor([0.0000, 0.1000, 0.2000, 0.3000])\n",
    "\n",
    "# v2 First row\n",
    "r0_v2 = tensor[0, :]  # tensor([0.0000, 0.1000, 0.2000, 0.3000])\n",
    "\n",
    "# Last row\n",
    "rl = tensor[-1, :]  # tensor([2.0000, 2.1000, 2.2000, 2.3000])\n",
    "\n",
    "# First column\n",
    "c0 = tensor[:, 0]  # tensor([0., 1., 2.])\n",
    "\n",
    "# Last column\n",
    "cl = tensor[:, -1]  # tensor([0.3000, 1.3000, 2.3000])\n",
    "\n",
    "r0_v2"
   ]
  },
  {
   "cell_type": "markdown",
   "metadata": {},
   "source": [
    "## Operations"
   ]
  },
  {
   "cell_type": "code",
   "execution_count": 32,
   "metadata": {},
   "outputs": [
    {
     "name": "stdout",
     "output_type": "stream",
     "text": [
      "tensor([5, 7, 9])\n",
      "tensor([ 4, 10, 18])\n",
      "tensor([2, 4, 6])\n"
     ]
    }
   ],
   "source": [
    "tensor1 = torch.tensor([1, 2, 3])\n",
    "tensor2 = torch.tensor([4, 5, 6])\n",
    "scalar = torch.tensor(2)\n",
    "\n",
    "# Element-wise addition\n",
    "result = tensor1 + tensor2\n",
    "print(result)  # Output: tensor([5, 7, 9])\n",
    "\n",
    "# Element-wise multiplication\n",
    "result = tensor1 * tensor2\n",
    "print(result)  # Output: tensor([4, 10, 18])\n",
    "\n",
    "# Broadcasting\n",
    "# Scalar 2 is broadcast to match the shape of tensor1\n",
    "result = tensor1 * scalar\n",
    "print(result)  # Output: tensor([2, 4, 6])"
   ]
  },
  {
   "cell_type": "code",
   "execution_count": 33,
   "metadata": {},
   "outputs": [
    {
     "name": "stdout",
     "output_type": "stream",
     "text": [
      "tensor([[0.0000, 0.1000, 0.2000],\n",
      "        [1.0000, 1.1000, 1.2000]])\n",
      "tensor([[0.0000, 1.0000],\n",
      "        [0.1000, 1.1000],\n",
      "        [0.2000, 1.2000]])\n"
     ]
    }
   ],
   "source": [
    "# tensor.T returns the transpose of a tensor\n",
    "tensor = torch.tensor([[0.0, 0.1, 0.2], [1.0, 1.1, 1.2]])\n",
    "\n",
    "print(tensor)\n",
    "print(tensor.T)"
   ]
  },
  {
   "cell_type": "code",
   "execution_count": 52,
   "metadata": {},
   "outputs": [
    {
     "name": "stdout",
     "output_type": "stream",
     "text": [
      "tensor(63.)\n"
     ]
    }
   ],
   "source": [
    "# The matrix multiplication between two tensors. \n",
    "# use case: grade of a student\n",
    "scores = torch.tensor([50.0, 60.0, 70.0])\n",
    "w = torch.tensor([0.2, 0.3, 0.5])\n",
    "\n",
    "# v1: using @\n",
    "y1 = scores @ w  # tensor(63.)\n",
    "\n",
    "# v2: using torch.matmul()\n",
    "y2 = torch.matmul(scores, w)  # tensor(63.)\n",
    "\n",
    "tensor3 = torch.tensor([[50.0, 60.0, 70.0], [40.0, 80.0, 80.0]])\n",
    "\n",
    "y3 = tensor3 @ tensor2\n",
    "\n",
    "print(y1)\n",
    "# print(scores.shape)\n",
    "# print(w.shape)\n",
    "# print(y1.shape)"
   ]
  },
  {
   "cell_type": "code",
   "execution_count": 43,
   "metadata": {},
   "outputs": [
    {
     "data": {
      "text/plain": [
       "tensor([[14000., 12600.],\n",
       "        [15400., 13860.]])"
      ]
     },
     "execution_count": 43,
     "metadata": {},
     "output_type": "execute_result"
    }
   ],
   "source": [
    "# The matrix multiplication between two tensors.\n",
    "prices1 = torch.tensor([100, 200, 300])\n",
    "prices2 = prices1 * 1.1  # inflation\n",
    "prices = torch.vstack((prices1, prices2))\n",
    "\n",
    "qty1 = torch.tensor([10, 20, 30])\n",
    "qty2 = qty1 * 0.9\n",
    "qty = torch.vstack((qty1, qty2))\n",
    "\n",
    "revenue = prices @ qty.T\n",
    "\n",
    "revenue"
   ]
  },
  {
   "cell_type": "code",
   "execution_count": 62,
   "metadata": {},
   "outputs": [
    {
     "name": "stdout",
     "output_type": "stream",
     "text": [
      "Min value: tensor(90.) at index: tensor(0)\n",
      "Max value: tensor(110.) at index: tensor(2)\n",
      "Mean value: tensor(100.)\n",
      "Median value: tensor(100.)\n",
      "Mode value: torch.return_types.mode(\n",
      "values=tensor(90.),\n",
      "indices=tensor(0))\n",
      "Variance: tensor(100.)\n",
      "Sample Standard deviation: tensor(10.)\n",
      "Standard deviation: tensor(8.1650)\n",
      "Sum: tensor(300.)\n"
     ]
    }
   ],
   "source": [
    "# Create a sample tensor\n",
    "tensor = torch.tensor([90, 100, 110], dtype=torch.float32)\n",
    "\n",
    "# Minimum value\n",
    "min_value = torch.min(tensor)\n",
    "\n",
    "# Indice of the minimum\n",
    "min_index = torch.argmin(tensor)\n",
    "print(\"Min value:\", min_value, \"at index:\", min_index)\n",
    "\n",
    "# Maximum value\n",
    "max_value = torch.max(tensor)\n",
    "\n",
    "# Indice of the maximum\n",
    "max_index = torch.argmax(tensor)\n",
    "print(\"Max value:\", max_value, \"at index:\", max_index)\n",
    "\n",
    "# Mean value\n",
    "mean_value = torch.mean(tensor)\n",
    "print(\"Mean value:\", mean_value)\n",
    "\n",
    "# Median value\n",
    "median_value = torch.median(tensor)\n",
    "print(\"Median value:\", median_value)\n",
    "\n",
    "# Mode value\n",
    "mode_value = torch.mode(tensor)\n",
    "print(\"Mode value:\", mode_value)\n",
    "\n",
    "# Variance\n",
    "variance = torch.var(tensor)\n",
    "print(\"Variance:\", variance)\n",
    "\n",
    "# Standard deviation, sample std by default\n",
    "std_dev_sample = torch.std(tensor)\n",
    "print(\"Sample Standard deviation:\", std_dev_sample)\n",
    "\n",
    "# Standard deviation\n",
    "std_dev = torch.std(tensor, unbiased=False)\n",
    "print(\"Standard deviation:\", std_dev)\n",
    "\n",
    "# Sum\n",
    "sum_value = torch.sum(tensor)\n",
    "print(\"Sum:\", sum_value)"
   ]
  },
  {
   "cell_type": "markdown",
   "metadata": {},
   "source": [
    "## Tensor Views\n",
    "PyTorch allows a tensor to be a View of an existing tensor. View tensor shares the same underlying data with its base tensor. "
   ]
  },
  {
   "cell_type": "code",
   "execution_count": 73,
   "metadata": {},
   "outputs": [
    {
     "name": "stdout",
     "output_type": "stream",
     "text": [
      "tensor([0., 0., 0., 0., 0., 0.])\n",
      "tensor([[0., 0., 0.],\n",
      "        [0., 0., 0.]])\n",
      "tensor([[0., 0., 0.],\n",
      "        [0., 0., 0.]])\n",
      "tensor([1., 0., 0., 0., 0., 0.])\n"
     ]
    }
   ],
   "source": [
    "t = torch.zeros(6)\n",
    "\n",
    "# View tensor shares the same underlying data with its base tensor.\n",
    "b = t.view(2, 3)\n",
    "\n",
    "print(t)\n",
    "print(b)\n",
    "\n",
    "# Reshape the tensor into a 2x3 matrix\n",
    "c = torch.reshape(t, shape=(2, 3))\n",
    "\n",
    "print(c)\n",
    "\n",
    "# Since c is a view of t, modifying c will also modify t\n",
    "c[0,0] = 1\n",
    "\n",
    "print(t)"
   ]
  },
  {
   "cell_type": "code",
   "execution_count": 85,
   "metadata": {},
   "outputs": [
    {
     "name": "stdout",
     "output_type": "stream",
     "text": [
      "torch.Size([3, 1])\n",
      "tensor([[-2.1039],\n",
      "        [ 0.7628],\n",
      "        [ 1.5118]])\n",
      "torch.Size([3])\n",
      "tensor([-2.1039,  0.7628,  1.5118])\n"
     ]
    }
   ],
   "source": [
    "tensor = torch.randn(3, 1)  # torch.Size([3, 1])\n",
    "print(tensor.shape)\n",
    "print(tensor)\n",
    "\n",
    "# Squeeze the singleton dimension\n",
    "squeezed_tensor = tensor.squeeze()\n",
    "print(squeezed_tensor.shape)  # torch.Size([3])\n",
    "print(squeezed_tensor)"
   ]
  },
  {
   "cell_type": "code",
   "execution_count": 86,
   "metadata": {},
   "outputs": [
    {
     "name": "stdout",
     "output_type": "stream",
     "text": [
      "torch.Size([1, 3])\n",
      "tensor([[ 1.0841, -0.1982, -0.6241]])\n",
      "torch.Size([3])\n",
      "tensor([ 1.0841, -0.1982, -0.6241])\n"
     ]
    }
   ],
   "source": [
    "tensor = torch.randn(1, 3)  # torch.Size([1, 3])\n",
    "print(tensor.shape)\n",
    "print(tensor)\n",
    "\n",
    "# Squeeze the singleton dimension\n",
    "squeezed_tensor = tensor.squeeze()\n",
    "print(squeezed_tensor.shape)  # torch.Size([3])\n",
    "print(squeezed_tensor)"
   ]
  },
  {
   "cell_type": "code",
   "execution_count": 79,
   "metadata": {},
   "outputs": [
    {
     "name": "stdout",
     "output_type": "stream",
     "text": [
      "torch.Size([2, 1, 3])\n",
      "tensor([[[ 0.3827,  0.2891,  0.1187]],\n",
      "\n",
      "        [[-0.8985,  1.6410,  0.3628]]])\n",
      "torch.Size([2, 3])\n",
      "tensor([[ 0.3827,  0.2891,  0.1187],\n",
      "        [-0.8985,  1.6410,  0.3628]])\n"
     ]
    }
   ],
   "source": [
    "tensor = torch.randn(2, 1, 3)  # Shape: (2, 1, 3)\n",
    "print(tensor.shape)\n",
    "print(tensor)\n",
    "\n",
    "# Squeeze the singleton dimension (dimension 1)\n",
    "squeezed_tensor = tensor.squeeze(1)\n",
    "print(squeezed_tensor.shape)  # Output: torch.Size([2, 3])\n",
    "print(squeezed_tensor)"
   ]
  },
  {
   "cell_type": "code",
   "execution_count": 90,
   "metadata": {},
   "outputs": [
    {
     "name": "stdout",
     "output_type": "stream",
     "text": [
      "torch.Size([5])\n",
      "tensor([0, 1, 2, 3, 4])\n",
      "torch.Size([1, 5])\n",
      "tensor([[0, 1, 2, 3, 4]])\n",
      "torch.Size([5, 1])\n",
      "tensor([[0],\n",
      "        [1],\n",
      "        [2],\n",
      "        [3],\n",
      "        [4]])\n"
     ]
    }
   ],
   "source": [
    "tensor = torch.arange(5)\n",
    "print(tensor.shape)  # torch.Size([5])\n",
    "print(tensor)  # tensor([0, 1, 2, 3, 4])\n",
    "\n",
    "# Unsqueeze the singleton dimension\n",
    "unsqueezed_tensor = tensor.unsqueeze(dim=0)\n",
    "print(unsqueezed_tensor.shape)  # torch.Size([1, 5])\n",
    "print(unsqueezed_tensor)  # tensor([[0, 1, 2, 3, 4]])\n",
    "\n",
    "# Unsqueeze the singleton dimension\n",
    "unsqueezed_tensor = tensor.unsqueeze(dim=1)\n",
    "print(unsqueezed_tensor.shape)  # torch.Size([5, 1])\n",
    "print(unsqueezed_tensor) # tensor([[0],[1],[2],[3],[4]])"
   ]
  },
  {
   "cell_type": "code",
   "execution_count": 101,
   "metadata": {},
   "outputs": [
    {
     "name": "stdout",
     "output_type": "stream",
     "text": [
      "tensor([0, 1, 2, 3, 4, 5, 6, 7, 8, 9])\n",
      "tensor([ 1,  3,  5,  7,  9, 11, 13, 15, 17, 19])\n"
     ]
    }
   ],
   "source": [
    "# lets assume we know the relationship between x and y\n",
    "x = torch.arange(10)\n",
    "y = 2 * x + 1  # tensor([ 3,  5,  7,  9, 11])\n",
    "\n",
    "print(x)\n",
    "print(y)"
   ]
  },
  {
   "cell_type": "code",
   "execution_count": null,
   "metadata": {},
   "outputs": [],
   "source": [
    "import torch.nn as nn"
   ]
  }
 ],
 "metadata": {
  "kernelspec": {
   "display_name": "mkenv3.10",
   "language": "python",
   "name": "python3"
  },
  "language_info": {
   "codemirror_mode": {
    "name": "ipython",
    "version": 3
   },
   "file_extension": ".py",
   "mimetype": "text/x-python",
   "name": "python",
   "nbconvert_exporter": "python",
   "pygments_lexer": "ipython3",
   "version": "3.10.8"
  }
 },
 "nbformat": 4,
 "nbformat_minor": 2
}
