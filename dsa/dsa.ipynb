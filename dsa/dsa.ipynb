{
 "cells": [
  {
   "cell_type": "code",
   "execution_count": 9,
   "metadata": {},
   "outputs": [
    {
     "name": "stdout",
     "output_type": "stream",
     "text": [
      "Found orange at index: 1\n"
     ]
    }
   ],
   "source": [
    "# Linear Search\n",
    "# Return zero-based index in the list of the first item whose value is equal to x.\n",
    "# Raises a ValueError if there is no such item.\n",
    "# Remember, python has a built-in list.index() method, and \"in\" operator to see if the item is inside the list\n",
    "def linear_search(x, collection:list):\n",
    "    for k, v in enumerate(collection):\n",
    "        if x == v:\n",
    "            return k\n",
    "        \n",
    "    raise ValueError(\"No such item.\")\n",
    "\n",
    "        \n",
    "items = [\"apple\", \"orange\", \"banana\", \"grapes\"]\n",
    "# q = \"watermelon\"\n",
    "q = \"orange\"\n",
    "\n",
    "try:\n",
    "    i = linear_search(q, items)\n",
    "    print(f\"Found {q} at index: {i}\")\n",
    "except ValueError:\n",
    "    print(f\"No such item: {q}\")\n",
    "\n"
   ]
  },
  {
   "cell_type": "code",
   "execution_count": 47,
   "metadata": {},
   "outputs": [
    {
     "name": "stdout",
     "output_type": "stream",
     "text": [
      "begin: 0 end: 6 middle: 3 compare_to: mango\n",
      "small x. Update 'end' to search the first half only.\n",
      "begin: 0 end: 2 middle: 1 compare_to: banana\n",
      "large x. Update 'begin' search the last half only\n",
      "begin: 2 end: 2 middle: 2 compare_to: grapes\n",
      "small x. Update 'end' to search the first half only.\n",
      "No such item: c\n"
     ]
    }
   ],
   "source": [
    "#Binary Search\n",
    "def binary_search(x, col:list):\n",
    "\n",
    "    begin = 0 # index of the first item\n",
    "    end = len(col)-1 # index of the last item\n",
    "\n",
    "    while(begin <= end):\n",
    "\n",
    "        mid = (begin + end) // 2\n",
    "        print(f\"begin: {begin} end: {end} middle: {mid} compare_to: {col[mid]}\")\n",
    "\n",
    "        # check the value at the middle index, return if found.\n",
    "        if x == col[mid]:\n",
    "            return mid\n",
    "        \n",
    "        # determine whether to search the left or right half of the list.\n",
    "        elif(x < col[mid]):\n",
    "            print(\"small x. Update 'end' to search the first half only.\")\n",
    "            end = mid - 1\n",
    "        else:\n",
    "            print(\"large x. Update 'begin' search the last half only\")\n",
    "            begin = mid + 1\n",
    "\n",
    "\n",
    "    \n",
    "    #return -1\n",
    "    raise ValueError(\"No such item.\")\n",
    "\n",
    "\n",
    "# sorted list of items\n",
    "fruits = [\"apple\", \"banana\", \"grapes\", \"mango\", \"melon\", \"orange\", \"watermelon\"]\n",
    "q = \"c\"\n",
    "\n",
    "try:\n",
    "    i = binary_search(q, fruits)\n",
    "    print(f\"Found {q} at index: {i}\")\n",
    "except ValueError:\n",
    "    print(f\"No such item: {q}\")"
   ]
  },
  {
   "cell_type": "code",
   "execution_count": 57,
   "metadata": {},
   "outputs": [
    {
     "name": "stdout",
     "output_type": "stream",
     "text": [
      "begin: 0 end: 6 middle: 3 compare_to: mango\n",
      "small x. Update 'end' to search the first half only.\n",
      "begin: 0 end: 2 middle: 1 compare_to: banana\n",
      "small x. Update 'end' to search the first half only.\n",
      "begin: 0 end: 0 middle: 0 compare_to: apple\n",
      "Found apple at index: 0\n"
     ]
    }
   ],
   "source": [
    "# Binary Search\n",
    "def binary_search_recursive(x, col: list, begin, end):\n",
    "\n",
    "    mid = (begin + end) // 2\n",
    "\n",
    "    print(f\"begin: {begin} end: {end} middle: {mid} compare_to: {col[mid]}\")\n",
    "    \n",
    "    if(begin == end and x != col[mid]):\n",
    "        raise ValueError(\"No such item.\")\n",
    "\n",
    "    # check the value at the middle index, return if found.\n",
    "    if x == col[mid]:\n",
    "        return mid\n",
    "    \n",
    "    # determine whether to search the left or right half of the list.\n",
    "    if (x < col[mid]):\n",
    "        print(\"small x. Update 'end' to search the first half only.\")\n",
    "        end = mid - 1\n",
    "        return binary_search_recursive(x, col, begin, end)\n",
    "        \n",
    "\n",
    "    else:\n",
    "        print(\"large x. Update 'begin' search the last half only\")\n",
    "        begin = mid + 1\n",
    "        return binary_search_recursive(x, col, begin, end)\n",
    "\n",
    "    # return -1\n",
    "    \n",
    "\n",
    "\n",
    "\n",
    "# sorted list of items\n",
    "fruits = [\"apple\", \"banana\", \"grapes\",\n",
    "          \"mango\", \"melon\", \"orange\", \"watermelon\"]\n",
    "q = \"apple\"\n",
    "\n",
    "try:\n",
    "    i = binary_search_recursive(q, fruits, 0, len(fruits)-1)\n",
    "    print(f\"Found {q} at index: {i}\")\n",
    "except ValueError:\n",
    "    print(f\"No such item: {q}\")"
   ]
  },
  {
   "cell_type": "code",
   "execution_count": 70,
   "metadata": {},
   "outputs": [
    {
     "name": "stdout",
     "output_type": "stream",
     "text": [
      "0\n",
      "2\n",
      "6\n",
      "12\n"
     ]
    }
   ],
   "source": [
    "def arithmetic_grow(n):\n",
    "    d=1\n",
    "    s=0\n",
    "    while(s < n):\n",
    "        s += d\n",
    "        print(s)\n",
    "        # d += 1\n",
    "\n",
    "\n",
    "# a sequence of numbers that grow at an increasing rate.\n",
    "# the difference between consecutive terms increases with each iteration\n",
    "def grow(n):\n",
    "    dif = 0\n",
    "    s = 0\n",
    "    while (s < n):\n",
    "        s += dif  # s is increasing\n",
    "        print(s)\n",
    "\n",
    "        # ensuring that the growth rate increases with each iteration\n",
    "        dif += 2\n",
    "\n",
    "\n",
    "grow(10)"
   ]
  },
  {
   "cell_type": "code",
   "execution_count": 78,
   "metadata": {},
   "outputs": [
    {
     "name": "stdout",
     "output_type": "stream",
     "text": [
      "factorial(3)\n",
      "factorial(2)\n",
      "factorial(1)\n",
      "return 1\n"
     ]
    }
   ],
   "source": [
    "def factorial(n):\n",
    "\n",
    "    print(f\"factorial({n})\")\n",
    "\n",
    "    # base case\n",
    "    if n < 0:\n",
    "        return 0\n",
    "    elif n < 2:\n",
    "        print(\"return 1\")\n",
    "        return 1\n",
    "    else:\n",
    "        return n * factorial(n-1)\n",
    "    \n",
    "fact = factorial(3)\n",
    "\n",
    "# assert factorial(0) == 1\n",
    "# assert factorial(1) == 1\n",
    "# assert factorial(2) == 2\n",
    "# assert factorial(3) == 6\n",
    "# assert factorial(5) == 120"
   ]
  },
  {
   "cell_type": "code",
   "execution_count": 105,
   "metadata": {},
   "outputs": [
    {
     "name": "stdout",
     "output_type": "stream",
     "text": [
      "Empty LinkedList\n",
      "Item added apple\n",
      "Item added banana\n",
      "Item added mango\n",
      "Node(data=mango, next=Node(data=banana, next=Node(data=apple, next=None)))\n",
      "No. of fruits: 3\n",
      "Item found: banana\n",
      "Popped: mango\n",
      "Popped: banana\n",
      "No. of fruits: 1\n"
     ]
    }
   ],
   "source": [
    "import math\n",
    "\n",
    "class Node:\n",
    "    def __init__(self, data, next=None) -> None:\n",
    "        self.data = data \n",
    "        self.next = next\n",
    "\n",
    "    def __repr__(self) -> str:\n",
    "        return f\"Node(data={self.data}, next={self.next})\"\n",
    "\n",
    "class LinkedList:\n",
    "    def __init__(self, head:Node|None=None) -> None:\n",
    "        self.head = head\n",
    "        self.length = 1 if head else 0\n",
    "\n",
    "    def is_empty(self):\n",
    "        return self.head == None\n",
    "    \n",
    "    # prepend (insert at the beginning)\n",
    "    def add(self, node:Node):\n",
    "        node.next = self.head\n",
    "        self.head = node\n",
    "        self.length += 1\n",
    "        print(\"Item added\", node.data)\n",
    "\n",
    "    # pop the first element (at the beginning)\n",
    "    def pop(self)->Node|None:\n",
    "        if self.is_empty():\n",
    "            return None\n",
    "        \n",
    "        n = self.head\n",
    "        self.head = self.head.next\n",
    "        self.length -= 1\n",
    "        return n\n",
    "        \n",
    "\n",
    "    def contains(self, value):\n",
    "        if self.is_empty():\n",
    "            return False\n",
    "        \n",
    "        # iterate sequentially\n",
    "        current = self.head\n",
    "        while (current):\n",
    "            if current.data == value:\n",
    "                return True\n",
    "            \n",
    "            current = current.next\n",
    "        \n",
    "        return False\n",
    "\n",
    "\n",
    "# node3 = Node(70)\n",
    "# node2 = Node(80, next=node3)\n",
    "# node1 = Node(90, next=node2)\n",
    "# scores = LinkedList(node1)\n",
    "\n",
    "# print(scores.head)\n",
    "\n",
    "fruits = LinkedList()\n",
    "\n",
    "if fruits.is_empty():\n",
    "    print(\"Empty LinkedList\")\n",
    "\n",
    "fruits.add(Node(\"apple\"))\n",
    "fruits.add(Node(\"banana\"))\n",
    "fruits.add(Node(\"mango\"))\n",
    "\n",
    "print(fruits.head)\n",
    "print(\"No. of fruits:\", fruits.length)\n",
    "\n",
    "q=\"banana\"\n",
    "if fruits.contains(q):\n",
    "    print(f\"Item found: {q}\")\n",
    "else:\n",
    "    print(f\"No such element: {q}\")\n",
    "\n",
    "fruit1 = fruits.pop()\n",
    "print(\"Popped:\", fruit1.data)\n",
    "\n",
    "fruit2 = fruits.pop()\n",
    "print(\"Popped:\", fruit2.data)\n",
    "\n",
    "print(\"No. of fruits:\", fruits.length)"
   ]
  },
  {
   "cell_type": "code",
   "execution_count": 8,
   "metadata": {},
   "outputs": [],
   "source": [
    "from typing import List \n",
    "# import sys\n",
    "\n",
    "class Node:\n",
    "    def __init__(self, data, left= None, right= None) -> None:\n",
    "        self.data = data\n",
    "        self.left = left\n",
    "        self.right= right\n",
    "\n",
    "    def __repr__(self) -> str:\n",
    "        # return f\"Node(data={self.data}, left={self.left}, right={self.right})\"\n",
    "        return f\"Node(data={self.data}, left={self.left.data if self.left else None}, right={self.right.data if self.right else None})\"\n",
    "\n",
    "# TODO: incomplete implementation\n",
    "class BinaryTree:\n",
    "    def __init__(self, root:Node|None = None) -> None:\n",
    "        self.root = root\n",
    "\n",
    "    def add(self, n: Node):\n",
    "        current = self.root\n",
    "        while(current):\n",
    "            if n.data < current.data:\n",
    "                if not current.left:\n",
    "                    current.left = n\n",
    "                    break\n",
    "                else:\n",
    "                    current = current.left\n",
    "            else:\n",
    "                if not current.right:\n",
    "                    current.right = n\n",
    "                    break\n",
    "                else:\n",
    "                    current = current.right\n",
    "\n",
    "    def min(self):\n",
    "        pass\n",
    "\n",
    "    def max(self):\n",
    "        pass\n",
    "\n",
    "    def prev(self, n: Node):\n",
    "        pass\n",
    "\n",
    "    def next(self, n: Node):\n",
    "        pass\n",
    "\n",
    "\n",
    "n10 = Node(10)\n",
    "n20 = Node(20)\n",
    "n30 = Node(30)\n",
    "n40 = Node(40)\n",
    "n50 = Node(50)\n",
    "n60 = Node(60)\n",
    "n70 = Node(70)\n",
    "n80 = Node(80)\n",
    "n90 = Node(90)\n",
    "\n",
    "bt = BinaryTree(root=n50)\n",
    "\n",
    "\n",
    "bt.add(n30)\n",
    "bt.add(n60)\n",
    "bt.add(n10)\n",
    "bt.add(n40)\n",
    "bt.add(n90)"
   ]
  },
  {
   "cell_type": "code",
   "execution_count": 12,
   "metadata": {},
   "outputs": [
    {
     "name": "stdout",
     "output_type": "stream",
     "text": [
      "10\n"
     ]
    }
   ],
   "source": [
    "import math\n",
    "\n",
    "def traverse_iterative(n: Node) -> List[Node]:\n",
    "    nodes = []\n",
    "\n",
    "    # waiting stack\n",
    "    # all processing will be done popping this stack.\n",
    "    # which means, the most recent will be the first to be processed.\n",
    "    frontier = []\n",
    "\n",
    "    if not n:\n",
    "        print(\"Empty tree.\")\n",
    "        return nodes\n",
    "\n",
    "    frontier.append(n)  # add the first element to waiting stack\n",
    "\n",
    "    while (frontier):\n",
    "\n",
    "        # pick the node to be processed\n",
    "        current = frontier.pop()\n",
    "\n",
    "        # process\n",
    "        print(\"Processing\", current)\n",
    "        nodes.append(current)\n",
    "\n",
    "        # explore the options: where can i go from here? (children)\n",
    "        if (current.right):\n",
    "            frontier.append(current.right)\n",
    "        if (current.left):\n",
    "            frontier.append(current.left)\n",
    "\n",
    "    return nodes\n",
    "\n",
    "\n",
    "def traverse_recursive(n: Node):\n",
    "\n",
    "    if not n:\n",
    "        return []\n",
    "\n",
    "    left_subtree = traverse_recursive(n.left)\n",
    "    right_subtree = traverse_recursive(n.right)\n",
    "\n",
    "    return [n, *left_subtree, *right_subtree]\n",
    "\n",
    "\n",
    "def sum_recursive(n: Node):\n",
    "\n",
    "    if not n:\n",
    "        return 0\n",
    "\n",
    "    # make 2 recursive calls to calculate the sum of the left and right subtrees.\n",
    "    left = sum_recursive(n.left)  # sol sulale\n",
    "    right = sum_recursive(n.right)  # sag sulale\n",
    "\n",
    "    return n.data + left + right\n",
    "\n",
    "\n",
    "# Perform a depth-first traversal\n",
    "# f: Optional function that will be applied to each node during the traversal.\n",
    "def traverse_recursive_v2(n: Node, f=None):\n",
    "\n",
    "    print(\"Debug:\", n)\n",
    "    # return without processing anything\n",
    "    # effectively stopping the recursion.\n",
    "    if not n:\n",
    "        return 0\n",
    "\n",
    "    # process node\n",
    "    f(n)\n",
    "\n",
    "    # Recursive Case: similar subproblem\n",
    "    traverse_recursive_v2(n.left, f)\n",
    "    traverse_recursive_v2(n.right, f)\n",
    "\n",
    "\n",
    "def sum_recursive_v2(n: Node | None, f=None):\n",
    "\n",
    "    print(\"Debug:\", n)\n",
    "    # return without processing anything\n",
    "    # effectively stopping the recursion.\n",
    "    if not n:\n",
    "        return 0\n",
    "\n",
    "    return n.data + sum_recursive_v2(n.left, f) + sum_recursive_v2(n.right, f)\n",
    "\n",
    "\n",
    "def tree_min(n: Node | None):\n",
    "\n",
    "    if not n:\n",
    "        return math.inf\n",
    "\n",
    "    left_min = tree_min(n.left)\n",
    "    right_min = tree_min(n.right)\n",
    "\n",
    "    return min(n.data, left_min, right_min)\n",
    "\n",
    "\n",
    "# def min(*args):\n",
    "\n",
    "#     if not args:\n",
    "#         raise ValueError(\"No elements to compare\")\n",
    "\n",
    "#     min = args[0]\n",
    "#     for n in args:\n",
    "#         if n < min:\n",
    "#             min = n\n",
    "\n",
    "    return min\n",
    "\n",
    "\n",
    "def sum_acc(n, acc):\n",
    "    return n.data + acc\n",
    "\n",
    "\n",
    "\n",
    "\n",
    "# print(n80)\n",
    "\n",
    "# nodes1 = traverse_iterative(n50)\n",
    "# print(nodes1)\n",
    "\n",
    "# nodes2 = traverse_recursive(n50)\n",
    "# print(nodes2)\n",
    "\n",
    "# traverse_recursive_v2(n50, lambda x: print(x))\n",
    "# sum = sum_recursive(n50)\n",
    "# sum = sum_recursive_v2(n50)\n",
    "# print(sum)\n",
    "\n",
    "min_data = tree_min(n50);\n",
    "print(min_data)"
   ]
  },
  {
   "cell_type": "code",
   "execution_count": 23,
   "metadata": {},
   "outputs": [
    {
     "name": "stdout",
     "output_type": "stream",
     "text": [
      "processing:  5\n",
      "processing:  4\n",
      "processing:  3\n",
      "processing:  2\n",
      "processing:  1\n",
      "return\n",
      "processing:  1\n",
      "return\n",
      "processing:  2\n",
      "processing:  1\n",
      "return\n",
      "processing:  1\n",
      "return\n",
      "processing:  3\n",
      "processing:  2\n",
      "processing:  1\n",
      "return\n",
      "processing:  1\n",
      "return\n",
      "processing:  2\n",
      "processing:  1\n",
      "return\n",
      "processing:  1\n",
      "return\n",
      "processing:  4\n",
      "processing:  3\n",
      "processing:  2\n",
      "processing:  1\n",
      "return\n",
      "processing:  1\n",
      "return\n",
      "processing:  2\n",
      "processing:  1\n",
      "return\n",
      "processing:  1\n",
      "return\n",
      "processing:  3\n",
      "processing:  2\n",
      "processing:  1\n",
      "return\n",
      "processing:  1\n",
      "return\n",
      "processing:  2\n",
      "processing:  1\n",
      "return\n",
      "processing:  1\n",
      "return\n"
     ]
    }
   ],
   "source": [
    "def single_recursive(n):\n",
    "\n",
    "    print(\"processing: \", n)\n",
    "\n",
    "    # base case\n",
    "    if n <= 1:\n",
    "        print(\"return\")\n",
    "        return 1\n",
    "    \n",
    "    # recursive call\n",
    "    single_recursive(n-1)\n",
    "\n",
    "\n",
    "\n",
    "\n",
    "\n",
    "def dbl_recursive(n):\n",
    "\n",
    "    print(\"processing: \", n)\n",
    "\n",
    "    # base case\n",
    "    if n <= 1:\n",
    "        print(\"return\")\n",
    "        return 1\n",
    "\n",
    "    # recursive call\n",
    "    dbl_recursive(n-1)\n",
    "    dbl_recursive(n-1)\n",
    "\n",
    "\n",
    "# single_recursive(5)\n",
    "dbl_recursive(5)"
   ]
  },
  {
   "cell_type": "code",
   "execution_count": 27,
   "metadata": {},
   "outputs": [
    {
     "name": "stdout",
     "output_type": "stream",
     "text": [
      "bakiye: 7\n",
      "bakiye: 2\n",
      "bakiye: -3\n",
      "bakiye: 1\n",
      "bakiye: -4\n",
      "bakiye: 0\n",
      "bakiye: 6\n",
      "bakiye: 1\n",
      "bakiye: -4\n",
      "bakiye: 0\n",
      "bakiye: 5\n",
      "bakiye: 0\n",
      "bakiye: 4\n",
      "bakiye: -1\n",
      "bakiye: 3\n",
      "bakiye: -2\n",
      "bakiye: 2\n",
      "bakiye: -3\n",
      "bakiye: 1\n",
      "bakiye: -4\n",
      "bakiye: 0\n",
      "change ok!\n"
     ]
    }
   ],
   "source": [
    "#\n",
    "amount = 7\n",
    "coins = [5, 1]\n",
    "\n",
    "def can_sum(total):\n",
    "\n",
    "    print(\"bakiye:\", total)\n",
    "\n",
    "    # base case\n",
    "    if total < 0:\n",
    "        return False\n",
    "    elif total == 0:\n",
    "        return True\n",
    "\n",
    "    # recursive case\n",
    "    res1 = can_sum(total-coins[0])\n",
    "    res2 = can_sum(total-coins[1])\n",
    "\n",
    "    return res1 or res2\n",
    "\n",
    "if(can_sum(amount)):\n",
    "    print(f\"change ok!\")\n",
    "else:\n",
    "    print(f\"change not possible!\")"
   ]
  },
  {
   "cell_type": "code",
   "execution_count": 34,
   "metadata": {},
   "outputs": [
    {
     "name": "stdout",
     "output_type": "stream",
     "text": [
      "1\n"
     ]
    }
   ],
   "source": [
    "def f(n):\n",
    "\n",
    "   # base case\n",
    "   # Notice that f(0) returns 1\n",
    "\n",
    "   if n <= 0:\n",
    "       return 1\n",
    "\n",
    "   return n * f(n - 1)\n",
    "    \n",
    "\n",
    "def f2(n):\n",
    "    \n",
    "    if n <= 1:\n",
    "        return 1\n",
    "    \n",
    "    #two recursive calls            \n",
    "    return f2(n/2) + f2(n/2)\n",
    "\n",
    "\n",
    "n = f(-9)\n",
    "print(n)"
   ]
  },
  {
   "cell_type": "code",
   "execution_count": 62,
   "metadata": {},
   "outputs": [
    {
     "name": "stdout",
     "output_type": "stream",
     "text": [
      "<class 'torch.Tensor'>\n",
      "tensor([10, 20, 30])\n",
      "tensor([0., 0.])\n",
      "tensor([[0., 0.],\n",
      "        [0., 0.],\n",
      "        [0., 0.]])\n",
      "tensor([[[0., 0.],\n",
      "         [0., 0.],\n",
      "         [0., 0.]],\n",
      "\n",
      "        [[0., 0.],\n",
      "         [0., 0.],\n",
      "         [0., 0.]]])\n"
     ]
    }
   ],
   "source": [
    "import torch\n",
    "\n",
    "x = torch.tensor([10, 20, 30])\n",
    "\n",
    "print(type(x)) # <class 'torch.Tensor'>\n",
    "print(x) # tensor([10, 20, 30])\n",
    "\n",
    "A1 = torch.zeros(2) \n",
    "print(A1)\n",
    "\n",
    "A2 = torch.zeros(3, 2)\n",
    "print(A2)\n",
    "\n",
    "A3 = torch.zeros(2, 3, 2)\n",
    "print(A3)"
   ]
  },
  {
   "cell_type": "code",
   "execution_count": 66,
   "metadata": {},
   "outputs": [
    {
     "name": "stdout",
     "output_type": "stream",
     "text": [
      "<class 'numpy.ndarray'>\n",
      "[1 2 3 4 5]\n",
      "(5,)\n",
      "int64\n",
      "[[10 20 30]\n",
      " [11 21 31]]\n",
      "[[10 11]\n",
      " [20 21]\n",
      " [30 31]]\n",
      "123\n",
      "123\n"
     ]
    }
   ],
   "source": [
    "import numpy as np\n",
    "\n",
    "# Create a NumPy array\n",
    "ndarr = np.array([1, 2, 3, 4, 5])\n",
    "\n",
    "print(type(ndarr))  # <class 'numpy.ndarray'>\n",
    "print(ndarr)  #  [1 2 3 4 5]\n",
    " # Access the shape attribute (object-oriented)\n",
    "print(ndarr.shape)  # (5,)\n",
    "\n",
    "print(ndarr.dtype)  #  int64\n",
    "\n",
    "A = np.array([[10,20,30],[11,21,31]])\n",
    "print(A)\n",
    "print(A.T)\n",
    "\n",
    "print(A.sum())  # 123\n",
    "print(np.sum(A))  # 123"
   ]
  },
  {
   "cell_type": "code",
   "execution_count": 38,
   "metadata": {},
   "outputs": [
    {
     "name": "stdout",
     "output_type": "stream",
     "text": [
      "TensorFlow version: 2.17.0\n"
     ]
    }
   ],
   "source": [
    "import tensorflow as tf\n",
    "print(\"TensorFlow version:\", tf.__version__)  #  TensorFlow version: 2.17.0"
   ]
  },
  {
   "cell_type": "code",
   "execution_count": 47,
   "metadata": {},
   "outputs": [
    {
     "name": "stdout",
     "output_type": "stream",
     "text": [
      "<class 'tensorflow.python.framework.ops.EagerTensor'>\n",
      "tf.Tensor(\n",
      "[[1. 2. 3.]\n",
      " [4. 5. 6.]], shape=(2, 3), dtype=float32)\n",
      "(2, 3)\n",
      "<dtype: 'float32'>\n"
     ]
    }
   ],
   "source": [
    "import tensorflow as tf\n",
    "\n",
    "x = tf.constant([[1., 2., 3.],[4., 5., 6.]])\n",
    "\n",
    "print(type(x))  #  <class 'tensorflow.python.framework.ops.EagerTensor'>\n",
    "print(x)\n",
    "print(x.shape)  #  (2, 3)\n",
    "print(x.dtype)  #  <dtype: 'float32'>"
   ]
  },
  {
   "cell_type": "code",
   "execution_count": 49,
   "metadata": {},
   "outputs": [
    {
     "data": {
      "text/plain": [
       "0"
      ]
     },
     "execution_count": 49,
     "metadata": {},
     "output_type": "execute_result"
    }
   ],
   "source": [
    "import numpy as np\n",
    "\n",
    "x = np.array([1, 0])\n",
    "y = np.array([0, 1])\n",
    "\n",
    "d = x.dot(y)   # 0\n",
    "\n",
    "d"
   ]
  },
  {
   "cell_type": "code",
   "execution_count": 53,
   "metadata": {},
   "outputs": [
    {
     "name": "stdout",
     "output_type": "stream",
     "text": [
      "shape: (2, 3)\n",
      "[[99, 20, 30], [11, 21, 31]]\n",
      "<class 'numpy.ndarray'>\n",
      "[[10 20 30]\n",
      " [11 21 31]]\n",
      "(2, 3)\n",
      "int64\n"
     ]
    }
   ],
   "source": [
    "import numpy as np\n",
    "\n",
    "A = [[10, 20, 30], [11, 21, 31]]\n",
    "rows = len(A)\n",
    "cols = len(A[0])\n",
    "print(f\"shape: ({rows}, {cols})\") # shape: (2, 3)\n",
    "\n",
    "A[0][0] = 99\n",
    "print(A)  # [[99, 20, 30], [11, 21, 31]]\n",
    "\n",
    "A = np.array([[10, 20, 30],[11, 21, 31]])\n",
    "\n",
    "print(type(A))  # <class 'numpy.ndarray'>\n",
    "print(A)\n",
    "print(A.shape)  # (2, 3)\n",
    "print(A.dtype)  # int64"
   ]
  },
  {
   "cell_type": "code",
   "execution_count": 68,
   "metadata": {},
   "outputs": [
    {
     "name": "stdout",
     "output_type": "stream",
     "text": [
      "9.539392014169456\n",
      "9.539392014169456\n"
     ]
    }
   ],
   "source": [
    "import numpy as np\n",
    "\n",
    "# Create a matrix\n",
    "A = np.array([[1, 2, 3],\n",
    "             [4, 5, 6]])\n",
    "\n",
    "# Calculate the Frobenius norm\n",
    "frobenius_norm = np.linalg.norm(A, ord='fro')\n",
    "\n",
    "print(frobenius_norm)  # 9.53939\n",
    "\n",
    "frobenius_norm2 = np.sqrt(np.sum(A**2))\n",
    "print(frobenius_norm2)  # 9.53939"
   ]
  },
  {
   "cell_type": "code",
   "execution_count": 73,
   "metadata": {},
   "outputs": [
    {
     "name": "stdout",
     "output_type": "stream",
     "text": [
      "[[-2.   1. ]\n",
      " [ 1.5 -0.5]]\n",
      "[[1.0000000e+00 0.0000000e+00]\n",
      " [8.8817842e-16 1.0000000e+00]]\n"
     ]
    }
   ],
   "source": [
    "# Create a matrix\n",
    "A = np.array([[1, 2], [3, 4]])\n",
    "\n",
    "A_inv = np.linalg.inv(A)\n",
    "\n",
    "print(A_inv)\n",
    "\n",
    "print(np.matmul(A, A_inv))"
   ]
  },
  {
   "cell_type": "code",
   "execution_count": 75,
   "metadata": {},
   "outputs": [
    {
     "name": "stdout",
     "output_type": "stream",
     "text": [
      "Eigenvalues: [-0.37228132  5.37228132]\n",
      "Eigenvectors:\n",
      " [[-0.82456484 -0.41597356]\n",
      " [ 0.56576746 -0.90937671]]\n"
     ]
    }
   ],
   "source": [
    "import numpy as np\n",
    "\n",
    "# Define a square matrix\n",
    "A = np.array([[1, 2],\n",
    "              [3, 4]])\n",
    "\n",
    "# Compute the eigenvalues and eigenvectors\n",
    "eigenvalues, eigenvectors = np.linalg.eig(A)\n",
    "\n",
    "print(\"Eigenvalues:\", eigenvalues)\n",
    "print(\"Eigenvectors:\\n\", eigenvectors)"
   ]
  },
  {
   "cell_type": "code",
   "execution_count": 107,
   "metadata": {},
   "outputs": [
    {
     "name": "stdout",
     "output_type": "stream",
     "text": [
      "[67.46690292 76.12955063 72.86844336 70.3032818  73.22019731 78.66925856\n",
      " 71.69202204 63.57154646 64.56725613 84.27682487 58.85065904 62.90143865\n",
      " 89.09828741 75.86633964 63.77892673 65.41500367 63.15547037 76.43924583\n",
      " 82.99320072 79.43255668 65.11132102 63.56568815 70.84451473 55.28814903\n",
      " 68.14070071 93.39621863 41.11936813 83.97685362 67.8379725  76.85200434\n",
      " 59.67668884 62.98545158 68.68917639 71.95993555 65.32997381 83.0832135\n",
      " 60.84340611 59.47068346 81.02590143 72.87312852]\n",
      "63.57008188615148 69.49622909416945 76.54243545530522\n",
      "10\n",
      "[58.850659041152426, 62.901438652068435, 63.15547037468338, 63.56568815235347, 55.288149029185064, 41.1193681301717, 59.67668883952358, 62.985451584708656, 60.84340611122187, 59.47068346014509]\n"
     ]
    }
   ],
   "source": [
    "import numpy as np\n",
    "\n",
    "data = np.random.default_rng().normal(loc=70,scale=10, size=200)\n",
    "\n",
    "print(data)\n",
    "\n",
    "# median\n",
    "# median = np.median(data)     \n",
    "q1 = np.percentile(data, 25)  \n",
    "q2 = np.percentile(data, 50)  \n",
    "q3 = np.percentile(data, 75)\n",
    "print(q1, q2, q3)  #   63.23 67.62 74.03\n",
    "\n",
    "data_q1 = [x for x in data if x<=q1]\n",
    "print(len(data_q1)) # 10\n",
    "print(data_q1)"
   ]
  },
  {
   "cell_type": "code",
   "execution_count": 127,
   "metadata": {},
   "outputs": [
    {
     "name": "stdout",
     "output_type": "stream",
     "text": [
      "Population Parameters\n",
      "Mean: 69.01970733979458\n",
      "Standart Dev: 9.781369680536512\n",
      "Sample Statistics\n",
      "Means: 76.47643250258498 73.85952480763548\n",
      "Standart Devs: 3.9053014618821518 10.446926461453266\n"
     ]
    }
   ],
   "source": [
    "import numpy as np\n",
    "\n",
    "data = np.random.default_rng().normal(loc=70, scale=10, size=200)\n",
    "\n",
    "print(\"Population Parameters\")\n",
    "print(\"Mean:\", data.mean())\n",
    "print(\"Standart Dev:\", data.std())\n",
    "\n",
    "# Sample 5 elements randomly without replacement\n",
    "sample = np.random.choice(data, 5, replace=False)\n",
    "sample2 = np.random.choice(data, 5, replace=False)\n",
    "# print(sample)\n",
    "\n",
    "print(\"Sample Statistics\")\n",
    "print(\"Means:\", sample.mean(), sample2.mean())\n",
    "print(\"Standart Devs:\", sample.std(ddof=1), sample2.std(ddof=1))"
   ]
  },
  {
   "cell_type": "code",
   "execution_count": 140,
   "metadata": {},
   "outputs": [
    {
     "name": "stdout",
     "output_type": "stream",
     "text": [
      "+ - - - - + - - - - +\n",
      "|         |         |\n",
      "|         |         |\n",
      "|         |         |\n",
      "|         |         |\n",
      "+ - - - - + - - - - +\n",
      "|         |         |\n",
      "|         |         |\n",
      "|         |         |\n",
      "|         |         |\n",
      "+ - - - - + - - - - +\n",
      "|         |         |\n",
      "|         |         |\n",
      "|         |         |\n",
      "|         |         |\n",
      "+ - - - - + - - - - +\n"
     ]
    }
   ],
   "source": [
    "ceil = \"+ - - - - \"\n",
    "wall = \"|         \"\n",
    "ceil_end = \"+\"\n",
    "wall_end = \"|\"\n",
    "\n",
    "def grid(r:int, c:int):\n",
    "    for r in range(r):\n",
    "        for i in range(c):\n",
    "            print(ceil, end=\"\")\n",
    "        print(ceil_end)\n",
    "\n",
    "        for j in range(4):\n",
    "            for i in range(c):\n",
    "                print(wall, end=\"\")\n",
    "            print(wall_end)\n",
    "\n",
    "    for i in range(c):\n",
    "        print(ceil, end=\"\")\n",
    "    print(ceil_end)\n",
    "\n",
    "grid(3, 2)"
   ]
  },
  {
   "cell_type": "code",
   "execution_count": 142,
   "metadata": {},
   "outputs": [
    {
     "name": "stdout",
     "output_type": "stream",
     "text": [
      "###\n",
      "###\n"
     ]
    }
   ],
   "source": [
    "def drawRect(h, w):\n",
    "    for r in range(h):\n",
    "        for c in range(w):\n",
    "            print('#', end=\"\")\n",
    "        print(\"\")\n",
    "\n",
    "drawRect(2, 3)"
   ]
  },
  {
   "cell_type": "code",
   "execution_count": 144,
   "metadata": {},
   "outputs": [
    {
     "name": "stdout",
     "output_type": "stream",
     "text": [
      "5 * 1 = 5\n",
      "5 * 2 = 10\n",
      "5 * 3 = 15\n",
      "5 * 4 = 20\n",
      "5 * 5 = 25\n",
      "5 * 6 = 30\n",
      "5 * 7 = 35\n",
      "5 * 8 = 40\n",
      "5 * 9 = 45\n",
      "5 * 10 = 50\n"
     ]
    }
   ],
   "source": [
    "def multiplication_table(n):\n",
    "    for i in range(1, 11):\n",
    "        print(f\"{n} * {i} = {n*i}\")\n",
    "\n",
    "multiplication_table(5)"
   ]
  },
  {
   "cell_type": "code",
   "execution_count": 151,
   "metadata": {},
   "outputs": [],
   "source": [
    "def fact(n):\n",
    "\n",
    "    if n < 0:\n",
    "        raise ValueError(\"Positive numbers only.\")\n",
    "    elif n == 0:\n",
    "        return 1\n",
    "    \n",
    "    res = 1\n",
    "    for i in range(1, n+1):\n",
    "        res *= i\n",
    "\n",
    "    return res\n",
    "\n",
    "assert fact(0) == 1\n",
    "assert fact(1) == 1\n",
    "assert fact(5) == 120"
   ]
  },
  {
   "cell_type": "code",
   "execution_count": 174,
   "metadata": {},
   "outputs": [
    {
     "name": "stdout",
     "output_type": "stream",
     "text": [
      "4 is NOT prime: divisible by 2\n",
      "9 is NOT prime: divisible by 3\n"
     ]
    }
   ],
   "source": [
    "import math\n",
    "\n",
    "def is_prime(n):\n",
    "    for i in range(2, int(math.sqrt(n))+1):\n",
    "        if n % i == 0:\n",
    "            print(f\"{n} is NOT prime: divisible by {i}\")\n",
    "            return False\n",
    "        \n",
    "    return True\n",
    "\n",
    "assert is_prime(4) == False\n",
    "assert is_prime(9) == False\n",
    "assert is_prime(7) == True"
   ]
  },
  {
   "cell_type": "code",
   "execution_count": 199,
   "metadata": {},
   "outputs": [
    {
     "name": "stdout",
     "output_type": "stream",
     "text": [
      "(5, 3, 2)\n"
     ]
    }
   ],
   "source": [
    "import random\n",
    "\n",
    "# Generate 3 random numbers that will add up to n.\n",
    "def three_nums(n):\n",
    "    a = random.randint(0, n)\n",
    "    b = random.randint(0, n-a)\n",
    "    c = n - a - b\n",
    "\n",
    "    return a,b,c\n",
    "\n",
    "print(three_nums(10))"
   ]
  },
  {
   "cell_type": "code",
   "execution_count": 203,
   "metadata": {},
   "outputs": [
    {
     "name": "stdout",
     "output_type": "stream",
     "text": [
      "1\n",
      "2\n",
      "Fizz\n",
      "4\n",
      "Buzz\n",
      "Fizz\n",
      "7\n",
      "8\n",
      "Fizz\n",
      "Buzz\n",
      "11\n",
      "Fizz\n",
      "13\n",
      "14\n",
      "FizzBuzz\n",
      "16\n",
      "17\n",
      "Fizz\n",
      "19\n",
      "Buzz\n",
      "Fizz\n",
      "22\n",
      "23\n",
      "Fizz\n",
      "Buzz\n",
      "26\n",
      "Fizz\n",
      "28\n",
      "29\n",
      "FizzBuzz\n"
     ]
    }
   ],
   "source": [
    "def fizz_buzz(n):\n",
    "\n",
    "    for i in range(1, n+1):\n",
    "        if i % 15 == 0:\n",
    "            print(\"FizzBuzz\")\n",
    "        elif i %5 == 0:\n",
    "            print(\"Buzz\")\n",
    "        elif i%3 == 0:\n",
    "            print(\"Fizz\")\n",
    "        else:\n",
    "            print(i)\n",
    "\n",
    "fizz_buzz(30)"
   ]
  },
  {
   "cell_type": "code",
   "execution_count": 209,
   "metadata": {},
   "outputs": [],
   "source": [
    "# Write a function that takes a list and returns True if there is any element that appears more than once.\n",
    "\n",
    "def has_duplicates(col):\n",
    "    s = set(col)\n",
    "    return len(s) != len(col)\n",
    "\n",
    "assert has_duplicates([1, 2,3]) == False\n",
    "assert has_duplicates([1, 2, 3, 2]) == True\n",
    "assert has_duplicates([1, \"a\", 3, \"A\"]) == False\n",
    "assert has_duplicates([1, \"A\", 3, \"A\"]) == True"
   ]
  },
  {
   "cell_type": "code",
   "execution_count": 213,
   "metadata": {},
   "outputs": [
    {
     "name": "stdout",
     "output_type": "stream",
     "text": [
      "1\n"
     ]
    }
   ],
   "source": [
    "# Given a list of elements, find the element that appears most frequently.\n",
    "\n",
    "def most_freq(col:list):\n",
    "    freq = {}\n",
    "    for item in col:\n",
    "        freq[item] = freq.get(item, 0) + 1\n",
    "\n",
    "    max_cnt = 0\n",
    "    max_key = col[0]\n",
    "    for k in freq:\n",
    "        if freq[k] > max_cnt:\n",
    "            max_cnt = freq[k]\n",
    "            max_key = k\n",
    "\n",
    "    return max_key\n",
    "\n",
    "\n",
    "print(most_freq([1, 2, 3, 2, 1, 2, 1, 1]))"
   ]
  },
  {
   "cell_type": "code",
   "execution_count": 217,
   "metadata": {},
   "outputs": [
    {
     "data": {
      "text/plain": [
       "('Merhaba', 7)"
      ]
     },
     "execution_count": 217,
     "metadata": {},
     "output_type": "execute_result"
    }
   ],
   "source": [
    "# Find the Longest Word in a Sentence\n",
    "\n",
    "def longest_word(sentence: str):\n",
    "    words = sentence.strip().split(sep=\" \")\n",
    "    \n",
    "    max_len = 0\n",
    "    max_word = words[0]\n",
    "    for w in words:\n",
    "        wlen = len(w)\n",
    "        if wlen > max_len:\n",
    "            max_len = wlen\n",
    "            max_word = w\n",
    "\n",
    "    return max_word, max_len\n",
    "\n",
    "longest_word(\"Merhaba dunyali biz dostuz!\")"
   ]
  },
  {
   "cell_type": "code",
   "execution_count": 229,
   "metadata": {},
   "outputs": [
    {
     "data": {
      "text/plain": [
       "True"
      ]
     },
     "execution_count": 229,
     "metadata": {},
     "output_type": "execute_result"
    }
   ],
   "source": [
    "def is_anagram(s1, s2):\n",
    "    if len(s1) != len(s2):\n",
    "        return False\n",
    "    \n",
    "    freq1 = {}\n",
    "    for c in s1:\n",
    "        freq1[c.lower()] = freq1.get(c.lower(), 0) + 1\n",
    "\n",
    "    freq2 = {}\n",
    "    for c in s2:\n",
    "        freq2[c.lower()] = freq2.get(c.lower(), 0) + 1\n",
    "\n",
    "    return freq1 == freq2\n",
    "\n",
    "\n",
    "\n",
    "is_anagram(\"SilenT\", \"ListeN\")"
   ]
  },
  {
   "cell_type": "code",
   "execution_count": 231,
   "metadata": {},
   "outputs": [
    {
     "data": {
      "text/plain": [
       "[50, 40, 30, 20, 10]"
      ]
     },
     "execution_count": 231,
     "metadata": {},
     "output_type": "execute_result"
    }
   ],
   "source": [
    "# Reverse an a list (in place), without built-in functions. \n",
    "\n",
    "def reverse(col:list):\n",
    "    left = 0\n",
    "    right = len(col)-1\n",
    "    while(left < right):\n",
    "        col[left], col[right] = col[right], col[left]\n",
    "        left += 1\n",
    "        right -= 1\n",
    "\n",
    "scores = [10, 20, 30, 40, 50]\n",
    "reverse(scores)\n",
    "scores"
   ]
  }
 ],
 "metadata": {
  "kernelspec": {
   "display_name": "mkenv3.10",
   "language": "python",
   "name": "python3"
  },
  "language_info": {
   "codemirror_mode": {
    "name": "ipython",
    "version": 3
   },
   "file_extension": ".py",
   "mimetype": "text/x-python",
   "name": "python",
   "nbconvert_exporter": "python",
   "pygments_lexer": "ipython3",
   "version": "3.10.8"
  }
 },
 "nbformat": 4,
 "nbformat_minor": 2
}
