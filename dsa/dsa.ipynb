{
 "cells": [
  {
   "cell_type": "code",
   "execution_count": 9,
   "metadata": {},
   "outputs": [
    {
     "name": "stdout",
     "output_type": "stream",
     "text": [
      "Found orange at index: 1\n"
     ]
    }
   ],
   "source": [
    "# Linear Search\n",
    "# Return zero-based index in the list of the first item whose value is equal to x.\n",
    "# Raises a ValueError if there is no such item.\n",
    "# Remember, python has a built-in list.index() method, and \"in\" operator to see if the item is inside the list\n",
    "def linear_search(x, collection:list):\n",
    "    for k, v in enumerate(collection):\n",
    "        if x == v:\n",
    "            return k\n",
    "        \n",
    "    raise ValueError(\"No such item.\")\n",
    "\n",
    "        \n",
    "items = [\"apple\", \"orange\", \"banana\", \"grapes\"]\n",
    "# q = \"watermelon\"\n",
    "q = \"orange\"\n",
    "\n",
    "try:\n",
    "    i = linear_search(q, items)\n",
    "    print(f\"Found {q} at index: {i}\")\n",
    "except ValueError:\n",
    "    print(f\"No such item: {q}\")\n",
    "\n"
   ]
  },
  {
   "cell_type": "code",
   "execution_count": 47,
   "metadata": {},
   "outputs": [
    {
     "name": "stdout",
     "output_type": "stream",
     "text": [
      "begin: 0 end: 6 middle: 3 compare_to: mango\n",
      "small x. Update 'end' to search the first half only.\n",
      "begin: 0 end: 2 middle: 1 compare_to: banana\n",
      "large x. Update 'begin' search the last half only\n",
      "begin: 2 end: 2 middle: 2 compare_to: grapes\n",
      "small x. Update 'end' to search the first half only.\n",
      "No such item: c\n"
     ]
    }
   ],
   "source": [
    "#Binary Search\n",
    "def binary_search(x, col:list):\n",
    "\n",
    "    begin = 0 # index of the first item\n",
    "    end = len(col)-1 # index of the last item\n",
    "\n",
    "    while(begin <= end):\n",
    "\n",
    "        mid = (begin + end) // 2\n",
    "        print(f\"begin: {begin} end: {end} middle: {mid} compare_to: {col[mid]}\")\n",
    "\n",
    "        # check the value at the middle index, return if found.\n",
    "        if x == col[mid]:\n",
    "            return mid\n",
    "        \n",
    "        # determine whether to search the left or right half of the list.\n",
    "        elif(x < col[mid]):\n",
    "            print(\"small x. Update 'end' to search the first half only.\")\n",
    "            end = mid - 1\n",
    "        else:\n",
    "            print(\"large x. Update 'begin' search the last half only\")\n",
    "            begin = mid + 1\n",
    "\n",
    "\n",
    "    \n",
    "    #return -1\n",
    "    raise ValueError(\"No such item.\")\n",
    "\n",
    "\n",
    "# sorted list of items\n",
    "fruits = [\"apple\", \"banana\", \"grapes\", \"mango\", \"melon\", \"orange\", \"watermelon\"]\n",
    "q = \"c\"\n",
    "\n",
    "try:\n",
    "    i = binary_search(q, fruits)\n",
    "    print(f\"Found {q} at index: {i}\")\n",
    "except ValueError:\n",
    "    print(f\"No such item: {q}\")"
   ]
  },
  {
   "cell_type": "code",
   "execution_count": 57,
   "metadata": {},
   "outputs": [
    {
     "name": "stdout",
     "output_type": "stream",
     "text": [
      "begin: 0 end: 6 middle: 3 compare_to: mango\n",
      "small x. Update 'end' to search the first half only.\n",
      "begin: 0 end: 2 middle: 1 compare_to: banana\n",
      "small x. Update 'end' to search the first half only.\n",
      "begin: 0 end: 0 middle: 0 compare_to: apple\n",
      "Found apple at index: 0\n"
     ]
    }
   ],
   "source": [
    "# Binary Search\n",
    "def binary_search_recursive(x, col: list, begin, end):\n",
    "\n",
    "    mid = (begin + end) // 2\n",
    "\n",
    "    print(f\"begin: {begin} end: {end} middle: {mid} compare_to: {col[mid]}\")\n",
    "    \n",
    "    if(begin == end and x != col[mid]):\n",
    "        raise ValueError(\"No such item.\")\n",
    "\n",
    "    # check the value at the middle index, return if found.\n",
    "    if x == col[mid]:\n",
    "        return mid\n",
    "    \n",
    "    # determine whether to search the left or right half of the list.\n",
    "    if (x < col[mid]):\n",
    "        print(\"small x. Update 'end' to search the first half only.\")\n",
    "        end = mid - 1\n",
    "        return binary_search_recursive(x, col, begin, end)\n",
    "        \n",
    "\n",
    "    else:\n",
    "        print(\"large x. Update 'begin' search the last half only\")\n",
    "        begin = mid + 1\n",
    "        return binary_search_recursive(x, col, begin, end)\n",
    "\n",
    "    # return -1\n",
    "    \n",
    "\n",
    "\n",
    "\n",
    "# sorted list of items\n",
    "fruits = [\"apple\", \"banana\", \"grapes\",\n",
    "          \"mango\", \"melon\", \"orange\", \"watermelon\"]\n",
    "q = \"apple\"\n",
    "\n",
    "try:\n",
    "    i = binary_search_recursive(q, fruits, 0, len(fruits)-1)\n",
    "    print(f\"Found {q} at index: {i}\")\n",
    "except ValueError:\n",
    "    print(f\"No such item: {q}\")"
   ]
  },
  {
   "cell_type": "code",
   "execution_count": 70,
   "metadata": {},
   "outputs": [
    {
     "name": "stdout",
     "output_type": "stream",
     "text": [
      "0\n",
      "2\n",
      "6\n",
      "12\n"
     ]
    }
   ],
   "source": [
    "def arithmetic_grow(n):\n",
    "    d=1\n",
    "    s=0\n",
    "    while(s < n):\n",
    "        s += d\n",
    "        print(s)\n",
    "        # d += 1\n",
    "\n",
    "\n",
    "# a sequence of numbers that grow at an increasing rate.\n",
    "# the difference between consecutive terms increases with each iteration\n",
    "def grow(n):\n",
    "    dif = 0\n",
    "    s = 0\n",
    "    while (s < n):\n",
    "        s += dif  # s is increasing\n",
    "        print(s)\n",
    "\n",
    "        # ensuring that the growth rate increases with each iteration\n",
    "        dif += 2\n",
    "\n",
    "\n",
    "grow(10)"
   ]
  },
  {
   "cell_type": "code",
   "execution_count": 78,
   "metadata": {},
   "outputs": [
    {
     "name": "stdout",
     "output_type": "stream",
     "text": [
      "factorial(3)\n",
      "factorial(2)\n",
      "factorial(1)\n",
      "return 1\n"
     ]
    }
   ],
   "source": [
    "def factorial(n):\n",
    "\n",
    "    print(f\"factorial({n})\")\n",
    "\n",
    "    # base case\n",
    "    if n < 0:\n",
    "        return 0\n",
    "    elif n < 2:\n",
    "        print(\"return 1\")\n",
    "        return 1\n",
    "    else:\n",
    "        return n * factorial(n-1)\n",
    "    \n",
    "fact = factorial(3)\n",
    "\n",
    "# assert factorial(0) == 1\n",
    "# assert factorial(1) == 1\n",
    "# assert factorial(2) == 2\n",
    "# assert factorial(3) == 6\n",
    "# assert factorial(5) == 120"
   ]
  },
  {
   "cell_type": "code",
   "execution_count": 105,
   "metadata": {},
   "outputs": [
    {
     "name": "stdout",
     "output_type": "stream",
     "text": [
      "Empty LinkedList\n",
      "Item added apple\n",
      "Item added banana\n",
      "Item added mango\n",
      "Node(data=mango, next=Node(data=banana, next=Node(data=apple, next=None)))\n",
      "No. of fruits: 3\n",
      "Item found: banana\n",
      "Popped: mango\n",
      "Popped: banana\n",
      "No. of fruits: 1\n"
     ]
    }
   ],
   "source": [
    "class Node:\n",
    "    def __init__(self, data, next=None) -> None:\n",
    "        self.data = data \n",
    "        self.next = next\n",
    "\n",
    "    def __repr__(self) -> str:\n",
    "        return f\"Node(data={self.data}, next={self.next})\"\n",
    "\n",
    "class LinkedList:\n",
    "    def __init__(self, head:Node|None=None) -> None:\n",
    "        self.head = head\n",
    "        self.length = 1 if head else 0\n",
    "\n",
    "    def is_empty(self):\n",
    "        return self.head == None\n",
    "    \n",
    "    # prepend (insert at the beginning)\n",
    "    def add(self, node:Node):\n",
    "        node.next = self.head\n",
    "        self.head = node\n",
    "        self.length += 1\n",
    "        print(\"Item added\", node.data)\n",
    "\n",
    "    # pop the first element (at the beginning)\n",
    "    def pop(self)->Node|None:\n",
    "        if self.is_empty():\n",
    "            return None\n",
    "        \n",
    "        n = self.head\n",
    "        self.head = self.head.next\n",
    "        self.length -= 1\n",
    "        return n\n",
    "        \n",
    "\n",
    "    def contains(self, value):\n",
    "        if self.is_empty():\n",
    "            return False\n",
    "        \n",
    "        # iterate sequentially\n",
    "        current = self.head\n",
    "        while (current):\n",
    "            if current.data == value:\n",
    "                return True\n",
    "            \n",
    "            current = current.next\n",
    "        \n",
    "        return False\n",
    "\n",
    "\n",
    "# node3 = Node(70)\n",
    "# node2 = Node(80, next=node3)\n",
    "# node1 = Node(90, next=node2)\n",
    "# scores = LinkedList(node1)\n",
    "\n",
    "# print(scores.head)\n",
    "\n",
    "fruits = LinkedList()\n",
    "\n",
    "if fruits.is_empty():\n",
    "    print(\"Empty LinkedList\")\n",
    "\n",
    "fruits.add(Node(\"apple\"))\n",
    "fruits.add(Node(\"banana\"))\n",
    "fruits.add(Node(\"mango\"))\n",
    "\n",
    "print(fruits.head)\n",
    "print(\"No. of fruits:\", fruits.length)\n",
    "\n",
    "q=\"banana\"\n",
    "if fruits.contains(q):\n",
    "    print(f\"Item found: {q}\")\n",
    "else:\n",
    "    print(f\"No such element: {q}\")\n",
    "\n",
    "fruit1 = fruits.pop()\n",
    "print(\"Popped:\", fruit1.data)\n",
    "\n",
    "fruit2 = fruits.pop()\n",
    "print(\"Popped:\", fruit2.data)\n",
    "\n",
    "print(\"No. of fruits:\", fruits.length)"
   ]
  },
  {
   "cell_type": "code",
   "execution_count": 106,
   "metadata": {},
   "outputs": [
    {
     "name": "stdout",
     "output_type": "stream",
     "text": [
      "Node(data=A, left=None, right=None)\n"
     ]
    }
   ],
   "source": [
    "class Node:\n",
    "    def __init__(self, data, left: Node | None = None, right: Node | None = None) -> None:\n",
    "        self.data = data\n",
    "        self.left = left\n",
    "        self.right= right\n",
    "\n",
    "    def __repr__(self) -> str:\n",
    "        return f\"Node(data={self.data}, left={self.left}, right={self.right})\"\n",
    "\n",
    "# TODO: incomplete implementation\n",
    "class BinaryTree:\n",
    "    def __init__(self, root:Node|None = None) -> None:\n",
    "        self.root = root\n",
    "\n",
    "    def min():\n",
    "        pass\n",
    "\n",
    "    def max():\n",
    "        pass\n",
    "\n",
    "    def prev():\n",
    "        pass\n",
    "\n",
    "    def next():\n",
    "        pass\n",
    "\n",
    "\n",
    "r  = Node(\"A\")\n",
    "bt = BinaryTree(root=r)\n",
    "\n",
    "print(bt.root)"
   ]
  }
 ],
 "metadata": {
  "kernelspec": {
   "display_name": "mkenv3.10",
   "language": "python",
   "name": "python3"
  },
  "language_info": {
   "codemirror_mode": {
    "name": "ipython",
    "version": 3
   },
   "file_extension": ".py",
   "mimetype": "text/x-python",
   "name": "python",
   "nbconvert_exporter": "python",
   "pygments_lexer": "ipython3",
   "version": "3.10.8"
  }
 },
 "nbformat": 4,
 "nbformat_minor": 2
}
