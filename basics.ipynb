{
 "cells": [
  {
   "cell_type": "code",
   "execution_count": 4,
   "id": "ecefd655-4df2-4e21-bb64-2343a2182333",
   "metadata": {},
   "outputs": [
    {
     "name": "stdout",
     "output_type": "stream",
     "text": [
      "Hello, there!\n"
     ]
    }
   ],
   "source": [
    "print(\"Hello, there!\")"
   ]
  },
  {
   "cell_type": "markdown",
   "id": "a3a04617-1dbb-4e05-a1cc-958d775cfa8a",
   "metadata": {},
   "source": [
    "Basic Input/Output\n",
    "The built-in input function will read text from a terminal."
   ]
  },
  {
   "cell_type": "code",
   "execution_count": 6,
   "id": "36616391-9be0-47e4-9085-5f74038ba822",
   "metadata": {},
   "outputs": [
    {
     "name": "stdin",
     "output_type": "stream",
     "text": [
      "Enter your name MK\n"
     ]
    },
    {
     "name": "stdout",
     "output_type": "stream",
     "text": [
      "Hello,  MK\n"
     ]
    }
   ],
   "source": [
    "name = input(\"Enter your name\")\n",
    "print(\"Hello, \", name)"
   ]
  },
  {
   "cell_type": "code",
   "execution_count": 13,
   "id": "c145b8ac-734c-405c-9317-9f78343c757a",
   "metadata": {},
   "outputs": [
    {
     "name": "stdout",
     "output_type": "stream",
     "text": [
      "4338090512 <class 'int'> 10\n",
      "4391657776 <class 'str'> ten\n"
     ]
    }
   ],
   "source": [
    "# weakly typed\n",
    "a = 10 \n",
    "print(id(a), type(a), a) # 4338090512 <class 'int'> 10\n",
    "\n",
    "a = \"ten\" \n",
    "print(id(a), type(a), a) # 4391657776 <class 'str'> ten\n"
   ]
  },
  {
   "cell_type": "code",
   "execution_count": 14,
   "id": "2b2f2398-dd41-417d-a462-ee33e4089c5a",
   "metadata": {},
   "outputs": [
    {
     "name": "stdout",
     "output_type": "stream",
     "text": [
      "4391528624 4391528624\n"
     ]
    }
   ],
   "source": [
    "name = \"Matt\"\n",
    "first = name\n",
    "\n",
    "print(id(name), id(first)) # 4391528624 4391528624"
   ]
  },
  {
   "cell_type": "code",
   "execution_count": 15,
   "id": "c3bd439e-5ce6-48da-842c-bc447249c158",
   "metadata": {},
   "outputs": [
    {
     "name": "stdout",
     "output_type": "stream",
     "text": [
      "1 <class 'int'>\n",
      "1.2 <class 'float'>\n"
     ]
    }
   ],
   "source": [
    "num = 1 \n",
    "print(num, type(num))\n",
    "\n",
    "num = 1.2\n",
    "print(num, type(num))\n",
    "\n"
   ]
  },
  {
   "cell_type": "code",
   "execution_count": 16,
   "id": "7903f59e-5d05-487e-892b-d8f0d302f8be",
   "metadata": {},
   "outputs": [
    {
     "name": "stdout",
     "output_type": "stream",
     "text": [
      "4338090192\n",
      "4338090224\n"
     ]
    }
   ],
   "source": [
    "# “Notice that if you change the value of the integer, it will have a different id:\n",
    "\n",
    "cnt = 0\n",
    "print(id(cnt)) # 4338090192\n",
    "cnt += 1\n",
    "print(id(cnt)) # 4338090224"
   ]
  },
  {
   "cell_type": "code",
   "execution_count": 17,
   "id": "fcc01c6a-e936-4dfa-8199-e832f55a387d",
   "metadata": {},
   "outputs": [
    {
     "data": {
      "text/plain": [
       "['__add__',\n",
       " '__class__',\n",
       " '__contains__',\n",
       " '__delattr__',\n",
       " '__dir__',\n",
       " '__doc__',\n",
       " '__eq__',\n",
       " '__format__',\n",
       " '__ge__',\n",
       " '__getattribute__',\n",
       " '__getitem__',\n",
       " '__getnewargs__',\n",
       " '__gt__',\n",
       " '__hash__',\n",
       " '__init__',\n",
       " '__init_subclass__',\n",
       " '__iter__',\n",
       " '__le__',\n",
       " '__len__',\n",
       " '__lt__',\n",
       " '__mod__',\n",
       " '__mul__',\n",
       " '__ne__',\n",
       " '__new__',\n",
       " '__reduce__',\n",
       " '__reduce_ex__',\n",
       " '__repr__',\n",
       " '__rmod__',\n",
       " '__rmul__',\n",
       " '__setattr__',\n",
       " '__sizeof__',\n",
       " '__str__',\n",
       " '__subclasshook__',\n",
       " 'capitalize',\n",
       " 'casefold',\n",
       " 'center',\n",
       " 'count',\n",
       " 'encode',\n",
       " 'endswith',\n",
       " 'expandtabs',\n",
       " 'find',\n",
       " 'format',\n",
       " 'format_map',\n",
       " 'index',\n",
       " 'isalnum',\n",
       " 'isalpha',\n",
       " 'isascii',\n",
       " 'isdecimal',\n",
       " 'isdigit',\n",
       " 'isidentifier',\n",
       " 'islower',\n",
       " 'isnumeric',\n",
       " 'isprintable',\n",
       " 'isspace',\n",
       " 'istitle',\n",
       " 'isupper',\n",
       " 'join',\n",
       " 'ljust',\n",
       " 'lower',\n",
       " 'lstrip',\n",
       " 'maketrans',\n",
       " 'partition',\n",
       " 'removeprefix',\n",
       " 'removesuffix',\n",
       " 'replace',\n",
       " 'rfind',\n",
       " 'rindex',\n",
       " 'rjust',\n",
       " 'rpartition',\n",
       " 'rsplit',\n",
       " 'rstrip',\n",
       " 'split',\n",
       " 'splitlines',\n",
       " 'startswith',\n",
       " 'strip',\n",
       " 'swapcase',\n",
       " 'title',\n",
       " 'translate',\n",
       " 'upper',\n",
       " 'zfill']"
      ]
     },
     "execution_count": 17,
     "metadata": {},
     "output_type": "execute_result"
    }
   ],
   "source": [
    "dir(\"MK\")"
   ]
  },
  {
   "cell_type": "code",
   "execution_count": 18,
   "id": "4fae88d6-0d0a-435e-a93c-66bb570f4b4e",
   "metadata": {},
   "outputs": [
    {
     "data": {
      "text/plain": [
       "'mk'"
      ]
     },
     "execution_count": 18,
     "metadata": {},
     "output_type": "execute_result"
    }
   ],
   "source": [
    "\"MK\".lower()"
   ]
  },
  {
   "cell_type": "code",
   "execution_count": 19,
   "id": "b91cfbb7-c480-4d6d-8ec7-8ee9234ab077",
   "metadata": {},
   "outputs": [
    {
     "data": {
      "text/plain": [
       "<function str.lower()>"
      ]
     },
     "execution_count": 19,
     "metadata": {},
     "output_type": "execute_result"
    }
   ],
   "source": [
    "\"MK\".lower # <function str.lower()>"
   ]
  },
  {
   "cell_type": "code",
   "execution_count": 26,
   "id": "be7e0f2f-59ea-45fe-808f-08693e366ab6",
   "metadata": {},
   "outputs": [
    {
     "data": {
      "text/plain": [
       "True"
      ]
     },
     "execution_count": 26,
     "metadata": {},
     "output_type": "execute_result"
    }
   ],
   "source": [
    "filename = \"202401.xls\"\n",
    "filename.endswith(\".xls\")"
   ]
  },
  {
   "cell_type": "code",
   "execution_count": 20,
   "id": "cacbce96-8c41-4fae-965e-37136e0de43c",
   "metadata": {},
   "outputs": [
    {
     "data": {
      "text/plain": [
       "['__abs__',\n",
       " '__add__',\n",
       " '__and__',\n",
       " '__bool__',\n",
       " '__ceil__',\n",
       " '__class__',\n",
       " '__delattr__',\n",
       " '__dir__',\n",
       " '__divmod__',\n",
       " '__doc__',\n",
       " '__eq__',\n",
       " '__float__',\n",
       " '__floor__',\n",
       " '__floordiv__',\n",
       " '__format__',\n",
       " '__ge__',\n",
       " '__getattribute__',\n",
       " '__getnewargs__',\n",
       " '__gt__',\n",
       " '__hash__',\n",
       " '__index__',\n",
       " '__init__',\n",
       " '__init_subclass__',\n",
       " '__int__',\n",
       " '__invert__',\n",
       " '__le__',\n",
       " '__lshift__',\n",
       " '__lt__',\n",
       " '__mod__',\n",
       " '__mul__',\n",
       " '__ne__',\n",
       " '__neg__',\n",
       " '__new__',\n",
       " '__or__',\n",
       " '__pos__',\n",
       " '__pow__',\n",
       " '__radd__',\n",
       " '__rand__',\n",
       " '__rdivmod__',\n",
       " '__reduce__',\n",
       " '__reduce_ex__',\n",
       " '__repr__',\n",
       " '__rfloordiv__',\n",
       " '__rlshift__',\n",
       " '__rmod__',\n",
       " '__rmul__',\n",
       " '__ror__',\n",
       " '__round__',\n",
       " '__rpow__',\n",
       " '__rrshift__',\n",
       " '__rshift__',\n",
       " '__rsub__',\n",
       " '__rtruediv__',\n",
       " '__rxor__',\n",
       " '__setattr__',\n",
       " '__sizeof__',\n",
       " '__str__',\n",
       " '__sub__',\n",
       " '__subclasshook__',\n",
       " '__truediv__',\n",
       " '__trunc__',\n",
       " '__xor__',\n",
       " 'as_integer_ratio',\n",
       " 'bit_count',\n",
       " 'bit_length',\n",
       " 'conjugate',\n",
       " 'denominator',\n",
       " 'from_bytes',\n",
       " 'imag',\n",
       " 'numerator',\n",
       " 'real',\n",
       " 'to_bytes']"
      ]
     },
     "execution_count": 20,
     "metadata": {},
     "output_type": "execute_result"
    }
   ],
   "source": [
    "dir(333)"
   ]
  },
  {
   "cell_type": "code",
   "execution_count": 25,
   "id": "f01afe3b-19fa-411f-88e2-f3a7501923c0",
   "metadata": {},
   "outputs": [
    {
     "data": {
      "text/plain": [
       "333"
      ]
     },
     "execution_count": 25,
     "metadata": {},
     "output_type": "execute_result"
    }
   ],
   "source": [
    "(333).conjugate()"
   ]
  },
  {
   "cell_type": "code",
   "execution_count": 28,
   "id": "9d5da7e5-0080-4988-84f6-cc75d2b6e289",
   "metadata": {},
   "outputs": [
    {
     "name": "stdout",
     "output_type": "stream",
     "text": [
      "Name is missing\n"
     ]
    }
   ],
   "source": [
    "name = \"\"\n",
    "\n",
    "if name:\n",
    "    print(f\"The name is {name}\")\n",
    "else:\n",
    "    print(\"Name is missing\")"
   ]
  },
  {
   "cell_type": "markdown",
   "id": "f78a5b6d-6e4b-48d2-8386-125a071bef0c",
   "metadata": {},
   "source": [
    "Type Hints"
   ]
  },
  {
   "cell_type": "code",
   "execution_count": 31,
   "id": "dd7600ee-3137-42f5-88ab-ecf4694e45fe",
   "metadata": {},
   "outputs": [
    {
     "ename": "TypeError",
     "evalue": "unsupported operand type(s) for +: 'int' and 'str'",
     "output_type": "error",
     "traceback": [
      "\u001b[0;31m---------------------------------------------------------------------------\u001b[0m",
      "\u001b[0;31mTypeError\u001b[0m                                 Traceback (most recent call last)",
      "Cell \u001b[0;32mIn [31], line 5\u001b[0m\n\u001b[1;32m      2\u001b[0m     \u001b[38;5;28;01mreturn\u001b[39;00m a \u001b[38;5;241m+\u001b[39m b\n\u001b[1;32m      4\u001b[0m add(\u001b[38;5;241m1\u001b[39m, \u001b[38;5;241m2\u001b[39m) \u001b[38;5;66;03m#3\u001b[39;00m\n\u001b[0;32m----> 5\u001b[0m \u001b[43madd\u001b[49m\u001b[43m(\u001b[49m\u001b[38;5;241;43m1\u001b[39;49m\u001b[43m,\u001b[49m\u001b[43m \u001b[49m\u001b[38;5;124;43m\"\u001b[39;49m\u001b[38;5;124;43mtwo\u001b[39;49m\u001b[38;5;124;43m\"\u001b[39;49m\u001b[43m)\u001b[49m \u001b[38;5;66;03m# TypeError: unsupported operand type(s) for +: 'int' and 'str'\u001b[39;00m\n",
      "Cell \u001b[0;32mIn [31], line 2\u001b[0m, in \u001b[0;36madd\u001b[0;34m(a, b)\u001b[0m\n\u001b[1;32m      1\u001b[0m \u001b[38;5;28;01mdef\u001b[39;00m \u001b[38;5;21madd\u001b[39m(a: \u001b[38;5;28mint\u001b[39m, b: \u001b[38;5;28mint\u001b[39m) \u001b[38;5;241m-\u001b[39m\u001b[38;5;241m>\u001b[39m \u001b[38;5;28mint\u001b[39m:\n\u001b[0;32m----> 2\u001b[0m     \u001b[38;5;28;01mreturn\u001b[39;00m \u001b[43ma\u001b[49m\u001b[43m \u001b[49m\u001b[38;5;241;43m+\u001b[39;49m\u001b[43m \u001b[49m\u001b[43mb\u001b[49m\n",
      "\u001b[0;31mTypeError\u001b[0m: unsupported operand type(s) for +: 'int' and 'str'"
     ]
    }
   ],
   "source": [
    " def add(a: int, b: int) -> int:\n",
    "     return a + b\n",
    "\n",
    "add(1, 2) #3\n",
    "# add(1, \"two\") # TypeError: unsupported operand type(s) for +: 'int' and 'str'"
   ]
  },
  {
   "cell_type": "markdown",
   "id": "7fa217fb-9404-4580-883c-b7199a782cf8",
   "metadata": {},
   "source": [
    "# Lists"
   ]
  },
  {
   "cell_type": "code",
   "execution_count": 33,
   "id": "31e2287f-146f-40a2-8753-6e256b738f70",
   "metadata": {},
   "outputs": [
    {
     "name": "stdout",
     "output_type": "stream",
     "text": [
      "1\n",
      "The last item: 25\n"
     ]
    }
   ],
   "source": [
    " squares = [1, 4, 9, 16, 25]\n",
    "\n",
    " # You can refer to an element by its index (subscript) - uses \"zero-based indexing\"\n",
    " print(squares[0]) #1\n",
    "\n",
    " # print(squares[100])    # IndexError: list index out of range\n",
    " \n",
    " # Negative indexing means start from the end\n",
    " # -1 refers to the last item, -2 refers to the second last item etc.\n",
    " print(\"The last item:\", squares[-1])  # The last item: 25"
   ]
  },
  {
   "cell_type": "markdown",
   "id": "266561b3-9147-41a0-83ff-c5ac1617264a",
   "metadata": {},
   "source": [
    "Python lists can indeed act like stacks when used with the append() and pop() methods, exhibiting Last-In-First-Out (LIFO) behavior."
   ]
  },
  {
   "cell_type": "code",
   "execution_count": 53,
   "id": "e7ac262f-9541-402a-aecd-98a146872ed1",
   "metadata": {},
   "outputs": [
    {
     "name": "stdout",
     "output_type": "stream",
     "text": [
      "todo3 ['todo1', 'todo2']\n"
     ]
    }
   ],
   "source": [
    "todos = []\n",
    "\n",
    "todos.append(\"todo1\")\n",
    "todos.append(\"todo2\")\n",
    "todos.append(\"todo3\")\n",
    "\n",
    "todo = todos.pop()\n",
    "\n",
    "print(todo, todos) # todo3 ['todo1', 'todo2']"
   ]
  },
  {
   "cell_type": "code",
   "execution_count": 35,
   "id": "eb47b1dc-b1e1-4f23-b9ca-b9ff037255df",
   "metadata": {},
   "outputs": [
    {
     "name": "stdout",
     "output_type": "stream",
     "text": [
      "[1, 4, 9, 16, 25, 36, 49]\n"
     ]
    }
   ],
   "source": [
    "squares = [1, 4, 9, 16, 25]\n",
    "\n",
    "# Insert item to the END of a list:\n",
    "squares.append(49)\n",
    "\n",
    "# INSERT an item at the specified index, and shift the rest:\n",
    "squares.insert(5, 36)\n",
    "\n",
    "print(squares) # [1, 4, 9, 16, 25, 36, 49]\n",
    "    "
   ]
  },
  {
   "cell_type": "code",
   "execution_count": 36,
   "id": "387c8602-b758-4fa1-ab7c-01ba864eb678",
   "metadata": {},
   "outputs": [
    {
     "name": "stdout",
     "output_type": "stream",
     "text": [
      "[1, 2, 3, 4, 5, 6]\n"
     ]
    }
   ],
   "source": [
    "# The + operator concatenates lists:\n",
    "a = [1, 2, 3]\n",
    "b = [4, 5, 6]\n",
    "\n",
    "d = a + b   # note that this is not an item by item addition! This is concatenation.\n",
    "print(d)     # [1, 2, 3, 4, 5, 6]"
   ]
  },
  {
   "cell_type": "markdown",
   "id": "76232049-0ee8-4c65-9514-363c0f264cc8",
   "metadata": {},
   "source": [
    "## Modify List - Removing elements\n",
    "* remove(): Removes the first occurrence of a value\n",
    "* pop(): Removes and returns the item at a specific index (default: last)"
   ]
  },
  {
   "cell_type": "code",
   "execution_count": 40,
   "id": "d7f7a138-18e3-48bf-ad5c-d7582b22201e",
   "metadata": {},
   "outputs": [
    {
     "name": "stdout",
     "output_type": "stream",
     "text": [
      "['mango', 'banana', 'apple', 'grapes']\n",
      "Removed: grapes, fruits: ['mango', 'banana', 'apple']\n",
      "Removed: banana, fruits: ['mango', 'apple']\n"
     ]
    }
   ],
   "source": [
    "fruits = [\"mango\", \"banana\", \"apple\", \"strawberry\", \"grapes\"]\n",
    "\n",
    "# REMOVE value:\n",
    "# remove the first ocurrence of value: (Find and erase) raise ValueError if the value is not present\n",
    "fruits.remove('strawberry')\n",
    "# fruits.remove('NotAMember')    # ValueError: list.remove(x): x not in list\n",
    "\n",
    "print(fruits)\n",
    "\n",
    "# Remove by index - Option 1:\n",
    "# Remove and return value at a specific index (default -1, the last), raise IndexError if the index is out of range.\n",
    "lastFruit = fruits.pop()\n",
    "print(f\"Removed: {lastFruit}, fruits: {fruits}\")  # Removed: grapes, fruits: ['mango', 'banana', 'apple']\n",
    "\n",
    "poppedFruit = fruits.pop(1)\n",
    "print(f\"Removed: {poppedFruit}, fruits: {fruits}\")  # Removed: banana, fruits: ['mango', 'apple']\n"
   ]
  },
  {
   "cell_type": "markdown",
   "id": "3eb0bfeb-a897-4bcc-98c7-96a813e825ce",
   "metadata": {},
   "source": [
    "Evaluating empty list object to False"
   ]
  },
  {
   "cell_type": "code",
   "execution_count": 41,
   "id": "aebcaebc-5362-4149-ab72-5cd80b0126b1",
   "metadata": {},
   "outputs": [
    {
     "name": "stdout",
     "output_type": "stream",
     "text": [
      "No items found.\n"
     ]
    }
   ],
   "source": [
    "# empty list\n",
    "items = []\n",
    "\n",
    "# Option 1: evaluating empty list object to False\n",
    "if not items:\n",
    "    print(\"No items found.\")"
   ]
  },
  {
   "cell_type": "markdown",
   "id": "0139198a-6e89-4de6-a527-e8920ee8c52c",
   "metadata": {},
   "source": [
    "## Search for an item"
   ]
  },
  {
   "cell_type": "code",
   "execution_count": 51,
   "id": "7fa085a8-54d5-47a4-aa3a-c6051e9558b2",
   "metadata": {},
   "outputs": [
    {
     "name": "stdout",
     "output_type": "stream",
     "text": [
      "grapes Found.\n",
      "Index of first ocurrence: 4\n",
      "4\n"
     ]
    }
   ],
   "source": [
    "# Search for an item\n",
    "fruits = [\"mango\", \"banana\", \"apple\", \"strawberry\", \"grapes\"]\n",
    "\n",
    "q_key = 'grapes'\n",
    "# q_key = 'aVeryDifferentFruit'\n",
    "    \n",
    "# v1 - Membership Operator (in)\n",
    "if q_key in fruits:\n",
    "    print(q_key, \"Found.\")\n",
    "else:\n",
    "    print(q_key, \"Not Found.\")\n",
    "\n",
    "# v2 - index()\n",
    "# return the index of the first occurrence, raises a ValueError if there is no such item.\n",
    "try:\n",
    "    found_index = fruits.index(q_key) # 4\n",
    "    print(\"Index of first ocurrence:\", found_index)\n",
    "except ValueError:\n",
    "    print(f\"Value not found: {q_key}\")\n",
    "    \n",
    "# total number of occurrences\n",
    "ids = [1, 2, 1, 3, 1, 4, 2, 1, 3]\n",
    "print(ids.count(1))  #4"
   ]
  },
  {
   "cell_type": "markdown",
   "id": "7a0895fa-57ac-4de9-89b1-d0f99d9eb8ba",
   "metadata": {},
   "source": [
    "## Sorting\n",
    "Every Python list has a sort method that sorts it \"in place\".\n",
    "If you don’t want to mess up your list, you can use the \"sorted()\" function, which returns a new list."
   ]
  },
  {
   "cell_type": "code",
   "execution_count": 57,
   "id": "e1bde272-91f8-44af-990c-92d13b818ca3",
   "metadata": {},
   "outputs": [
    {
     "name": "stdout",
     "output_type": "stream",
     "text": [
      "4391954496 [75, 66, 95, 63, 85, 60, 77]\n",
      "4396418112 [60, 63, 66, 75, 77, 85, 95]\n",
      "4391954496 [60, 63, 66, 75, 77, 85, 95]\n"
     ]
    }
   ],
   "source": [
    " # The list.sort() method sorts the list IN PLACE.\n",
    " # list.sort(reverse=True|False, key=myFunc)\n",
    " # Parameter 'key' is Optional. A function to specify the sorting criteria(s) (run for every item in the list)\n",
    "    \n",
    "\n",
    " scores = [75, 66, 95, 63, 85, 60, 77]\n",
    "\n",
    " sortedCopy = sorted(scores)       # returns a new list\n",
    "\n",
    " print(id(scores), scores)         # 4396410560 [75, 66, 95, 63, 85, 60, 77]\n",
    " print(id(sortedCopy), sortedCopy) # 4396409920 [60, 63, 66, 75, 77, 85, 95]\n",
    "\n",
    " scores.sort() # mutator\n",
    " \n",
    " print(id(scores), scores)         # 4396410560 [60, 63, 66, 75, 77, 85, 95]"
   ]
  },
  {
   "cell_type": "code",
   "execution_count": 60,
   "id": "75844c46-e0f2-4f73-970e-f41b9a4c5044",
   "metadata": {},
   "outputs": [
    {
     "name": "stdout",
     "output_type": "stream",
     "text": [
      "None\n",
      "['Volvo', 'Mitsubishi', 'Ford', 'BMW']\n"
     ]
    }
   ],
   "source": [
    " # Sort descending\n",
    "\n",
    " cars = ['Ford', 'BMW', 'Mitsubishi', 'Volvo']\n",
    " \n",
    " print(cars.sort(reverse=True))  # prints None (but mutates the list anyway)\n",
    " \n",
    " print(cars)                     # ['Volvo', 'Mitsubishi', 'Ford', 'BMW']"
   ]
  },
  {
   "cell_type": "markdown",
   "id": "2c8fadc0-c0c3-428e-8fec-13cbee6c114c",
   "metadata": {},
   "source": [
    "# Indexing and Slicing\n",
    "Python provides two constructs to pull data out of sequence-like types (lists, tuples, and even strings). \n",
    "These are the indexing and slicing constructs. \n",
    "- Indexing allows you to access single items out of a sequence, \n",
    "- slicing allows you to pull out a sub-sequence from a sequence.\n",
    "\n",
    "## Zero-based indexing\n",
    "Remember that in Python indices start at 0. If you want to pull out the first item you reference it by 0, not 1. \n",
    "\n",
    "## Negative Indices\n",
    "Python has a cool feature where you can reference items using negative indices. \n",
    "-1 refers to the last item, -2 the second to last item, etc. \n",
    "This is commonly used to pull off the last item in a list.\n",
    "\n",
    "Guido van Rossum, the creator of Python, tweeted to explain how to understand negative index values:\n",
    "\t[The] proper way to think of [negative indexing] is to reinterpret a[-X] as a[len(a)-X]\n",
    "\t—@gvanrossum\n",
    "\n",
    "## Slicing sub lists \n",
    "In addition to accepting an integer to pull out a single item, a slice may be used to pull out a sub-sequence. \n",
    "Python uses the half-open interval convention. The list goes up to but does not include the end index."
   ]
  },
  {
   "cell_type": "code",
   "execution_count": 140,
   "id": "64753d7c-7776-4041-a56d-e2c875e1a756",
   "metadata": {},
   "outputs": [
    {
     "name": "stdout",
     "output_type": "stream",
     "text": [
      "mango grapes\n",
      "['apple', 'strawberry', 'grapes']\n"
     ]
    }
   ],
   "source": [
    "fruits = [\"mango\", \"banana\", \"apple\", \"strawberry\", \"grapes\"]\n",
    "\n",
    "first = fruits[0] # mango\n",
    "last = fruits[-1] # grapes\n",
    "\n",
    "print(first, last)\n",
    "\n",
    "# half-open interval\n",
    "sub1 = fruits[0:2] # ['mango', 'banana']\n",
    "sub2 = fruits[:2]  # ['mango', 'banana']\n",
    "sub3 = fruits[2:]  # ['apple', 'strawberry', 'grapes']\n",
    "\n",
    "print(sub3)"
   ]
  },
  {
   "cell_type": "markdown",
   "id": "0a83f19c-53d0-48c9-94c5-25a8851260c2",
   "metadata": {},
   "source": [
    "# Tuples\n",
    "Tuples are immutable sequences.\n",
    "Tuples are one of the fundamental data structures in Python.\n",
    "\n",
    "Key Characteristics:\n",
    "- Ordered: Elements maintain a specific sequence, accessible by their index position (like lists).\n",
    "- Immutable: Unlike lists, you cannot modify elements after creation (insertion, deletion, or changing values).\n",
    "- Heterogeneous: Can hold elements of different data types within a single tuple.\n",
    "- Denoted by parentheses: ()"
   ]
  },
  {
   "cell_type": "code",
   "execution_count": 66,
   "id": "16f9da18-52e4-43ce-90e7-402a4f687def",
   "metadata": {},
   "outputs": [
    {
     "name": "stdout",
     "output_type": "stream",
     "text": [
      "<class 'tuple'> (90, 80, 100)\n",
      "<class 'tuple'> (3,)\n",
      "<class 'tuple'> (1, 2, 3)\n"
     ]
    }
   ],
   "source": [
    "# Using the tuple() built-in: tuple() or tuple(iterable)\n",
    "empty1 = tuple()\n",
    "\n",
    "scores_list = [90, 80, 100]\n",
    "scores_tuple = tuple(scores_list)\n",
    "\n",
    "print(type(scores_tuple), scores_tuple) # <class 'tuple'> (90, 80, 100)\n",
    "    \n",
    "# Literal Syntax\n",
    "empty2 = () \n",
    "\n",
    "# Tuples are often used to represent a record of data such as the row of a database query\n",
    "person = ('Matt', '123 North 456 East', 24) # Heterogeneous\n",
    "\n",
    "# If there are multiple items separated by commas, then Python treats them as a tuple:\n",
    "t = (3,)\n",
    "print(type(t), t) # <class 'tuple'> (3,)\n",
    "\n",
    "# Note that it is actually the comma which makes a tuple, not the optional parentheses\n",
    "x = 1,2,3\n",
    "print(type(x), x) # <class 'tuple'> (1, 2, 3)\n"
   ]
  },
  {
   "cell_type": "markdown",
   "id": "b119e2cb-dee1-4910-af7d-9cfb97441f39",
   "metadata": {},
   "source": [
    "Sets\n",
    "\n",
    "A set object is an unordered collection of distinct hashable objects.\n",
    "\n",
    "Key Features:\n",
    "- Unordered: Elements don't maintain a specific sequence and are accessed by their values, not by index.\n",
    "\tBeing an unordered collection, sets do not record element position or order of insertion. \n",
    "\tAccordingly, sets do not support indexing, slicing, or other sequence-like behavior.\n",
    "- Unique: Contains no duplicate values. Each element can only occur once within the set.\n",
    "- Mutable: You can add or remove elements after set creation, unlike tuples, but their values remain unique.\n",
    "\tThe contents can be changed using methods like add() and remove(). \n",
    "\tSince it is mutable, it has no hash value and cannot be used as either a dictionary key or as an element of another set.\n",
    "- Heterogeneous: Can hold elements of different data types within a single set.\n",
    "- Denoted by curly braces: {}"
   ]
  },
  {
   "cell_type": "code",
   "execution_count": 73,
   "id": "8b7007f7-f09e-4d34-bdb2-0cb5793907c8",
   "metadata": {},
   "outputs": [
    {
     "name": "stdout",
     "output_type": "stream",
     "text": [
      "<class 'list'> ['i1', 'i2', 'i1', 'i3', 'i3', 'i2', 'i1']\n",
      "<class 'set'> {'i2', 'i3', 'i1'}\n",
      "{'b', 'a', 'c', 'd', 'e'}\n"
     ]
    }
   ],
   "source": [
    "# Empty set using set constructor: \n",
    "my_set = set()\n",
    "\n",
    "# From other iterables: Use set(iterable) to remove duplicates from existing lists or strings.\n",
    "items = [\"i1\", \"i2\", \"i1\",\"i3\", \"i3\", \"i2\",\"i1\"]\n",
    "distinct_items = set(items)\n",
    "print(type(items), items) # <class 'list'> ['i1', 'i2', 'i1', 'i3', 'i3', 'i2', 'i1']\n",
    "print(type(distinct_items), distinct_items) # <class 'set'> {'i2', 'i3', 'i1'}\n",
    "\n",
    "# usecase: remove duplicate letters from a string\n",
    "code = \"aABbCdeeE\"\n",
    "letters = set(code.lower())\n",
    "print(letters) # {'b', 'a', 'c', 'd', 'e'}\n",
    "\n",
    "# Using a comma-separated list of elements within braces: \n",
    "basket = {\"apple\", \"banana\", \"orange\"}"
   ]
  },
  {
   "cell_type": "code",
   "execution_count": 70,
   "id": "774445ea-7e3c-43d9-abd3-e85f70effa8c",
   "metadata": {},
   "outputs": [
    {
     "name": "stdout",
     "output_type": "stream",
     "text": [
      "Found\n"
     ]
    }
   ],
   "source": [
    "# Membership check: \n",
    "# Use the in operator to check if an element exists:\n",
    "\n",
    "basket = {\"apple\", \"banana\", \"orange\"}\n",
    "\n",
    "if \"banana\" in basket:\n",
    "    print(\"Found\")"
   ]
  },
  {
   "cell_type": "markdown",
   "id": "bf8ffcfa-c3c6-413e-bf00-caad6939c3d1",
   "metadata": {},
   "source": [
    "# Dictionary Type"
   ]
  },
  {
   "cell_type": "code",
   "execution_count": 95,
   "id": "1dde1985-f58e-4ba9-8d0a-1aea3f3931d2",
   "metadata": {},
   "outputs": [
    {
     "name": "stdout",
     "output_type": "stream",
     "text": [
      "True\n",
      "{'Potter': 80, 'Granger': 100}\n",
      "{1: 'Granger', 3: 'Potter'}\n"
     ]
    }
   ],
   "source": [
    "# empty v1- Use the type constructor: dict()\n",
    "empty_dict = dict()\n",
    "\n",
    "# empty v2 - literal syntax\n",
    "empty = {}\n",
    "\n",
    "# Use the type constructor: named parameters\n",
    "scores1 = dict(Potter=80, Granger=100)\n",
    "\n",
    "# Use the type constor with an iterable of key-value pairs\n",
    "scores2 = dict([('Potter', 80), ('Granger', 100)])\n",
    "\n",
    "# Use a comma-separated list of key: value pairs within braces:\n",
    "scores3 = {'Potter': 80, 'Granger': 100} \n",
    "\n",
    "# Dictionaries compare equal if and only if they have the same (key, value) pairs (regardless of ordering).\n",
    "print(scores1 == scores2 == scores3)   # True\n",
    "print(scores3)   # {'Potter': 80, 'Granger': 100}\n",
    "\n",
    "\n",
    "ranks = {1: 'Granger', 3: 'Potter'}\n",
    "\n",
    "print(ranks) # {1: 'Granger', 3: 'Potter'}"
   ]
  },
  {
   "cell_type": "code",
   "execution_count": 96,
   "id": "368d762a-cfe9-41f8-aeb5-83d4ed16cedd",
   "metadata": {},
   "outputs": [
    {
     "name": "stdout",
     "output_type": "stream",
     "text": [
      "<class 'dict'> {7: 1430539, 10: 1069260, 34: 11076840, 35: 3431204}\n"
     ]
    }
   ],
   "source": [
    "# A. think as the representation of a simple object (excel row)\n",
    "person = {'name': 'MK', 'born': 81, 'gender': 'M'}\n",
    " \n",
    "# B. think as a collection of data for ONE attribute (excel column)\n",
    "born = {\"MK\": 81, \"MSL\": 14, \"BK\": 83}\n",
    "city_population = {7: 1430539, 10: 1069260, 34: 11076840, 35: 3431204}\n",
    "\n",
    "print(type(city_population), city_population) # <class 'dict'> {7: 1430539, 10: 1069260, 34: 11076840, 35: 3431204}\n"
   ]
  },
  {
   "cell_type": "code",
   "execution_count": 101,
   "id": "bc84aa16-a720-459c-87a2-5fbe6ff2e6ba",
   "metadata": {},
   "outputs": [
    {
     "name": "stdout",
     "output_type": "stream",
     "text": [
      "['Crime', 'Drama']\n",
      "Crime\n",
      "{'IMDB': 9.2, 'Rotten Tomatoes': 98}\n",
      "9.2\n"
     ]
    }
   ],
   "source": [
    "movie =   {\n",
    "    \"title\": \"The Godfather\",\n",
    "    \"year\": 1972,\n",
    "    \"genres\": [\"Crime\", \"Drama\"],\n",
    "    \"ratings\": {\n",
    "        \"IMDB\": 9.2,\n",
    "        \"Rotten Tomatoes\": 98\n",
    "    }\n",
    "}\n",
    "\n",
    "\n",
    "print(movie[\"genres\"])           # ['Crime', 'Drama']\n",
    "print(movie[\"genres\"][0])        # Crime\n",
    "\n",
    "print(movie[\"ratings\"])          # {'IMDB': 9.2, 'Rotten Tomatoes': 98}\n",
    "print(movie[\"ratings\"][\"IMDB\"])  # 9.2"
   ]
  },
  {
   "cell_type": "markdown",
   "id": "14036d0f-8216-43d5-9f96-7cb050b6d80e",
   "metadata": {},
   "source": [
    "## Accessing Values"
   ]
  },
  {
   "cell_type": "code",
   "execution_count": 99,
   "id": "ba2c7ec0-bc38-4e06-8b4b-0af809598e57",
   "metadata": {},
   "outputs": [
    {
     "name": "stdout",
     "output_type": "stream",
     "text": [
      "['#data', '#science', '#datascience', '#awesome', '#yolo']\n",
      "#data\n"
     ]
    }
   ],
   "source": [
    "tweet = { \n",
    "    \"user\": \"joelgrus\", \n",
    "    \"text\": \"Data Science is Awesome\", \n",
    "    \"retweet_count\": 100,\n",
    "    \"hashtags\": [\"#data\", \"#science\", \"#datascience\", \"#awesome\", \"#yolo\"]\n",
    "}\n",
    "\n",
    "# Access an item using the key by performing a lookup with an index operation:\n",
    "print(tweet['hashtags'])      # ['#data', '#science', '#datascience', '#awesome', '#yolo']\n",
    "print(tweet['hashtags'][0])   # '#data'"
   ]
  },
  {
   "cell_type": "code",
   "execution_count": 106,
   "id": "f5e0ec91-1888-42d5-9bd6-01a5e4e3bcf4",
   "metadata": {},
   "outputs": [
    {
     "name": "stdout",
     "output_type": "stream",
     "text": [
      "J.K. Rowling -1\n"
     ]
    }
   ],
   "source": [
    "# if you try to access a key that does not exist in the dictionary, Python will throw an exception:\n",
    "\n",
    "author = {\n",
    "    'name': 'J.K. Rowling',\n",
    "    'age': 56,\n",
    "    'country': 'United Kingdom'\n",
    "}\n",
    "\n",
    "# print(author['totalbooks']) # KeyError: 'totalbooks'\n",
    "\n",
    "# Dictionaries have a method called get that takes a key and a default value.\n",
    "# If the key appears in the dictionary, get returns the corresponding value; otherwise it returns the default value.\n",
    "\n",
    "name = author.get('name', 'NA')\n",
    "bookcnt = author.get('totalbooks', -1)\n",
    "print(name, bookcnt)  # J.K. Rowling -1"
   ]
  },
  {
   "cell_type": "code",
   "execution_count": 123,
   "id": "ce103729-3c09-4d33-aff9-4c54dd636464",
   "metadata": {},
   "outputs": [
    {
     "name": "stdout",
     "output_type": "stream",
     "text": [
      "{'capital': 'Brasília', 'population': 212559417}\n"
     ]
    }
   ],
   "source": [
    "# in operator allows you to quickly check if a key is in a dictionary:\n",
    "world_data = {\n",
    "    \"USA\": {\"capital\": \"Washington, D.C.\", \"population\": 331002651},\n",
    "    \"China\": {\"capital\": \"Beijing\", \"population\": 1444216107},\n",
    "    \"India\": {\"capital\": \"New Delhi\", \"population\": 1380004385},\n",
    "    \"Brazil\": {\"capital\": \"Brasília\", \"population\": 212559417},\n",
    "    \"France\": {\"capital\": \"Paris\", \"population\": 65273511},\n",
    "    \"South Africa\": {\"capital\": \"Pretoria\", \"population\": 59308690}\n",
    "}\n",
    "\n",
    "if 'Brazil' in world_data:\n",
    "    print(world_data['Brazil'])\n",
    "else:\n",
    "    print(\"Key not found\")\n",
    "          "
   ]
  },
  {
   "cell_type": "code",
   "execution_count": 104,
   "id": "647b5d7d-912c-4143-b65a-874911c49043",
   "metadata": {},
   "outputs": [
    {
     "name": "stdout",
     "output_type": "stream",
     "text": [
      "4\n"
     ]
    }
   ],
   "source": [
    "# The len function works on dictionaries; it returns the number of key-value pairs:\n",
    "car = {'year': 2019, 'make': 'Volkswagen', 'model': 'T-ROC', 'color': 'Orange'}\n",
    "print(len(car)) # 4"
   ]
  },
  {
   "cell_type": "code",
   "execution_count": 118,
   "id": "cdfe7fdf-62ac-46c7-ac6e-43ea73e3b130",
   "metadata": {},
   "outputs": [
    {
     "name": "stdout",
     "output_type": "stream",
     "text": [
      "<class 'dict'> {'id': 1, 'name': 'Alice', 'email': 'alice@example.com', 'roles': ['user', 'admin']}\n",
      "<class 'tuple'> (1, 'Alice', 'alice@example.com', ['user', 'admin'])\n",
      "user user\n"
     ]
    }
   ],
   "source": [
    "# Tuples vs Dictionaries representing DB Rows\n",
    "\n",
    "user1 = {\n",
    "    \"id\": 1, \n",
    "    \"name\": \"Alice\", \n",
    "    \"email\": \"alice@example.com\", \n",
    "    \"roles\": [\"user\", \"admin\"]\n",
    "}\n",
    "\n",
    "user2 = (1, \"Alice\", \"alice@example.com\", [\"user\", \"admin\"])\n",
    "\n",
    "print(type(user1), user1) # <class 'dict'>\n",
    "print(type(user2), user2) # <class 'tuple'>\n",
    "\n",
    "role1 = user1['roles'][0] # user\n",
    "role2 = user2[3][0]       # user\n",
    "\n",
    "print(role1, role2)\n",
    "\n"
   ]
  },
  {
   "cell_type": "markdown",
   "id": "1fa678b3-be28-4625-8654-edc471024ddd",
   "metadata": {},
   "source": [
    "## Dictionary iteration\n",
    "Dictionaries also support iteration using the for statement. By default, when you iterate over a dictionary, you get back the keys\n",
    "\n",
    "To retrieve both key and value during iteration, use the .items() method, which returns a view"
   ]
  },
  {
   "cell_type": "code",
   "execution_count": 126,
   "id": "6dfeb9c6-3666-4181-8912-4a85e6688aac",
   "metadata": {},
   "outputs": [
    {
     "name": "stdout",
     "output_type": "stream",
     "text": [
      "USA Washington, D.C.\n",
      "China Beijing\n",
      "India New Delhi\n",
      "Brazil Brasília\n",
      "France Paris\n",
      "South Africa Pretoria\n",
      "USA {'capital': 'Washington, D.C.', 'population': 331002651}\n",
      "China {'capital': 'Beijing', 'population': 1444216107}\n",
      "India {'capital': 'New Delhi', 'population': 1380004385}\n",
      "Brazil {'capital': 'Brasília', 'population': 212559417}\n",
      "France {'capital': 'Paris', 'population': 65273511}\n",
      "South Africa {'capital': 'Pretoria', 'population': 59308690}\n"
     ]
    }
   ],
   "source": [
    "world_data = {\n",
    "    \"USA\": {\"capital\": \"Washington, D.C.\", \"population\": 331002651},\n",
    "    \"China\": {\"capital\": \"Beijing\", \"population\": 1444216107},\n",
    "    \"India\": {\"capital\": \"New Delhi\", \"population\": 1380004385},\n",
    "    \"Brazil\": {\"capital\": \"Brasília\", \"population\": 212559417},\n",
    "    \"France\": {\"capital\": \"Paris\", \"population\": 65273511},\n",
    "    \"South Africa\": {\"capital\": \"Pretoria\", \"population\": 59308690}\n",
    "}\n",
    "\n",
    "for k in world_data:\n",
    "    print(k, world_data[k]['capital'])\n",
    "    \n",
    "for k, v in world_data.items():\n",
    "    print(k, v)"
   ]
  },
  {
   "cell_type": "markdown",
   "id": "0cf2b7b9-556f-4337-8a8a-41b527ddf274",
   "metadata": {},
   "source": [
    "# range() Function\n",
    "The range() function in Python is a versatile tool for generating sequences of numbers. \n",
    "It offers a concise and efficient way to loop through a series of values within a specific range. \n",
    "\n",
    "## Key Features:\n",
    "- Generates a sequence of integers within a specified range.\n",
    "- Optional arguments: Allows customizing the starting point, stopping point, and step size for the sequence.\n",
    "- Immutable: Returns a range object, not a list directly.\n",
    "\n",
    "## Syntax:\n",
    "- range(stop)\n",
    "- range(start, stop)\n",
    "- range(start, stop, step)"
   ]
  },
  {
   "cell_type": "code",
   "execution_count": 79,
   "id": "5f281d9b-e27b-45d9-bf75-0e5d7405ccb6",
   "metadata": {},
   "outputs": [
    {
     "name": "stdout",
     "output_type": "stream",
     "text": [
      "<class 'range'> range(0, 3)\n"
     ]
    }
   ],
   "source": [
    "r = range(3)\n",
    "print(type(r), r) # <class 'range'> range(0, 3)"
   ]
  },
  {
   "cell_type": "markdown",
   "id": "c6971e36-2bb0-4ceb-b388-cfea43d51cf5",
   "metadata": {},
   "source": [
    "# For Loop"
   ]
  },
  {
   "cell_type": "code",
   "execution_count": 78,
   "id": "f7d090fe-b2d6-4703-871f-fe911495b3aa",
   "metadata": {},
   "outputs": [
    {
     "name": "stdout",
     "output_type": "stream",
     "text": [
      "loop through a list 1\n",
      "loop through a list 2\n",
      "loop through a list 3\n",
      "75\n",
      "90\n",
      "80\n",
      "0 75\n",
      "1 90\n",
      "2 80\n",
      "range(3): 0\n",
      "range(3): 1\n",
      "range(3): 2\n",
      "range(10, 15): 10\n",
      "range(10, 15): 11\n",
      "range(10, 15): 12\n",
      "range(10, 15): 13\n",
      "range(10, 15): 14\n",
      "range(100, 110, 2): 100\n",
      "range(100, 110, 2): 102\n",
      "range(100, 110, 2): 104\n",
      "range(100, 110, 2): 106\n",
      "range(100, 110, 2): 108\n"
     ]
    }
   ],
   "source": [
    "for i in [1, 2, 3]:\n",
    "    print(\"loop through a list\", i)\n",
    "    \n",
    "    \n",
    "# Looping with an index\n",
    "# Note that the below code is a code smell. It indicates that you are not using Python as you should.\n",
    "scores = [75, 90, 80]\n",
    "for i in range(len(scores)): # 75, 90, 80\n",
    "    print(scores[i])\n",
    "\n",
    "# The enumerate function returns a tuple of (index,item) for every item in the sequence:\n",
    "for i, v in enumerate(scores):\n",
    "    print(i, v)\n",
    "\n",
    "\n",
    "\n",
    "for i in range(3):          # 0, 1, 2\n",
    "    print(\"range(3):\", i)\n",
    "\n",
    "for i in range(10, 15):     # 10, 11, 12, 13, 14\n",
    "    print(\"range(10, 15):\", i)\n",
    "\n",
    "for i in range(100, 110, 2):     # 100, 102, 104, 106, 108\n",
    "    print(\"range(100, 110, 2):\", i)\n",
    "\n"
   ]
  },
  {
   "cell_type": "markdown",
   "id": "e4eccb2d-080b-44d7-9ddb-a1b84376ddba",
   "metadata": {},
   "source": [
    "# While Loop\n",
    "Python will let you loop over a block of code while a condition holds. \n",
    "A while loop is followed by an expression that evaluates to True or False. Then, a colon follows it. The indented block of code will continue to repeat as long as the expression evaluates to True. This allows you to easily create an infinite loop.\n",
    "\n",
    "Typically, if you have an object that supports iteration, you use a for loop to iterate over the items. You use while loops when you don't have easy access to an iterable object."
   ]
  },
  {
   "cell_type": "code",
   "execution_count": 87,
   "id": "98370e33-af27-4b37-bf81-41e5a0ef1f13",
   "metadata": {},
   "outputs": [
    {
     "name": "stdout",
     "output_type": "stream",
     "text": [
      "3\n",
      "2\n",
      "1\n"
     ]
    }
   ],
   "source": [
    "n = 3\n",
    "while n>0:\n",
    "    print(n)\n",
    "    n -= 1"
   ]
  },
  {
   "cell_type": "markdown",
   "id": "83700a86-9038-41b5-8bcb-1d4a5527ad0f",
   "metadata": {},
   "source": [
    "## Exercise: \n",
    "Create a list with the names of friends and colleagues. Search for the name Bob using a for loop. Print not found if you didn't find it."
   ]
  },
  {
   "cell_type": "code",
   "execution_count": 86,
   "id": "b450ae5a-54c1-41cd-83ea-0c35d7df8309",
   "metadata": {},
   "outputs": [
    {
     "name": "stdout",
     "output_type": "stream",
     "text": [
      "Not Found\n"
     ]
    }
   ],
   "source": [
    "# TODO case-sensitivity\n",
    "names = ['Alice', 'Bob', 'Charlie', 'Danielle', 'Erica']\n",
    "q = \"bob\"\n",
    "if q in names:\n",
    "    print(\"Found\")\n",
    "else:\n",
    "    print(\"Not Found\")\n",
    "    "
   ]
  },
  {
   "cell_type": "markdown",
   "id": "64d58a92-3efd-4be4-a43a-d137aa05b976",
   "metadata": {},
   "source": [
    "# Functions"
   ]
  },
  {
   "cell_type": "code",
   "execution_count": 134,
   "id": "bc4f00f2-1449-4985-8ff3-b0fc0509d719",
   "metadata": {},
   "outputs": [
    {
     "name": "stdout",
     "output_type": "stream",
     "text": [
      "Hi!\n"
     ]
    },
    {
     "name": "stdin",
     "output_type": "stream",
     "text": [
      "Enter a positive integer: 5\n"
     ]
    },
    {
     "name": "stdout",
     "output_type": "stream",
     "text": [
      "Odd number: 5\n",
      "8\n",
      "8\n",
      "**********\n",
      "-----\n"
     ]
    }
   ],
   "source": [
    "# a function with no parameters\n",
    "def greet():\n",
    "    print(\"Hi!\")\n",
    "\n",
    "\n",
    "def is_odd(n):\n",
    "    return n % 2 == 1\n",
    "\n",
    "def add(x, y):\n",
    "    return x + y\n",
    "\n",
    "# Type Hints\n",
    "def sum(a: int, b: int) -> int:\n",
    "    return a + b\n",
    "\n",
    "\n",
    "# Default parameters\n",
    "def drawLine(cnt, c=\"*\"):\n",
    "    for i in range(cnt):\n",
    "        print(c, end=\"\")\n",
    "    print(\"\")\n",
    "\n",
    "\n",
    "greet()\n",
    "\n",
    "x = input(\"Enter a positive integer:\")\n",
    "\n",
    "if is_odd(int(x)):\n",
    "    print(\"Odd number:\", x)\n",
    "    \n",
    "print(add(3,5))\n",
    "print(sum(3,5))\n",
    "\n",
    "drawLine(10)\n",
    "drawLine(5, \"-\")"
   ]
  },
  {
   "cell_type": "markdown",
   "id": "47fc723e-c647-4cc1-8370-9d22324580b3",
   "metadata": {},
   "source": [
    "# Classes\n",
    "\n",
    "### What are Classes?\n",
    "- Blueprints for Objects: \n",
    "\tClasses serve as templates or blueprints for creating objects, which are instances of those classes.\n",
    "- Encapsulating Data and Behavior: \n",
    "\tThey encapsulate both data (attributes) and the operations that can be performed on that data (methods).\n",
    "- Data Abstraction: \n",
    "\tHide implementation details and provide a clear interface for interacting with objects.\n",
    "- Organizing Code and Modeling Real-World Entities: \n",
    "\tClasses promote code reusability, maintainability, and help model real-world concepts effectively.\n",
    "\n",
    "\n",
    "\n",
    "\n",
    "“Many object-oriented languages such as C++, Java, and Python use classes to define what state an object can hold and the methods to alter that state. \n",
    "\n",
    "Strings, dictionaries, files, and integers are all objects. Even functions are objects. In Python, almost everything is an object. \n",
    "In Python, str is the name of the class used to store strings. The str class defines the methods of strings. \n",
    "You can create an instance of the str class, b, by using Python’s literal string syntax:\n",
    "\n",
    "\tb = \"I'm a string”\n",
    "\n",
    "You may hear, \n",
    "- “b is a string”, \n",
    "- “b is an object”, \n",
    "- “b is an instance of a string”. \n",
    "\n",
    "The latter is perhaps the most specific. But, b is not a string class.\n",
    "\n",
    "## Defining a Class\n",
    "It is said that Python comes with “batteries included”—it has libraries and classes predefined for your use. These classes tend to be generic. You can define your own classes that deal specifically with your problem domain.\n",
    "\n",
    "First of all, classes are not always needed in Python. You should give some thought to whether you need to define a class or whether a function (or group of functions) would be sufficient.\n",
    "\n",
    "Once you have decided that you want to model something with a class, ask yourself the following questions:\n",
    "\n",
    "\t• Does it have a name?\n",
    "\t• What are the properties that is has?\n",
    "\t• Are these properties constant between instances of the class? ie:\n",
    "\t\t○ Which of these properties are common to the class?\n",
    "\t\t○ Which of these properties are unique to each member?\n",
    "\t• What actions does it do?\n",
    "\n",
    "\n",
    "## Attributes:\n",
    "- Instance Attributes: Variables defined within a class that store data specific to each object.\n",
    "- Class Attributes: Variables shared by all instances of the class.\n",
    "\n",
    "\n",
    "## Methods\n",
    "Methods are functions that are attached to a class. \n",
    "Instead of calling the method by itself, you need to call it on an instance of the class.\n",
    "\n",
    "### The first parameter: self\n",
    "The first parameter of a method is always self, referring to the current object.\n",
    "As in Modula-3, there are no shorthands for referencing the object’s members from its methods: \n",
    "The method is declared with an explicit first argument representing the object, which is provided implicitly by the call if called using an object: object.method() (resembling Go pointer receiver?)\n",
    "\n",
    "\tdef payroll(self):\n",
    "\t    return self.hours_worked * self.rate\n",
    "\n",
    "\n",
    "## Constructor: <code>__init__()</code>\n",
    "A special method called when an object is created to initialize its attributes.\n",
    "A constructor is called when you create an instance of a class. \n",
    "If you consider a class to be a factory that provides a template or blueprint for instances, then the constructor is what initializes the state for the instances. \n",
    "\n",
    "The constructor takes an instance as input (the self parameter), and updates it inside the method. Python takes care of passing around the\n",
    "instance for us. \n",
    "\n",
    "The attributes unique to an instance are put in the constructor.\n",
    "\n",
    "## No Access Modifiers\n",
    "Python doesn't have the notion of access modifiers, such as private, protected, and public, to restrict access to attributes and methods in a class. In Python, the distinction is between public and non-public class members.If you want to signal that a given attribute or method is non-public, then you should use the well-established Python convention of prefixing the name with an underscore (_).\n",
    "Note that this is just a convention. \n",
    "It doesn't stop you and other programmers from accessing the attributes using dot notation, as in obj._attr. \n",
    "However, it's bad practice to violate this convention."
   ]
  },
  {
   "cell_type": "code",
   "execution_count": 141,
   "id": "15496658-570c-4164-90aa-5dd66237e217",
   "metadata": {},
   "outputs": [
    {
     "name": "stdout",
     "output_type": "stream",
     "text": [
      "Box(capacity:10 size:3)\n"
     ]
    }
   ],
   "source": [
    "class Box:\n",
    "    \n",
    "    # Constructor\n",
    "    # Note that the constructor takes an instance as input (the self parameter)\n",
    "    def __init__(self, capacity):\n",
    "        # define instance variables in the constructor body\n",
    "        self.capacity = capacity\n",
    "        self.size = 0               # default initialization, not using constructor parameters.\n",
    "    \n",
    "    def load(self, amount):\n",
    "        if self.size + amount <= self.capacity:\n",
    "            # print(\"Loading\", amount)\n",
    "            self.size += amount\n",
    "    \n",
    " \n",
    "    # Called by str(object) and the built-in functions format() and print()\n",
    "    # to compute the “informal” or nicely printable string representation of an object.\n",
    "    def __str__(self):\n",
    "        return f\"Box(capacity:{self.capacity} size:{self.size})\"\n",
    "    \n",
    "\n",
    "# Create a new instance of the class and assign this object to the local a variable box01\n",
    "box01 = Box(10)\n",
    "box01.load(3)\n",
    "print(box01) # Box(capacity:10 size:3)"
   ]
  },
  {
   "cell_type": "code",
   "execution_count": null,
   "id": "3d3a7edf-918e-4926-b6e1-5db32b32777b",
   "metadata": {},
   "outputs": [],
   "source": []
  }
 ],
 "metadata": {
  "kernelspec": {
   "display_name": "Python 3 (ipykernel)",
   "language": "python",
   "name": "python3"
  },
  "language_info": {
   "codemirror_mode": {
    "name": "ipython",
    "version": 3
   },
   "file_extension": ".py",
   "mimetype": "text/x-python",
   "name": "python",
   "nbconvert_exporter": "python",
   "pygments_lexer": "ipython3",
   "version": "3.10.8"
  }
 },
 "nbformat": 4,
 "nbformat_minor": 5
}
