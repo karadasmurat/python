{
 "cells": [
  {
   "cell_type": "markdown",
   "id": "61f77925-8117-48e2-9a57-5aae9fd10073",
   "metadata": {},
   "source": [
    "# Python\n",
    "\n",
    "Python is a powerful object-oriented programming language.\n",
    "\n",
    "Python is a high-level, interpreted language developed in the late 1980s by Guido van Rossum at the National Research Institute for Mathematics and Computer Science in the Netherlands. The name Python, by the way, derives not from the snake, but from the British comedy troupe Monty Python’s Flying Circus, of which Guido was, and presumably still is, a fan.\n",
    "\n",
    "## Key Characteristics:\n",
    "\n",
    "- High-level: Abstracts away many low-level details, making it easier to focus on problem-solving rather than machine-specific instructions.\n",
    "- General-purpose: Can be used for a wide range of applications, including web development, data science, machine learning, automation, scientific computing, and more.\n",
    "- Interpreted: Code is executed line by line, without the need for prior compilation, enabling rapid prototyping and experimentation.\n",
    "- Dynamically typed: Data types are determined at runtime, offering flexibility but also requiring attention to potential type-related errors.\n",
    "- Indentation-based: Relies on whitespace (indentation) to define code blocks, promoting readability and a clean visual structure.\n",
    "\n",
    "\n",
    "## Key Advantages:\n",
    "\n",
    "- Extensive libraries and frameworks: Offers a vast collection of pre-written code for various domains, saving development time and effort.\n",
    "- Large and active community: Benefits from a supportive community of developers, extensive documentation, and online resources.\n",
    "- Cross-platform compatibility: Runs seamlessly on major operating systems (Windows, macOS, Linux).\n",
    "- Ideal for beginners: Often recommended as a first programming language due to its beginner-friendly syntax and emphasis on readability.\n",
    "- Readability: Emphasizes clear and concise code, making it easier to learn, write, and maintain.\n",
    "- High productivity: Python's overall strength for general-purpose software engineering.\n",
    "\n",
    "## Why not Python?\n",
    "\n",
    "Interpreted languages do not compile directly to machine code, instead, there is a layer above, an interpreter that performs this function. There are pros and cons to this approach. As you can imagine, on the fly translating can be time\n",
    "consuming. Interpreted code like Python programs tend to run on the order of 10–100 times slower than C programs. On the flip side, writing code in Python optimizes for developer time. Because Python code is interpreted and not compiled into native machine instructions, code written for one platform will work on any other platform that has the Python interpreter installed.\n",
    "\t• As Python is an interpreted programming language, in general most Python code will run substantially slower than code written in a compiled language like Java or C++. Programmer time can be more valuable than CPU time, many are happy to make this trade-off. In an application with very low latency or demanding resource utilization requirements (e.g., a high-frequency trading system), the time spent programming in a lower-level (but also lower-productivity) language like C++ to achieve the maximum possible performance might be time well spent.\n",
    "\t• Python can be a challenging language for building highly concurrent, multithreaded applications, particularly applications with many CPU-bound threads. \n",
    "\n",
    "\n",
    "## Python's Dual Nature:\n",
    "Python is designed for readability and ease of use, with clear syntax and a focus on developer productivity.\n",
    "\n",
    "### C Implementation: \n",
    "Behind the scenes, the core Python interpreter and standard library are written in C, a lower-level language known for efficiency and direct hardware control.\n",
    "\n",
    "## Virtual Environments in Python\n",
    "\n",
    "A virtual environment is essentially a mini-Python universe contained within your actual Python environment. \n",
    "It has its own set of Python packages, independent of your global Python installation. \n",
    "This is incredibly useful for isolating projects and preventing package conflicts. \n",
    "Imagine each project having its own sandbox to play in!\n",
    "\n",
    "Here's why you might want to create virtual environments:\n",
    "\n",
    "- Maintain package cleanliness: Avoids cluttering your system's Python installation with unnecessary packages specific to individual projects.\n",
    "- Avoid System Pollution: Linux and macOS come preinstalled with a version of Python that the operating system uses for internal tasks.If you install packages to your operating system’s global Python, these packages will mix with the system-relevant packages. This mix-up could have unexpected side effects on tasks crucial to your operating system’s normal behavior.\n",
    "- Isolate project dependencies: Each project can have its own specific package versions without affecting other projects or your system's default Python installation.\n",
    "\tImagine you have an application that needs version 1 of LibFoo, but another application requires version 2. \n",
    "\tIf you have only one place to install packages, then you can’t work with two different versions of the same library. Python “Virtual Environments” allow Python packages to be installed in an isolated location for a particular application, rather than being installed globally. \n",
    "- Improve reproducibility: Sharing your virtual environment with collaborators ensures they're working with the same environment and dependencies as you.\n",
    "- Enhance development workflow: Switching between project environments becomes simple and organized.\n",
    "\n",
    "\n",
    "There are two main ways to create virtual environments in Python:\n",
    "\n",
    "1. Using venv (built-in with Python 3.3+)\n",
    "2. Using virtualenv (external package)\n",
    "\n",
    "\t\n",
    "- Create a virtual environment\n",
    "```bash\t\n",
    "\t$ python3 -m venv /path/to/new/virtual/environment\n",
    "\t\n",
    "\t$ python3 -m venv /Users/mk/dev/python/environments/mkenv3.10\n",
    "```\n",
    "- Activate virtual environment\n",
    "\tsource is a shell command that executes a script or file in the current shell environment. \n",
    "\tNotice that inside the bin folder, you'll find a script named activate \n",
    "\tThe activate script primarily modifies environment variables, particularly PATH.\n",
    "```bash\n",
    "\t$ source /Users/mk/dev/python/environments/mkenv3.10/bin/activate\n",
    "     (mkenv3.10) 🍏 which python    (prompt changes)\n",
    "     /Users/mk/dev/python/environments/mkenv3.10/bin/python\n",
    "     (mkenv3.10) 🍏 \n",
    "```\n",
    "After creating and activating your virtual environment, you can now install any external dependencies that you need for your project:\n",
    "Note: Before installing a package, look for the name of your virtual environment within parentheses just before your command prompt. \n",
    "```bash\n",
    "    (mkenv3.10) $ python3 -m pip install <package-name>\n",
    "    (mkenv3.10) $ python3 -m pip list\n",
    "```\n",
    "to deactivate\n",
    "```bash\n",
    "    (mkenv3.10) $ deactivate\n",
    "    $\n",
    "```\n",
    "\n",
    "## Python Packages:\n",
    "Reusable collections of code modules that extend Python's functionality. \n",
    "\n",
    "Key Advantages of Using Packages:\n",
    "- Code reusability: \n",
    "\tLeverage existing, well-tested code instead of writing everything from scratch.\n",
    "- Access to diverse functionality: \n",
    "\tExpand Python's capabilities with a vast array of packages covering various domains.\n",
    "- Collaboration and sharing: \n",
    "\tEasily share code and projects with others by specifying required packages.\n",
    "- Community-driven development: \n",
    "\tBenefit from continuous improvement and innovation within the Python community.\n",
    "\n",
    "\n",
    "## The Python Package Index (PyPI) \n",
    "A repository of software for the Python programming language.\n",
    "https://pypi.org/\n",
    "\n",
    "## Package Installer for Python (pip)\n",
    "You can use pip to install packages from the Python Package Index and other indexes.\n",
    "It's like an app store for Python packages.\n",
    "\n",
    "Purpose:\n",
    "- Install, upgrade, and uninstall Python packages from PyPI and other indexes.\n",
    "- Manage package dependencies to ensure compatibility.\n",
    "\n",
    "Basic commands:\n",
    "- <code> pip install <package_name></code> : Install a package.\n",
    "- <code> pip uninstall <package_name></code> : Uninstall a package.\n",
    "- <code> pip list</code> : List installed packages.\n",
    "- <code> pip freeze</code> : Generate a list of installed packages with their versions (for creating requirements files).\n",
    "\n",
    "```bash\n",
    "\t(mkenv3.10) bin 🍏 pip list\n",
    "\tPackage    Version\n",
    "\t---------- -------\n",
    "\tpip        23.3.2\n",
    "\tsetuptools 63.2.0\n",
    "``` \n",
    "Remember:\n",
    "\n",
    "- Always use virtual environments to manage packages and create reproducible project environments.\n",
    "- Explore PyPI ( https://pypi.org/) to discover the incredible variety of Python packages available.\n",
    "- Use pip responsibly to ensure package compatibility and avoid conflicts.\n",
    "    \n",
    "    \n",
    "## Comments\n",
    "To create a comment in Python, start a line with a #\n",
    "Anything that follows the hash is ignored.\n",
    "Other languages support multi-line comments, but Python does not. (You may be tempted to comment out multiple lines of code by making those lines a triple-quoted string.)\n",
    "\n",
    "## Indentation\n",
    "In many of these languages, the curly braces, { } denote the boundaries of the if block. \n",
    "One unusual Python feature is that the whitespace indentation of a piece of code affects its meaning. \n",
    "A logical block of statements such as the ones that make up a function should all have the same indentation, set in from the indentation of their parent function or \"if\" or whatever. If one of the lines in a group has a different indentation, it is flagged as a syntax error.\n",
    "\n",
    "A common question beginners ask is, \"How many spaces should I indent?\" \n",
    "- According to the official Python style guide (PEP 8), you should indent with 4 spaces. \n",
    "- Google's internal style guideline dictates indenting by 2 spaces."
   ]
  },
  {
   "cell_type": "code",
   "execution_count": 4,
   "id": "ecefd655-4df2-4e21-bb64-2343a2182333",
   "metadata": {},
   "outputs": [
    {
     "name": "stdout",
     "output_type": "stream",
     "text": [
      "Hello, there!\n"
     ]
    }
   ],
   "source": [
    "print(\"Hello, there!\")"
   ]
  },
  {
   "cell_type": "markdown",
   "id": "a3a04617-1dbb-4e05-a1cc-958d775cfa8a",
   "metadata": {},
   "source": [
    "# Basic Input/Output\n",
    "The built-in input function will read text from a terminal.\n",
    "\n",
    "## F-Strings\n",
    "F-strings are a powerful and intuitive way to format strings in Python 3.6 and later versions. They simplify the process, making your code more readable and concise compared to older approaches like formatting strings with the % operator or the .format() method."
   ]
  },
  {
   "cell_type": "code",
   "execution_count": 6,
   "id": "36616391-9be0-47e4-9085-5f74038ba822",
   "metadata": {},
   "outputs": [
    {
     "name": "stdin",
     "output_type": "stream",
     "text": [
      "Enter your name MK\n"
     ]
    },
    {
     "name": "stdout",
     "output_type": "stream",
     "text": [
      "Hello,  MK\n"
     ]
    }
   ],
   "source": [
    "name = input(\"Enter your name\")\n",
    "print(\"Hello, \", name)"
   ]
  },
  {
   "cell_type": "code",
   "execution_count": 194,
   "id": "5a91dbb7-8ceb-4a80-bb21-756bede4715b",
   "metadata": {},
   "outputs": [
    {
     "name": "stdin",
     "output_type": "stream",
     "text": [
      "x:  1\n",
      "y:  2\n"
     ]
    },
    {
     "name": "stdout",
     "output_type": "stream",
     "text": [
      "12\n",
      "3\n"
     ]
    }
   ],
   "source": [
    "x = input(\"x: \")\n",
    "y = input(\"y: \")\n",
    "\n",
    "print(x+y)           # Outputs 12 for x:1 and y:2!\n",
    "print(int(x)+int(y)) # Outputs 3"
   ]
  },
  {
   "cell_type": "code",
   "execution_count": 147,
   "id": "9bfce1e9-09c8-4d14-b544-e0f09475b963",
   "metadata": {},
   "outputs": [
    {
     "name": "stdout",
     "output_type": "stream",
     "text": [
      "Hello, Alice! You are 30 years old.\n",
      "The price is $12.99\n"
     ]
    }
   ],
   "source": [
    "name = \"Alice\"\n",
    "age = 30\n",
    " \n",
    "greeting = f\"Hello, {name}! You are {age} years old.\"\n",
    " \n",
    "print(greeting) # Output: Hello, Alice! You are 30 years old.\n",
    "\n",
    "# Format Specifiers:\n",
    "price = 12.99\n",
    " \n",
    "message = f\"The price is ${price:.2f}\"\n",
    " \n",
    "print(message)"
   ]
  },
  {
   "cell_type": "markdown",
   "id": "02e91664-bd78-4a7a-b05c-e2c405a63a68",
   "metadata": {},
   "source": [
    "# Built-in Functions\n",
    "The Python interpreter has a number of functions and types built into it that are always available. \n",
    "\n",
    "Python has both functions and methods!\n",
    "\n",
    "**The distinction between functions and methods in Python can be initially confusing for those coming from strictly object-oriented backgrounds.**\n",
    "\n",
    "- <code>bool( )</code>\tbool(x=False)\n",
    "\tReturn a Boolean value, i.e. one of True or False. \n",
    "- <code>int()</code>\tclass int(x=0)\n",
    "\tclass int(x, base=10)\n",
    "\tReturn an integer object constructed from a number or string x, or return 0 if no arguments are given.\n",
    "- <code>float()</code>\tfloat(x=0.0)\n",
    "Return a floating point number constructed from a number or string x.\n",
    "- <code>str()</code>\tclass str(object='')\n",
    "\tclass str(object=b'', encoding='utf-8', errors='strict')\n",
    "\tReturn a str version of object. \n",
    "- <code>list()</code>\tclass list(iterable)\n",
    "\tRather than being a function, list is actually a mutable sequence type, as documented in Lists and Sequence Types — list, tuple, range.\n",
    "- <code>tuple()</code>\tclass tuple\n",
    "\tclass tuple(iterable)\n",
    "\tRather than being a function, tuple is actually an immutable sequence type, as documented in Tuples and Sequence Types — list, tuple, range.\n",
    "- <code>range()</code>\tclass range(stop)\n",
    "\tclass range(start, stop, step=1)\n",
    "\tRather than being a function, range is actually an immutable sequence type, as documented in Ranges and Sequence Types — list, tuple, range.\n",
    "\t\n",
    "- <code>set()</code>\tclass set\n",
    "\tclass set(iterable)\n",
    "\tReturn a new set object, optionally with elements taken from iterable. set is a built-in class. See set and Set Types — set, frozenset for documentation about this class.\n",
    "- <code>dict()</code>\tCreate a new dictionary. The dict object is the dictionary class.\n",
    "\t\n",
    "- <code>id()</code>\tid(object)\n",
    "\tReturn the “identity” of an object. \n",
    "\tThis is an integer which is guaranteed to be unique and constant for this object during its lifetime.\n",
    "- <code>type()</code>\tclass type(object)\n",
    "\tclass type(name, bases, dict, **kwds)\n",
    "\tWith one argument, return the type of an object. \n",
    "\t\n",
    "- <code>print()</code>\tprint(*objects, sep=' ', end='\\n', file=None, flush=False)\n",
    "\tPrint objects to the text stream file, separated by sep and followed by end. sep, end, file, and flush, if present, must be given as keyword arguments.\n",
    "input()\tinput(prompt)\n",
    "\tIf the prompt argument is present, it is written to standard output without a trailing newline. \n",
    "\tThe function then reads a line from input, converts it to a string (stripping a trailing newline), and returns that.\n",
    "\t\n",
    "- <code>filter()</code>\tfilter(function, iterable)\n",
    "\tConstruct an iterator from those elements of iterable for which function is true. \n",
    "- <code>map()</code>\tmap(function, iterable, *iterables)\n",
    "\tReturn an iterator that applies function to every item of iterable, yielding the results.\n",
    "\t\n",
    "- <code>dir()</code>\tWithout arguments, return the list of names in the current local scope. \n",
    "\tWith an argument, attempt to return a list of valid attributes for that object.\n",
    "- <code>len()</code>\tlen(s)\n",
    "\tReturn the length (the number of items) of an object. The argument may be a sequence (such as a string, bytes, tuple, list, or range) or a collection (such as a dictionary, set, or frozen set).\n",
    "- <code>max()</code>\tReturn the largest item in an iterable or the largest of two or more arguments.\n",
    "- <code>min()</code>\tReturn the smallest item in an iterable or the smallest of two or more arguments.\n",
    "- <code>sum()</code>\tsum(iterable, /, start=0)\n",
    "\tSums start and the items of an iterable from left to right and returns the total. \n",
    "\t\n",
    "- <code>open()</code>\tOpen file and return a corresponding file object. If the file cannot be opened, an OSError is raised.\n",
    "\t\n",
    "- <code>reversed()</code>\treversed(seq)\n",
    "\tReturn a reverse iterator. seq must be an object which has a __reversed__() method or supports the sequence protocol (the __len__() method and the __getitem__() method with integer arguments starting at 0).\n",
    "- <code>sorted()</code>\tsorted(iterable, /, *, key=None, reverse=False)\n",
    "\tReturn a new sorted list from the items in iterable.\n",
    "- <code>super()</code>\tclass super\n",
    "\tclass super(type, object_or_type=None)\n",
    "\tReturn a proxy object that delegates method calls to a parent or sibling class of type. \n",
    "\tThis is useful for accessing inherited methods that have been overridden in a class."
   ]
  },
  {
   "cell_type": "markdown",
   "id": "1cc6b32b-57ea-464a-b8aa-9014b6e6ac3c",
   "metadata": {},
   "source": [
    "# Variables\n",
    "- Variables are named containers for storing data values.\n",
    "- Variables are the building blocks of keeping track of state.\n",
    "\n",
    "## Objects\n",
    "In Python, everything is an object. Objects hold state (and might be mutated), which is also called the value. \n",
    "To keep track of objects you use variables. \n",
    "\n",
    "\n",
    "When Python creates a variable, it tells the object to increase its reference count. When objects have variables or other objects pointing to them, they have a positive reference count. When variables go away (an example is when you exit a function, variables in that function will go away), the reference count goes down. When this count goes down to zero, the Python interpreter will assume that no one cares about the object anymore and garbage collects it. This means it removes it from its memory. Python handle cleaning up objects for us.\n",
    "\n",
    "```python\n",
    "\tstatus = \"off\" \n",
    "```\n",
    "This tells Python to \n",
    "- Create a string with the contents of \"off\". \n",
    "- Create a variable named status, and \n",
    "- Attach it to that string.\n",
    "\n",
    "Later on, in your program you can access status, you can print it out, and you can even assign another variable to it.\n",
    "\n",
    "This object has a few properties of interest. \n",
    "- First, it has an id. You can think of the id as where Python stores this object in memory. \n",
    "- It also has a type, in this case, a string. \n",
    "- Finally, it has a value, here the value is 'off', because it is a string.\n",
    "\n",
    "## Identity\n",
    "Identity at its lowest level refers to an object’s location in the computer’s memory. \n",
    "Python has a built-in function called id() that tells you the identity of an object\n",
    "\n",
    "It is possible for two variables to refer to the same object.\n",
    "\n"
   ]
  },
  {
   "cell_type": "code",
   "execution_count": 14,
   "id": "2b2f2398-dd41-417d-a462-ee33e4089c5a",
   "metadata": {},
   "outputs": [
    {
     "name": "stdout",
     "output_type": "stream",
     "text": [
      "4391528624 4391528624\n"
     ]
    }
   ],
   "source": [
    "name = \"Matt\"\n",
    "first = name\n",
    "\n",
    "print(id(name), id(first)) # 4391528624 4391528624"
   ]
  },
  {
   "cell_type": "code",
   "execution_count": 206,
   "id": "ab5074dd-7bb4-4611-851c-574a227f7954",
   "metadata": {},
   "outputs": [
    {
     "name": "stdout",
     "output_type": "stream",
     "text": [
      "a: 1 @4338090224\n",
      "b: 1 @4338090224\n",
      "a: 2 @4338090256\n",
      "b: 1 @4338090224\n",
      "a: [50, 60, 70, 80] @4397139904\n",
      "b: [50, 60, 70, 80] @4397139904\n"
     ]
    }
   ],
   "source": [
    "# immutables are not modified through copies.\n",
    "# new object will be created and variable will point to this, changing id.\n",
    "a = 1\n",
    "b = a # variables a and b are pointing to the same immutable primitive.\n",
    "print(f\"a: {a} @{id(a)}\") # a: 1 @4338090224\n",
    "print(f\"b: {b} @{id(b)}\") # b: 1 @4338090224\n",
    "\n",
    "a = 2 # new int object is created that a will point, changes the identity of a!\n",
    "print(f\"a: {a} @{id(a)}\") # a: 2 @4338090256\n",
    "print(f\"b: {b} @{id(b)}\") # b: 1 @4338090224\n",
    "\n",
    "\n",
    "# mutables, can be modified through copies of references.\n",
    "scores = [50, 60, 70]\n",
    "scp = scores\n",
    "\n",
    "scp.append(80)\n",
    "\n",
    "print(f\"a: {scores} @{id(scores)}\") # a: [50, 60, 70, 80] @4397139904\n",
    "print(f\"b: {scp} @{id(scp)}\")       # b: [50, 60, 70, 80] @4397139904"
   ]
  },
  {
   "cell_type": "markdown",
   "id": "2e2ec02e-c9e6-4a5b-ba2c-876ba79f1d4e",
   "metadata": {},
   "source": [
    "# Python's Type System: Dynamically typed\n",
    "Data types are determined at runtime, not during compilation. \n",
    "This means you don't need to explicitly declare variable types, offering flexibility.\n",
    "\n",
    "The variable does not care about the type. In Python, the type is attached to the object.\n",
    "\n",
    "You can change the value and type of a variable later in your code. \n",
    "Note that just because you can rebind a variable to a different type, doesn't mean you should.\n",
    "\n",
    "## Type Hints\n",
    "\n",
    "Python is a dynamically typed language, determining variable types at runtime, not during compilation. This offers flexibility but can lead to potential errors if not handled carefully.\n",
    "\n",
    "That means that it in general it doesn't care about the types of objects we use, as long as we use them in valid ways. In a statically typed language our functions and objects would have specific types.\n",
    "\n",
    "Python 3 introduced type hints. Type hints allow you to indicate what the type is for each argument in a function as well as what what the type is of the object returned by the function. The \"typing\" module contains many types. \n",
    "\n",
    "### The Role of Type Hints:\n",
    "- Optional annotations added to function arguments and return values.\n",
    "- Don't enforce types at runtime but provide valuable information for:\n",
    "  - Developers: Clarify intended types, improving code readability and understanding.\n",
    "  - Tools: Enable static type checkers (like mypy) to detect potential type errors early, reducing runtime surprises.\n",
    "  - IDEs: Offer better code completion, refactoring, and navigation.\n",
    "  \n",
    "Remember, these type annotations don't actually do anything. \n",
    "You can still use the annotated add function to add strings, and the call to add(1, \"two\") will still raise the exact same TypeError"
   ]
  },
  {
   "cell_type": "code",
   "execution_count": 13,
   "id": "c145b8ac-734c-405c-9317-9f78343c757a",
   "metadata": {},
   "outputs": [
    {
     "name": "stdout",
     "output_type": "stream",
     "text": [
      "4338090512 <class 'int'> 10\n",
      "4391657776 <class 'str'> ten\n"
     ]
    }
   ],
   "source": [
    "# weakly typed\n",
    "a = 10 \n",
    "print(id(a), type(a), a) # 4338090512 <class 'int'> 10\n",
    "\n",
    "a = \"ten\" \n",
    "print(id(a), type(a), a) # 4391657776 <class 'str'> ten\n"
   ]
  },
  {
   "cell_type": "code",
   "execution_count": 15,
   "id": "c3bd439e-5ce6-48da-842c-bc447249c158",
   "metadata": {},
   "outputs": [
    {
     "name": "stdout",
     "output_type": "stream",
     "text": [
      "1 <class 'int'>\n",
      "1.2 <class 'float'>\n"
     ]
    }
   ],
   "source": [
    "num = 1 \n",
    "print(num, type(num))\n",
    "\n",
    "num = 1.2\n",
    "print(num, type(num))\n",
    "\n"
   ]
  },
  {
   "cell_type": "code",
   "execution_count": 153,
   "id": "dd7600ee-3137-42f5-88ab-ecf4694e45fe",
   "metadata": {},
   "outputs": [
    {
     "data": {
      "text/plain": [
       "3"
      ]
     },
     "execution_count": 153,
     "metadata": {},
     "output_type": "execute_result"
    }
   ],
   "source": [
    " def add(a: int, b: int) -> int:\n",
    "     return a + b\n",
    "\n",
    "add(1, 2) #3\n",
    "# add(1, \"two\") # TypeError: unsupported operand type(s) for +: 'int' and 'str'"
   ]
  },
  {
   "cell_type": "markdown",
   "id": "84f6e23e-d996-42e0-85b6-4fc25666bf93",
   "metadata": {},
   "source": [
    "# Mutability\n",
    "- Mutable objects can change their value in place, in other words, you can alter their state, but their identity stays the same. \n",
    "- Immutable objects do not allow you to change their value. \n",
    "Instead, you can change their variable reference to a new object, but this will change the identity of the variable as well. \n",
    "- Strings, tuples, integers, and floats are immutable types.\n",
    "- Lists  and dictionaries are mutable types. \n",
    "\n",
    "Notice that if you change the value of the integer, it will have a different id:\n",
    "When you modify a variable holding an immutable value, a new object is created with the updated value, and the variable now points to this new object, resulting in a different ID.\n",
    "\n",
    "## Additional Insights:\n",
    "Python optimizes memory usage for small integers (-5 to 256), often caching them to avoid creating new objects for every assignment. \n",
    "This might explain why you might not see ID changes for certain small integer operations.\n",
    "\n",
    "## Python vs C\n",
    "Unlike Python, C's basic numeric types (int, float, etc.) can be modified in-place without creating new objects. \n",
    "C variables typically represent direct memory locations where values are stored, rather than references to objects.\n",
    "C's focus on direct memory manipulation and performance often favors mutable primitives for efficient in-place modifications.\n",
    "Python's emphasis on object-oriented design leads to immutable primitives for consistency and potential benefits like caching and concurrency."
   ]
  },
  {
   "cell_type": "code",
   "execution_count": 148,
   "id": "7903f59e-5d05-487e-892b-d8f0d302f8be",
   "metadata": {},
   "outputs": [
    {
     "name": "stdout",
     "output_type": "stream",
     "text": [
      "4338090192\n",
      "4338090224\n"
     ]
    }
   ],
   "source": [
    "# “Notice that if you change the value of the integer, it will have a different id:\n",
    "\n",
    "cnt = 0\n",
    "print(id(cnt)) # 4338090192\n",
    "cnt += 1\n",
    "print(id(cnt)) # 4338090224"
   ]
  },
  {
   "cell_type": "markdown",
   "id": "e35e2237-fc6d-4e33-a3e2-089da56a5e5c",
   "metadata": {},
   "source": [
    "# Function dir() \n",
    "- Inspects an object's attributes and methods.\n",
    "- Provides a list of accessible attributes (data) and callable methods (functions) associated with that object.\n",
    "- Useful for understanding object structure, exploring available methods, and interacting with objects effectively.\n",
    "\n",
    "Common Uses:\n",
    "- Understanding object structure: Gain insights into an object's capabilities and data organization.\n",
    "- Discovering available methods: Find out what actions you can perform on an object.\n",
    "\n",
    "```python\n",
    "dir(\"MK\")\n",
    "dir(333)\n",
    "```"
   ]
  },
  {
   "cell_type": "code",
   "execution_count": 17,
   "id": "fcc01c6a-e936-4dfa-8199-e832f55a387d",
   "metadata": {},
   "outputs": [
    {
     "data": {
      "text/plain": [
       "['__add__',\n",
       " '__class__',\n",
       " '__contains__',\n",
       " '__delattr__',\n",
       " '__dir__',\n",
       " '__doc__',\n",
       " '__eq__',\n",
       " '__format__',\n",
       " '__ge__',\n",
       " '__getattribute__',\n",
       " '__getitem__',\n",
       " '__getnewargs__',\n",
       " '__gt__',\n",
       " '__hash__',\n",
       " '__init__',\n",
       " '__init_subclass__',\n",
       " '__iter__',\n",
       " '__le__',\n",
       " '__len__',\n",
       " '__lt__',\n",
       " '__mod__',\n",
       " '__mul__',\n",
       " '__ne__',\n",
       " '__new__',\n",
       " '__reduce__',\n",
       " '__reduce_ex__',\n",
       " '__repr__',\n",
       " '__rmod__',\n",
       " '__rmul__',\n",
       " '__setattr__',\n",
       " '__sizeof__',\n",
       " '__str__',\n",
       " '__subclasshook__',\n",
       " 'capitalize',\n",
       " 'casefold',\n",
       " 'center',\n",
       " 'count',\n",
       " 'encode',\n",
       " 'endswith',\n",
       " 'expandtabs',\n",
       " 'find',\n",
       " 'format',\n",
       " 'format_map',\n",
       " 'index',\n",
       " 'isalnum',\n",
       " 'isalpha',\n",
       " 'isascii',\n",
       " 'isdecimal',\n",
       " 'isdigit',\n",
       " 'isidentifier',\n",
       " 'islower',\n",
       " 'isnumeric',\n",
       " 'isprintable',\n",
       " 'isspace',\n",
       " 'istitle',\n",
       " 'isupper',\n",
       " 'join',\n",
       " 'ljust',\n",
       " 'lower',\n",
       " 'lstrip',\n",
       " 'maketrans',\n",
       " 'partition',\n",
       " 'removeprefix',\n",
       " 'removesuffix',\n",
       " 'replace',\n",
       " 'rfind',\n",
       " 'rindex',\n",
       " 'rjust',\n",
       " 'rpartition',\n",
       " 'rsplit',\n",
       " 'rstrip',\n",
       " 'split',\n",
       " 'splitlines',\n",
       " 'startswith',\n",
       " 'strip',\n",
       " 'swapcase',\n",
       " 'title',\n",
       " 'translate',\n",
       " 'upper',\n",
       " 'zfill']"
      ]
     },
     "execution_count": 17,
     "metadata": {},
     "output_type": "execute_result"
    }
   ],
   "source": [
    "dir(\"MK\")"
   ]
  },
  {
   "cell_type": "code",
   "execution_count": 20,
   "id": "cacbce96-8c41-4fae-965e-37136e0de43c",
   "metadata": {},
   "outputs": [
    {
     "data": {
      "text/plain": [
       "['__abs__',\n",
       " '__add__',\n",
       " '__and__',\n",
       " '__bool__',\n",
       " '__ceil__',\n",
       " '__class__',\n",
       " '__delattr__',\n",
       " '__dir__',\n",
       " '__divmod__',\n",
       " '__doc__',\n",
       " '__eq__',\n",
       " '__float__',\n",
       " '__floor__',\n",
       " '__floordiv__',\n",
       " '__format__',\n",
       " '__ge__',\n",
       " '__getattribute__',\n",
       " '__getnewargs__',\n",
       " '__gt__',\n",
       " '__hash__',\n",
       " '__index__',\n",
       " '__init__',\n",
       " '__init_subclass__',\n",
       " '__int__',\n",
       " '__invert__',\n",
       " '__le__',\n",
       " '__lshift__',\n",
       " '__lt__',\n",
       " '__mod__',\n",
       " '__mul__',\n",
       " '__ne__',\n",
       " '__neg__',\n",
       " '__new__',\n",
       " '__or__',\n",
       " '__pos__',\n",
       " '__pow__',\n",
       " '__radd__',\n",
       " '__rand__',\n",
       " '__rdivmod__',\n",
       " '__reduce__',\n",
       " '__reduce_ex__',\n",
       " '__repr__',\n",
       " '__rfloordiv__',\n",
       " '__rlshift__',\n",
       " '__rmod__',\n",
       " '__rmul__',\n",
       " '__ror__',\n",
       " '__round__',\n",
       " '__rpow__',\n",
       " '__rrshift__',\n",
       " '__rshift__',\n",
       " '__rsub__',\n",
       " '__rtruediv__',\n",
       " '__rxor__',\n",
       " '__setattr__',\n",
       " '__sizeof__',\n",
       " '__str__',\n",
       " '__sub__',\n",
       " '__subclasshook__',\n",
       " '__truediv__',\n",
       " '__trunc__',\n",
       " '__xor__',\n",
       " 'as_integer_ratio',\n",
       " 'bit_count',\n",
       " 'bit_length',\n",
       " 'conjugate',\n",
       " 'denominator',\n",
       " 'from_bytes',\n",
       " 'imag',\n",
       " 'numerator',\n",
       " 'real',\n",
       " 'to_bytes']"
      ]
     },
     "execution_count": 20,
     "metadata": {},
     "output_type": "execute_result"
    }
   ],
   "source": [
    "dir(333)"
   ]
  },
  {
   "cell_type": "markdown",
   "id": "d456d57f-57af-4637-8600-88b2078e6b5d",
   "metadata": {},
   "source": [
    "# Built-in Methods\n",
    "Built-in methods are functions that are automatically available for use with specific data types in Python. \n",
    "\n",
    "## Primitive Types and Methods:\n",
    "Primitive types like strings, numbers, lists, dictionaries, and others have built-in methods associated with them.\n",
    "These methods are called using dot notation on the variable holding the data: \n",
    "\n",
    "<code>variable_name.method_name()</code>"
   ]
  },
  {
   "cell_type": "code",
   "execution_count": 18,
   "id": "4fae88d6-0d0a-435e-a93c-66bb570f4b4e",
   "metadata": {},
   "outputs": [
    {
     "data": {
      "text/plain": [
       "'mk'"
      ]
     },
     "execution_count": 18,
     "metadata": {},
     "output_type": "execute_result"
    }
   ],
   "source": [
    "\"MK\".lower()"
   ]
  },
  {
   "cell_type": "markdown",
   "id": "fe97d77c-c8ea-4b9c-9cd6-ebe96bbf8fd5",
   "metadata": {},
   "source": [
    "In Python, methods and functions are first-class objects. As was previously mentioned, everything is an object. \n",
    "If the parentheses are left off, Python will not throw an error, it will only show a reference to a method, which is an object:"
   ]
  },
  {
   "cell_type": "code",
   "execution_count": 19,
   "id": "b91cfbb7-c480-4d6d-8ec7-8ee9234ab077",
   "metadata": {},
   "outputs": [
    {
     "data": {
      "text/plain": [
       "<function str.lower()>"
      ]
     },
     "execution_count": 19,
     "metadata": {},
     "output_type": "execute_result"
    }
   ],
   "source": [
    "\"MK\".lower # <function str.lower()>"
   ]
  },
  {
   "cell_type": "code",
   "execution_count": 26,
   "id": "be7e0f2f-59ea-45fe-808f-08693e366ab6",
   "metadata": {},
   "outputs": [
    {
     "data": {
      "text/plain": [
       "True"
      ]
     },
     "execution_count": 26,
     "metadata": {},
     "output_type": "execute_result"
    }
   ],
   "source": [
    "filename = \"202401.xls\"\n",
    "filename.endswith(\".xls\")"
   ]
  },
  {
   "cell_type": "code",
   "execution_count": 25,
   "id": "f01afe3b-19fa-411f-88e2-f3a7501923c0",
   "metadata": {},
   "outputs": [
    {
     "data": {
      "text/plain": [
       "333"
      ]
     },
     "execution_count": 25,
     "metadata": {},
     "output_type": "execute_result"
    }
   ],
   "source": [
    "(333).conjugate()"
   ]
  },
  {
   "cell_type": "markdown",
   "id": "8ac19b92-2a1a-4abc-b1dd-f35b9b3662f1",
   "metadata": {},
   "source": [
    "# Truthy and Falsy\n",
    "\n",
    "Truthy and Falsy are terms used in Python and other programming languages to describe how values are evaluated in a boolean context. Understanding these concepts is crucial for writing efficient and logical code.\n",
    "\n",
    "Truthy Values:\n",
    "Values that are considered True when used in a boolean expression.\n",
    "\n",
    "- Numbers except 0\n",
    "- Non-empty strings\n",
    "- Non-empty lists, tuples, sets, and dictionaries\n",
    "- Booleans with a value of True\n",
    "- Any object that defines a __bool__() method that returns True\n",
    "\n",
    "Falsy Values:\n",
    "Represent anything that is considered logically \"false\" in conditional statements.\n",
    "They will cause a condition to be evaluated as False when used alone.\n",
    "\n",
    "Examples:\n",
    "- The boolean value False\n",
    "- The number 0\n",
    "- The empty string \"\"\n",
    "- The built-in object None\n",
    "- Empty lists[], tuples(), dictionaries{}, and sets{}\n",
    "- Any object that defines a <code>__bool__()</code> method that returns False\n",
    "\n",
    "\n",
    "Truthy and Falsy values are used in various situations, such as:\n",
    "- Conditional statements (if, elif, else)\n",
    "- while loops\n",
    "- Function arguments and return values\n",
    "- Data validation\n",
    "\n",
    "```python\n",
    "if done:\n",
    "    # do something\n",
    "    \n",
    "# this is overkill\n",
    "if done == True:\n",
    "    print(\"done\")\n",
    "    \n",
    " # this is overkill\n",
    " if bool(done):\n",
    "    # do something\n",
    "```"
   ]
  },
  {
   "cell_type": "code",
   "execution_count": 161,
   "id": "f10349c0-9a5e-4a9e-bba3-79b24b7b1e2d",
   "metadata": {},
   "outputs": [],
   "source": [
    "username = \"\"\n",
    "\n",
    "if username:\n",
    "    print(f\"Welcome, {username}!\")  # Only prints if username is not empty\n",
    "\n"
   ]
  },
  {
   "cell_type": "markdown",
   "id": "d913bd7d-6377-43dc-b4ba-78aecffacb83",
   "metadata": {
    "tags": []
   },
   "source": [
    "# If Statements: Building Conditional Logic\n",
    "\n",
    "If statements are the fundamental building blocks of conditional logic in Python. \n",
    "They allow you to control the flow of your program based on whether a certain condition is True or False. \n",
    "\n",
    "### Syntax:\n",
    "In many of these languages, the curly braces, { } denote the boundaries of the if block. \n",
    "Python, unlike those other languages, uses the following to denote blocks:\n",
    "- No (paranthesis)\n",
    "- a colon (:)\n",
    "- indentation\n",
    "\tindent consistently until the end of the block. (either tabs or spaces)\n",
    "In Python, using four spaces is the preferred way to indent code. This is described in PEP 8.\n",
    "\n",
    "```python\n",
    "# If-Else\n",
    "if b > a:\n",
    "    print(\"b is greater than a\")\n",
    "elif a == b:\n",
    "    print(\"a and b are equal\")\n",
    "else:\n",
    "    print(\"a is greater than b\")\n",
    "```\n",
    "\n",
    "## Conditional Expression:\n",
    "This expression combines an if condition with a colon-separated then and else clause, returning the appropriate value based on the condition.\n",
    "\n",
    "*Nihayetinde expression olduğu için, basit value gelen her yerde kullanabiliriz.*\n",
    "\n",
    "```python\n",
    "# example 1 - assign this or that\n",
    "score = 75\n",
    "message = \"Congratulations!\" if score >= 70 else \"Keep practicing!\"\n",
    "\n",
    "print(f\"You got {score}. {message}\")  # Outputs \"You got 75. Congratulations!\"\n",
    "\n",
    "# example 2 - if-else expression, evaluating to a single value: 'cls' or 'clear'\n",
    "os.system('cls' if os.name == 'nt' else 'clear')\n",
    "\n",
    "# example 3 - return this or that\n",
    "def passOrFail(score):\n",
    "     return \"Pass\" if score >= 70 else \"Fail\"\n",
    "```"
   ]
  },
  {
   "cell_type": "code",
   "execution_count": 165,
   "id": "c8aff122-e20b-4c13-8d97-1a1ea4b45bac",
   "metadata": {},
   "outputs": [
    {
     "name": "stdout",
     "output_type": "stream",
     "text": [
      "You got 75. Congratulations!\n"
     ]
    }
   ],
   "source": [
    "score = 75\n",
    "message = \"Congratulations!\" if score >= 70 else \"Keep practicing!\"\n",
    "\n",
    "print(f\"You got {score}. {message}\")  # Outputs \"You got 75. Congratulations!\""
   ]
  },
  {
   "cell_type": "markdown",
   "id": "7fa217fb-9404-4580-883c-b7199a782cf8",
   "metadata": {},
   "source": [
    "# Lists\n",
    "Lists in Python are versatile containers that hold ordered collections of items. \n",
    "They're like flexible boxes that can store any data type, including numbers, strings, other lists, and even functions.\n",
    "\n",
    "Key Characteristics:\n",
    "- Ordered: Items maintain a specific sequence, accessible by their index (position).\n",
    "- Mutable: You can change, add, or remove items after creation.\n",
    "- Heterogeneous: Can hold elements of different data types within a single list.\n",
    "- Denoted by square brackets: []\n",
    "\n",
    "Remember:\n",
    "- Choose lists when you need to maintain order and potentially modify elements.\n",
    "- For key-value pairs, dictionaries are the appropriate choice.\n",
    "- For unordered collections of unique elements, consider sets.\n",
    "\n",
    "Creating Lists\n",
    "\n",
    "```python\n",
    " # Two ways to create empty lists\n",
    " names = []         # literal\n",
    " surnames = list()  # constructor\n",
    "```"
   ]
  },
  {
   "cell_type": "code",
   "execution_count": 33,
   "id": "31e2287f-146f-40a2-8753-6e256b738f70",
   "metadata": {},
   "outputs": [
    {
     "name": "stdout",
     "output_type": "stream",
     "text": [
      "1\n",
      "The last item: 25\n"
     ]
    }
   ],
   "source": [
    " squares = [1, 4, 9, 16, 25]\n",
    "\n",
    " # You can refer to an element by its index (subscript) - uses \"zero-based indexing\"\n",
    " print(squares[0]) #1\n",
    "\n",
    " # print(squares[100])    # IndexError: list index out of range\n",
    " \n",
    " # Negative indexing means start from the end\n",
    " # -1 refers to the last item, -2 refers to the second last item etc.\n",
    " print(\"The last item:\", squares[-1])  # The last item: 25"
   ]
  },
  {
   "cell_type": "markdown",
   "id": "e2b86a6f-fbb0-44d5-b1a6-38c7ad44b934",
   "metadata": {},
   "source": [
    "# Indexing and Slicing\n",
    "Python provides two constructs to pull data out of sequence-like types (lists, tuples, and even strings). \n",
    "These are the indexing and slicing constructs. \n",
    "- Indexing allows you to access single items out of a sequence, \n",
    "- Slicing allows you to pull out a sub-sequence from a sequence.\n",
    "\n",
    "### Zero-based indexing\n",
    "Remember that in Python indices start at 0. If you want to pull out the first item you reference it by 0, not 1. \n",
    "\n",
    "### Negative Indices\n",
    "Python has a cool feature where you can reference items using negative indices. \n",
    "-1 refers to the last item, -2 the second to last item, etc. \n",
    "This is commonly used to pull off the last item in a list.\n",
    "\n",
    "Guido van Rossum, the creator of Python, tweeted to explain how to understand negative index values:\n",
    "\t[The] proper way to think of [negative indexing] is to reinterpret a[-X] as a[len(a)-X]\n",
    "\t—@gvanrossum\n",
    "\n",
    "### Slicing sub lists \n",
    "In addition to accepting an integer to pull out a single item, a slice may be used to pull out a sub-sequence. \n",
    "Python uses the half-open interval convention. The list goes up to but does not include the end index."
   ]
  },
  {
   "cell_type": "code",
   "execution_count": 189,
   "id": "645922c6-3785-4a1c-9cda-bd7711dd2a88",
   "metadata": {},
   "outputs": [
    {
     "name": "stdout",
     "output_type": "stream",
     "text": [
      "mango grapes\n",
      "['mango', 'banana', 'apple', 'strawberry', 'grapes']\n"
     ]
    }
   ],
   "source": [
    "fruits = [\"mango\", \"banana\", \"apple\", \"strawberry\", \"grapes\"]\n",
    "\n",
    "first = fruits[0] # mango\n",
    "\n",
    "# Negative indexing, last item\n",
    "last = fruits[-1] # grapes\n",
    "\n",
    "print(first, last)\n",
    "\n",
    "# half-open interval\n",
    "sub1 = fruits[0:2] # ['mango', 'banana']\n",
    "\n",
    "# If the first index is missing, defaults to the 0\n",
    "sub2 = fruits[:2]  # ['mango', 'banana']\n",
    "\n",
    "# If the final index is missing, defaults to the end\n",
    "sub3 = fruits[2:]  # ['apple', 'strawberry', 'grapes']\n",
    "\n",
    "# Return a shallow copy of the list. Equivalent to list.copy()\n",
    "shallow_copy = fruits[:]\n",
    "\n",
    "print(shallow_copy)"
   ]
  },
  {
   "cell_type": "markdown",
   "id": "5e2a1602-8eb2-4fdf-bcde-36b80d55f63c",
   "metadata": {},
   "source": [
    "## List Comprehension\n",
    "List comprehensions are a powerful tool in Python that allow you to create new lists in a concise and readable way. Instead of using explicit loops, you can express the list creation logic through a single, clear expression.\n",
    "```python\n",
    "[expression for item in iterable if condition]\n",
    "```\n",
    "\n",
    "- expression      : This defines what values will be added to the new list.\n",
    "- for item in iterable : This iterates through each element in the specified iterable (e.g., a list, tuple, or range).\n",
    "- if condition    : This is an optional clause that filters the elements based on a boolean condition. \n",
    "Only elements that satisfy the condition are added to the new list.\n",
    "\n",
    "**Alternatives:**\n",
    "\n",
    "- Traditional loops: \n",
    "\tIf the logic is complex or requires additional operations within the loop, using a traditional for loop might be more suitable.\n",
    "- Built-in functions: \n",
    "Sometimes, built-in functions like map() or filter() can achieve similar results more concisely."
   ]
  },
  {
   "cell_type": "code",
   "execution_count": 175,
   "id": "295d79c4-0268-4905-85ac-e50de016cb27",
   "metadata": {},
   "outputs": [
    {
     "name": "stdout",
     "output_type": "stream",
     "text": [
      "[80, 90, 70]\n"
     ]
    }
   ],
   "source": [
    "scores = [80, 60, 90, 40, 70]\n",
    "\n",
    "scores_pass = [x for x in scores if x>60]\n",
    "\n",
    "print(scores_pass) # [80, 90, 70]"
   ]
  },
  {
   "cell_type": "markdown",
   "id": "22c82e44-fed3-4b0b-8f48-085184e65c56",
   "metadata": {},
   "source": [
    "# Built-in Function filter()\n",
    "It's a versatile tool in Python for selecting elements from an iterable based on a specified condition.\n",
    "\n",
    "filter(function, iterable): takes two arguments:\n",
    "- function: This is a function that returns True or False for each element in the iterable.\n",
    "- iterable: This is any sequence of elements you want to filter, like a list, tuple, or even a dictionary.\n",
    "\n",
    "### How does it work?\n",
    "- The filter method loops through each element in the iterable and applies the given function to it.\n",
    "- If the function returns True for an element, that element is kept in the resulting filtered list.\n",
    "- Otherwise, the element is discarded.\n",
    "- Python's filter returns an iterator, which you often need to convert to a list using list().\n",
    "\n",
    "**Advantages:**\n",
    "- Readability: Provides a concise way to express filtering logic compared to explicit loops.\n",
    "- Reusability: The function used for filtering can be reused in other contexts.\n",
    "- Efficiency: Optimized for performance, often quicker than manual filtering.\n",
    "\n",
    "### JavaScript vs Phyton\n",
    "The filter method in Python shares a similar concept with the filter method on JavaScript arrays. \n",
    "Both serve the purpose of **creating a new collection** containing only elements that satisfy a certain condition."
   ]
  },
  {
   "cell_type": "code",
   "execution_count": 178,
   "id": "9f90c39a-2db0-4221-bbf7-8f196bfd7bd7",
   "metadata": {},
   "outputs": [
    {
     "name": "stdout",
     "output_type": "stream",
     "text": [
      "[80, 90, 70]\n"
     ]
    }
   ],
   "source": [
    "scores = [80, 60, 90, 40, 70]\n",
    "\n",
    "# note. filter returns an iterator, we can use list() to convert.\n",
    "scores_pass = filter(lambda x: x>60, scores)\n",
    "\n",
    "print(list(scores_pass)) # [80, 90, 70]"
   ]
  },
  {
   "cell_type": "markdown",
   "id": "266561b3-9147-41a0-83ff-c5ac1617264a",
   "metadata": {},
   "source": [
    "## Modifying Lists:\n",
    "\n",
    "- Changing elements: items[0] = \"apple\"\n",
    "\t\n",
    "- Adding elements:\n",
    "  - <code>append(x)</code>: Add an item to the end of the list.\n",
    "  - <code>insert(i, x)</code>: Insert an item at a given position. \n",
    "\t\n",
    "- Removing elements:\n",
    "  - <code>pop(i)</code>: Removes and returns the item at a specific index (default: last)\n",
    "  - <code>remove(x)</code>: Removes the first occurrence of a value: fruits.remove(\"apple\")\n",
    "\n",
    "CPython’s underlying implementation of a list is actually an array of pointers. This provides quick random access to indices. \n",
    "Also, appending and removing at the end of a list is quick (O(1)), while inserting and removing from the middle of a list is slower (O(n)).\n",
    "\n",
    "Python lists can indeed act like stacks when used with the append() and pop() methods, exhibiting Last-In-First-Out (LIFO) behavior."
   ]
  },
  {
   "cell_type": "code",
   "execution_count": 183,
   "id": "e7ac262f-9541-402a-aecd-98a146872ed1",
   "metadata": {},
   "outputs": [
    {
     "name": "stdout",
     "output_type": "stream",
     "text": [
      "todo3 ['todo1', 'todo2']\n"
     ]
    }
   ],
   "source": [
    "todos = []\n",
    "\n",
    "todos.append(\"todo1\")\n",
    "todos.append(\"todo2\")\n",
    "todos.append(\"todo3\")\n",
    "\n",
    "todo = todos.pop() # default: last\n",
    "\n",
    "print(todo, todos) # todo3 ['todo1', 'todo2']"
   ]
  },
  {
   "cell_type": "code",
   "execution_count": 186,
   "id": "eb47b1dc-b1e1-4f23-b9ca-b9ff037255df",
   "metadata": {},
   "outputs": [
    {
     "name": "stdout",
     "output_type": "stream",
     "text": [
      "[1, 4, 9, 16, 25, 36]\n"
     ]
    }
   ],
   "source": [
    "squares = [4, 16, 25]\n",
    "\n",
    "# Insert item to the END of a list:\n",
    "squares.append(36)\n",
    "\n",
    "# INSERT an item at the specified index, and shift the rest:\n",
    "squares.insert(0, 1) # insert at the front of the list\n",
    "squares.insert(2, 9)\n",
    "\n",
    "print(squares) # [1, 4, 9, 16, 25, 36, 49]\n",
    "    "
   ]
  },
  {
   "cell_type": "code",
   "execution_count": 40,
   "id": "d7f7a138-18e3-48bf-ad5c-d7582b22201e",
   "metadata": {},
   "outputs": [
    {
     "name": "stdout",
     "output_type": "stream",
     "text": [
      "['mango', 'banana', 'apple', 'grapes']\n",
      "Removed: grapes, fruits: ['mango', 'banana', 'apple']\n",
      "Removed: banana, fruits: ['mango', 'apple']\n"
     ]
    }
   ],
   "source": [
    "fruits = [\"mango\", \"banana\", \"apple\", \"strawberry\", \"grapes\"]\n",
    "\n",
    "# REMOVE value:\n",
    "# remove the first ocurrence of value: (Find and erase) raise ValueError if the value is not present\n",
    "fruits.remove('strawberry')\n",
    "# fruits.remove('NotAMember')    # ValueError: list.remove(x): x not in list\n",
    "\n",
    "print(fruits)\n",
    "\n",
    "# Remove by index - Option 1:\n",
    "# Remove and return value at a specific index (default -1, the last), raise IndexError if the index is out of range.\n",
    "lastFruit = fruits.pop()\n",
    "print(f\"Removed: {lastFruit}, fruits: {fruits}\")  # Removed: grapes, fruits: ['mango', 'banana', 'apple']\n",
    "\n",
    "poppedFruit = fruits.pop(1)\n",
    "print(f\"Removed: {poppedFruit}, fruits: {fruits}\")  # Removed: banana, fruits: ['mango', 'apple']\n"
   ]
  },
  {
   "cell_type": "markdown",
   "id": "3eb0bfeb-a897-4bcc-98c7-96a813e825ce",
   "metadata": {},
   "source": [
    "Evaluating empty list object to False"
   ]
  },
  {
   "cell_type": "code",
   "execution_count": 41,
   "id": "aebcaebc-5362-4149-ab72-5cd80b0126b1",
   "metadata": {},
   "outputs": [
    {
     "name": "stdout",
     "output_type": "stream",
     "text": [
      "No items found.\n"
     ]
    }
   ],
   "source": [
    "# empty list\n",
    "items = []\n",
    "\n",
    "# Option 1: evaluating empty list object to False\n",
    "if not items:\n",
    "    print(\"No items found.\")"
   ]
  },
  {
   "cell_type": "code",
   "execution_count": 191,
   "id": "387c8602-b758-4fa1-ab7c-01ba864eb678",
   "metadata": {},
   "outputs": [
    {
     "name": "stdout",
     "output_type": "stream",
     "text": [
      "[1, 2, 3, 4, 5, 6]\n",
      "[1, 2, 3, 1, 2, 3, 1, 2, 3]\n"
     ]
    }
   ],
   "source": [
    "# The + operator concatenates lists:\n",
    "a = [1, 2, 3]\n",
    "b = [4, 5, 6]\n",
    "\n",
    "d = a + b   # note that this is not an item by item addition! This is concatenation.\n",
    "print(d)     # [1, 2, 3, 4, 5, 6]\n",
    "\n",
    "# * n is equivalent to adding s to itself n times\n",
    "m = a * 3 # [1, 2, 3, 1, 2, 3, 1, 2, 3]\n",
    "print(m)"
   ]
  },
  {
   "cell_type": "markdown",
   "id": "0139198a-6e89-4de6-a527-e8920ee8c52c",
   "metadata": {},
   "source": [
    "## Searching a List:\n",
    "There are indeed various ways to search for an item in a list in Python:\n",
    "\n",
    "- Using the <code>in</code>  Operator:\n",
    "\tThe simplest and most concise way to check if an item exists in a list.\n",
    "\n",
    "- Using the <code>.index()</code> Method:\n",
    "\tRetrieves the index of the first occurrence of an item in the list.\n",
    "\tRaises a <code>ValueError</code> if the item isn't found. \n",
    "\n",
    "```python\n",
    "list.index(x [, start [, end]])\n",
    "```"
   ]
  },
  {
   "cell_type": "code",
   "execution_count": 188,
   "id": "7fa085a8-54d5-47a4-aa3a-c6051e9558b2",
   "metadata": {},
   "outputs": [
    {
     "name": "stdout",
     "output_type": "stream",
     "text": [
      "grapes Found.\n",
      "Index of first ocurrence: 4\n",
      "4\n"
     ]
    }
   ],
   "source": [
    "# Search for an item\n",
    "fruits = [\"mango\", \"banana\", \"apple\", \"strawberry\", \"grapes\"]\n",
    "\n",
    "q_key = 'grapes'\n",
    "# q_key = 'aVeryDifferentFruit'\n",
    "    \n",
    "# v1 - Check if the item is IN the list\n",
    "if q_key in fruits:\n",
    "    print(q_key, \"Found.\")\n",
    "else:\n",
    "    print(q_key, \"Not Found.\")\n",
    "\n",
    "# v2 - index()\n",
    "# return the index of the first occurrence, raises a ValueError if there is no such item.\n",
    "try:\n",
    "    found_index = fruits.index(q_key) # 4\n",
    "    print(\"Index of first ocurrence:\", found_index)\n",
    "except ValueError:\n",
    "    print(f\"Value not found: {q_key}\")\n",
    "    \n",
    "# total number of occurrences\n",
    "ids = [1, 2, 1, 3, 1, 4, 2, 1, 3]\n",
    "print(ids.count(1))  #4"
   ]
  },
  {
   "cell_type": "markdown",
   "id": "7a0895fa-57ac-4de9-89b1-d0f99d9eb8ba",
   "metadata": {},
   "source": [
    "## Sorting a List\n",
    "Every Python list has a <code>sort()</code> method that sorts it \"in place\", meaning it modifies the original list's elements without creating a new list. This behavior is why the identity of the list (its memory location) remains unchanged.\n",
    "\n",
    "In-place sorting can be more efficient than creating a new list, as it avoids memory allocation and copying overhead. However, it's essential to be aware of this behavior when working with lists, especially if you have multiple references to the same list.\n",
    "\t\n",
    "Note that sort method does not return a list, if you print the result, it would be None.\n",
    "\n",
    "If you don’t want to mess up your list, you can use the <code>sorted()</code> function, which returns a new list."
   ]
  },
  {
   "cell_type": "code",
   "execution_count": 57,
   "id": "e1bde272-91f8-44af-990c-92d13b818ca3",
   "metadata": {},
   "outputs": [
    {
     "name": "stdout",
     "output_type": "stream",
     "text": [
      "4391954496 [75, 66, 95, 63, 85, 60, 77]\n",
      "4396418112 [60, 63, 66, 75, 77, 85, 95]\n",
      "4391954496 [60, 63, 66, 75, 77, 85, 95]\n"
     ]
    }
   ],
   "source": [
    " # The list.sort() method sorts the list IN PLACE.\n",
    " # list.sort(reverse=True|False, key=myFunc)\n",
    " # Parameter 'key' is Optional. A function to specify the sorting criteria(s) (run for every item in the list)\n",
    "    \n",
    "\n",
    " scores = [75, 66, 95, 63, 85, 60, 77]\n",
    "\n",
    " sortedCopy = sorted(scores)       # returns a new list\n",
    "\n",
    " print(id(scores), scores)         # 4396410560 [75, 66, 95, 63, 85, 60, 77]\n",
    " print(id(sortedCopy), sortedCopy) # 4396409920 [60, 63, 66, 75, 77, 85, 95]\n",
    "\n",
    " scores.sort() # mutator\n",
    " \n",
    " print(id(scores), scores)         # 4396410560 [60, 63, 66, 75, 77, 85, 95]"
   ]
  },
  {
   "cell_type": "code",
   "execution_count": 60,
   "id": "75844c46-e0f2-4f73-970e-f41b9a4c5044",
   "metadata": {},
   "outputs": [
    {
     "name": "stdout",
     "output_type": "stream",
     "text": [
      "None\n",
      "['Volvo', 'Mitsubishi', 'Ford', 'BMW']\n"
     ]
    }
   ],
   "source": [
    " # Sort descending\n",
    "\n",
    " cars = ['Ford', 'BMW', 'Mitsubishi', 'Volvo']\n",
    " \n",
    " print(cars.sort(reverse=True))  # prints None (but mutates the list anyway)\n",
    " \n",
    " print(cars)                     # ['Volvo', 'Mitsubishi', 'Ford', 'BMW']"
   ]
  },
  {
   "cell_type": "markdown",
   "id": "a88440b9-e110-4310-866c-0ec2053c41f3",
   "metadata": {},
   "source": [
    "# Common Sequence Operations (list, tuple, range)\n",
    "\n",
    "<code>s[i]</code> ith item of s, origin 0\n",
    "\n",
    "<code>s[i:j]</code> slice of s from i to j\n",
    "\n",
    "<code>s[i:j:k]</code> slice of s from i to j with step k\n",
    "\n",
    "<code>len(s)</code> length of s\n",
    "\n",
    "<code>x in s</code> True if an item of s is equal to x, else False\n",
    "\n",
    "<code>x not in s</code> False if an item of s is equal to x, else True\n",
    "\n",
    "<code>s + t</code> the concatenation of s and t\n",
    "\n",
    "<code>s * n or n * s</code> equivalent to adding s to itself n times\n",
    "\n",
    "<code>min(s)</code> smallest item of s\n",
    "\n",
    "<code>max(s)</code> largest item of s\n",
    "\n",
    "<code>s.index(x[, i[, j]])</code> index of the first occurrence of x in s (at or after index i and before index j)\n",
    "\n",
    "<code>s.count(x)</code> total number of occurrences of x in s"
   ]
  },
  {
   "cell_type": "code",
   "execution_count": 213,
   "id": "a8610377-61f9-4cbf-ab80-46a91a4de00a",
   "metadata": {},
   "outputs": [
    {
     "name": "stdout",
     "output_type": "stream",
     "text": [
      "Min score: 40 Max score: 105\n",
      "Number of full scores: 2\n"
     ]
    }
   ],
   "source": [
    "# Example: Given a list of scores, find min, max, if there is full score (100) and how many?\n",
    "\n",
    "scores = [80, 90, 70, 60, 100, 90, 60, 105, 50, 40, 90, 100, 50, 90]\n",
    "\n",
    "min_score = min(scores)\n",
    "max_score = max(scores)\n",
    "\n",
    "cnt_100 = scores.count(100)\n",
    "    \n",
    "print(\"Min score:\", min_score, \"Max score:\", max_score) # 40, 105\n",
    "print(\"Number of full scores:\", cnt_100) # 2\n"
   ]
  },
  {
   "cell_type": "markdown",
   "id": "0a83f19c-53d0-48c9-94c5-25a8851260c2",
   "metadata": {},
   "source": [
    "# Tuples\n",
    "Tuples are immutable sequences.\n",
    "Tuples are one of the fundamental data structures in Python.\n",
    "\n",
    "Key Characteristics:\n",
    "- *Immutable*: Unlike lists, you cannot modify elements after creation (insertion, deletion, or changing values).\n",
    "- *Ordered*: Elements maintain a specific sequence, accessible by their index position (like lists).\n",
    "- *Heterogeneous*: Can hold elements of different data types within a single tuple.\n",
    "- Denoted by parentheses: ()\n",
    "\n",
    "### Parenthesesin Python\n",
    "Parentheses are used for \n",
    "- denoting the calling of functions or methods. \n",
    "- specifying operator precedence. \n",
    "- tuple creation. \n",
    "This overloading of parentheses can lead to confusion. \n",
    "\n",
    "If there are multiple items separated by commas, then Python treats them as a tuple. Note that it is actually the comma which makes a tuple, not the optional parentheses\n",
    "\n",
    "```python\n",
    "t1 = (3,)\n",
    "t2 = 1, 2, 3\n",
    "```\n",
    "\n",
    "Tuples implement all of the common sequence operations.\n",
    "\n",
    "\n",
    "## Distinction between tuples and lists\n",
    "Why not use lists since they appear to be a super-set of tuples?\n",
    "- The main difference between the objects is mutability. This immutability offers several benefits:\n",
    "  - *Useful for Keys*: They are able to serve as keys in dictionaries. \n",
    "\t\tImmutability guarantees consistent hashing and avoids dictionary mutation issues.\n",
    "  - *Data integrity*: Ensures values cannot be accidentally changed, promoting predictable behavior.\n",
    "  - *Hashing efficiency*: Immutable tuples can be hashed faster as their content never changes.\n",
    "\t\n",
    "- Tuples are often used to represent a record of data such as the row of a database query, which may contain heterogeneous types of objects. Perhaps a tuple would contain a name, address, and age:\n",
    "\n",
    "```python\n",
    "person = ('Matt', '123 North 456 East', 24)\n",
    "```\n",
    "\n",
    "- Tuples are used for returning multiple items from a function.\n",
    "- Tuples also serve as a hint to the developer that this type is not meant to be modified.\n",
    "- Tuples also use less memory than lists. If you have sequences that you are not mutating, consider using tuples to conserve memory."
   ]
  },
  {
   "cell_type": "code",
   "execution_count": 66,
   "id": "16f9da18-52e4-43ce-90e7-402a4f687def",
   "metadata": {},
   "outputs": [
    {
     "name": "stdout",
     "output_type": "stream",
     "text": [
      "<class 'tuple'> (90, 80, 100)\n",
      "<class 'tuple'> (3,)\n",
      "<class 'tuple'> (1, 2, 3)\n"
     ]
    }
   ],
   "source": [
    "# Using the tuple() built-in: tuple() or tuple(iterable)\n",
    "empty1 = tuple()\n",
    "\n",
    "scores_list = [90, 80, 100]\n",
    "scores_tuple = tuple(scores_list)\n",
    "\n",
    "print(type(scores_tuple), scores_tuple) # <class 'tuple'> (90, 80, 100)\n",
    "    \n",
    "# Literal Syntax\n",
    "empty2 = () \n",
    "\n",
    "# Tuples are often used to represent a record of data such as the row of a database query\n",
    "person = ('Matt', '123 North 456 East', 24) # Heterogeneous\n",
    "\n",
    "# If there are multiple items separated by commas, then Python treats them as a tuple:\n",
    "t = (3,)\n",
    "print(type(t), t) # <class 'tuple'> (3,)\n",
    "\n",
    "# Note that it is actually the comma which makes a tuple, not the optional parentheses\n",
    "x = 1,2,3\n",
    "print(type(x), x) # <class 'tuple'> (1, 2, 3)\n"
   ]
  },
  {
   "cell_type": "markdown",
   "id": "b119e2cb-dee1-4910-af7d-9cfb97441f39",
   "metadata": {},
   "source": [
    "# Sets\n",
    "\n",
    "A set object is an unordered collection of distinct hashable objects.\n",
    "\n",
    "Sets are particularly useful for two things, removing duplicates and checking membership. \n",
    "Because the lookup mechanism is based on the optimized hash function found in dictionaries, a lookup operation takes very little time, even on large sets.\n",
    "\n",
    "Because sets must be able to compute a hash value for each item in the set, sets can only contain items that are hashable.\n",
    "In Python, mutable items are not hashable. This means that you cannot hash a list or dictionary.\n",
    "\n",
    "## Key Features:\n",
    "- *Unique*: Contains no duplicate values. Each element can only occur once within the set.\n",
    "- *Mutable*: You can add or remove elements after set creation, unlike tuples, but their values remain unique.\n",
    "\tThe contents can be changed using methods like add() and remove(). \n",
    "\tSince it is mutable, it has no hash value and cannot be used as either a dictionary key or as an element of another set.\n",
    "- *Unordered*: Elements don't maintain a specific sequence and are accessed by their values, not by index.\n",
    "\tBeing an unordered collection, sets do not record element position or order of insertion. \n",
    "\tAccordingly, sets do not support indexing, slicing, or other sequence-like behavior.\n",
    "- *Heterogeneous*: Can hold elements of different data types within a single set.\n",
    "- Denoted by curly braces: {}\n",
    "\n",
    "### Creating Sets:\n",
    "\n",
    "- Empty set using set constructor: <code>my_set = set()</code>\n",
    "- From other iterables: <mark>Use <code>set(iterable)</code> to remove duplicates from existing lists or strings.</mark>\n",
    "Like a tuple, it can be instantiated with a list or anything you can iterate over.\n",
    "- Using a comma-separated list of elements within braces: <code>basket = {\"apple\", \"banana\", \"orange\"}</code>"
   ]
  },
  {
   "cell_type": "code",
   "execution_count": 73,
   "id": "8b7007f7-f09e-4d34-bdb2-0cb5793907c8",
   "metadata": {},
   "outputs": [
    {
     "name": "stdout",
     "output_type": "stream",
     "text": [
      "<class 'list'> ['i1', 'i2', 'i1', 'i3', 'i3', 'i2', 'i1']\n",
      "<class 'set'> {'i2', 'i3', 'i1'}\n",
      "{'b', 'a', 'c', 'd', 'e'}\n"
     ]
    }
   ],
   "source": [
    "# Empty set using set constructor: \n",
    "my_set = set()\n",
    "\n",
    "# From other iterables: Use set(iterable) to remove duplicates from existing lists or strings.\n",
    "items = [\"i1\", \"i2\", \"i1\",\"i3\", \"i3\", \"i2\",\"i1\"]\n",
    "distinct_items = set(items)\n",
    "print(type(items), items) # <class 'list'> ['i1', 'i2', 'i1', 'i3', 'i3', 'i2', 'i1']\n",
    "print(type(distinct_items), distinct_items) # <class 'set'> {'i2', 'i3', 'i1'}\n",
    "\n",
    "# usecase: remove duplicate letters from a string\n",
    "code = \"aABbCdeeE\"\n",
    "letters = set(code.lower())\n",
    "print(letters) # {'b', 'a', 'c', 'd', 'e'}\n",
    "\n",
    "# Using a comma-separated list of elements within braces: \n",
    "basket = {\"apple\", \"banana\", \"orange\"}"
   ]
  },
  {
   "cell_type": "code",
   "execution_count": 70,
   "id": "774445ea-7e3c-43d9-abd3-e85f70effa8c",
   "metadata": {},
   "outputs": [
    {
     "name": "stdout",
     "output_type": "stream",
     "text": [
      "Found\n"
     ]
    }
   ],
   "source": [
    "# Membership check: \n",
    "# Use the in operator to check if an element exists:\n",
    "\n",
    "basket = {\"apple\", \"banana\", \"orange\"}\n",
    "\n",
    "if \"banana\" in basket:\n",
    "    print(\"Found\")"
   ]
  },
  {
   "cell_type": "markdown",
   "id": "bf8ffcfa-c3c6-413e-bf00-caad6939c3d1",
   "metadata": {},
   "source": [
    "# Dictionary Type\n",
    "Dictionaries are a highly optimized built-in type in Python. \n",
    "\n",
    "The purpose of a dictionary is to provide fast lookup of the keys.\n",
    "\n",
    "Unlike sequences, which are indexed by a range of numbers, dictionaries are indexed by keys, (subscript icinde rakam yerine 'key' kullan)\n",
    "which can be any immutable type; strings and numbers can always be keys, whereas a list cannot be a key!\n",
    "\n",
    "### Requirements for Dictionary Keys:\n",
    "- *Uniqueness*: Each key must be unique within the dictionary. \n",
    "\tThis guarantees that each value has a distinct identifier for access.\n",
    "\t\n",
    "- *Immutability*: Keys must be immutable, meaning their value cannot change after creation. \n",
    "\tThis ensures efficient and consistent lookup within the dictionary.\n",
    "\tValues that are not hashable  may not be used as keys.  \n",
    "\t(Values containing lists, dictionaries or other mutable types - that are compared by value rather than by object identity) \n",
    "\n",
    "- Values that compare equal (such as 1, 1.0, and True) can be used interchangeably to index the same dictionary entry.\n",
    "- It is possible to have keys of different types.\n",
    "\n",
    "## Characteristics:\n",
    "\n",
    "- Collection of key-value pairs: Each key uniquely identifies a corresponding value, allowing for efficient access and organization.\n",
    "- Mutable: Both keys and values can be added, removed, or modified after creation.\n",
    "- Heterogeneous: Can hold elements of different data types for both keys and values.\n",
    "- Dictionaries are fundamentally designed for efficient key-value mappings, not specifically for maintaining order. \n",
    "\tIn Python 3.7 and later, the language specification was officially updated to mandate that dictionaries preserve insertion order. The keys are ordered by insertion order, not alphabetic or numeric order.\n",
    "- Denoted by curly braces: {}\n",
    "\n",
    "\n",
    "You can compare a Python dictionary to an English dictionary. An English dictionary has words and definitions. The purpose of a dictionary is to allow fast lookup of the word in order to find the definition. You can quickly lookup any word by doing a binary search (open up the dictionary to the midpoint, and determine which half the word is in, and repeat). A Python dictionary also has words and definitions, but you call them keys and values respectively. The purpose of a dictionary is to provide fast lookup of the keys.\n",
    "\n",
    "### Creating Dictionaries:\n",
    "\n",
    "- Empty dictionary: \n",
    "```python\n",
    "empty = dict()\n",
    "empty = {}\n",
    "```\n",
    "- Use a comma-separated list of key: value pairs within braces:\n",
    "```python\n",
    "scores = {'Potter': 80, 'Granger': 100} \n",
    "```\n",
    "- Dictionary comprehension: \n",
    "```python\n",
    "my_dict = {x: x*2 for x in range(5)} \n",
    "````\n",
    "(creates a dictionary with numbers and their doubled values)"
   ]
  },
  {
   "cell_type": "code",
   "execution_count": 95,
   "id": "1dde1985-f58e-4ba9-8d0a-1aea3f3931d2",
   "metadata": {},
   "outputs": [
    {
     "name": "stdout",
     "output_type": "stream",
     "text": [
      "True\n",
      "{'Potter': 80, 'Granger': 100}\n",
      "{1: 'Granger', 3: 'Potter'}\n"
     ]
    }
   ],
   "source": [
    "# empty v1- Use the type constructor: dict()\n",
    "empty_dict = dict()\n",
    "\n",
    "# empty v2 - literal syntax\n",
    "empty = {}\n",
    "\n",
    "# Use the type constructor: named parameters\n",
    "scores1 = dict(Potter=80, Granger=100)\n",
    "\n",
    "# Use the type constor with an iterable of key-value pairs\n",
    "scores2 = dict([('Potter', 80), ('Granger', 100)])\n",
    "\n",
    "# Use a comma-separated list of key: value pairs within braces:\n",
    "scores3 = {'Potter': 80, 'Granger': 100} \n",
    "\n",
    "# Dictionaries compare equal if and only if they have the same (key, value) pairs (regardless of ordering).\n",
    "print(scores1 == scores2 == scores3)   # True\n",
    "print(scores3)   # {'Potter': 80, 'Granger': 100}\n",
    "\n",
    "\n",
    "ranks = {1: 'Granger', 3: 'Potter'}\n",
    "\n",
    "print(ranks) # {1: 'Granger', 3: 'Potter'}"
   ]
  },
  {
   "cell_type": "code",
   "execution_count": 96,
   "id": "368d762a-cfe9-41f8-aeb5-83d4ed16cedd",
   "metadata": {},
   "outputs": [
    {
     "name": "stdout",
     "output_type": "stream",
     "text": [
      "<class 'dict'> {7: 1430539, 10: 1069260, 34: 11076840, 35: 3431204}\n"
     ]
    }
   ],
   "source": [
    "# A. think as the representation of a simple object (excel row)\n",
    "person = {'name': 'MK', 'born': 81, 'gender': 'M'}\n",
    " \n",
    "# B. think as a collection of data for ONE attribute (excel column)\n",
    "born = {\"MK\": 81, \"MSL\": 14, \"BK\": 83}\n",
    "city_population = {7: 1430539, 10: 1069260, 34: 11076840, 35: 3431204}\n",
    "\n",
    "print(type(city_population), city_population) # <class 'dict'> {7: 1430539, 10: 1069260, 34: 11076840, 35: 3431204}\n"
   ]
  },
  {
   "cell_type": "code",
   "execution_count": 101,
   "id": "bc84aa16-a720-459c-87a2-5fbe6ff2e6ba",
   "metadata": {},
   "outputs": [
    {
     "name": "stdout",
     "output_type": "stream",
     "text": [
      "['Crime', 'Drama']\n",
      "Crime\n",
      "{'IMDB': 9.2, 'Rotten Tomatoes': 98}\n",
      "9.2\n"
     ]
    }
   ],
   "source": [
    "movie =   {\n",
    "    \"title\": \"The Godfather\",\n",
    "    \"year\": 1972,\n",
    "    \"genres\": [\"Crime\", \"Drama\"],\n",
    "    \"ratings\": {\n",
    "        \"IMDB\": 9.2,\n",
    "        \"Rotten Tomatoes\": 98\n",
    "    }\n",
    "}\n",
    "\n",
    "\n",
    "print(movie[\"genres\"])           # ['Crime', 'Drama']\n",
    "print(movie[\"genres\"][0])        # Crime\n",
    "\n",
    "print(movie[\"ratings\"])          # {'IMDB': 9.2, 'Rotten Tomatoes': 98}\n",
    "print(movie[\"ratings\"][\"IMDB\"])  # 9.2"
   ]
  },
  {
   "cell_type": "markdown",
   "id": "14036d0f-8216-43d5-9f96-7cb050b6d80e",
   "metadata": {},
   "source": [
    "## Accessing Values"
   ]
  },
  {
   "cell_type": "code",
   "execution_count": 99,
   "id": "ba2c7ec0-bc38-4e06-8b4b-0af809598e57",
   "metadata": {},
   "outputs": [
    {
     "name": "stdout",
     "output_type": "stream",
     "text": [
      "['#data', '#science', '#datascience', '#awesome', '#yolo']\n",
      "#data\n"
     ]
    }
   ],
   "source": [
    "tweet = { \n",
    "    \"user\": \"joelgrus\", \n",
    "    \"text\": \"Data Science is Awesome\", \n",
    "    \"retweet_count\": 100,\n",
    "    \"hashtags\": [\"#data\", \"#science\", \"#datascience\", \"#awesome\", \"#yolo\"]\n",
    "}\n",
    "\n",
    "# Access an item using the key by performing a lookup with an index operation:\n",
    "print(tweet['hashtags'])      # ['#data', '#science', '#datascience', '#awesome', '#yolo']\n",
    "print(tweet['hashtags'][0])   # '#data'"
   ]
  },
  {
   "cell_type": "code",
   "execution_count": 106,
   "id": "f5e0ec91-1888-42d5-9bd6-01a5e4e3bcf4",
   "metadata": {},
   "outputs": [
    {
     "name": "stdout",
     "output_type": "stream",
     "text": [
      "J.K. Rowling -1\n"
     ]
    }
   ],
   "source": [
    "# if you try to access a key that does not exist in the dictionary, Python will throw an exception:\n",
    "\n",
    "author = {\n",
    "    'name': 'J.K. Rowling',\n",
    "    'age': 56,\n",
    "    'country': 'United Kingdom'\n",
    "}\n",
    "\n",
    "# print(author['totalbooks']) # KeyError: 'totalbooks'\n",
    "\n",
    "# Dictionaries have a method called get that takes a key and a default value.\n",
    "# If the key appears in the dictionary, get returns the corresponding value; otherwise it returns the default value.\n",
    "\n",
    "name = author.get('name', 'NA')\n",
    "bookcnt = author.get('totalbooks', -1)\n",
    "print(name, bookcnt)  # J.K. Rowling -1"
   ]
  },
  {
   "cell_type": "code",
   "execution_count": 123,
   "id": "ce103729-3c09-4d33-aff9-4c54dd636464",
   "metadata": {},
   "outputs": [
    {
     "name": "stdout",
     "output_type": "stream",
     "text": [
      "{'capital': 'Brasília', 'population': 212559417}\n"
     ]
    }
   ],
   "source": [
    "# in operator allows you to quickly check if a key is in a dictionary:\n",
    "world_data = {\n",
    "    \"USA\": {\"capital\": \"Washington, D.C.\", \"population\": 331002651},\n",
    "    \"China\": {\"capital\": \"Beijing\", \"population\": 1444216107},\n",
    "    \"India\": {\"capital\": \"New Delhi\", \"population\": 1380004385},\n",
    "    \"Brazil\": {\"capital\": \"Brasília\", \"population\": 212559417},\n",
    "    \"France\": {\"capital\": \"Paris\", \"population\": 65273511},\n",
    "    \"South Africa\": {\"capital\": \"Pretoria\", \"population\": 59308690}\n",
    "}\n",
    "\n",
    "if 'Brazil' in world_data:\n",
    "    print(world_data['Brazil'])\n",
    "else:\n",
    "    print(\"Key not found\")\n",
    "          "
   ]
  },
  {
   "cell_type": "code",
   "execution_count": 104,
   "id": "647b5d7d-912c-4143-b65a-874911c49043",
   "metadata": {},
   "outputs": [
    {
     "name": "stdout",
     "output_type": "stream",
     "text": [
      "4\n"
     ]
    }
   ],
   "source": [
    "# The len function works on dictionaries; it returns the number of key-value pairs:\n",
    "car = {'year': 2019, 'make': 'Volkswagen', 'model': 'T-ROC', 'color': 'Orange'}\n",
    "print(len(car)) # 4"
   ]
  },
  {
   "cell_type": "code",
   "execution_count": 118,
   "id": "cdfe7fdf-62ac-46c7-ac6e-43ea73e3b130",
   "metadata": {},
   "outputs": [
    {
     "name": "stdout",
     "output_type": "stream",
     "text": [
      "<class 'dict'> {'id': 1, 'name': 'Alice', 'email': 'alice@example.com', 'roles': ['user', 'admin']}\n",
      "<class 'tuple'> (1, 'Alice', 'alice@example.com', ['user', 'admin'])\n",
      "user user\n"
     ]
    }
   ],
   "source": [
    "# Tuples vs Dictionaries representing DB Rows\n",
    "\n",
    "user1 = {\n",
    "    \"id\": 1, \n",
    "    \"name\": \"Alice\", \n",
    "    \"email\": \"alice@example.com\", \n",
    "    \"roles\": [\"user\", \"admin\"]\n",
    "}\n",
    "\n",
    "user2 = (1, \"Alice\", \"alice@example.com\", [\"user\", \"admin\"])\n",
    "\n",
    "print(type(user1), user1) # <class 'dict'>\n",
    "print(type(user2), user2) # <class 'tuple'>\n",
    "\n",
    "role1 = user1['roles'][0] # user\n",
    "role2 = user2[3][0]       # user\n",
    "\n",
    "print(role1, role2)\n",
    "\n"
   ]
  },
  {
   "cell_type": "markdown",
   "id": "1fa678b3-be28-4625-8654-edc471024ddd",
   "metadata": {},
   "source": [
    "## Dictionary iteration\n",
    "Dictionaries also support iteration using the for statement. By default, when you iterate over a dictionary, you get back the keys\n",
    "\n",
    "To retrieve both key and value during iteration, use the .items() method, which returns a view"
   ]
  },
  {
   "cell_type": "code",
   "execution_count": 126,
   "id": "6dfeb9c6-3666-4181-8912-4a85e6688aac",
   "metadata": {},
   "outputs": [
    {
     "name": "stdout",
     "output_type": "stream",
     "text": [
      "USA Washington, D.C.\n",
      "China Beijing\n",
      "India New Delhi\n",
      "Brazil Brasília\n",
      "France Paris\n",
      "South Africa Pretoria\n",
      "USA {'capital': 'Washington, D.C.', 'population': 331002651}\n",
      "China {'capital': 'Beijing', 'population': 1444216107}\n",
      "India {'capital': 'New Delhi', 'population': 1380004385}\n",
      "Brazil {'capital': 'Brasília', 'population': 212559417}\n",
      "France {'capital': 'Paris', 'population': 65273511}\n",
      "South Africa {'capital': 'Pretoria', 'population': 59308690}\n"
     ]
    }
   ],
   "source": [
    "world_data = {\n",
    "    \"USA\": {\"capital\": \"Washington, D.C.\", \"population\": 331002651},\n",
    "    \"China\": {\"capital\": \"Beijing\", \"population\": 1444216107},\n",
    "    \"India\": {\"capital\": \"New Delhi\", \"population\": 1380004385},\n",
    "    \"Brazil\": {\"capital\": \"Brasília\", \"population\": 212559417},\n",
    "    \"France\": {\"capital\": \"Paris\", \"population\": 65273511},\n",
    "    \"South Africa\": {\"capital\": \"Pretoria\", \"population\": 59308690}\n",
    "}\n",
    "\n",
    "for k in world_data:\n",
    "    print(k, world_data[k]['capital'])\n",
    "    \n",
    "for k, v in world_data.items():\n",
    "    print(k, v)"
   ]
  },
  {
   "cell_type": "code",
   "execution_count": 164,
   "id": "805e1db3-399e-4279-a995-3b6274089022",
   "metadata": {},
   "outputs": [
    {
     "name": "stdout",
     "output_type": "stream",
     "text": [
      "You got 75. Congratulations!\n"
     ]
    }
   ],
   "source": [
    "score = 75\n",
    "message = \"Congratulations!\" if score >= 70 else \"Keep practicing!\"\n",
    "\n",
    "print(f\"You got {score}. {message}\") "
   ]
  },
  {
   "cell_type": "markdown",
   "id": "7d316f68-b7e5-4abe-9481-af56421c1bac",
   "metadata": {},
   "source": [
    "# JSON Module\n",
    "The json module is a built-in module in Python that allows you to work with JavaScript Object Notation (JSON) data. It provides tools for both encoding and decoding JSON, making it essential for building applications that exchange data with other systems and APIs.\n",
    "\n",
    "### Serialization\n",
    "Broader process of converting objects into a linear sequence of bytes that can be persisted or transmitted. \n",
    "Used for:\n",
    "\t• Saving objects to files or databases.\n",
    "\t• Transmitting objects over networks.\n",
    "\t• Distributing objects across systems.\n",
    "\n",
    "\n",
    "### Encoding:\n",
    "Focuses on converting data structures or objects into a specific format. \n",
    "- Converts Python data structures like dictionaries, lists, and tuples into JSON strings.\n",
    "- Supports various options for formatting and whitespace control.\n",
    "- Allows customization of how specific data types are encoded.\n",
    "\n",
    "### Decoding:\n",
    "- Parses JSON strings into Python data structures.\n",
    "- Handles different variations and complexities in JSON format.\n",
    "- Raises exceptions for invalid or corrupt JSON data."
   ]
  },
  {
   "cell_type": "code",
   "execution_count": 219,
   "id": "a4c9b14f-fa51-4a4d-8128-c2028ca93630",
   "metadata": {},
   "outputs": [
    {
     "name": "stdout",
     "output_type": "stream",
     "text": [
      "{\"name\": \"Alice\", \"age\": 30, \"skills\": [\"Python\", \"JavaScript\"]}\n",
      "Go\n"
     ]
    }
   ],
   "source": [
    "import json\n",
    "\n",
    "# Sample dictionary\n",
    "user = {\n",
    "    \"name\": \"Alice\",\n",
    "    \"age\": 30,\n",
    "    \"skills\": [\"Python\", \"JavaScript\"]\n",
    "}\n",
    "\n",
    "# Encode the dictionary into a JSON string\n",
    "json_string = json.dumps(user)\n",
    "\n",
    "print(json_string)  # {\"name\": \"Alice\", \"age\": 30, \"skills\": [\"Python\", \"JavaScript\"]}\n",
    "\n",
    "\n",
    "user_str = '{\"name\": \"Bob\", \"age\": 35, \"skills\": [\"C\", \"Go\"]}'\n",
    "\n",
    "# Decode a JSON string into a Python dictionary\n",
    "user2 = json.loads(user_str)\n",
    "\n",
    "print(user2[\"skills\"][1]) # Go"
   ]
  },
  {
   "cell_type": "markdown",
   "id": "0cf2b7b9-556f-4337-8a8a-41b527ddf274",
   "metadata": {},
   "source": [
    "# range() Function\n",
    "The range() function in Python is a versatile tool for generating sequences of numbers. \n",
    "It offers a concise and efficient way to loop through a series of values within a specific range. \n",
    "\n",
    "## Key Features:\n",
    "- Generates a sequence of integers within a specified range.\n",
    "- Optional arguments: Allows customizing the starting point, stopping point, and step size for the sequence.\n",
    "- Immutable: Returns a range object, not a list directly.\n",
    "\n",
    "## Syntax:\n",
    "- range(stop)\n",
    "- range(start, stop)\n",
    "- range(start, stop, step)"
   ]
  },
  {
   "cell_type": "code",
   "execution_count": 79,
   "id": "5f281d9b-e27b-45d9-bf75-0e5d7405ccb6",
   "metadata": {},
   "outputs": [
    {
     "name": "stdout",
     "output_type": "stream",
     "text": [
      "<class 'range'> range(0, 3)\n"
     ]
    }
   ],
   "source": [
    "r = range(3)\n",
    "print(type(r), r) # <class 'range'> range(0, 3)"
   ]
  },
  {
   "cell_type": "markdown",
   "id": "c6971e36-2bb0-4ceb-b388-cfea43d51cf5",
   "metadata": {},
   "source": [
    "# For Loop\n",
    "The for statement in Python differs a bit from what you may be used to in C. Python’s for statement iterates over the items of any sequence.\n",
    "\n",
    "Typically, if you have an object that supports iteration, you use a for loop to iterate over the items. \n",
    "```python\n",
    "words = ['cat', 'window', 'defenestrate']\n",
    "for w in words:\n",
    "    print(w, len(w))\n",
    "```\n",
    "If you do need to iterate over a sequence of numbers, the built-in function <code>range()</code> comes in handy.\n",
    "\n",
    "```python\n",
    "for i in range(5):\n",
    "    print(i)\n",
    "```\n",
    "\n",
    "Notice that a for loop construct contains a colon (:) followed by the indented block.\n",
    "\n"
   ]
  },
  {
   "cell_type": "code",
   "execution_count": 78,
   "id": "f7d090fe-b2d6-4703-871f-fe911495b3aa",
   "metadata": {},
   "outputs": [
    {
     "name": "stdout",
     "output_type": "stream",
     "text": [
      "loop through a list 1\n",
      "loop through a list 2\n",
      "loop through a list 3\n",
      "75\n",
      "90\n",
      "80\n",
      "0 75\n",
      "1 90\n",
      "2 80\n",
      "range(3): 0\n",
      "range(3): 1\n",
      "range(3): 2\n",
      "range(10, 15): 10\n",
      "range(10, 15): 11\n",
      "range(10, 15): 12\n",
      "range(10, 15): 13\n",
      "range(10, 15): 14\n",
      "range(100, 110, 2): 100\n",
      "range(100, 110, 2): 102\n",
      "range(100, 110, 2): 104\n",
      "range(100, 110, 2): 106\n",
      "range(100, 110, 2): 108\n"
     ]
    }
   ],
   "source": [
    "for i in [1, 2, 3]:\n",
    "    print(\"loop through a list\", i)\n",
    "    \n",
    "    \n",
    "# Looping with an index\n",
    "# Note that the below code is a code smell. It indicates that you are not using Python as you should.\n",
    "scores = [75, 90, 80]\n",
    "for i in range(len(scores)): # 75, 90, 80\n",
    "    print(scores[i])\n",
    "\n",
    "# The enumerate function returns a tuple of (index,item) for every item in the sequence:\n",
    "for i, v in enumerate(scores):\n",
    "    print(i, v)\n",
    "\n",
    "\n",
    "\n",
    "for i in range(3):          # 0, 1, 2\n",
    "    print(\"range(3):\", i)\n",
    "\n",
    "for i in range(10, 15):     # 10, 11, 12, 13, 14\n",
    "    print(\"range(10, 15):\", i)\n",
    "\n",
    "for i in range(100, 110, 2):     # 100, 102, 104, 106, 108\n",
    "    print(\"range(100, 110, 2):\", i)\n",
    "\n"
   ]
  },
  {
   "cell_type": "markdown",
   "id": "e4eccb2d-080b-44d7-9ddb-a1b84376ddba",
   "metadata": {},
   "source": [
    "# While Loop\n",
    "Python will let you loop over a block of code while a condition holds. \n",
    "A while loop is followed by an expression that evaluates to True or False. Then, a colon follows it. The indented block of code will continue to repeat as long as the expression evaluates to True. This allows you to easily create an infinite loop.\n",
    "\n",
    "Typically, if you have an object that supports iteration, you use a for loop to iterate over the items. You use while loops when you don't have easy access to an iterable object."
   ]
  },
  {
   "cell_type": "code",
   "execution_count": 87,
   "id": "98370e33-af27-4b37-bf81-41e5a0ef1f13",
   "metadata": {},
   "outputs": [
    {
     "name": "stdout",
     "output_type": "stream",
     "text": [
      "3\n",
      "2\n",
      "1\n"
     ]
    }
   ],
   "source": [
    "n = 3\n",
    "while n>0:\n",
    "    print(n)\n",
    "    n -= 1"
   ]
  },
  {
   "cell_type": "markdown",
   "id": "83700a86-9038-41b5-8bcb-1d4a5527ad0f",
   "metadata": {},
   "source": [
    "## Exercise: \n",
    "Create a list with the names of friends and colleagues. Search for the name Bob using a for loop. Print not found if you didn't find it."
   ]
  },
  {
   "cell_type": "code",
   "execution_count": 86,
   "id": "b450ae5a-54c1-41cd-83ea-0c35d7df8309",
   "metadata": {},
   "outputs": [
    {
     "name": "stdout",
     "output_type": "stream",
     "text": [
      "Not Found\n"
     ]
    }
   ],
   "source": [
    "# TODO case-sensitivity\n",
    "names = ['Alice', 'Bob', 'Charlie', 'Danielle', 'Erica']\n",
    "q = \"bob\"\n",
    "if q in names:\n",
    "    print(\"Found\")\n",
    "else:\n",
    "    print(\"Not Found\")\n",
    "    "
   ]
  },
  {
   "cell_type": "markdown",
   "id": "64d58a92-3efd-4be4-a43a-d137aa05b976",
   "metadata": {},
   "source": [
    "# Functions\n",
    "One way to think of a function is as a black box that you can send input to (though input is not required). \n",
    "The black box then performs a series of operations and returns output \n",
    "(it implicitly returns None if the function ends without return being called). \n",
    "Function is an abstraction, providing an interface hiding the implementation details.\n",
    "An advantage of a function is that it enables CODE REUSE. Once a function is defined, you can call it multiple times.\n",
    "\n",
    "## Syntax\n",
    "To write the function body block, use : and indentation instead of {}.\n",
    "\n",
    "The main parts of a function are:\n",
    "\n",
    "- the <code>def</code> keyword\n",
    "- a function name\n",
    "- function parameters between parentheses\n",
    "- a colon (:)\n",
    "- indentation\n",
    "\n",
    "## docstring\n",
    "Python allows you to place a string immediately after the :, this string is called a docstring.  \n",
    "A docstring is a string used solely for documentation, and is optional.\n",
    "\n",
    "## Parameters\n",
    "Functions can have many parameters.\n",
    "Note that Python is a dynamic language and you don't specify the types of the parameters.\n",
    "\n",
    "A \"parameter\" is the variable listed inside the parentheses in the function definition.\n",
    "An \"argument\" is the value that is sent to the function when it is called.\n",
    " \n",
    "## Default parameters\n",
    "To create a default value for a parameter, follow the parameter name by an equal sign (=) and the chosen value.\n",
    "Because default parameters are optional, Python forces you to declare required parameters before optional ones.\n",
    "\n",
    "## Keyword Arguments\n",
    "Functions can also be called using keyword arguments of the form kwarg=value. \n",
    "\n",
    "Keyword arguments are a flexible way to pass arguments to functions in Python. \n",
    "They allow you to explicitly label each argument by name when calling a function, regardless of their position in the argument list.\n",
    "\n",
    "**Benefits:**\n",
    "- Readability: Improves code clarity by explicitly labelling arguments, especially for functions with a long list of parameters.\n",
    "- Flexibility: Allows you to skip optional arguments or change their order without affecting the function call.\n",
    "- Error Prevention: Reduces the risk of positional errors, where arguments are passed in the wrong order.\n",
    "\n",
    "**Syntax:**\n",
    "Keyword arguments are defined using a name=value pair syntax. \n",
    "You can mix positional and keyword arguments in the same call, with positional arguments coming first.\n",
    "\n",
    "\n",
    "## Arbitrary Arguments, *args\n",
    "If you do not know how many arguments that will be passed into your function, add a * before the parameter name in the function definition. \n",
    "These arguments will be wrapped up in a tuple.\n",
    "You can access the tuple values via indexing or iteration in a for loop.\n",
    "\n"
   ]
  },
  {
   "cell_type": "code",
   "execution_count": 220,
   "id": "bc4f00f2-1449-4985-8ff3-b0fc0509d719",
   "metadata": {},
   "outputs": [
    {
     "name": "stdout",
     "output_type": "stream",
     "text": [
      "Hi!\n"
     ]
    },
    {
     "name": "stdin",
     "output_type": "stream",
     "text": [
      "Enter a positive integer: 4\n"
     ]
    },
    {
     "name": "stdout",
     "output_type": "stream",
     "text": [
      "8\n",
      "8\n",
      "**********\n",
      "-----\n"
     ]
    }
   ],
   "source": [
    "# a function with no parameters\n",
    "def greet():\n",
    "    print(\"Hi!\")\n",
    "\n",
    "\n",
    "def is_odd(n):\n",
    "    return n % 2 == 1\n",
    "\n",
    "def add(x, y):\n",
    "    return x + y\n",
    "\n",
    "# Type Hints\n",
    "def sum(a: int, b: int) -> int:\n",
    "    return a + b\n",
    "\n",
    "\n",
    "# Default parameters\n",
    "def drawLine(cnt, c=\"*\"):\n",
    "    for i in range(cnt):\n",
    "        print(c, end=\"\")\n",
    "    print(\"\")\n",
    "\n",
    "\n",
    "greet()\n",
    "\n",
    "x = input(\"Enter a positive integer:\")\n",
    "\n",
    "if is_odd(int(x)):\n",
    "    print(\"Odd number:\", x)\n",
    "    \n",
    "print(add(3,5))\n",
    "print(sum(3,5))\n",
    "\n",
    "drawLine(10)\n",
    "drawLine(5, \"-\")"
   ]
  },
  {
   "cell_type": "code",
   "execution_count": 253,
   "id": "3beafc13-7898-4ec0-aaae-b8cc46485b06",
   "metadata": {},
   "outputs": [
    {
     "name": "stdout",
     "output_type": "stream",
     "text": [
      "John.Doe Doe.John\n"
     ]
    }
   ],
   "source": [
    "def create_username(first_name, last_name):\n",
    "    return first_name + \".\" + last_name\n",
    "\n",
    "# Correct order:\n",
    "username1 = create_username(\"John\", \"Doe\")  # Output: \"John.Doe\"\n",
    "\n",
    "# Positional Arguments can be prone to errors if the order is wrong. \n",
    "username2 = create_username(\"Doe\", \"John\")  # Output: \"Doe.John\"\n",
    "\n",
    "print(username1, username2)"
   ]
  },
  {
   "cell_type": "code",
   "execution_count": 255,
   "id": "f690aa31-171e-48d4-b637-85eb395f886b",
   "metadata": {},
   "outputs": [
    {
     "name": "stdout",
     "output_type": "stream",
     "text": [
      "Performance_low.pdf Done.\n",
      "HR_high.pdf Done.\n",
      "Performance_high.xls Done.\n",
      "Performance_low.xls Done.\n",
      "Sales_low.ppt Done.\n",
      "MKTG_low.ppt to: CMO\n",
      "Done.\n"
     ]
    }
   ],
   "source": [
    "# function definition with required and optional parameters \n",
    "def report(name, urgency=\"low\", format=\"pdf\", to = None):\n",
    "    print(f\"{name}_{urgency}.{format}\", end=\" \")\n",
    "    if to:\n",
    "          print(f\"to: {to}\")\n",
    "    print(\"Done.\")\n",
    "\n",
    "\n",
    "# function call with a combination of parameters:     \n",
    "report(\"Performance\")                   # 1 positional: Performance_low.pdf Done.\n",
    "report(\"HR\", \"high\")                    # 2 positional: HR_high.pdf Done.\n",
    "report(\"Performance\", \"high\", \"xls\")    # 3 positional: Performance_high.xls Done.\n",
    "report(\"Performance\", format=\"xls\")     # 1 pos + 1 kw: Performance_low.xls Done.\n",
    "report(format=\"ppt\", name=\"Sales\")      # 2 kw :        Sales_low.ppt Done.\n",
    "report(\"MKTG\", to=\"CMO\", format=\"ppt\")  # 1 pos + 2 kw: MKTG_low.ppt to: CMO"
   ]
  },
  {
   "cell_type": "code",
   "execution_count": 254,
   "id": "bae2557d-ce72-41ce-953b-40253945035c",
   "metadata": {},
   "outputs": [
    {
     "name": "stdout",
     "output_type": "stream",
     "text": [
      "0 6\n"
     ]
    }
   ],
   "source": [
    "# Arbitrary Arguments, *args\n",
    "def sum(*nums):\n",
    "    sum=0\n",
    "    for n in nums:  # nums is a tuple\n",
    "        sum += n\n",
    "    \n",
    "    return sum\n",
    "\n",
    "sum1 = sum()         # 0\n",
    "sum2 = sum(1, 2, 3)  # 6\n",
    "\n",
    "print(sum1, sum2)"
   ]
  },
  {
   "cell_type": "markdown",
   "id": "40632d53-6aa5-4a2f-a8f6-2da3c185215b",
   "metadata": {},
   "source": [
    "# Lambda Functions\n",
    "An anonymous inline function consisting of a single expression which is evaluated when the function is called.\n",
    "\n",
    "Lambda functions are concise, anonymous functions defined using the <code>lambda</code> keyword. \n",
    "They provide a compact way to create functions without a formal def statement.\n",
    "\n",
    "<span style=\"background-color: navy\">Lambda functions are powerful tools for functional programming.</span>\n",
    "\n",
    "Syntax:\n",
    "```python\n",
    "\tlambda arguments: expression\n",
    "```\n",
    "\n",
    "**Advantages:**\n",
    "- Readability: Can improve code clarity for simple functions.\n",
    "- Conciseness: Reduce code verbosity for one-line operations.\n",
    "- Flexibility: Pass functions as arguments to other functions.\n",
    "\t\n",
    "**Disadvantages:**\n",
    "- Readability: Can become less readable for complex logic.\n",
    "- Reusability: Limited due to lack of a name and inability to be directly called multiple times.\n",
    "- Debugging: Can be harder to debug due to their anonymous nature."
   ]
  },
  {
   "cell_type": "code",
   "execution_count": 258,
   "id": "89c6cc83-b0e0-4ee2-8160-40ac9e47eeda",
   "metadata": {},
   "outputs": [
    {
     "name": "stdout",
     "output_type": "stream",
     "text": [
      "[80, 90, 70, 100, 90, 105, 90, 100, 90]\n"
     ]
    }
   ],
   "source": [
    "scores = [80, 90, 70, 60, 100, 90, 60, 105, 50, 40, 90, 100, 50, 90]\n",
    "\n",
    "scores_pass = filter(lambda x: x>60, scores)\n",
    "\n",
    "print(list(scores_pass))"
   ]
  },
  {
   "cell_type": "markdown",
   "id": "47fc723e-c647-4cc1-8370-9d22324580b3",
   "metadata": {},
   "source": [
    "# Classes\n",
    "\n",
    "### What are Classes?\n",
    "- Blueprints for Objects: \n",
    "\tClasses serve as templates or blueprints for creating objects, which are instances of those classes.\n",
    "- Encapsulating Data and Behavior: \n",
    "\tThey encapsulate both data (attributes) and the operations that can be performed on that data (methods).\n",
    "- Data Abstraction: \n",
    "\tHide implementation details and provide a clear interface for interacting with objects.\n",
    "- Organizing Code and Modeling Real-World Entities: \n",
    "\tClasses promote code reusability, maintainability, and help model real-world concepts effectively.\n",
    "\n",
    "\n",
    "\n",
    "\n",
    "“Many object-oriented languages such as C++, Java, and Python use classes to define what state an object can hold and the methods to alter that state. \n",
    "\n",
    "Strings, dictionaries, files, and integers are all objects. Even functions are objects. In Python, almost everything is an object. \n",
    "In Python, str is the name of the class used to store strings. The str class defines the methods of strings. \n",
    "You can create an instance of the str class, b, by using Python’s literal string syntax:\n",
    "```python\n",
    "\tb = \"I'm a string”\n",
    "```\n",
    "You may hear, \n",
    "- “b is a string”, \n",
    "- “b is an object”, \n",
    "- “b is an instance of a string”. \n",
    "\n",
    "The latter is perhaps the most specific. But, b is not a string class.\n",
    "\n",
    "## Defining a Class\n",
    "It is said that Python comes with “batteries included”—it has libraries and classes predefined for your use. These classes tend to be generic. You can define your own classes that deal specifically with your problem domain.\n",
    "\n",
    "First of all, classes are not always needed in Python. You should give some thought to whether you need to define a class or whether a function (or group of functions) would be sufficient.\n",
    "\n",
    "Once you have decided that you want to model something with a class, ask yourself the following questions:\n",
    "\n",
    "\t• Does it have a name?\n",
    "\t• What are the properties that is has?\n",
    "\t• Are these properties constant between instances of the class? ie:\n",
    "\t\t○ Which of these properties are common to the class?\n",
    "\t\t○ Which of these properties are unique to each member?\n",
    "\t• What actions does it do?\n",
    "\n",
    "\n",
    "## Attributes:\n",
    "- Instance Attributes: Variables defined within a class that store data specific to each object.\n",
    "- Class Attributes: Variables shared by all instances of the class.\n",
    "\n",
    "\n",
    "## Methods\n",
    "Methods are functions that are attached to a class. \n",
    "Instead of calling the method by itself, you need to call it on an instance of the class.\n",
    "\n",
    "### The first parameter: self\n",
    "The first parameter of a method is always self, referring to the current object.\n",
    "As in Modula-3, there are no shorthands for referencing the object’s members from its methods: \n",
    "The method is declared with an explicit first argument representing the object, which is provided implicitly by the call if called using an object: object.method() (resembling Go pointer receiver?)\n",
    "```python\n",
    "\tdef payroll(self):\n",
    "\t    return self.hours_worked * self.rate\n",
    "```\n",
    "\n",
    "## Constructor: _ _init_ _():\n",
    "A special method called when an object is created to initialize its attributes.\n",
    "A constructor is called when you create an instance of a class. \n",
    "If you consider a class to be a factory that provides a template or blueprint for instances, then the constructor is what initializes the state for the instances. \n",
    "\n",
    "The constructor takes an instance as input (the self parameter), and updates it inside the method. Python takes care of passing around the\n",
    "instance for us. \n",
    "\n",
    "The attributes unique to an instance are put in the constructor.\n",
    "\n",
    "## No Access Modifiers\n",
    "Python doesn't have the notion of access modifiers, such as private, protected, and public, to restrict access to attributes and methods in a class. In Python, the distinction is between public and non-public class members.If you want to signal that a given attribute or method is non-public, then you should use the well-established Python convention of prefixing the name with an underscore (_).\n",
    "Note that this is just a convention. \n",
    "It doesn't stop you and other programmers from accessing the attributes using dot notation, as in obj._attr. \n",
    "However, it's bad practice to violate this convention."
   ]
  },
  {
   "cell_type": "code",
   "execution_count": 141,
   "id": "15496658-570c-4164-90aa-5dd66237e217",
   "metadata": {},
   "outputs": [
    {
     "name": "stdout",
     "output_type": "stream",
     "text": [
      "Box(capacity:10 size:3)\n"
     ]
    }
   ],
   "source": [
    "class Box:\n",
    "    \n",
    "    # Constructor\n",
    "    # Note that the constructor takes an instance as input (the self parameter)\n",
    "    def __init__(self, capacity):\n",
    "        # define instance variables in the constructor body\n",
    "        self.capacity = capacity\n",
    "        self.size = 0               # default initialization, not using constructor parameters.\n",
    "    \n",
    "    def load(self, amount):\n",
    "        if self.size + amount <= self.capacity:\n",
    "            # print(\"Loading\", amount)\n",
    "            self.size += amount\n",
    "    \n",
    " \n",
    "    # Called by str(object) and the built-in functions format() and print()\n",
    "    # to compute the “informal” or nicely printable string representation of an object.\n",
    "    def __str__(self):\n",
    "        return f\"Box(capacity:{self.capacity} size:{self.size})\"\n",
    "    \n",
    "\n",
    "# Create a new instance of the class and assign this object to the local a variable box01\n",
    "box01 = Box(10)\n",
    "box01.load(3)\n",
    "print(box01) # Box(capacity:10 size:3)"
   ]
  },
  {
   "cell_type": "markdown",
   "id": "a64a9746-bea0-4383-9a75-e065c46719de",
   "metadata": {},
   "source": [
    "# Exceptions\n",
    "\n",
    "## What are Exceptions:\n",
    "\n",
    "- Signals for Unexpected Events: \n",
    "\tExceptions are special events that disrupt the normal flow of code execution, indicating errors or unexpected conditions.\n",
    "- Built-in and Custom: \n",
    "\tPython has a hierarchy of built-in exceptions (e.g., ValueError, TypeError, ZeroDivisionError)\n",
    "\tYou can create custom exceptions for specific needs as well.\n",
    "\n",
    "\n",
    "## Benefits of Exception Handling:\n",
    "- Prevents Program Crashes: Catches errors and allows for graceful handling or recovery.\n",
    "- Improves Code Robustness: Makes code more resilient to unexpected situations.\n",
    "- Provides Informative Error Messages: Can be used to provide meaningful feedback to users or developers.\n",
    "- Enhances Code Structure and Clarity: Separates error-handling logic from the main code flow, improving readability and maintainability.\n",
    "\n",
    "## Common Exception Types:\n",
    "- ValueError for invalid data types or values.\n",
    "- TypeError for incompatible operations on data types.\n",
    "- ZeroDivisionError for division by zero.\n",
    "- IndexError for accessing a list or string index out of range.\n",
    "- KeyError for accessing a non-existent key in a dictionary.\n",
    "- FileNotFoundError for attempting to access a non-existent file.\n",
    "\n",
    "\n",
    "## Raising Exceptions:\n",
    "Use the raise keyword to signal an exception:\n",
    "```python\n",
    "\traise ValueError(\"Invalid input\")\n",
    "```\n",
    "\n",
    "## Handling Exceptions:\n",
    "Use try...except blocks to catch and handle exceptions:\n",
    "\n",
    "```python\n",
    "\ttry:\n",
    "\t    # Code that might raise an exception\n",
    "\texcept ExceptionType:\n",
    "\t    # Code to handle the exception\n",
    "    finally:\n",
    "        # cleanup\n",
    "```\n",
    "\n",
    "## Custom Exceptions:\n",
    "Create custom exceptions by inheriting from the Exception class:\n",
    "\n",
    "```python\n",
    "\tclass CustomError(Exception):\n",
    "\t    pass\n",
    "```"
   ]
  },
  {
   "cell_type": "code",
   "execution_count": 143,
   "id": "0883f6b2-85ba-4eb0-ae08-9cac52558589",
   "metadata": {},
   "outputs": [],
   "source": [
    "class CustomError(Exception):\n",
    "    pass"
   ]
  },
  {
   "cell_type": "markdown",
   "id": "1d35ba3b-12e7-4cd4-bc7a-0047e58aa766",
   "metadata": {},
   "source": [
    "Importing Libraries\n",
    "To use a library, you have to load the code from that library into your namespace. \n",
    "\n",
    "It is possible to load the library into your namespace and reference all of its classes, functions, and variables.\n",
    "To import the math module into your namespace type:\n",
    "```python\n",
    "\timport math\n",
    "```\n",
    "In the above, you imported the math library. This created a new variable, math, that points to the module. The module has various attributes. You can use the dir function to list the attributes: \n",
    "```python\n",
    "\tdir(math)\n",
    "```\n",
    "If you want to call the tan function, you can't invoke it, because tan isn't in your namespace, only math is. \n",
    "But, you can do a lookup on the math variable using the period (.) operator. The period operator will look up attributes on an object.\n",
    "```python\n",
    "\tmath.tan(0)\n",
    "```\n",
    "\n",
    "If you are only using a couple attributes from a library, you might want to use the from style import. It is possible to specify multiple comma-delimited attributes in the from construct:\n",
    "```python\n",
    "\tfrom math import sin, tan\n",
    "\t\n",
    "\tsin(0)\n",
    "    tan(0)\n",
    "```\n",
    "\n",
    "## Star imports\n",
    "Python also allows you to clobber your namespace with what are known as star imports:\n",
    "```python\n",
    "\tfrom math import *\n",
    "\tasin(0)\n",
    "```\n",
    "When you say from math import *, that is a star import, and it tells Python to throw everything from the math library (class definitions, functions, and variables) into the local namespace. While this might appear handy at first glance, it is quite dangerous. Star imports make debugging harder because it is not explicit where code comes from.\n",
    "\n",
    "Do not use star imports!\n",
    "\n",
    "## Conflicting import names\n",
    "If you were working on a program that performs trigonometric operations, you might already have a function named sin. \n",
    "What if you also want to use the sin function from the math library? \n",
    "\t• One option is to import math, then math.sin() would reference the library and sin would reference your function.\n",
    "\t• Other option is using as keyword.\n",
    "\tThe as keyword can also be used to eliminate typing. \n",
    "\tIf your favorite library has overly long and verbose names you can easily shorten them in your code:\n",
    "```python\n",
    "    import numpy as np\n",
    "```"
   ]
  },
  {
   "cell_type": "code",
   "execution_count": 145,
   "id": "eda97d2b-4cab-4a0a-ae49-29c372c2d0eb",
   "metadata": {},
   "outputs": [
    {
     "data": {
      "text/plain": [
       "0.0"
      ]
     },
     "execution_count": 145,
     "metadata": {},
     "output_type": "execute_result"
    }
   ],
   "source": [
    "import math\n",
    "dir(math)\n",
    "math.tan(0)"
   ]
  },
  {
   "cell_type": "markdown",
   "id": "25e0738d-c8d9-4587-b8d9-14d452156b83",
   "metadata": {},
   "source": [
    "# Libraries: Packages and Modules\n",
    "\n",
    "## Modules\n",
    "Modules are Python files that end in .py, and have a name that is importable. \n",
    "PEP 8 states that module filenames should be short and in lowercase. Underscores may be used for readability.\n",
    "\n",
    "## Packages\n",
    "A package in Python is a directory that contains a file named __init__.py \n",
    "The file named __init__.py can have any implementation it pleases or it can be empty. \n",
    "In addition, the directory may contain an arbitrary number of modules and sub packages.\n",
    "\n",
    "Python packages can be installed via package managers, Windows executables or Python specific tools such as pip.\n",
    "\n",
    "Importing packages\n",
    "To import a package, use the import statement with the package name (the directory name):\n",
    "```python\n",
    "\timport sqlalchemy\n",
    "```\n",
    "This will import the sqlalchemy/__init__.py file into the current namespace if the package is found in PYTHONPATH or sys.path\n",
    "\n",
    "\n",
    "PYTHONPATH is an environment variable listing non-standard directories that Python looks for modules or packages in. This variable is usually empty."
   ]
  },
  {
   "cell_type": "code",
   "execution_count": null,
   "id": "3220b2aa-e25c-4504-8cff-251f9b8c5db3",
   "metadata": {},
   "outputs": [],
   "source": []
  }
 ],
 "metadata": {
  "kernelspec": {
   "display_name": "Python 3 (ipykernel)",
   "language": "python",
   "name": "python3"
  },
  "language_info": {
   "codemirror_mode": {
    "name": "ipython",
    "version": 3
   },
   "file_extension": ".py",
   "mimetype": "text/x-python",
   "name": "python",
   "nbconvert_exporter": "python",
   "pygments_lexer": "ipython3",
   "version": "3.10.8"
  }
 },
 "nbformat": 4,
 "nbformat_minor": 5
}
