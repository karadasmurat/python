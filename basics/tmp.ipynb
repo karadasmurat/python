{
 "cells": [
  {
   "cell_type": "code",
   "execution_count": 3,
   "metadata": {},
   "outputs": [
    {
     "name": "stdout",
     "output_type": "stream",
     "text": [
      "16\n"
     ]
    }
   ],
   "source": [
    "class Value:\n",
    "\n",
    "    def __init__(self, value):\n",
    "        self.value = value\n",
    "\n",
    "    def add(self, x):\n",
    "        self.value += x\n",
    "        return self\n",
    "\n",
    "    def multiply(self, factor):\n",
    "        self.value *= factor\n",
    "        return self\n",
    "\n",
    "# Create an instance of the class\n",
    "obj = Value(5)\n",
    "\n",
    "# Use method chaining\n",
    "val = obj.add(3).multiply(2)\n",
    "\n",
    "print(val.value)  # Output: 16"
   ]
  },
  {
   "cell_type": "code",
   "execution_count": 18,
   "metadata": {},
   "outputs": [
    {
     "name": "stdout",
     "output_type": "stream",
     "text": [
      "0    1\n",
      "1    7\n",
      "2    2\n",
      "dtype: Int8\n"
     ]
    }
   ],
   "source": [
    "import numpy as np\n",
    "import pandas as pd\n",
    "\n",
    "data = [1, 7, 2]\n",
    "\n",
    "# Create a Series from a list\n",
    "series1 = pd.Series(data)\n",
    "series2 = pd.Series(data, dtype=\"Int8\")\n",
    "series3 = pd.Series(data, name=\"values\" )\n",
    "series4 = pd.Series(data, index=[\"a\", \"b\", \"c\"], name=\"values\")\n",
    "\n",
    "\n",
    "print(series2)"
   ]
  },
  {
   "cell_type": "code",
   "execution_count": 14,
   "metadata": {},
   "outputs": [
    {
     "name": "stdout",
     "output_type": "stream",
     "text": [
      "   MATH  ECON  PHYS  HIST   SWE\n",
      "0  74.0  70.0    76    70   NaN\n",
      "1  73.0  70.0    74    78  73.0\n",
      "2  73.0  79.0    76    70  70.0\n",
      "3   NaN  76.0    79    75  70.0\n",
      "4  75.0   NaN    75    75  78.0\n",
      "5  75.0  74.0    73    76  73.0\n",
      "6  70.0  70.0    76    75  76.0\n",
      "7  74.0   NaN    75    71  70.0\n",
      "8  72.0  78.0    73    78  74.0\n",
      "9  78.0  71.0    71    72  72.0\n",
      "MATH     9\n",
      "ECON     8\n",
      "PHYS    10\n",
      "HIST    10\n",
      "SWE      9\n",
      "dtype: int64\n"
     ]
    }
   ],
   "source": [
    "import numpy as np\n",
    "import pandas as pd\n",
    "\n",
    "# simulate scores of 10 students, 5 courses\n",
    "data = np.random.default_rng().integers(low=70, high=80, size=(10, 5))\n",
    "\n",
    "\n",
    "df = pd.DataFrame(data, columns=[\"MATH\", \"ECON\", \"PHYS\", \"HIST\", \"SWE\"])\n",
    "\n",
    "#replace a score with np.nan, to simulate missing values\n",
    "df.replace(77, np.nan, inplace=True)\n",
    "\n",
    "print(df)\n",
    "print(df.count())  # Count non-NA cells"
   ]
  },
  {
   "cell_type": "code",
   "execution_count": null,
   "metadata": {},
   "outputs": [],
   "source": [
    "import pandas as pd\n",
    "\n",
    "data = {'Name': ['Alice', 'Bob', 'Charlie'],\n",
    "        'Age': [25, 30, 12]}\n",
    "\n",
    "df = pd.DataFrame(data)\n",
    "\n",
    "# Extract the 'Age' column as a Series\n",
    "age_series = df['Age']\n",
    "\n",
    "# Extract the first row as a Series\n",
    "first_row_series = df.iloc[0]"
   ]
  },
  {
   "cell_type": "code",
   "execution_count": 40,
   "metadata": {},
   "outputs": [
    {
     "name": "stdout",
     "output_type": "stream",
     "text": [
      "         Age      City\n",
      "Name                  \n",
      "Alice     25    London\n",
      "Bob       30  New York\n",
      "Charlie   12     Paris\n",
      "David     14    Berlin\n",
      "Name\n",
      "Alice       True\n",
      "Bob         True\n",
      "Charlie    False\n",
      "David      False\n",
      "Name: Age, dtype: bool\n",
      "       Age      City\n",
      "Name                \n",
      "Alice   25    London\n",
      "Bob     30  New York\n",
      "       Age      City\n",
      "Name                \n",
      "Alice   25    London\n",
      "Bob     30  New York\n",
      "       Age    City\n",
      "Name              \n",
      "Alice   25  London\n"
     ]
    }
   ],
   "source": [
    "# Create a sample DataFrame\n",
    "data = {'Name': ['Alice', 'Bob', 'Charlie', 'David'],\n",
    "        'Age': [25, 30, 12, 14],\n",
    "        'City': ['London', 'New York', 'Paris', 'Berlin']}\n",
    "\n",
    "df = pd.DataFrame(data)\n",
    "df.set_index(\"Name\", inplace=True)\n",
    "\n",
    "print(df)\n",
    "\n",
    "mask = df[\"Age\"]>18\n",
    "print(mask)\n",
    "\n",
    "filtered1 = df[mask]\n",
    "filtered2 = df.loc[mask]\n",
    "\n",
    "# AND\n",
    "# Filter for rows where age is greater than 28 and city is London\n",
    "mask3 = (df['Age'] > 18) & (df['City'] == 'London')\n",
    "\n",
    "filtered3 = df[mask3]\n",
    "\n",
    "print(filtered1)\n",
    "print(filtered2)\n",
    "print(filtered3)\n",
    "\n",
    "# Drop a column by label\n",
    "# df.drop(columns=\"Age\", inplace=True)\n",
    "# print(df)\n",
    "\n",
    "# Drop a row by index\n",
    "# df.drop(index=\"Alice\", inplace=True)\n",
    "# print(df)\n",
    "\n",
    "# Drop by a filter\n",
    "# mask = df[\"Age\"]>25\n",
    "# print(df[mask])\n",
    "# df.drop(labels=df[mask].index, inplace=True)\n",
    "# print(df)"
   ]
  },
  {
   "cell_type": "code",
   "execution_count": 60,
   "metadata": {},
   "outputs": [
    {
     "data": {
      "image/png": "[encoded data removed]",
      "text/plain": [
       "<Figure size 640x480 with 1 Axes>"
      ]
     },
     "metadata": {},
     "output_type": "display_data"
    }
   ],
   "source": [
    "import pandas as pd\n",
    "import matplotlib.pyplot as plt\n",
    "\n",
    "data = {\n",
    "   \"year\": [2004, 2005, 2006, 2007, 2008, 2009, 2010, 2011, 2012, 2013, 2014, 2015, 2016, 2017],\n",
    "   \"gbptry\": [2.60, 2.43, 2.64, 2.6, 2.38, 2.41, 2.32, 2.67, 2.84, 2.97, 3.6, 4.15, 4.08, 4.69],\n",
    "   \"usdtry\": [1.42, 1.34, 1.43, 1.30, 1.29, 1.55, 1.50, 1.67, 1.79, 1.90, 2.19, 2.72, 3.02, 3.65]\n",
    "}\n",
    "\n",
    "df = pd.DataFrame(data)\n",
    "\n",
    "# Use plt.plot twice to create two lines on the chart\n",
    "plt.plot(df[\"year\"], df[\"usdtry\"], label=\"USDTRY\")\n",
    "plt.plot(df[\"year\"], df[\"gbptry\"], label=\"GBPTRY\")\n",
    "\n",
    "# Using style sheets\n",
    "plt.style.use('ggplot')\n",
    "\n",
    "# Adding grid lines to improve readability \n",
    "plt.grid(True)\n",
    "\n",
    "# Chart Title\n",
    "plt.title(\"Exchange Rates\")\n",
    "\n",
    "# Axis Labels \n",
    "plt.xlabel(\"Year\")  \n",
    "\n",
    "# Position the legend in the upper left corner\n",
    "plt.legend(loc=2)\n",
    "\n",
    "# Display the generated chart.\n",
    "plt.show()"
   ]
  },
  {
   "cell_type": "code",
   "execution_count": 58,
   "metadata": {},
   "outputs": [
    {
     "data": {
      "image/png": "[encoded data removed]",
      "text/plain": [
       "<Figure size 640x480 with 1 Axes>"
      ]
     },
     "metadata": {},
     "output_type": "display_data"
    }
   ],
   "source": [
    "import pandas as pd\n",
    "import matplotlib.pyplot as plt\n",
    "\n",
    "data = {\n",
    "    \"month\": [\"Q1\", \"Q2\", \"Q3\", \"Q4\"],\n",
    "    \"phones\": [100, 110, 140, 120],\n",
    "    \"tablets\": [50, 40, 70, 50],\n",
    "}\n",
    "\n",
    "df = pd.DataFrame(data)\n",
    "df.set_index(\"month\", inplace=True)\n",
    "\n",
    "df.plot(kind=\"bar\")\n",
    "\n",
    "# Display the generated chart.\n",
    "plt.show()"
   ]
  },
  {
   "cell_type": "code",
   "execution_count": 80,
   "metadata": {},
   "outputs": [
    {
     "data": {
      "image/png": "[encoded data removed]",
      "text/plain": [
       "<Figure size 640x480 with 1 Axes>"
      ]
     },
     "metadata": {},
     "output_type": "display_data"
    }
   ],
   "source": [
    "import seaborn as sns\n",
    "sns.set_theme(style=\"white\")\n",
    "\n",
    "df = sns.load_dataset(\"iris\")\n",
    "# df.head()\n",
    "\n",
    "#sepal vs petal, color by species\n",
    "sns.scatterplot(data=df, x=\"sepal_length\",\n",
    "                y=\"petal_length\", hue=\"species\")\n",
    "\n",
    "plt.show()"
   ]
  },
  {
   "cell_type": "code",
   "execution_count": 84,
   "metadata": {},
   "outputs": [
    {
     "data": {
      "text/plain": [
       "<Axes: xlabel='tip', ylabel='Count'>"
      ]
     },
     "execution_count": 84,
     "metadata": {},
     "output_type": "execute_result"
    },
    {
     "data": {
      "image/png": "[encoded data removed]",
      "text/plain": [
       "<Figure size 640x480 with 1 Axes>"
      ]
     },
     "metadata": {},
     "output_type": "display_data"
    }
   ],
   "source": [
    "df = sns.load_dataset(\"tips\")\n",
    "\n",
    "sns.histplot(data=df, x=\"tip\")"
   ]
  },
  {
   "cell_type": "code",
   "execution_count": 90,
   "metadata": {},
   "outputs": [
    {
     "name": "stdout",
     "output_type": "stream",
     "text": [
      "           last_name  midterm  final  project\n",
      "student_id                                   \n",
      "100            Smith      NaN     92       88\n",
      "101          Johnson      NaN     75       80\n",
      "102         Williams      NaN     95       92\n",
      "80.0\n",
      "            last_name  midterm  final  project\n",
      "student_id                                    \n",
      "100             Smith     80.0     92       88\n",
      "101           Johnson     80.0     75       80\n",
      "102          Williams     80.0     95       92\n",
      "103             Jones     65.0     70       75\n",
      "104             Brown     82.0     88       90\n",
      "105             Davis     70.0     78       82\n",
      "106            Miller     95.0     98       97\n",
      "107            Wilson     68.0     72       75\n",
      "108             Moore     80.0     85       88\n",
      "109          Anderson     75.0     80       85\n",
      "110            Taylor     92.0     94       96\n",
      "111            Thomas     72.0     75       78\n",
      "112           Jackson     88.0     90       92\n",
      "113             White     76.0     80       82\n",
      "114            Harris     94.0     96       98\n",
      "115            Martin     78.0     82       85\n",
      "116          Thompson     85.0     90       92\n",
      "117            Garcia     70.0     75       80\n",
      "118          Martinez     90.0     95       96\n",
      "119          Robinson     75.0     80       85\n",
      "120             Clark     82.0     88       90\n",
      "121         Rodriguez     70.0     78       82\n",
      "122             Lewis     95.0     98       97\n",
      "123               Lee     68.0     72       75\n",
      "124            Walker     80.0     85       88\n",
      "125              Hall     75.0     80       85\n",
      "126             Allen     92.0     94       96\n",
      "127             Young     72.0     75       78\n",
      "128         Hernandez     88.0     90       92\n",
      "129              King     76.0     80       82\n",
      "130            Wright     94.0     96       98\n",
      "131             Lopez     78.0     82       85\n",
      "132              Hill     85.0     90       92\n",
      "133             Scott     70.0     75       80\n",
      "134             Green     90.0     95       96\n",
      "135             Adams     75.0     80       85\n",
      "136             Baker     82.0     88       90\n",
      "137            Nelson     70.0     78       82\n",
      "138            Carter     95.0     98       97\n",
      "139             Perez     68.0     72       75\n"
     ]
    },
    {
     "name": "stderr",
     "output_type": "stream",
     "text": [
      "/var/folders/h5/kpq5kl1d0cz821v28yw229gr0000gn/T/ipykernel_11865/3404832600.py:11: FutureWarning: A value is trying to be set on a copy of a DataFrame or Series through chained assignment using an inplace method.\n",
      "The behavior will change in pandas 3.0. This inplace method will never work because the intermediate object on which we are setting values always behaves as a copy.\n",
      "\n",
      "For example, when doing 'df[col].method(value, inplace=True)', try using 'df.method({col: value}, inplace=True)' or df[col] = df[col].method(value) instead, to perform the operation inplace on the original object.\n",
      "\n",
      "\n",
      "  df[\"midterm\"].fillna(mean_midterm, inplace=True)\n"
     ]
    }
   ],
   "source": [
    "df = pd.read_csv(\"/Users/mk/dev/python/project_basics/data_science/data/scores_missing.csv\", index_col=\"student_id\")\n",
    "\n",
    "# print(df.head())\n",
    "\n",
    "# filter NaN midterms\n",
    "print(df[df[\"midterm\"].isna()])\n",
    "\n",
    "mean_midterm = df[\"midterm\"].mean()\n",
    "print(mean_midterm)\n",
    "\n",
    "df[\"midterm\"].fillna(mean_midterm, inplace=True)\n",
    "print(df)"
   ]
  },
  {
   "cell_type": "code",
   "execution_count": 123,
   "metadata": {},
   "outputs": [
    {
     "name": "stdout",
     "output_type": "stream",
     "text": [
      "Add scalar [[ 80  30]\n",
      " [ 90  80]\n",
      " [100  70]]\n",
      "Add vector [[ 80  40]\n",
      " [ 90  90]\n",
      " [100  80]]\n"
     ]
    }
   ],
   "source": [
    "from sklearn.preprocessing import StandardScaler\n",
    "import numpy as np\n",
    "\n",
    "# Sample data\n",
    "data = [[70, 20], [80, 70], [90, 60]]\n",
    "\n",
    "ndarr = np.array(data)\n",
    "\n",
    "res1 = ndarr + 10\n",
    "res2 = ndarr + [10, 20]\n",
    "print(\"Add scalar\", res1)\n",
    "print(\"Add vector\", res2)\n",
    "\n",
    "# Calculate mean and standard deviation for each column\n",
    "column_means = ndarr.mean(axis=0)\n",
    "# print(\"means:\",column_means)\n",
    "column_stds = ndarr.std(axis=0)\n",
    "# print(\"stds:\", column_stds)\n",
    "\n",
    "# Standardize the data\n",
    "stdscore = (ndarr - column_means) / column_stds\n",
    "\n",
    "# print(stdscore)\n",
    "\n",
    "\n",
    "scaler = StandardScaler()\n",
    "scaler.fit(data)\n",
    "standardized_data = scaler.transform(data)\n",
    "\n",
    "# print(\"z:\", standardized_data)"
   ]
  },
  {
   "cell_type": "code",
   "execution_count": 127,
   "metadata": {},
   "outputs": [
    {
     "name": "stdout",
     "output_type": "stream",
     "text": [
      "[2 4 6]\n"
     ]
    }
   ],
   "source": [
    "a = np.array([1, 2, 3])\n",
    "b = np.array([2, 2, 2])\n",
    "\n",
    "c = a * b  # [2 4 6]\n",
    "\n",
    "print(c)"
   ]
  },
  {
   "cell_type": "code",
   "execution_count": 183,
   "metadata": {},
   "outputs": [
    {
     "name": "stdout",
     "output_type": "stream",
     "text": [
      "1. In a _______, the goal is to predict the _______ value based on the input _______.\n",
      "['features', 'linear model', 'target']\n",
      "2. A _______ is a professional who uses their knowledge of _______, _______, and _______ to extract _______ from data.\n",
      "['data scientist', 'statistics', 'domain expertise', 'computer science', 'insights']\n"
     ]
    }
   ],
   "source": [
    "import json\n",
    "import pandas as pd\n",
    "import random\n",
    "\n",
    "# df = pd.read_json(\"/Users/mk/dev/python/project_basics/basics/data/fillintheblanks.json\")\n",
    "# print(df)\n",
    "\n",
    "s1 = \"In a linear model, the goal is to predict the target value based on the input features.\"\n",
    "kw1 = [\"linear model\", \"target\", \"features\"]\n",
    "\n",
    "s2 = \"A data scientist is a professional who uses their knowledge of statistics, computer science, and domain expertise to extract insights from data.\"\n",
    "kw2= [\"data scientist\", \"statistics\",\"computer science\", \"domain expertise\", \"insights\"]\n",
    "\n",
    "class FIB:\n",
    "    def __init__(self, sentence, keywords):\n",
    "        self.sentence = sentence\n",
    "        self.keywords = keywords\n",
    "        random.shuffle(self.keywords)\n",
    "        self.blanked = self.get_blanked()\n",
    "\n",
    "    def get_blanked(self) -> str:\n",
    "        blanked = self.sentence\n",
    "        for kw in self.keywords:\n",
    "            blanked = blanked.replace(kw, \"_______\")\n",
    "\n",
    "        return blanked\n",
    "\n",
    "    def __repr__(self) -> str:\n",
    "        return f\"FIB(sentence={self.sentence}, keywords={self.keywords})\"\n",
    "\n",
    "# fib = FIB(s1, kw1)\n",
    "# print(fib)\n",
    "# print(fib.blanked)\n",
    "\n",
    "\n",
    "data1 = {\"sentences\":[s1, s2], \"keywords\": [kw1, kw2]}\n",
    "data2 = {s1:kw1, s2:kw2}\n",
    "\n",
    "qnum=1\n",
    "for k in data2:\n",
    "    fib = FIB(k, data2[k])\n",
    "    print(f\"{qnum}. {fib.blanked}\")\n",
    "    print(fib.keywords)\n",
    "\n",
    "    qnum += 1\n",
    "\n",
    "# print(blanked)\n",
    "# print(words1)"
   ]
  },
  {
   "cell_type": "code",
   "execution_count": 147,
   "metadata": {},
   "outputs": [
    {
     "name": "stdout",
     "output_type": "stream",
     "text": [
      "X: [[75]\n",
      " [80]\n",
      " [74]\n",
      " [69]\n",
      " [86]]\n",
      "Y: [[155]\n",
      " [165]\n",
      " [153]\n",
      " [143]\n",
      " [177]]\n",
      "[[2.]]\n",
      "[[25.]]\n"
     ]
    }
   ],
   "source": [
    "import numpy as np\n",
    "from sklearn.linear_model import LinearRegression\n",
    "\n",
    "# Create 5 samples with 1 feature: 2D Array\n",
    "X = np.random.default_rng().integers(low=40, high=100, size=(5,1))\n",
    "\n",
    "Y = 2*X+5  # y = mx + b\n",
    "\n",
    "print(\"X:\", X)\n",
    "print(\"Y:\", Y)\n",
    "\n",
    "# Create a linear regression model\n",
    "reg = LinearRegression()\n",
    "\n",
    "# Fit the model\n",
    "reg.fit(X, Y)\n",
    "\n",
    "print(reg.coef_)\n",
    "\n",
    "# Make predictions\n",
    "y_pred = reg.predict([[10]])  # [[25.]]\n",
    "\n",
    "print(y_pred)"
   ]
  },
  {
   "cell_type": "code",
   "execution_count": 141,
   "metadata": {},
   "outputs": [
    {
     "name": "stdout",
     "output_type": "stream",
     "text": [
      "[]\n",
      "\n",
      "['B', 'C']\n",
      "B C\n",
      "['B', 'C', 'D', 'E', 'F']\n"
     ]
    }
   ],
   "source": [
    "# unpacking lists using the * operator\n",
    "\n",
    "# Creating empty and non-empty lists:\n",
    "list0 = []\n",
    "list1 = [\"A\"]\n",
    "list2 = [\"B\", \"C\"]\n",
    "list3 = [\"D\", \"E\", \"F\"]\n",
    "\n",
    "# Printing lists with and without unpacking\n",
    "# using the * operator, elements are unpacked and printed individually\n",
    "print(list0)  # []\n",
    "print(*list0)  #\n",
    "\n",
    "print(list2)  # ['B', 'C']\n",
    "print(*list2)  # B C\n",
    "\n",
    "\n",
    "# Concatenating lists: Unpacking and creating new lists\n",
    "# Elements of existing lists can be unpacked and combined to create a new list\n",
    "combined = [*list2, *list3]\n",
    "print(combined)  # ['B', 'C', 'D', 'E', 'F']\n",
    "\n",
    "\n",
    "# Unpacking in function calls\n",
    "\n",
    "def my_function(x, y, z):\n",
    "    print(x, y, z)\n",
    "\n",
    "numbers = [1, 2, 3]\n",
    "\n",
    "# elements of a list can be unpacked and passed as individual arguments to a function.\n",
    "my_function(*numbers)  # Output: 1 2 3"
   ]
  }
 ],
 "metadata": {
  "kernelspec": {
   "display_name": "mkenv3.10",
   "language": "python",
   "name": "python3"
  },
  "language_info": {
   "codemirror_mode": {
    "name": "ipython",
    "version": 3
   },
   "file_extension": ".py",
   "mimetype": "text/x-python",
   "name": "python",
   "nbconvert_exporter": "python",
   "pygments_lexer": "ipython3",
   "version": "3.10.8"
  }
 },
 "nbformat": 4,
 "nbformat_minor": 2
}
