{
 "cells": [
  {
   "cell_type": "markdown",
   "metadata": {},
   "source": [
    "Create a list with the names of friends. Calculate the average length of the names."
   ]
  },
  {
   "cell_type": "code",
   "execution_count": 3,
   "metadata": {},
   "outputs": [
    {
     "name": "stdout",
     "output_type": "stream",
     "text": [
      "5.75\n"
     ]
    }
   ],
   "source": [
    "friends  = [\"Alice\", \"Bob\", \"Charlie\", \"Isabella\"]\n",
    "\n",
    "lengths = [len(f) for f in friends]\n",
    "\n",
    "print(sum(lengths)/len(lengths))"
   ]
  }
 ],
 "metadata": {
  "kernelspec": {
   "display_name": "mkenv3.10",
   "language": "python",
   "name": "python3"
  },
  "language_info": {
   "codemirror_mode": {
    "name": "ipython",
    "version": 3
   },
   "file_extension": ".py",
   "mimetype": "text/x-python",
   "name": "python",
   "nbconvert_exporter": "python",
   "pygments_lexer": "ipython3",
   "version": "3.10.8"
  }
 },
 "nbformat": 4,
 "nbformat_minor": 2
}
