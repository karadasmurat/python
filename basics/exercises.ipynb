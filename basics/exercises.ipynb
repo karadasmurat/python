{
 "cells": [
  {
   "cell_type": "markdown",
   "metadata": {},
   "source": [
    "Create a function that will \n",
    "1. multiply its parameters, print and return the result.\n",
    "2. ask the user to input 2 numbers, multiply and print the result."
   ]
  },
  {
   "cell_type": "code",
   "execution_count": 56,
   "metadata": {},
   "outputs": [
    {
     "name": "stdout",
     "output_type": "stream",
     "text": [
      "30\n"
     ]
    },
    {
     "data": {
      "text/plain": [
       "30"
      ]
     },
     "execution_count": 56,
     "metadata": {},
     "output_type": "execute_result"
    }
   ],
   "source": [
    "def mult(x, y):\n",
    "    if not isinstance(x, (int, float)):\n",
    "        raise ValueError(\"Invalid argument.\") \n",
    "    \n",
    "    if not isinstance(y, (int, float)):\n",
    "        raise ValueError(\"Invalid argument.\") \n",
    "    \n",
    "    res = x * y\n",
    "    print(res)\n",
    "\n",
    "    return res\n",
    "\n",
    "def input_number(msg):\n",
    "\n",
    "    while True:\n",
    "        try:\n",
    "            return int(input(msg))\n",
    "        except ValueError as verr:\n",
    "            print(\"Invalid number.\", verr)\n",
    "\n",
    "\n",
    "# mult(3.0, 5)\n",
    "\n",
    "n1 = input_number(\"Please enter the first number: \")\n",
    "n2 = input_number(\"Please enter the second number: \")\n",
    "mult(n1, n2)"
   ]
  },
  {
   "cell_type": "markdown",
   "metadata": {},
   "source": [
    "Write a function that prints a parameter n times. (with a pause of m milliseconds)"
   ]
  },
  {
   "cell_type": "code",
   "execution_count": 7,
   "metadata": {},
   "outputs": [
    {
     "name": "stdout",
     "output_type": "stream",
     "text": [
      "*\n",
      "*\n",
      "*\n",
      "*\n",
      "*\n"
     ]
    }
   ],
   "source": [
    "import time\n",
    "\n",
    "def repeat(c=\"*\", n=5):\n",
    "    for _ in range(n):\n",
    "        print(c)\n",
    "        time.sleep(1)  # Sleep for 1 sec\n",
    "\n",
    "repeat()"
   ]
  },
  {
   "cell_type": "markdown",
   "metadata": {},
   "source": [
    "Write a function, that takes an integer and returns True if the number is odd."
   ]
  },
  {
   "cell_type": "code",
   "execution_count": 8,
   "metadata": {},
   "outputs": [
    {
     "name": "stdout",
     "output_type": "stream",
     "text": [
      "True\n",
      "False\n"
     ]
    }
   ],
   "source": [
    "def is_odd(n):\n",
    "    return n % 2 == 1\n",
    "\n",
    "print(is_odd(1))\n",
    "print(is_odd(2))"
   ]
  },
  {
   "cell_type": "markdown",
   "metadata": {},
   "source": [
    "Write a compare function that returns 1 if the first parameter is greater than the second, and -1 otherwise."
   ]
  },
  {
   "cell_type": "code",
   "execution_count": 9,
   "metadata": {},
   "outputs": [
    {
     "name": "stdout",
     "output_type": "stream",
     "text": [
      "-1\n",
      "1\n"
     ]
    }
   ],
   "source": [
    "def compare(x, y):\n",
    "    return 1 if x > y else -1\n",
    "\n",
    "r1 = compare(1, 2)\n",
    "r2 = compare(2, 1)\n",
    "\n",
    "print(r1)\n",
    "print(r2)"
   ]
  },
  {
   "cell_type": "markdown",
   "metadata": {},
   "source": [
    "Write a recursive program to sum first n natural numbers."
   ]
  },
  {
   "cell_type": "code",
   "execution_count": 10,
   "metadata": {},
   "outputs": [
    {
     "data": {
      "text/plain": [
       "21"
      ]
     },
     "execution_count": 10,
     "metadata": {},
     "output_type": "execute_result"
    }
   ],
   "source": [
    "def sum_recursive(n):\n",
    "    if n <= 0:\n",
    "        return 0\n",
    "    if n == 1:\n",
    "        return 1\n",
    "    \n",
    "    return n + sum_recursive(n-1)\n",
    "\n",
    "\n",
    "sum_recursive(6)"
   ]
  },
  {
   "cell_type": "markdown",
   "metadata": {},
   "source": [
    "Write a program that accepts a full name, and return initials."
   ]
  },
  {
   "cell_type": "code",
   "execution_count": 11,
   "metadata": {},
   "outputs": [
    {
     "name": "stdout",
     "output_type": "stream",
     "text": [
      "JAG\n"
     ]
    }
   ],
   "source": [
    "def initials(fullname: str) -> str:\n",
    "    res = \"\"\n",
    "    names = fullname.split()              # a list of names\n",
    "    first_letters = [n[0] for n in names] # transform the list of names into list of first letters\n",
    "    return \"\".join(first_letters)         # join - from list to string\n",
    "\n",
    "print(initials(\"Jose Alfonso Garcia\"))"
   ]
  },
  {
   "cell_type": "markdown",
   "metadata": {},
   "source": [
    "Write a program that counts the number of times the given letter appears in a given string:"
   ]
  },
  {
   "cell_type": "code",
   "execution_count": 12,
   "metadata": {},
   "outputs": [
    {
     "name": "stdout",
     "output_type": "stream",
     "text": [
      "2\n"
     ]
    }
   ],
   "source": [
    "def letter_counter(c:str, w: str) -> int:\n",
    "    return w.lower().count(c.lower())\n",
    "\n",
    "cnt = letter_counter(\"A\", \"MaSAl\")\n",
    "\n",
    "print(cnt)"
   ]
  },
  {
   "cell_type": "markdown",
   "metadata": {},
   "source": [
    "Count each letter in a given string."
   ]
  },
  {
   "cell_type": "code",
   "execution_count": 13,
   "metadata": {},
   "outputs": [
    {
     "name": "stdout",
     "output_type": "stream",
     "text": [
      "{'a': 1, 't': 3, 'r': 1, 'i': 1, 'b': 1, 'u': 1, 'e': 1}\n"
     ]
    }
   ],
   "source": [
    "def summary(w: str):\n",
    "    letters = {}\n",
    "    for c in w.lower():\n",
    "        try:\n",
    "            letters[c] += 1\n",
    "        except KeyError:\n",
    "            letters[c] = 1\n",
    "    \n",
    "    print(letters)\n",
    "\n",
    "summary(\"Attribute\")\n"
   ]
  },
  {
   "cell_type": "markdown",
   "metadata": {},
   "source": [
    "Ask the user to type in their name and then tell them how many vowels are in their name."
   ]
  },
  {
   "cell_type": "code",
   "execution_count": 14,
   "metadata": {},
   "outputs": [
    {
     "data": {
      "text/plain": [
       "0"
      ]
     },
     "execution_count": 14,
     "metadata": {},
     "output_type": "execute_result"
    }
   ],
   "source": [
    "def vowel_counter():\n",
    "    cnt = 0\n",
    "    vowels = [\"a\", \"e\", \"i\", \"o\", \"u\", \"A\", \"E\", \"I\", \"O\", \"U\"]\n",
    "\n",
    "    name = input(\"Please enter your name: \")\n",
    "\n",
    "    for c in name:\n",
    "        if c in vowels:\n",
    "            cnt += 1\n",
    "\n",
    "    return cnt\n",
    "\n",
    "vowel_counter()"
   ]
  },
  {
   "cell_type": "markdown",
   "metadata": {},
   "source": [
    "Write a function called drawRectangle. This function should take two parameters, width and height, and print a rectangle made of # characters with the specified dimensions."
   ]
  },
  {
   "cell_type": "code",
   "execution_count": 15,
   "metadata": {},
   "outputs": [
    {
     "name": "stdout",
     "output_type": "stream",
     "text": [
      "#####\n",
      "#####\n",
      "#####\n"
     ]
    }
   ],
   "source": [
    "def drawRectangle(w, h):\n",
    "    for i in range(h):\n",
    "        for j in range(w):\n",
    "            print(\"#\",end=\"\")\n",
    "        \n",
    "        print(\"\")\n",
    "\n",
    "drawRectangle(5, 3)"
   ]
  },
  {
   "cell_type": "markdown",
   "metadata": {},
   "source": [
    "Print the the multiplication table"
   ]
  },
  {
   "cell_type": "code",
   "execution_count": 16,
   "metadata": {},
   "outputs": [
    {
     "name": "stdout",
     "output_type": "stream",
     "text": [
      "*** 1 ***\n",
      "1 * 1 = 1\n",
      "1 * 2 = 2\n",
      "1 * 3 = 3\n",
      "1 * 4 = 4\n",
      "1 * 5 = 5\n",
      "1 * 6 = 6\n",
      "1 * 7 = 7\n",
      "1 * 8 = 8\n",
      "1 * 9 = 9\n",
      "*** 2 ***\n",
      "2 * 1 = 2\n",
      "2 * 2 = 4\n",
      "2 * 3 = 6\n",
      "2 * 4 = 8\n",
      "2 * 5 = 10\n",
      "2 * 6 = 12\n",
      "2 * 7 = 14\n",
      "2 * 8 = 16\n",
      "2 * 9 = 18\n",
      "*** 3 ***\n",
      "3 * 1 = 3\n",
      "3 * 2 = 6\n",
      "3 * 3 = 9\n",
      "3 * 4 = 12\n",
      "3 * 5 = 15\n",
      "3 * 6 = 18\n",
      "3 * 7 = 21\n",
      "3 * 8 = 24\n",
      "3 * 9 = 27\n",
      "*** 4 ***\n",
      "4 * 1 = 4\n",
      "4 * 2 = 8\n",
      "4 * 3 = 12\n",
      "4 * 4 = 16\n",
      "4 * 5 = 20\n",
      "4 * 6 = 24\n",
      "4 * 7 = 28\n",
      "4 * 8 = 32\n",
      "4 * 9 = 36\n",
      "*** 5 ***\n",
      "5 * 1 = 5\n",
      "5 * 2 = 10\n",
      "5 * 3 = 15\n",
      "5 * 4 = 20\n",
      "5 * 5 = 25\n",
      "5 * 6 = 30\n",
      "5 * 7 = 35\n",
      "5 * 8 = 40\n",
      "5 * 9 = 45\n",
      "*** 6 ***\n",
      "6 * 1 = 6\n",
      "6 * 2 = 12\n",
      "6 * 3 = 18\n",
      "6 * 4 = 24\n",
      "6 * 5 = 30\n",
      "6 * 6 = 36\n",
      "6 * 7 = 42\n",
      "6 * 8 = 48\n",
      "6 * 9 = 54\n",
      "*** 7 ***\n",
      "7 * 1 = 7\n",
      "7 * 2 = 14\n",
      "7 * 3 = 21\n",
      "7 * 4 = 28\n",
      "7 * 5 = 35\n",
      "7 * 6 = 42\n",
      "7 * 7 = 49\n",
      "7 * 8 = 56\n",
      "7 * 9 = 63\n",
      "*** 8 ***\n",
      "8 * 1 = 8\n",
      "8 * 2 = 16\n",
      "8 * 3 = 24\n",
      "8 * 4 = 32\n",
      "8 * 5 = 40\n",
      "8 * 6 = 48\n",
      "8 * 7 = 56\n",
      "8 * 8 = 64\n",
      "8 * 9 = 72\n",
      "*** 9 ***\n",
      "9 * 1 = 9\n",
      "9 * 2 = 18\n",
      "9 * 3 = 27\n",
      "9 * 4 = 36\n",
      "9 * 5 = 45\n",
      "9 * 6 = 54\n",
      "9 * 7 = 63\n",
      "9 * 8 = 72\n",
      "9 * 9 = 81\n"
     ]
    }
   ],
   "source": [
    "for i in range(1, 10):\n",
    "    print(f\"*** {i} ***\")\n",
    "    for j in range(1, 10):\n",
    "        print(f\"{i} * {j} =\", i*j)"
   ]
  },
  {
   "cell_type": "markdown",
   "metadata": {},
   "source": [
    "Create a list with the names of friends. Calculate the average length of the names."
   ]
  },
  {
   "cell_type": "markdown",
   "metadata": {},
   "source": [
    "Create a list with the names of friends and colleagues. Search for the name John. Print not found if you didn't find it."
   ]
  },
  {
   "cell_type": "code",
   "execution_count": 17,
   "metadata": {},
   "outputs": [
    {
     "name": "stdout",
     "output_type": "stream",
     "text": [
      "Found: bob\n"
     ]
    }
   ],
   "source": [
    "friends = [\"Alice\", \"BoB\", \"Charlie\", \"Isabella\"]\n",
    "\n",
    "q = \"bob\"\n",
    "friends_lower = [n.lower() for n in friends]\n",
    "if q.lower() in friends_lower:\n",
    "    print(f\"Found: {q}\")\n",
    "else:\n",
    "    print(f\"Not Found: {q}\")"
   ]
  },
  {
   "cell_type": "code",
   "execution_count": 18,
   "metadata": {},
   "outputs": [
    {
     "name": "stdout",
     "output_type": "stream",
     "text": [
      "5.75\n"
     ]
    }
   ],
   "source": [
    "friends  = [\"Alice\", \"Bob\", \"Charlie\", \"Isabella\"]\n",
    "\n",
    "lengths = [len(f) for f in friends]\n",
    "\n",
    "print(sum(lengths)/len(lengths))"
   ]
  },
  {
   "cell_type": "markdown",
   "metadata": {},
   "source": [
    "Create a simple collection of n scores. \n",
    "1. Access and modify the last element.\n",
    "2. Add a score to the list.\n",
    "3. Calculate the max, min and average of all the scores.\n",
    "4. Count the number of fails (pass score: 60)\n",
    "5. Count the number of 100s.\n",
    "6. Calculate a list of letter grades from the scores.\n",
    "7. Return a new list that contains all but the first and last elements. ie, middle([1,2,3,4]) should return [2,3]"
   ]
  },
  {
   "cell_type": "code",
   "execution_count": 21,
   "metadata": {},
   "outputs": [
    {
     "name": "stdout",
     "output_type": "stream",
     "text": [
      "100\n",
      "40\n",
      "66.66666666666667\n",
      "2\n",
      "1\n",
      "[60, 40, 80, 100]\n"
     ]
    }
   ],
   "source": [
    "scores = [70, 60, 40, 80, 90]\n",
    "\n",
    "scores[-1] = 100\n",
    "scores.append(50)\n",
    "\n",
    "print(max(scores))\n",
    "print(min(scores))\n",
    "print(sum(scores)/len(scores))\n",
    "\n",
    "fails = [s for s in scores if s<60]\n",
    "print(len(fails))\n",
    "\n",
    "print(scores.count(100))\n",
    "\n",
    "print(scores[1:-1])"
   ]
  },
  {
   "cell_type": "markdown",
   "metadata": {},
   "source": [
    "Write a function that takes a list and returns True if there is any element that appears more than once."
   ]
  },
  {
   "cell_type": "code",
   "execution_count": 20,
   "metadata": {},
   "outputs": [
    {
     "name": "stdout",
     "output_type": "stream",
     "text": [
      "False\n",
      "False\n"
     ]
    }
   ],
   "source": [
    "def has_duplicates_v1(l: list) -> bool:\n",
    "\n",
    "    freq = {}\n",
    "    for item in l:\n",
    "        try:\n",
    "            freq[item] += 1\n",
    "        except KeyError:\n",
    "            freq[item] = 1\n",
    "\n",
    "    for k in freq:\n",
    "        if freq[k] > 1:\n",
    "            return True\n",
    "    \n",
    "    return False\n",
    "\n",
    "def has_duplicates_v2(l: list) -> bool:\n",
    "    \"\"\"By converting the list to a set, eliminate duplicates, and then \n",
    "    comparing the lengths of the original list and the set effectively determines if there are duplicates.\"\"\"\n",
    "\n",
    "    uniques = set(l)\n",
    "    return len(uniques) < len(l)\n",
    "\n",
    "q  = [1, 2, 3, 4]\n",
    "\n",
    "print(has_duplicates_v1(q))\n",
    "print(has_duplicates_v2(q))"
   ]
  },
  {
   "cell_type": "markdown",
   "metadata": {},
   "source": [
    "Given two strings, return true if the second is an anagram of the first.\n",
    "An anagram is a word or phrase formed by rearranging the letters of a different word or phrase, using all the original letters exactly once.\n",
    "* \"Santa\" = \"Satan\"\n",
    "* \"silent\" = \"listen\"\n",
    "* \"Madam Curie\" = \"Radium came\"\n",
    "* \"Tom Marvolo Riddle\" = \"I am Lord Voldemort\""
   ]
  },
  {
   "cell_type": "code",
   "execution_count": 30,
   "metadata": {},
   "outputs": [
    {
     "name": "stdout",
     "output_type": "stream",
     "text": [
      "{'l': 1, 'i': 1, 's': 1, 't': 1, 'e': 1, 'n': 1}\n",
      "{'s': 1, 'i': 1, 'l': 1, 'e': 1, 'n': 1, 't': 1}\n"
     ]
    },
    {
     "data": {
      "text/plain": [
       "True"
      ]
     },
     "execution_count": 30,
     "metadata": {},
     "output_type": "execute_result"
    }
   ],
   "source": [
    "\n",
    "\n",
    "def anagram(s1, s2):\n",
    "    freq1 = {}\n",
    "    for c in s1:\n",
    "        try:\n",
    "            freq1[c] += 1\n",
    "        except KeyError:\n",
    "            freq1[c] = 1\n",
    "    # remove white spaces\n",
    "    try: \n",
    "        del freq1[\" \"]\n",
    "    except KeyError:\n",
    "        pass\n",
    "\n",
    "    freq2 = {}\n",
    "    for c in s2:\n",
    "        try:\n",
    "            freq2[c] += 1\n",
    "        except KeyError:\n",
    "            freq2[c] = 1\n",
    "            \n",
    "    # remove white spaces\n",
    "    try:\n",
    "        del freq2[\" \"]\n",
    "    except KeyError:\n",
    "        pass\n",
    "\n",
    "    print(freq1)\n",
    "    print(freq2)\n",
    "\n",
    "    return freq1 == freq2\n",
    "\n",
    "\n",
    "arg0 = \"li sten\"\n",
    "arg1 = \"silent\"\n",
    "anagram(arg0, arg1)"
   ]
  },
  {
   "cell_type": "markdown",
   "metadata": {},
   "source": [
    "Write a program that converts temperatures between Celsius and Fahrenheit. \n",
    "f = (c * 9/5) + 32"
   ]
  },
  {
   "cell_type": "code",
   "execution_count": 32,
   "metadata": {},
   "outputs": [
    {
     "data": {
      "text/plain": [
       "33.8"
      ]
     },
     "execution_count": 32,
     "metadata": {},
     "output_type": "execute_result"
    }
   ],
   "source": [
    "def celcius_to_fahrenheit(c):\n",
    "    return c * 1.8 + 32\n",
    "\n",
    "\n",
    "celcius_to_fahrenheit(1)"
   ]
  },
  {
   "cell_type": "markdown",
   "metadata": {},
   "source": [
    "Write a number-guessing game. \n",
    "Generate a random number between 1 and 100. Ask the user to guess the number. Give feedback on whether the guess is too high or too low."
   ]
  },
  {
   "cell_type": "code",
   "execution_count": 37,
   "metadata": {},
   "outputs": [
    {
     "name": "stdout",
     "output_type": "stream",
     "text": [
      "Pisst, the secret number is 26\n",
      "Too low. Try Again.\n",
      "Too High. Try Again.\n",
      "🏆 You win!\n"
     ]
    }
   ],
   "source": [
    "import random\n",
    "\n",
    "def get_int():\n",
    "\n",
    "    guess = -1\n",
    "    invalid = True\n",
    "    while invalid:\n",
    "        # Ask the user to guess the number\n",
    "        try:\n",
    "            guess = int(input(\"Guess the number: \"))\n",
    "            break\n",
    "        except ValueError:\n",
    "            print(\"Invalid input. Please enter a number.\")\n",
    "\n",
    "    return guess\n",
    "\n",
    "def game():\n",
    "\n",
    "    # Generate a random number between 1-100\n",
    "    secret = random.randint(1, 100)\n",
    "\n",
    "    print(\"Pisst, the secret number is\", secret)\n",
    "\n",
    "    gameover = False\n",
    "    while not gameover:\n",
    "        # Ask the user to guess the number\n",
    "        guess = get_int()\n",
    "\n",
    "        # Evaluate the answer and give feedback\n",
    "        if guess < secret:\n",
    "            print(\"Too low. Try Again.\")\n",
    "        elif guess > secret:\n",
    "            print(\"Too High. Try Again.\")\n",
    "        else:\n",
    "            print(\"🏆 You win!\")\n",
    "            gameover = True\n",
    "\n",
    "game()"
   ]
  },
  {
   "cell_type": "markdown",
   "metadata": {},
   "source": [
    "Write a program to check if a given string is a palindrome (reads the same forwards and backwards)."
   ]
  },
  {
   "cell_type": "code",
   "execution_count": 41,
   "metadata": {},
   "outputs": [
    {
     "data": {
      "text/plain": [
       "False"
      ]
     },
     "execution_count": 41,
     "metadata": {},
     "output_type": "execute_result"
    }
   ],
   "source": [
    "def is_palindrome(s: str) -> bool:\n",
    "    i = 0\n",
    "    j = len(s)-1\n",
    "\n",
    "    while(i<j):\n",
    "        if s[i] != s[j]:\n",
    "            return False\n",
    "        i += 1\n",
    "        j -= 1\n",
    "\n",
    "    return True\n",
    "\n",
    "is_palindrome(\"allak\")"
   ]
  },
  {
   "cell_type": "markdown",
   "metadata": {},
   "source": [
    "Given a list of numbers, find and print the largest number."
   ]
  },
  {
   "cell_type": "code",
   "execution_count": 50,
   "metadata": {},
   "outputs": [
    {
     "data": {
      "text/plain": [
       "-1"
      ]
     },
     "execution_count": 50,
     "metadata": {},
     "output_type": "execute_result"
    }
   ],
   "source": [
    "import sys\n",
    "\n",
    "def get_max(numbers: list[int]) -> int:\n",
    "\n",
    "    max_num = numbers[0]\n",
    "\n",
    "    for n in numbers:\n",
    "        if n > max_num:\n",
    "            max_num = n\n",
    "    \n",
    "    return max_num\n",
    "\n",
    "scores = [-15, -3, -5, -1, -10]\n",
    "get_max(scores)"
   ]
  },
  {
   "cell_type": "markdown",
   "metadata": {},
   "source": [
    "Write a function to reverse a string without using built-in functions like reversed or [::-1]"
   ]
  },
  {
   "cell_type": "code",
   "execution_count": 72,
   "metadata": {},
   "outputs": [
    {
     "data": {
      "text/plain": [
       "'ta r um'"
      ]
     },
     "execution_count": 72,
     "metadata": {},
     "output_type": "execute_result"
    }
   ],
   "source": [
    "def reverse_str(s: str) -> str:\n",
    "\n",
    "    rev = \"\"\n",
    "    for i in range(len(s)-1, -1, -1):\n",
    "        rev = rev + s[i]\n",
    "\n",
    "    return rev\n",
    "\n",
    "\n",
    "def reverse_str_v2(s: str):\n",
    "  rev = \"\"\n",
    "  for c in s:\n",
    "    rev = c + rev\n",
    "  return rev\n",
    "\n",
    "\n",
    "reverse_str_v2(\"mu r at\")"
   ]
  },
  {
   "cell_type": "markdown",
   "metadata": {},
   "source": [
    "Given a list of numbers, find the second largest number."
   ]
  },
  {
   "cell_type": "code",
   "execution_count": 75,
   "metadata": {},
   "outputs": [
    {
     "name": "stdout",
     "output_type": "stream",
     "text": [
      "90\n"
     ]
    }
   ],
   "source": [
    "scores = [70, 80, 50, 90, 90]\n",
    "\n",
    "largest = max(scores)\n",
    "scores.remove(largest)\n",
    "second_largest = max(scores)\n",
    "\n",
    "print(second_largest)"
   ]
  },
  {
   "cell_type": "markdown",
   "metadata": {},
   "source": [
    "Given a list of elements, find the element that appears most frequently."
   ]
  },
  {
   "cell_type": "code",
   "execution_count": 81,
   "metadata": {},
   "outputs": [
    {
     "name": "stdout",
     "output_type": "stream",
     "text": [
      "1\n",
      "found local max 50\n",
      "1\n",
      "3\n",
      "found local max 70\n",
      "3\n",
      "3\n",
      "2\n",
      "2\n",
      "1\n",
      "70\n"
     ]
    }
   ],
   "source": [
    "scores = [50, 60, 70, 70, 70, 80, 80, 90]\n",
    "\n",
    "freq = {}\n",
    "for s in scores:\n",
    "    try:\n",
    "        freq[s] += 1\n",
    "    except KeyError:\n",
    "        freq[s] = 1\n",
    "\n",
    "most_frequent = scores[0]\n",
    "highest_freq = 0\n",
    "for s in scores:\n",
    "    print(freq[s])\n",
    "    if freq[s] > highest_freq:\n",
    "        print(\"found local max\", s)\n",
    "        highest_freq = freq[s]\n",
    "        most_frequent = s\n",
    "\n",
    "print(most_frequent)"
   ]
  },
  {
   "cell_type": "markdown",
   "metadata": {},
   "source": [
    "Find the Longest Word in a Sentence"
   ]
  },
  {
   "cell_type": "code",
   "execution_count": 2,
   "metadata": {},
   "outputs": [
    {
     "name": "stdout",
     "output_type": "stream",
     "text": [
      "Sentence\n"
     ]
    }
   ],
   "source": [
    "sentence = \"Find the Longest Word in a Sentence\"\n",
    "\n",
    "words = sentence.split()\n",
    "\n",
    "longest_word = words[0] # Find\n",
    "for w in words:\n",
    "    if len(w) > len(longest_word):\n",
    "        longest_word = w\n",
    "\n",
    "print(longest_word)"
   ]
  },
  {
   "cell_type": "markdown",
   "metadata": {},
   "source": [
    "Generate 3 random integers that will add up to n"
   ]
  },
  {
   "cell_type": "code",
   "execution_count": 37,
   "metadata": {},
   "outputs": [
    {
     "data": {
      "text/plain": [
       "(3, 2, 5)"
      ]
     },
     "execution_count": 37,
     "metadata": {},
     "output_type": "execute_result"
    }
   ],
   "source": [
    "import random\n",
    "\n",
    "def get_randoms(n):\n",
    "    r1 = random.randint(1, n-2)\n",
    "    n2 = n-r1\n",
    "    r2 = random.randint(1, n2-1)\n",
    "    r3 = n - r1 - r2\n",
    "    return (r1, r2, r3)\n",
    "\n",
    "get_randoms(10)\n"
   ]
  },
  {
   "cell_type": "markdown",
   "metadata": {},
   "source": [
    "Generate Random Password\n",
    "Create a function to generate a random password of a specified length, including letters, numbers, and special characters"
   ]
  },
  {
   "cell_type": "code",
   "execution_count": 40,
   "metadata": {},
   "outputs": [
    {
     "data": {
      "text/plain": [
       "'jiWRj1157@'"
      ]
     },
     "execution_count": 40,
     "metadata": {},
     "output_type": "execute_result"
    }
   ],
   "source": [
    "import random\n",
    "\n",
    "def get_randoms(n):\n",
    "    r1 = random.randint(1, n-2)\n",
    "    n2 = n-r1\n",
    "    r2 = random.randint(1, n2-1)\n",
    "    r3 = n - r1 - r2\n",
    "    return (r1, r2, r3)\n",
    "\n",
    "def password_generator(length):\n",
    "\n",
    "    letters = ['a', 'b', 'c','d','e','f','g','h','i','j','k','l','m','n','o','p','q','r','s','t','u','v','w','x','y','z','A','B','C','D','E','F','G','H','I','J','K','L','M','N','O','P','Q','R','S','T','U','V','W','X','Y','Z']\n",
    "    numbers = ['0', '1', '2', '3', '4', '5', '6', '7', '8', '9']\n",
    "    specials = ['@', '!', '*', '_', '-', '+']\n",
    "\n",
    "    letter_cnt, number_cnt, specialchar_cnt = get_randoms(10)\n",
    "    pwd = \"\"\n",
    "    for i in range(letter_cnt):\n",
    "        pwd += random.choice(letters)\n",
    "\n",
    "    for i in range(number_cnt):\n",
    "        pwd += random.choice(numbers)\n",
    "\n",
    "    for i in range(specialchar_cnt):\n",
    "        pwd += random.choice(specials)\n",
    "\n",
    "    return pwd\n",
    "\n",
    "\n",
    "\n",
    "\n",
    "password_generator(1)"
   ]
  },
  {
   "cell_type": "markdown",
   "metadata": {},
   "source": [
    "Write an extensible converter, which will convert between units of time. ie, hours to seconds, "
   ]
  },
  {
   "cell_type": "code",
   "execution_count": 50,
   "metadata": {},
   "outputs": [
    {
     "name": "stdout",
     "output_type": "stream",
     "text": [
      "3600\n"
     ]
    }
   ],
   "source": [
    "class ConversionMachine:\n",
    "    def __init__(self, converter):\n",
    "        self.converter = converter\n",
    "\n",
    "    # delegates the operation to wrapped implementation\n",
    "    def convert(self, n):\n",
    "        return self.converter.convert(n)\n",
    "\n",
    "\n",
    "# concrete implementation of a Converter\n",
    "class MinToSecConverter:\n",
    "    def convert(self, val):\n",
    "        return val * 60\n",
    "    \n",
    "# concrete implementation of a Converter\n",
    "class HourToSecConverter:\n",
    "    def convert(self, val):\n",
    "        return val * 60 * 60\n",
    "\n",
    "\n",
    "converter1 = MinToSecConverter()\n",
    "converter2 = HourToSecConverter()\n",
    "cm = ConversionMachine(converter2)\n",
    "print(cm.convert(1))"
   ]
  },
  {
   "cell_type": "markdown",
   "metadata": {},
   "source": [
    "FizzBuzz: Write a program that prints numbers from 1 to a given limit.\n",
    "* For multiples of 3, print \"Fizz\" instead of the number.\n",
    "* For multiples of 5, print \"Buzz\" instead of the number.\n",
    "* For numbers which are multiples of both 3 and 5, print \"FizzBuzz\"."
   ]
  },
  {
   "cell_type": "code",
   "execution_count": 62,
   "metadata": {},
   "outputs": [
    {
     "name": "stdout",
     "output_type": "stream",
     "text": [
      "1\n",
      "2\n",
      "Fizz\n",
      "4\n",
      "Buzz\n",
      "Fizz\n",
      "7\n",
      "8\n",
      "Fizz\n",
      "Buzz\n",
      "11\n",
      "Fizz\n",
      "13\n",
      "14\n",
      "FizzBuzz\n",
      "16\n",
      "17\n",
      "Fizz\n",
      "19\n",
      "Buzz\n",
      "Fizz\n",
      "22\n",
      "23\n",
      "Fizz\n",
      "Buzz\n",
      "26\n",
      "Fizz\n",
      "28\n",
      "29\n",
      "FizzBuzz\n"
     ]
    }
   ],
   "source": [
    "def fizzbuzz(limit):\n",
    "\n",
    "    for i in range(1, limit+1):\n",
    "        if i % 15 == 0:\n",
    "            print(\"FizzBuzz\")\n",
    "        elif i % 3 == 0:\n",
    "            print(\"Fizz\")\n",
    "        elif i % 5 == 0:\n",
    "            print(\"Buzz\")\n",
    "        else:\n",
    "            print(i)\n",
    "\n",
    "\n",
    "fizzbuzz(30)"
   ]
  },
  {
   "cell_type": "markdown",
   "metadata": {},
   "source": [
    "Write a (recursive) program to find n! (factorial is the product of all positive integers less than or equal to n) "
   ]
  },
  {
   "cell_type": "code",
   "execution_count": 63,
   "metadata": {},
   "outputs": [
    {
     "data": {
      "text/plain": [
       "120"
      ]
     },
     "execution_count": 63,
     "metadata": {},
     "output_type": "execute_result"
    }
   ],
   "source": [
    "def factorial(n):\n",
    "\n",
    "    # base case\n",
    "    if n < 2:\n",
    "        return 1\n",
    "    \n",
    "    # recursive call\n",
    "    return n * factorial(n-1)\n",
    "\n",
    "factorial(5)"
   ]
  },
  {
   "cell_type": "markdown",
   "metadata": {},
   "source": [
    "### Fibonacci Sequence\n",
    "Write a recursive function that calculates the nth Fibonacci number. \n",
    "\n",
    "The Fibonacci sequence is defined as follows:\n",
    "\n",
    "* f(0) = 0\n",
    "* f(1) = 1\n",
    "* f(n) = f(n-1) + f(n-2) for n > 1"
   ]
  },
  {
   "cell_type": "code",
   "execution_count": 81,
   "metadata": {},
   "outputs": [
    {
     "data": {
      "text/plain": [
       "701408733"
      ]
     },
     "execution_count": 81,
     "metadata": {},
     "output_type": "execute_result"
    }
   ],
   "source": [
    "def fibonacci(n):\n",
    "    if n < 1:\n",
    "        return 0\n",
    "    if n == 1:\n",
    "        return 1\n",
    "    \n",
    "    return fibonacci(n-1) + fibonacci(n-2)\n",
    "\n",
    "\n",
    "def fibonacci_memoize(n, cache):\n",
    "    if n < 1:\n",
    "        return 0\n",
    "    if n == 1:\n",
    "        return 1\n",
    "    \n",
    "    # check cache first\n",
    "    cached_result = cache.get(n, 0)\n",
    "    if cached_result != 0:\n",
    "        return cached_result\n",
    "\n",
    "    # cache miss: calculate result and store in cache before returning it\n",
    "    fib = fibonacci(n-1) + fibonacci(n-2)\n",
    "    cache[n] = fib\n",
    "\n",
    "    return fib\n",
    "\n",
    "\n",
    "fibonacci(44)\n",
    "\n",
    "# fibonacci_memoize(6, {})"
   ]
  },
  {
   "cell_type": "markdown",
   "metadata": {},
   "source": [
    "Reverse an a list (in place), without built-in functions. "
   ]
  },
  {
   "cell_type": "code",
   "execution_count": 88,
   "metadata": {},
   "outputs": [
    {
     "name": "stdout",
     "output_type": "stream",
     "text": [
      "['banana', 'apple', 'orange', 'melon']\n",
      "['melon', 'orange', 'apple', 'banana']\n",
      "['melon', 'orange', 'apple', 'banana']\n"
     ]
    }
   ],
   "source": [
    "def reverse_inplace(col):\n",
    "    start = 0\n",
    "    end = len(col)-1\n",
    "    while start < end:\n",
    "        # swap\n",
    "        col[start], col[end] = col[end], col[start]\n",
    "        start += 1\n",
    "        end -= 1\n",
    "\n",
    "fruits = [\"banana\", \"apple\", \"orange\", \"melon\"]\n",
    "print(fruits)\n",
    "\n",
    "# v1 built in\n",
    "print(list(reversed(fruits)))\n",
    "\n",
    "# v2 custom \n",
    "reverse_inplace(fruits)\n",
    "print(fruits)"
   ]
  },
  {
   "cell_type": "markdown",
   "metadata": {},
   "source": [
    "Weekly sales data for 5 popular phone models across two different stores is stored in two NumPy arrays: \n",
    "* Generate random data for 2 stores: store1_sales and store2_sales.\n",
    "* Calculate the total weekly sales for each phone model\n",
    "* Find the average weekly sales for each phone model."
   ]
  },
  {
   "cell_type": "code",
   "execution_count": 91,
   "metadata": {},
   "outputs": [
    {
     "name": "stdout",
     "output_type": "stream",
     "text": [
      "[48 82 68 58 26]\n",
      "[19 33 51 55 77]\n",
      "[ 67 115 119 113 103]\n",
      "[33.5 57.5 59.5 56.5 51.5]\n",
      "2 119\n"
     ]
    }
   ],
   "source": [
    "import numpy as np\n",
    "\n",
    "def init_data():\n",
    "    store1 = np.random.default_rng().integers(low=0, high=100, size=5)\n",
    "    store2 = np.random.default_rng().integers(low=0, high=100, size=5)\n",
    "\n",
    "    return store1, store2\n",
    "\n",
    "store1_sales, store2_sales = init_data()\n",
    "print(store1_sales)\n",
    "print(store2_sales)\n",
    "\n",
    "# total sales\n",
    "total_sales = store1_sales + store2_sales\n",
    "\n",
    "# average sales\n",
    "avg_sales = total_sales / 2\n",
    "\n",
    "# best seller\n",
    "max_index = total_sales.argmax()\n",
    "\n",
    "print(total_sales)\n",
    "print(avg_sales)\n",
    "print(max_index, total_sales[max_index])"
   ]
  },
  {
   "cell_type": "markdown",
   "metadata": {},
   "source": [
    "Generate 40 random integers representing scores between 20 and 100.\n",
    "* calculate min, max, range, mean, standard deviation"
   ]
  },
  {
   "cell_type": "code",
   "execution_count": 2,
   "metadata": {},
   "outputs": [
    {
     "name": "stdout",
     "output_type": "stream",
     "text": [
      "<class 'numpy.ndarray'>\n",
      "[25 97 37 55 28 85 62 36 42 87 80 23 74 31 90 63 70 50 77 36 25 75 85 35\n",
      " 64 76 92 28 40 94 65 68 39 42 34 39 55 22 99 99]\n",
      "Min: 22\n",
      "Max: 99\n",
      "Range: 77\n",
      "Mean: 58.1\n",
      "Std Dev: 24.557890788909376\n"
     ]
    }
   ],
   "source": [
    "import numpy as np\n",
    "\n",
    "scores = np.random.default_rng().integers(low=20, high=100, size=40)\n",
    "\n",
    "print(type(scores))  # <class 'numpy.ndarray'>\n",
    "print(scores)\n",
    "print(\"Min:\", scores.min())\n",
    "print(\"Max:\", scores.max())\n",
    "print(\"Range:\", scores.max() - scores.min())\n",
    "print(\"Mean:\", scores.mean())\n",
    "print(\"Std Dev:\", scores.std())"
   ]
  },
  {
   "cell_type": "markdown",
   "metadata": {},
   "source": [
    "You have daily stock price data for Apple, Google, and Microsoft. <br>\n",
    "**Stock price data**\n",
    "* apple_prices = [100, 105, 102, 108, 110]\n",
    "* google_prices = [120, 125, 123, 130, 132]\n",
    "* microsoft_prices = [80, 85, 82, 88, 90]\n",
    "\t\n",
    "1. Calculate Daily Returns: Calculate the percentage change in price for each stock on a daily basis."
   ]
  },
  {
   "cell_type": "code",
   "execution_count": 106,
   "metadata": {},
   "outputs": [
    {
     "name": "stdout",
     "output_type": "stream",
     "text": [
      "[0, 5, -3, 6, 2]\n",
      "[ 5 -3  6  2]\n"
     ]
    }
   ],
   "source": [
    "def daily_gains_v1(prices):\n",
    "    dreturns = [0, 0, 0, 0, 0]\n",
    "    for i in range(1, len(prices)):\n",
    "        dreturns[i] = prices[i]-prices[i-1]\n",
    "    \n",
    "    return dreturns\n",
    "\n",
    "def daily_gains_v2(prices):\n",
    "    np_prices = np.array(prices)\n",
    "    return (np_prices[1:] - np_prices[:-1])\n",
    "\n",
    "apple_prices = [100, 105, 102, 108, 110]\n",
    "google_prices = [120, 125, 123, 130, 132]\n",
    "microsoft_prices = [80, 85, 82, 88, 90]\n",
    "\n",
    "print(daily_gains_v1(apple_prices))  # [0, 5, -3, 6, 2]\n",
    "print(daily_gains_v2(apple_prices))  # [ 5 -3  6  2]"
   ]
  },
  {
   "cell_type": "markdown",
   "metadata": {},
   "source": [
    "Write a Python function is_prime(n) that determines whether a given positive integer n is a prime number."
   ]
  },
  {
   "cell_type": "code",
   "execution_count": null,
   "metadata": {},
   "outputs": [],
   "source": [
    "import math\n",
    "\n",
    "\n",
    "def is_prime(n):\n",
    "    for i in range(2, int(math.sqrt(n))+1):\n",
    "        if n % i == 0:\n",
    "            print(f\"{n} is NOT prime: divisible by {i}\")\n",
    "            return False\n",
    "\n",
    "    return True\n",
    "\n",
    "\n",
    "assert is_prime(4) == False\n",
    "assert is_prime(9) == False\n",
    "assert is_prime(7) == True"
   ]
  },
  {
   "cell_type": "markdown",
   "metadata": {},
   "source": [
    "Implement factorial(n) that calculates the factorial of a non-negative integer n using a loop. \n",
    "Hints:\n",
    "* The factorial of 0 is 1.\n",
    "* The factorial of n is n multiplied by the factorial of n-1."
   ]
  },
  {
   "cell_type": "code",
   "execution_count": null,
   "metadata": {},
   "outputs": [],
   "source": [
    "def fact(n):\n",
    "\n",
    "    if n < 0:\n",
    "        raise ValueError(\"Positive numbers only.\")\n",
    "    elif n == 0:\n",
    "        return 1\n",
    "\n",
    "    res = 1\n",
    "    for i in range(1, n+1):\n",
    "        res *= i\n",
    "\n",
    "    return res\n",
    "\n",
    "\n",
    "assert fact(0) == 1\n",
    "assert fact(1) == 1\n",
    "assert fact(5) == 120"
   ]
  },
  {
   "cell_type": "markdown",
   "metadata": {},
   "source": [
    "Write a Python function is_palindrome(s) that determines whether a given string s is a palindrome.\n",
    "Example:\n",
    "```python\n",
    "    is_palindrome(\"racecar\")  # Output: True\n",
    "    is_palindrome(\"hello\")  # Output: False\n",
    "```\n",
    "Hints:\n",
    "* A palindrome is a word, phrase, number, or other sequence of characters that reads the same backward as forward"
   ]
  },
  {
   "cell_type": "code",
   "execution_count": 3,
   "metadata": {},
   "outputs": [],
   "source": [
    "def is_palindrome(s):\n",
    "    left = 0\n",
    "    right = len(s)-1\n",
    "    while(left<right):\n",
    "        if s[left] != s[right]:\n",
    "            return False\n",
    "        left += 1\n",
    "        right -= 1\n",
    "\n",
    "    return True\n",
    "\n",
    "assert is_palindrome(\"racecar\") == True\n",
    "assert is_palindrome(\"hello\") == False"
   ]
  }
 ],
 "metadata": {
  "kernelspec": {
   "display_name": "mkenv3.10",
   "language": "python",
   "name": "python3"
  },
  "language_info": {
   "codemirror_mode": {
    "name": "ipython",
    "version": 3
   },
   "file_extension": ".py",
   "mimetype": "text/x-python",
   "name": "python",
   "nbconvert_exporter": "python",
   "pygments_lexer": "ipython3",
   "version": "3.10.8"
  }
 },
 "nbformat": 4,
 "nbformat_minor": 2
}
